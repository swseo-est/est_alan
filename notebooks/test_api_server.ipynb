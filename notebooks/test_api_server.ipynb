{
 "cells": [
  {
   "cell_type": "markdown",
   "id": "feb6cbf7-5f08-4fc7-8a37-5af0ba71c970",
   "metadata": {},
   "source": [
    "# client instance 생성"
   ]
  },
  {
   "cell_type": "code",
   "execution_count": 1,
   "id": "2e633658-62cc-45ba-bf46-a68be289080a",
   "metadata": {
    "ExecuteTime": {
     "end_time": "2025-07-31T08:02:49.558486Z",
     "start_time": "2025-07-31T08:02:49.547246Z"
    }
   },
   "outputs": [],
   "source": [
    "DEPLOYMENT_URL=\"http://10.8.1.229:8000/\"\n",
    "DEPLOYMENT_URL=\"http://localhost:2024/\"\n",
    "\n",
    "from langgraph_sdk import get_client\n",
    "\n",
    "client = get_client(url=DEPLOYMENT_URL)"
   ]
  },
  {
   "cell_type": "markdown",
   "id": "1060453e-25dc-4f8f-8a80-63f12900344d",
   "metadata": {},
   "source": [
    "# thread 생성 (앨런의 channel에 대응)\n",
    "\n",
    "- 생성 요청 후 thread_id를 포함한 데이터를 return 받음\n",
    "- 하나의 thread에 대해서 여러 에이전트를 호출하고 대화가능\n",
    "- 현재 앨런은 한개의 channel에 대해서 한개의 agent가 1:1로 대응되므로 현재는 고려할 필요 없지만, 추후에 1개의 채널에 대해서 여러 agent를 호출가능"
   ]
  },
  {
   "cell_type": "code",
   "execution_count": 2,
   "id": "00db8bac-8b27-48e7-bbc3-e8bb1e1f97e9",
   "metadata": {},
   "outputs": [
    {
     "name": "stdout",
     "output_type": "stream",
     "text": [
      "{'thread_id': '4505346f-79e9-48b2-9794-b785c33af8d7', 'created_at': '2025-08-12T07:40:37.745504+00:00', 'updated_at': '2025-08-12T07:40:37.745507+00:00', 'metadata': {}, 'status': 'idle', 'config': {}, 'values': None}\n",
      "4505346f-79e9-48b2-9794-b785c33af8d7\n"
     ]
    }
   ],
   "source": [
    "thread = await client.threads.create()\n",
    "print(thread)\n",
    "\n",
    "thread_id = thread[\"thread_id\"]\n",
    "print(thread_id)"
   ]
  },
  {
   "cell_type": "markdown",
   "id": "07786c8d-0172-42d5-b5e2-5ae1aafdeafc",
   "metadata": {},
   "source": [
    "# 에이전트 호출\n",
    "\n",
    "- 해당 thread에서 어떤 agent를 호출할 지 assistant_id를 포함하여 요청을 보냄"
   ]
  },
  {
   "cell_type": "markdown",
   "id": "9281de96-1d3f-4514-9fd2-fc5590a9b8ff",
   "metadata": {},
   "source": [
    "## parameters\n",
    "- thread_id : 위에서 생성한 thread_id\n",
    "- assistant_id : 앨런의 persona_id에 대응, agent를 구분하는 id, 슬라이드 에이전트의 경우 \"slide_generate_agent\"\n",
    "- input : 해당 agent 요청에 대한 parameter, 현재는 messages만 존재, 앨런 페이지에서 유저로 부터 받는 input을 해당 parameter에 dict로 넣어줌\n",
    "- stream_mode : 어떤 event에 따라서 메시지를 받을지 지정, updates(한 단계가 끝날 때마나 메시지가 옴), events(llm이 생성하는 단위로 메시지 생성)"
   ]
  },
  {
   "cell_type": "code",
   "execution_count": 3,
   "id": "48f82979-592c-4b2c-8e24-2c0c03b12d2a",
   "metadata": {},
   "outputs": [],
   "source": [
    "list_msg_id = list()\n",
    "\n",
    "\n",
    "def get_data(chunk):\n",
    "    data = list(chunk.data.values())[0]\n",
    "    return data\n",
    "\n",
    "\n",
    "def filter_ai_msg(chunk):\n",
    "    # 유저와 채팅 창에 출력될 ai 메시지를 필터링하는 함수\n",
    "    if 'updates' in chunk.event:\n",
    "        data = get_data(chunk)\n",
    "\n",
    "        if data is not None:\n",
    "            if 'messages' in data.keys():\n",
    "                if data['messages'][-1][\"name\"] is not None:\n",
    "                    msg_type = data['messages'][-1]['type']\n",
    "                    msg_id = data['messages'][-1]['id']\n",
    "                    if msg_id not in list_msg_id and msg_type == \"ai\":\n",
    "                        list_msg_id.append(msg_id)\n",
    "                        return True\n",
    "    return False\n",
    "\n",
    "\n",
    "def filter_silde_data(chunk):\n",
    "    # slide 관련 데이터를 담은 메시지를 필터링하는 함수\n",
    "    # 슬라이드 한페이지 단위로 메시지가 옴\n",
    "    if 'updates' in chunk.event:\n",
    "        node_name = chunk.data.keys()\n",
    "        if 'executor' in node_name:\n",
    "            return True"
   ]
  },
  {
   "cell_type": "code",
   "execution_count": 4,
   "id": "8d5fddde-f825-4491-be5a-0e7ed123a866",
   "metadata": {},
   "outputs": [],
   "source": [
    "assistant_id = \"slide_generate_agent\"\n",
    "list_chunk = list()"
   ]
  },
  {
   "cell_type": "code",
   "execution_count": 5,
   "id": "initial_id",
   "metadata": {
    "ExecuteTime": {
     "end_time": "2025-07-31T08:02:51.030604Z",
     "start_time": "2025-07-31T08:02:49.655777Z"
    },
    "scrolled": true
   },
   "outputs": [
    {
     "name": "stdout",
     "output_type": "stream",
     "text": [
      "##########  AI 메시지  ##########\n",
      "안녕하세요! 슬라이드 생성을 도와드리겠습니다. 어떤 주제로 슬라이드를 만들고 싶으신가요?\n"
     ]
    }
   ],
   "source": [
    "input = { \"messages\": \"안녕\"}\n",
    "\n",
    "async for chunk in client.runs.stream(\n",
    "    thread_id,\n",
    "    assistant_id=assistant_id,\n",
    "    input=input,\n",
    "    stream_mode=[\"updates\"],\n",
    "    stream_subgraphs=True\n",
    "):\n",
    "    try:\n",
    "        list_chunk.append(chunk)\n",
    "        if filter_ai_msg(chunk):\n",
    "            print(\"#\" * 10 + \"  AI 메시지  \" + \"#\" * 10)\n",
    "            print(chunk.data['agent']['messages'][-1]['content'])\n",
    "        elif filter_silde_data(chunk):\n",
    "            print(\"#\" * 10 + \"  슬라이드 데이터  \" + \"#\" * 10)\n",
    "            print(chunk)\n",
    "    except:\n",
    "        continue\n",
    "    pass"
   ]
  },
  {
   "cell_type": "code",
   "execution_count": 6,
   "id": "604e3895-0105-44b0-9d2e-e6eef79fb2fb",
   "metadata": {},
   "outputs": [
    {
     "name": "stdout",
     "output_type": "stream",
     "text": [
      "##########  AI 메시지  ##########\n",
      "좋아요! 제주도 여행에 대한 슬라이드를 생성하기 위해 추가로 몇 가지 정보를 알고 싶어요.\n",
      "\n",
      "1. 슬라이드의 대상 청중은 누구인가요? 예를 들어, 친구, 가족, 고객 등.\n",
      "2. 슬라이드에 포함하고 싶은 주요 포인트나 내용은 어떤 것들인가요? 예를 들어, 유명 관광지, 맛집, 여행 팁 등.\n",
      "3. 슬라이드 페이지 수나 디자인 스타일에 대한 특별한 요구사항이 있을까요?\n"
     ]
    }
   ],
   "source": [
    "input = { \"messages\": \"제주도 여행을 주제로 슬라이드를 만들어줘\"}\n",
    "\n",
    "async for chunk in client.runs.stream(\n",
    "    thread_id,\n",
    "    assistant_id=assistant_id,\n",
    "    input=input,\n",
    "    stream_mode=[\"updates\"],\n",
    "    stream_subgraphs=True\n",
    "):\n",
    "    try:\n",
    "        list_chunk.append(chunk)\n",
    "        if filter_ai_msg(chunk):\n",
    "            print(\"#\" * 10 + \"  AI 메시지  \" + \"#\" * 10)\n",
    "            data = get_data(chunk)\n",
    "            print(data['messages'][-1]['content'])\n",
    "        elif filter_silde_data(chunk):\n",
    "            print(\"#\" * 10 + \"  슬라이드 데이터  \" + \"#\" * 10)\n",
    "            print(chunk)\n",
    "    except:\n",
    "        continue\n",
    "    pass"
   ]
  },
  {
   "cell_type": "code",
   "execution_count": 7,
   "id": "d63335ad-3c5e-45b7-aa5e-e743d043db69",
   "metadata": {
    "scrolled": true
   },
   "outputs": [
    {
     "name": "stdout",
     "output_type": "stream",
     "text": [
      "##########  AI 메시지  ##########\n",
      "\n",
      "##########  AI 메시지  ##########\n",
      "검색 도구를 사용하여 목차를 생성하기 위한 조사를 시작합니다.\n",
      "##########  AI 메시지  ##########\n",
      "생성된 목차는 다음과 같습니다. \n",
      "\n",
      "2. 제주도 여행 - 제주도를 여행할 때 유용한 기본 정보를 제공합니다. 여행 계획을 세우는 데 도움이 될 장소들, 교통편, 숙소 선택 팁 등을 포함합니다. \n",
      "3. 제주도 여행 - 제주도의 대표 관광 명소들을 소개합니다. 성산일출봉, 한라산, 섭지코지 등 자연 경관과 여행지에서 꼭 가보아야 할 명소들을 강조합니다. \n",
      "4. 제주도 여행 - 제주도의 전통 문화를 체험할 수 있는 다양한 장소와 활동을 살펴봅니다. 한복 렌탈과 전통 놀이 체험, 해녀 문화 체험, 전통 마을 방문 등을 포함합니다. \n",
      "5. 제주도 여행 - 제주도의 풍요로운 미식 경험을 위한 맛집을 추천합니다. 현지인 추천 맛집과 독특한 제주 요리, 해산물 음식점 등을 중심으로 소개합니다. \n",
      "6. 제주도 여행 - 제주도에서 즐길 수 있는 수많은 액티비티를 소개합니다. 올레길 트래킹, 스쿠버다이빙, 패러글라이딩, 요트 투어 등 다양한 체험거리를 포함합니다. \n",
      "\n",
      "##########  슬라이드 데이터  ##########\n",
      "##########  슬라이드 데이터  ##########\n",
      "##########  슬라이드 데이터  ##########\n",
      "##########  슬라이드 데이터  ##########\n",
      "##########  슬라이드 데이터  ##########\n",
      "##########  슬라이드 데이터  ##########\n",
      "##########  슬라이드 데이터  ##########\n",
      "##########  AI 메시지  ##########\n",
      "제주도 여행을 주제로 한 슬라이드는 다음과 같은 내용으로 구성될 예정입니다.\n",
      "\n",
      "1. **제주도 여행 기본 정보**: 여행 계획을 세울 때 유용한 장소들, 교통편, 숙소 선택 팁 등을 포함합니다.\n",
      "2. **제주도의 대표 관광 명소**: 성산일출봉, 한라산, 섭지코지 등 자연 경관과 주요 명소를 소개합니다.\n",
      "3. **제주도의 전통 문화 체험**: 한복 렌탈, 전통 놀이 체험, 해녀 문화 체험, 전통 마을 방문 등을 살펴봅니다.\n",
      "4. **제주도의 맛집과 미식 경험**: 현지인 추천 맛집과 독특한 제주 요리, 해산물 음식점을 소개합니다.\n",
      "5. **제주도 액티비티**: 올레길 트래킹, 스쿠버다이빙, 패러글라이딩, 요트 투어 등의 다양한 액티비티를 포함합니다.\n",
      "\n",
      "이 정보를 바탕으로 슬라이드를 생성하겠습니다.\n"
     ]
    }
   ],
   "source": [
    "input = {\"messages\": \"알아서 해줘\"}\n",
    "\n",
    "async for chunk in client.runs.stream(\n",
    "    thread_id,\n",
    "    assistant_id=assistant_id,\n",
    "    input=input,\n",
    "    stream_mode=[\"updates\"],\n",
    "    stream_subgraphs=True\n",
    "):\n",
    "\n",
    "    if filter_ai_msg(chunk):\n",
    "        print(\"#\" * 10 + \"  AI 메시지  \" + \"#\" * 10)\n",
    "        data = get_data(chunk)\n",
    "        msg_id = data['messages'][-1]['id']\n",
    "\n",
    "        print(data['messages'][-1]['content'])\n",
    "    elif filter_silde_data(chunk):\n",
    "        print(\"#\" * 10 + \"  슬라이드 데이터  \" + \"#\" * 10)\n"
   ]
  },
  {
   "cell_type": "code",
   "execution_count": 8,
   "id": "7aa58305-657f-467b-8ca7-ec09d2da37f5",
   "metadata": {
    "scrolled": true
   },
   "outputs": [],
   "source": [
    "for chunk in list_chunk:\n",
    "    if filter_silde_data(chunk):\n",
    "        print(\"#\" * 10 + \"  슬라이드 데이터  \" + \"#\" * 10)\n",
    "        print(chunk.data)\n",
    "        break"
   ]
  },
  {
   "cell_type": "code",
   "execution_count": 9,
   "id": "bd7a08e4-51f1-41d3-a503-5e50da6b8a76",
   "metadata": {
    "scrolled": true
   },
   "outputs": [],
   "source": [
    "for chunk in list_chunk:\n",
    "    if filter_ai_msg(chunk):\n",
    "        print(\"#\" * 10 + \"  AI 메시지  \" + \"#\" * 10)\n",
    "        data = get_data(chunk)\n",
    "        print(data['messages'][-1]['content'])\n"
   ]
  },
  {
   "cell_type": "code",
   "execution_count": 10,
   "id": "59081551-edc0-4e05-a95a-5a7c663b7e42",
   "metadata": {
    "scrolled": true
   },
   "outputs": [
    {
     "name": "stdout",
     "output_type": "stream",
     "text": [
      "##########  AI 메시지  ##########\n",
      "안녕하세요! 슬라이드 생성을 도와드리겠습니다. 어떤 주제로 슬라이드를 만들고 싶으신가요?\n",
      "##########  AI 메시지  ##########\n",
      "좋아요! 제주도 여행에 대한 슬라이드를 생성하기 위해 추가로 몇 가지 정보를 알고 싶어요.\n",
      "\n",
      "1. 슬라이드의 대상 청중은 누구인가요? 예를 들어, 친구, 가족, 고객 등.\n",
      "2. 슬라이드에 포함하고 싶은 주요 포인트나 내용은 어떤 것들인가요? 예를 들어, 유명 관광지, 맛집, 여행 팁 등.\n",
      "3. 슬라이드 페이지 수나 디자인 스타일에 대한 특별한 요구사항이 있을까요?\n",
      "##########  AI 메시지  ##########\n",
      "\n",
      "##########  AI 메시지  ##########\n",
      "Successfully transferred to slide_create_agent\n",
      "##########  AI 메시지  ##########\n",
      "검색 도구를 사용하여 목차를 생성하기 위한 조사를 시작합니다.\n",
      "##########  AI 메시지  ##########\n",
      "생성된 목차는 다음과 같습니다. \n",
      "\n",
      "2. 제주도 여행 - 제주도를 여행할 때 유용한 기본 정보를 제공합니다. 여행 계획을 세우는 데 도움이 될 장소들, 교통편, 숙소 선택 팁 등을 포함합니다. \n",
      "3. 제주도 여행 - 제주도의 대표 관광 명소들을 소개합니다. 성산일출봉, 한라산, 섭지코지 등 자연 경관과 여행지에서 꼭 가보아야 할 명소들을 강조합니다. \n",
      "4. 제주도 여행 - 제주도의 전통 문화를 체험할 수 있는 다양한 장소와 활동을 살펴봅니다. 한복 렌탈과 전통 놀이 체험, 해녀 문화 체험, 전통 마을 방문 등을 포함합니다. \n",
      "5. 제주도 여행 - 제주도의 풍요로운 미식 경험을 위한 맛집을 추천합니다. 현지인 추천 맛집과 독특한 제주 요리, 해산물 음식점 등을 중심으로 소개합니다. \n",
      "6. 제주도 여행 - 제주도에서 즐길 수 있는 수많은 액티비티를 소개합니다. 올레길 트래킹, 스쿠버다이빙, 패러글라이딩, 요트 투어 등 다양한 체험거리를 포함합니다. \n",
      "\n",
      "##########  AI 메시지  ##########\n",
      "Transferring back to supervisor\n",
      "##########  AI 메시지  ##########\n",
      "Successfully transferred back to supervisor\n",
      "##########  AI 메시지  ##########\n",
      "제주도 여행을 주제로 한 슬라이드는 다음과 같은 내용으로 구성될 예정입니다.\n",
      "\n",
      "1. **제주도 여행 기본 정보**: 여행 계획을 세울 때 유용한 장소들, 교통편, 숙소 선택 팁 등을 포함합니다.\n",
      "2. **제주도의 대표 관광 명소**: 성산일출봉, 한라산, 섭지코지 등 자연 경관과 주요 명소를 소개합니다.\n",
      "3. **제주도의 전통 문화 체험**: 한복 렌탈, 전통 놀이 체험, 해녀 문화 체험, 전통 마을 방문 등을 살펴봅니다.\n",
      "4. **제주도의 맛집과 미식 경험**: 현지인 추천 맛집과 독특한 제주 요리, 해산물 음식점을 소개합니다.\n",
      "5. **제주도 액티비티**: 올레길 트래킹, 스쿠버다이빙, 패러글라이딩, 요트 투어 등의 다양한 액티비티를 포함합니다.\n",
      "\n",
      "이 정보를 바탕으로 슬라이드를 생성하겠습니다.\n"
     ]
    }
   ],
   "source": [
    "state = await client.threads.get_state(thread_id=thread_id)\n",
    "\n",
    "for msg in state[\"values\"][\"messages\"]:\n",
    "    if msg[\"type\"] != \"human\":\n",
    "        print(\"#\" * 10 + \"  AI 메시지  \" + \"#\" * 10)\n",
    "        print(msg[\"content\"])"
   ]
  },
  {
   "cell_type": "code",
   "execution_count": 11,
   "id": "b28def97-7983-4c7c-acb2-08d617724170",
   "metadata": {
    "scrolled": true
   },
   "outputs": [
    {
     "data": {
      "text/plain": [
       "14"
      ]
     },
     "execution_count": 11,
     "metadata": {},
     "output_type": "execute_result"
    }
   ],
   "source": [
    "len(state[\"values\"][\"slides\"])"
   ]
  },
  {
   "cell_type": "code",
   "execution_count": 12,
   "id": "52f97132-2be6-437a-b0f8-90e1f4f3c51f",
   "metadata": {
    "scrolled": true
   },
   "outputs": [
    {
     "data": {
      "text/plain": [
       "[{'topic': '제주도 여행',\n",
       "  'name': '타이틀 슬라이드',\n",
       "  'description': '제주도 여행에 대한 프레젠테이션 타이틀 페이지',\n",
       "  'content': '## 타이틀 슬라이드\\n\\nJeju Island, often referred to as the \"Hawaii of Korea,\" offers an enchanting escape with its breathtaking landscapes and unique cultural experiences. The island\\'s natural beauty, from the iconic Hallasan Mountain to the exotic beaches and lush forests, provides a diverse range of attractions for tourists. Whether you\\'re interested in hiking along the famous Olle trails, exploring the stunning Jeongbang Waterfall, or savoring local delicacies, Jeju Island caters to all types of travelers. In addition to its natural wonders, Jeju\\'s vibrant arts scene and traditional markets give insight into the rich history and culture of the region, making it a comprehensive destination for those seeking both relaxation and adventure [1][2].\\n\\nJeju’s tourism is further enhanced by its status as a UNESCO World Heritage Site, owing to the significant geological and ecological features of the island. The Seongsan Ilchulbong Peak and Manjanggul Lava Tube stand out as must-visit locations, drawing millions of visitors annually. Moreover, Jeju is renowned for its unique cultural assets, including the Haenyo, female divers known for their free-diving expertise, which is recognized as an intangible cultural heritage by UNESCO [3][4]. The island\\'s hospitality extends through a variety of accommodations, ranging from luxury resorts to cozy guesthouses, ensuring comfort for every traveler.\\n\\nJeju Island is accessible via direct flights from major South Korean cities such as Seoul, Busan, and Daegu, making it a convenient destination for both domestic and international tourists. With its mix of natural splendor, cultural richness, and ease of access, Jeju Island remains one of the top holiday spots in South Korea, promising a memorable experience for all visitors [5][6].\\n\\n### Sources\\n1. [Things to Do on Jeju Island](https://koreatravelplanning.com/things-to-do-on-jeju-island/)\\n2. [Jeju Island Travel Guide](https://www.magnificentworld.com/things-to-do-in-jeju-island/)\\n3. [Visit Jeju](https://www.visitjeju.net/en)\\n4. [Top 20 Must Visits for your first time in Jeju](https://www.trazy.com/theme/jeju_first)\\n5. [The best of Jeju Island: 3 day itinerary](https://www.helenabradbury.com/blog-1/the-best-of-jeju-island-3-day-itinerary)\\n6. [Jeju Island Travel Guide - grrrltraveler](https://grrrltraveler.com/travel-guides/jeju-travel-guide/)',\n",
       "  'img_url': 'https://imgscf.slidemembers.com/docs/1/1/420/jeju_island_business_presentation_examples_419064.jpg'},\n",
       " {'topic': '제주도 여행',\n",
       "  'name': '목차 슬라이드',\n",
       "  'description': '제주도 여행에 대한 프레젠테이션 목차 페이지\\n\\n2. 제주도 여행 지침\\n3. 제주도 관광 명소\\n4. 제주도 전통 문화 체험\\n5. 제주도 맛집 추천\\n6. 제주도 액티비티 추천',\n",
       "  'content': \"## 목차 슬라이드\\n\\n1. **제주도 여행 소개**\\n   - 전반적인 여행 준비에 대한 개요로, 제주도의 역사와 특히 주목할 만한 점들을 탐색합니다. 주요 명소부터 대중적인 여행 루트까지 소개하여 여행의 방향을 설정합니다.\\n\\n2. **제주도 여행 지침**\\n   - 제주도의 전반적인 여행 지침을 제공합니다. 주요 교통 수단, 여행 시기, 필요한 장비 등을 포함하여 여행 준비에 필요한 모든 정보를 안내합니다.\\n\\n3. **제주도 관광 명소**\\n   - 제주도의 대표적인 관광 명소들을 소개합니다. 여기에는 한라산 국립공원, 성산 일출봉, 그리고 비자림 등 여러 자연경관들이 포함됩니다 [1][2][3].\\n\\n4. **제주도 전통 문화 체험**\\n   - 제주도에서 체험할 수 있는 전통 문화 활동을 소개합니다. 제주 해녀와 같은 전통 생활 방식, 한복 체험 등이 있습니다 [4][5][6].\\n\\n5. **제주도 맛집 추천**\\n   - 지역 주민과 여행객 모두에게 인기 있는 식당을 추천합니다. 제주 흑돼지, 전복물회 그리고 신선한 해산물 요리 등을 즐길 수 있는 장소들을 소개합니다 [7][8].\\n\\n6. **제주도 액티비티 추천**\\n   - 스쿠버 다이빙, 트레킹, 패들 보드 등 다양한 액티비티를 즐길 수 있는 제주도의 추천 액티비티를 다룹니다 [9][10].\\n\\n이 슬라이드는 제주도의 다양한 측면을 탐색할 수 있는 목차로, 각 섹션에 맞춤형 콘텐츠를 제공하여 여행 경험을 풍부하게 만듭니다.\\n\\n### Sources\\n1. [Jeju Island travel guide](https://english.visitkorea.or.kr/svc/contents/contentsView.do?vcontsId=222709)\\n2. [23 Things to Do in Jeju Island](https://koreatravelplanning.com/things-to-do-on-jeju-island/)\\n3. [Discover Jeju's tradition](https://www.klook.com/ko/experiences/list/jeju-cultural-experiences/c18-cate122/)\\n4. [Jeju Cultural Experiences](https://peunge.tistory.com/119)\\n5. [Nature, culture and people in Jeju Island](https://obs.agenda21culture.net/en/good-practices/nature-culture-and-people-jeju-island)\\n6. [Jeju Traditional Clothes Rental](https://www.klook.com/experiences/list/jeju-traditional-clothes-rental/c18-cate26/)\\n7. [Amazing Jeju Restaurants](https://www.tripadvisor.com/Restaurant_Review-g297892-d14920278-Reviews-Jeju_Natural_Cuisine-Seogwipo_Jeju_Island.html)\\n8. [10 Places Where Locals Love to Eat in Jeju Island](https://www.hotels.com/go/south-korea/kr-best-jeju-island-dining-area)\\n9. [Top Jeju Activity Recommendations](https://www.trazy.com/things-to-do/jeju)\\n10. [Jeju Island Adventure Activities](https://theadventuremanual.com/jeju-island-adventure-tours/)\",\n",
       "  'img_url': 'https://api.cdn.visitjeju.net/photomng/imgpath/202407/22/46e98ded-9e87-424b-b9c8-a05e4c840bf9.png'},\n",
       " {'topic': '제주도 여행',\n",
       "  'name': '제주도 여행 지침',\n",
       "  'description': '제주도를 여행할 때 유용한 기본 정보를 제공합니다. 여행 계획을 세우는 데 도움이 될 장소들, 교통편, 숙소 선택 팁 등을 포함합니다.',\n",
       "  'content': \"## 제주도 여행 지침\\n\\n제주도는 대한민국 최대의 섬으로, 아름다운 해변과 풍부한 자연이 관광객들을 끌어모으는 국내 최고의 여행지입니다 [1]. 여행 계획 시, 제주도의 주요 명소들을 포함하는 일정은 필수입니다. 대표적인 명소 중에는 성산일출봉, 한라산, 협재해수욕장과 천제연 폭포 등이 있습니다 [2]. 제주도를 보다 효율적으로 탐험하려면 최소 3~4일을 할애하는 것을 추천합니다 [3].\\n\\n제주도 여행 시 가장 많은 신경을 써야하는 부분 중 하나는 교통편입니다. 제주도에는 지하철이나 기차 시스템이 없기 때문에 렌터카, 택시, 버스 등으로 이동해야 합니다 [4]. 렌터카는 가장 자유로운 여행 방법 중 하나이며, 국제운전면허증이 필요합니다 [5]. 버스는 주요 도심 및 관광지를 연결하며, 현장에서 쉽게 티켓을 구입할 수 있습니다 [6]. 택시는 편리하지만 비용 효율적인 선택이 아닐 수 있으므로 단거리 이동에 적합합니다 [7].\\n\\n숙소 선택은 여행의 질을 좌우하는 중요한 요소입니다. 제주도는 호텔, 게스트하우스, 리조트 등 다양한 숙박 옵션을 제공합니다. 제주 시내와 서귀포는 각각 여행객의 선호에 따라 다른 매력을 가지고 있으며, 편리한 접근성을 제공합니다 [8]. 특히 가족 여행객에게는 서귀포 지역의 카사로마 호텔이 추천되며, 제주 시내의 호텔 레오는 비즈니스 여행객에게 적합한 선택입니다 [9]. 예산을 좀 더 절약하려면 깔끔하고 아늑한 게스트하우스를 고려해볼 수 있습니다 [10].\\n\\n이와 같은 기본 정보에 기반하여 효율적인 여행 계획을 세우고 제주도의 독특하고 아름다운 매력을 최대한 즐겨보시길 바랍니다.\\n\\n### Sources\\n[1] Jeju-do travel - South Korea, Asia - Lonely Planet: https://www.lonelyplanet.com/destinations/south-korea/jejudo  \\n[2] Jeju Island Travel Guide: Discover the Hawaii of Korea: https://www.magnificentworld.com/things-to-do-in-jeju-island/  \\n[3] Jeju Island Travel Guide - grrrltraveler: https://grrrltraveler.com/travel-guides/jeju-travel-guide/  \\n[4] Jeju Island offers various types of transportation options- bus, taxi, car, motorcycle/scooters, and bikes: https://blog.trazy.com/getting-around-jeju-island-in-south-korea-public-transportation-transport-info/  \\n[5] Driving in Jeju is easier compared to Seoul or Busan: https://www.facebook.com/groups/southkoreatravel/posts/1274600580814327/  \\n[6] The all new Jeju public transportation system: https://www.visitjeju.net/en/themtour/view?contentsid=CNTS_000000000022500&menuId=DOM_000001832000000000  \\n[7] Important Tips to Getting Around Jeju Without a Car - Hey Roseanne: https://heyroseanne.com/jeju-without-a-car/  \\n[8] Ultimate Hotel Guide for Your Stay in Jeju Island - Lemon8 app: https://www.lemon8-app.com/experience/jeju-island-hotel?region=sg  \\n[9] Best area to stay in Jeju for attractions and night market? - Facebook: https://www.facebook.com/groups/southkoreatravel/posts/1288390196102032/  \\n[10] Jeju's Best Kept Secrets: Budget Accommodation Guide - Agoda.com: https://www.agoda.com/travel-guides/south-korea/jeju-island/jejus-best-kept-secrets-budget-accommodation-guide/\",\n",
       "  'img_url': 'https://api.cdn.visitjeju.net/photomng/imgpath/202002/18/f0bbb3d6-9fa1-4e35-b55b-3e292d2d7f91.jpeg'},\n",
       " {'topic': '제주도 여행',\n",
       "  'name': '제주도 관광 명소',\n",
       "  'description': '제주도의 대표 관광 명소들을 소개합니다. 성산일출봉, 한라산, 섭지코지 등 자연 경관과 여행지에서 꼭 가보아야 할 명소들을 강조합니다.',\n",
       "  'content': \"## 제주도 관광 명소\\n\\n제주도는 그 아름다운 자연 경관으로 유명하며, 꼭 방문해야 할 관광 명소가 많습니다. 그 중에서도 성산일출봉, 한라산, 그리고 섭지코지는 제주도를 대표하는 명소로 손꼽힙니다.\\n\\n성산일출봉은 제주도 동쪽 끝에 위치한 화산 지형으로, UNESCO 세계자연유산으로 지정되어 있습니다. 이곳은 5000년 전 해저에서 화산 폭발로 형성된 것으로, 일출을 감상할 수 있는 명소로 유명합니다. 해발 182m의 높이로 비교적 오르기 쉬워 등산객들에게 인기가 많으며, 정상에 오르면 제주도 전역을 한눈에 내려다볼 수 있습니다[1][2].\\n\\n제주도 한가운데에 자리 잡은 한라산은 남한에서 가장 높은 산으로, 많은 생물의 고향이며 다양한 식물군락이 존재하는 국립공원입니다. 한라산 등반은 체력과 시간이 요구되지만, 정상을 오르면 뛰어난 경치를 만날 수 있어 많은 여행객들이 찾는 명소입니다. 사계절마다 다른 매력을 지니며, 겨울철에 눈이 덮인 한라산은 특히 아름답습니다[3][4].\\n\\n섭지코지는 제주도의 동남쪽 해안에 자리한 명소로, 바닷바람을 맞으면서 드라마틱한 해안선과 푸른 바다를 감상할 수 있는 곳입니다. 이름에서 비롯된 '섭지'는 제주 방언으로 '작은 땅', '코지'는 곶을 의미하며, 이곳의 지형적 특색을 잘 설명해 줍니다. 해안 절벽과 파랑 위로 솟아오른 화산암이 어우러져 아름다운 경관을 형성하고 있습니다[5][6].\\n\\n이러한 대표적인 명소들은 제주를 찾는 관광객들에게 독특한 자연 환경을 제공하며, 꼭 방문해볼 만한 가치가 있는 장소들입니다. \\n\\n### Sources\\n\\n[1] 성산일출봉 - 나무위키: https://namu.wiki/w/%EC%84%B1%EC%82%B0%EC%9D%BC%EC%B6%9C%EB%B4%89  \\n[2] 성산일출봉 [유네스코 세계자연유산] > 여행지 | '열린 관광' 모두의 여행: https://korean.visitkorea.or.kr/detail/ms_detail.do?cotid=f5da2334-1c8c-4049-8e06-4db38333a57f  \\n[3] 한라산 - 위키백과: https://ko.wikipedia.org/wiki/%ED%95%9C%EB%9D%BC%EC%82%B0  \\n[4] 한라산국립공원 - 탐방 및 예약 시스템 - 제주도청: https://visithalla.jeju.go.kr/contents/contents.do?id=49  \\n[5] 섭지코지 - 한국민족문화대백과사전: https://encykorea.aks.ac.kr/Article/E0074985  \\n[6] 섭지코지>여행지 | '열린 관광' 모두의 여행: https://korean.visitkorea.or.kr/detail/ms_detail.do?cotid=c2b1e89f-cc48-46f4-b15b-ccf24db7776c  \",\n",
       "  'img_url': 'https://upload.wikimedia.org/wikipedia/commons/6/61/Seongsan_Ilchulbong_from_the_air.jpg'},\n",
       " {'topic': '제주도 여행',\n",
       "  'name': '제주도 전통 문화 체험',\n",
       "  'description': '제주도의 전통 문화를 체험할 수 있는 다양한 장소와 활동을 살펴봅니다. 한복 렌탈과 전통 놀이 체험, 해녀 문화 체험, 전통 마을 방문 등을 포함합니다.',\n",
       "  'content': \"## 제주도 전통 문화 체험\\n\\n제주도는 독특한 전통문화를 체험할 수 있는 다양한 활동과 장소가 있습니다. 한복을 입고 전통 놀이를 즐기며, 해녀 문화를 직접 체험하거나, 전통 마을을 방문하여 제주도의 유산을 깊이 있게 이해할 수 있는 기회를 제공합니다.\\n\\n### 한복 렌탈과 전통 놀이 체험\\n\\n제주에서의 한복 체험은 관광객들이 한국의 전통 복식 문화에 깊이 빠져들 수 있게 해줍니다. 한복 대여점은 제주신화월드와 성읍민속마을 등에서 제공되며, 다양한 디자인과 색채의 한복을 선택할 수 있습니다 [1][2]. 한복을 입고 해안도로를 따라 아름다운 사진을 남길 수 있고, 전통 놀이 체험도 합니다. 특히 제주목관아는 한복 체험 외에도 전통 놀이와 다양한 문화 프로그램을 제공합니다 [3].\\n\\n### 해녀 문화 체험\\n\\n제주 해녀 문화는 국가무형문화재로 지정되어 유네스코 인류무형문화유산으로 등재되었으며, 이러한 독특한 문화는 법환 해녀체험센터와 하도어촌체험마을 등 여러 곳에서 직접 경험할 수 있습니다 [4][5]. 해녀 박물관에서는 해녀들의 역사와 생활 방식을 전시하고, 해녀들이 직접 거두어 온 해산물을 채집해 맛볼 수 있는 체험이 가능합니다 [6].\\n\\n### 전통 마을 방문\\n\\n성읍민속마을은 제주 전통문화를 그대로 보존한 대표적인 장소로, 마을 내 전통 초가집과 돌담장 등을 둘러보며 제주도의 독특한 역사와 문화를 체험할 수 있습니다 [7]. 또한 제주민속촌박물관을 방문하여 제주인의 삶과 문화를 깊이 탐구하고 배우는 기회를 가질 수 있습니다 [8].\\n\\n이렇게 제주도는 다양한 문화 체험을 제공하여 방문객들이 제주도의 독특한 전통과 역사를 직접 경험할 수 있도록 합니다. 각 체험은 제주 고유의 문화적 특징을 기반으로 하여 여행객들에게 잊지 못할 경험을 선사합니다.\\n\\n### Sources\\n[1] 제주여행 한복체험 오라한복 성읍민속마을에서 예쁘게 인생샷: https://blog.naver.com/3ofcups_/223418788946  \\n[2] 제주신화월드, 한복 대여 서비스 진행 - 베이비뉴스: https://www.ibabynews.com/news/articleView.html?idxno=117200  \\n[3] 한복입은 외국인들 북적북적… 제주목 관아 한류관광명소로 - 서울신문: https://www.seoul.co.kr/news/life/travel-news/2024/03/20/20240320500038  \\n[4] Beophwan Haenyeo Experience Center: https://m.visitjeju.net/en/detail/view?contentsid=CNTS_300000000013166  \\n[5] 제주해녀박물관 : VISITKOREA: https://english.visitkorea.or.kr/svc/whereToGo/locIntrdn/rgnContentsView.do?vcontsId=103315  \\n[6] Diving into the rich cultural world of Jeju's haenyeo: https://haenyeo.co.kr/  \\n[7] 성읍민속마을에서의 하루(제주 서귀포)> 여행기사 - 대한민국 구석구석: https://korean.visitkorea.or.kr/detail/rem_detail.do?cotid=a490c038-06ae-4cc6-9b24-779599b39abc  \\n[8] 제주민속촌 - 비짓제주: https://www.visitjeju.net/kr/detail/view?contentsid=CONT_000000000500553  \",\n",
       "  'img_url': 'https://upload.wikimedia.org/wikipedia/commons/thumb/c/c5/Seongeup_Historic_Village.jpg/1200px-Seongeup_Historic_Village.jpg'},\n",
       " {'topic': '제주도 여행',\n",
       "  'name': '제주도 맛집 추천',\n",
       "  'description': '제주도의 풍요로운 미식 경험을 위한 맛집을 추천합니다. 현지인 추천 맛집과 독특한 제주 요리, 해산물 음식점 등을 중심으로 소개합니다.',\n",
       "  'content': \"## 제주도 맛집 추천\\n\\n제주도는 그 특별한 위치와 아름다운 자연 환경 덕분에 독특하고 풍부한 미식 경험을 제공합니다. 제주의 현지인들로부터 추천 받은 몇몇 맛집을 소개합니다.\\n\\n제주 현지인이 추천하는 맛집으로는 여러 곳이 있습니다. 서귀포에 위치한 '제주 해녀촌'은 신선한 해산물 요리로 유명합니다. 이곳은 해녀들이 직접 채집한 해산물을 이용하여 독특하고 신선한 맛을 제공합니다 [1]. 또한, 제주시 외곽에 위치한 '신설오름(신선한 요리)'은 다양한 제주 특산물 요리를 맛볼 수 있는 곳입니다 [2].\\n\\n제주도는 신선한 해산물 요리로 잘 알려져 있습니다. 그중에서도 '고집돌우럭'은 함덕지점과 중문점 두 곳에서 새우, 오징어, 소라 등의 해산물을 다양한 방식으로 제공하여 많은 사랑을 받고 있습니다 [3]. 이 외에도 제주시의 'Myeongjin Jeonbok Abalone Restaurant'은 특유의 전복요리가 관광객과 지역 주민들 사이에서 인기가 높습니다 [4].\\n\\n또한, 제주도의 독특한 요리 중 하나로 '흑돼지'가 있습니다. 흑돼지를 목표로 하는 다양한 맛집이 있으니 제주 방문 시 꼭 경험해 보시길 추천합니다. 제주시의 'Neulbom Heukdwaeji'는 삼겹살과 흑돼지 특유의 풍미를 즐길 수 있는 곳으로 유명합니다 [5].\\n\\n이와 같이 제주의 다양한 맛집은 여행자들에게 특별하고 인상 깊은 미식 경험을 선사합니다. 각 곳에서는 전통적인 제주 요리와 함께 현대적인 요리 트렌드를 즐길 수 있으니 여행 계획 시 고려해 보시기 바랍니다.\\n\\n### Sources\\n1. 제주도 해녀촌: https://arothinking.tistory.com/entry/%EC%A0%9C%EC%A3%BC%EB%8F%84-%EC%84%9C%EA%B7%80%ED%8F%AC-%EB%A7%9B%EC%A7%91-%EC%82%AC%EA%B3%84-%ED%95%B4%EB%85%80%EC%9D%98%EC%A7%91-%ED%95%B4%EC%82%B0%EB%AC%BC-%EB%A7%9B%EC%A7%91-%EC%A0%9C%EC%A3%BC%EC%97%AC%ED%96%89-%EA%B8%B0%EB%A1%9D\\n2. 신설오름의 특산 요리: https://brunch.co.kr/@sister-manbo/37\\n3. 고집돌우럭: https://www.tripadvisor.co.kr/Restaurants-g297885-Jeju_Jeju_Island.html\\n4. Myeongjin Jeonbok Abalone Restaurant: https://wanderlog.com/list/geoCategory/81221/best-seafood-restaurants-in-jeju\\n5. Neulbom Heukdwaeji: https://www.mytravelbuzzg.com/top-10-must-try-food-in-jeju/\",\n",
       "  'img_url': 'https://cdn.imweb.me/upload/S202001291023ba77fb258/2518e16621379.jpg'},\n",
       " {'topic': '제주도 여행',\n",
       "  'name': '제주도 액티비티 추천',\n",
       "  'description': '제주도에서 즐길 수 있는 수많은 액티비티를 소개합니다. 올레길 트래킹, 스쿠버다이빙, 패러글라이딩, 요트 투어 등 다양한 체험거리를 포함합니다.',\n",
       "  'content': \"## 제주도 액티비티 추천\\n\\n제주도는 다양한 액티비티를 즐길 수 있는 곳으로 유명합니다. 특히 제주올레길 트래킹은 자연을 만끽하며 제주도의 아름다움과 정취를 체험할 수 있는 대표적인 액티비티 중 하나입니다. 제주올레길은 섬 전체를 둘러싼 총 27개의 공식 트레일로 구성되어 있으며, 각 코스는 4~8시간 동안 이어질 수 있는 중간 난이도의 경로로, 아름다운 섬 경관을 바라보며 여유롭게 걸을 수 있는 좋은 기회를 제공합니다 [1].\\n\\n제주도의 수중 탐험을 원하신다면 스쿠버다이빙을 추천드립니다. 제주도는 한국 내 최고의 스쿠버다이빙 장소 중 하나로, 특히 서귀포 근처의 문섬은 다양한 해양 생물을 만날 수 있는 인기 다이빙 명소로 알려져 있습니다. 이러한 경험을 통해 제주도의 독특한 기후와 화산성 자연환경을 더 깊이 탐험할 수 있습니다 [2].\\n\\n해안선의 멋진 풍경을 하늘에서 감상하고 싶다면, 패러글라이딩을 통해 제주의 절경을 즐겨보세요. 봄과 가을은 제주에서 패러글라이딩을 즐기기에 가장 좋은 시기이며, 금악 오름은 제주에서 가장 인기 있는 패러글라이딩 장소 중 하나로, 비행 경험을 제공하는 전문 강사와 함께 두 팔 펼쳐 대자연을 감상할 수 있습니다 [3][4].\\n\\n마지막으로, 여유로운 시간을 보내고 싶다면, 요트 투어를 추천드립니다. 제주도의 에메랄드빛 해상에서의 럭셔리 요트 투어는 원할 경우 돌고래도 목격하며 즐거운 추억을 남길 수 있는 기회입니다. 다양한 요트 코스 중 선택 가능하며, 유명한 주상절리와 같은 명소를 감상할 수 있어 많은 여행객들에게 인기가 높습니다 [5][6]. 제주도에서의 이러한 액티비티들은 여행을 보다 풍부하게 만들고, 자연과 하나되는 경험을 제공할 것입니다 [2][3].\\n\\n### Sources\\n1. [Jejuolle Trail - \\x7fuc81c7fxc8fc7fuc62c\\tten7ft\\teen](https://www.jejuolle.org/trail_en)\\n2. [Jeju Island - The Best Diving of South Korea!](https://www.diveoclock.com/destinations/Asia/South_Korea/Jeju/)\\n3. [Tandem Paragliding in Jeju Island - Trazy, Korea's #1 Travel Shop](https://www.trazy.com/experience/detail/jeju-paragliding)\\n4. [Geum Oreum Paragliding : Flying Through the Skies of Jeju - YouTube](https://www.youtube.com/watch?v=c1eW88EIaf8)\",\n",
       "  'img_url': 'https://d3h30waly5w5yx.cloudfront.net/images/tour/pictures/jeju-paragliding-1.JPG'},\n",
       " {'topic': '제주도 여행',\n",
       "  'name': '타이틀 슬라이드',\n",
       "  'description': '제주도 여행에 대한 프레젠테이션 타이틀 페이지',\n",
       "  'content': '## 타이틀 슬라이드\\n\\nJeju Island, often referred to as the \"Hawaii of Korea,\" offers an enchanting escape with its breathtaking landscapes and unique cultural experiences. The island\\'s natural beauty, from the iconic Hallasan Mountain to the exotic beaches and lush forests, provides a diverse range of attractions for tourists. Whether you\\'re interested in hiking along the famous Olle trails, exploring the stunning Jeongbang Waterfall, or savoring local delicacies, Jeju Island caters to all types of travelers. In addition to its natural wonders, Jeju\\'s vibrant arts scene and traditional markets give insight into the rich history and culture of the region, making it a comprehensive destination for those seeking both relaxation and adventure [1][2].\\n\\nJeju’s tourism is further enhanced by its status as a UNESCO World Heritage Site, owing to the significant geological and ecological features of the island. The Seongsan Ilchulbong Peak and Manjanggul Lava Tube stand out as must-visit locations, drawing millions of visitors annually. Moreover, Jeju is renowned for its unique cultural assets, including the Haenyo, female divers known for their free-diving expertise, which is recognized as an intangible cultural heritage by UNESCO [3][4]. The island\\'s hospitality extends through a variety of accommodations, ranging from luxury resorts to cozy guesthouses, ensuring comfort for every traveler.\\n\\nJeju Island is accessible via direct flights from major South Korean cities such as Seoul, Busan, and Daegu, making it a convenient destination for both domestic and international tourists. With its mix of natural splendor, cultural richness, and ease of access, Jeju Island remains one of the top holiday spots in South Korea, promising a memorable experience for all visitors [5][6].\\n\\n### Sources\\n1. [Things to Do on Jeju Island](https://koreatravelplanning.com/things-to-do-on-jeju-island/)\\n2. [Jeju Island Travel Guide](https://www.magnificentworld.com/things-to-do-in-jeju-island/)\\n3. [Visit Jeju](https://www.visitjeju.net/en)\\n4. [Top 20 Must Visits for your first time in Jeju](https://www.trazy.com/theme/jeju_first)\\n5. [The best of Jeju Island: 3 day itinerary](https://www.helenabradbury.com/blog-1/the-best-of-jeju-island-3-day-itinerary)\\n6. [Jeju Island Travel Guide - grrrltraveler](https://grrrltraveler.com/travel-guides/jeju-travel-guide/)',\n",
       "  'img_url': 'https://imgscf.slidemembers.com/docs/1/1/420/jeju_island_business_presentation_examples_419064.jpg'},\n",
       " {'topic': '제주도 여행',\n",
       "  'name': '목차 슬라이드',\n",
       "  'description': '제주도 여행에 대한 프레젠테이션 목차 페이지\\n\\n2. 제주도 여행 지침\\n3. 제주도 관광 명소\\n4. 제주도 전통 문화 체험\\n5. 제주도 맛집 추천\\n6. 제주도 액티비티 추천',\n",
       "  'content': \"## 목차 슬라이드\\n\\n1. **제주도 여행 소개**\\n   - 전반적인 여행 준비에 대한 개요로, 제주도의 역사와 특히 주목할 만한 점들을 탐색합니다. 주요 명소부터 대중적인 여행 루트까지 소개하여 여행의 방향을 설정합니다.\\n\\n2. **제주도 여행 지침**\\n   - 제주도의 전반적인 여행 지침을 제공합니다. 주요 교통 수단, 여행 시기, 필요한 장비 등을 포함하여 여행 준비에 필요한 모든 정보를 안내합니다.\\n\\n3. **제주도 관광 명소**\\n   - 제주도의 대표적인 관광 명소들을 소개합니다. 여기에는 한라산 국립공원, 성산 일출봉, 그리고 비자림 등 여러 자연경관들이 포함됩니다 [1][2][3].\\n\\n4. **제주도 전통 문화 체험**\\n   - 제주도에서 체험할 수 있는 전통 문화 활동을 소개합니다. 제주 해녀와 같은 전통 생활 방식, 한복 체험 등이 있습니다 [4][5][6].\\n\\n5. **제주도 맛집 추천**\\n   - 지역 주민과 여행객 모두에게 인기 있는 식당을 추천합니다. 제주 흑돼지, 전복물회 그리고 신선한 해산물 요리 등을 즐길 수 있는 장소들을 소개합니다 [7][8].\\n\\n6. **제주도 액티비티 추천**\\n   - 스쿠버 다이빙, 트레킹, 패들 보드 등 다양한 액티비티를 즐길 수 있는 제주도의 추천 액티비티를 다룹니다 [9][10].\\n\\n이 슬라이드는 제주도의 다양한 측면을 탐색할 수 있는 목차로, 각 섹션에 맞춤형 콘텐츠를 제공하여 여행 경험을 풍부하게 만듭니다.\\n\\n### Sources\\n1. [Jeju Island travel guide](https://english.visitkorea.or.kr/svc/contents/contentsView.do?vcontsId=222709)\\n2. [23 Things to Do in Jeju Island](https://koreatravelplanning.com/things-to-do-on-jeju-island/)\\n3. [Discover Jeju's tradition](https://www.klook.com/ko/experiences/list/jeju-cultural-experiences/c18-cate122/)\\n4. [Jeju Cultural Experiences](https://peunge.tistory.com/119)\\n5. [Nature, culture and people in Jeju Island](https://obs.agenda21culture.net/en/good-practices/nature-culture-and-people-jeju-island)\\n6. [Jeju Traditional Clothes Rental](https://www.klook.com/experiences/list/jeju-traditional-clothes-rental/c18-cate26/)\\n7. [Amazing Jeju Restaurants](https://www.tripadvisor.com/Restaurant_Review-g297892-d14920278-Reviews-Jeju_Natural_Cuisine-Seogwipo_Jeju_Island.html)\\n8. [10 Places Where Locals Love to Eat in Jeju Island](https://www.hotels.com/go/south-korea/kr-best-jeju-island-dining-area)\\n9. [Top Jeju Activity Recommendations](https://www.trazy.com/things-to-do/jeju)\\n10. [Jeju Island Adventure Activities](https://theadventuremanual.com/jeju-island-adventure-tours/)\",\n",
       "  'img_url': 'https://api.cdn.visitjeju.net/photomng/imgpath/202407/22/46e98ded-9e87-424b-b9c8-a05e4c840bf9.png'},\n",
       " {'topic': '제주도 여행',\n",
       "  'name': '제주도 여행 지침',\n",
       "  'description': '제주도를 여행할 때 유용한 기본 정보를 제공합니다. 여행 계획을 세우는 데 도움이 될 장소들, 교통편, 숙소 선택 팁 등을 포함합니다.',\n",
       "  'content': \"## 제주도 여행 지침\\n\\n제주도는 대한민국 최대의 섬으로, 아름다운 해변과 풍부한 자연이 관광객들을 끌어모으는 국내 최고의 여행지입니다 [1]. 여행 계획 시, 제주도의 주요 명소들을 포함하는 일정은 필수입니다. 대표적인 명소 중에는 성산일출봉, 한라산, 협재해수욕장과 천제연 폭포 등이 있습니다 [2]. 제주도를 보다 효율적으로 탐험하려면 최소 3~4일을 할애하는 것을 추천합니다 [3].\\n\\n제주도 여행 시 가장 많은 신경을 써야하는 부분 중 하나는 교통편입니다. 제주도에는 지하철이나 기차 시스템이 없기 때문에 렌터카, 택시, 버스 등으로 이동해야 합니다 [4]. 렌터카는 가장 자유로운 여행 방법 중 하나이며, 국제운전면허증이 필요합니다 [5]. 버스는 주요 도심 및 관광지를 연결하며, 현장에서 쉽게 티켓을 구입할 수 있습니다 [6]. 택시는 편리하지만 비용 효율적인 선택이 아닐 수 있으므로 단거리 이동에 적합합니다 [7].\\n\\n숙소 선택은 여행의 질을 좌우하는 중요한 요소입니다. 제주도는 호텔, 게스트하우스, 리조트 등 다양한 숙박 옵션을 제공합니다. 제주 시내와 서귀포는 각각 여행객의 선호에 따라 다른 매력을 가지고 있으며, 편리한 접근성을 제공합니다 [8]. 특히 가족 여행객에게는 서귀포 지역의 카사로마 호텔이 추천되며, 제주 시내의 호텔 레오는 비즈니스 여행객에게 적합한 선택입니다 [9]. 예산을 좀 더 절약하려면 깔끔하고 아늑한 게스트하우스를 고려해볼 수 있습니다 [10].\\n\\n이와 같은 기본 정보에 기반하여 효율적인 여행 계획을 세우고 제주도의 독특하고 아름다운 매력을 최대한 즐겨보시길 바랍니다.\\n\\n### Sources\\n[1] Jeju-do travel - South Korea, Asia - Lonely Planet: https://www.lonelyplanet.com/destinations/south-korea/jejudo  \\n[2] Jeju Island Travel Guide: Discover the Hawaii of Korea: https://www.magnificentworld.com/things-to-do-in-jeju-island/  \\n[3] Jeju Island Travel Guide - grrrltraveler: https://grrrltraveler.com/travel-guides/jeju-travel-guide/  \\n[4] Jeju Island offers various types of transportation options- bus, taxi, car, motorcycle/scooters, and bikes: https://blog.trazy.com/getting-around-jeju-island-in-south-korea-public-transportation-transport-info/  \\n[5] Driving in Jeju is easier compared to Seoul or Busan: https://www.facebook.com/groups/southkoreatravel/posts/1274600580814327/  \\n[6] The all new Jeju public transportation system: https://www.visitjeju.net/en/themtour/view?contentsid=CNTS_000000000022500&menuId=DOM_000001832000000000  \\n[7] Important Tips to Getting Around Jeju Without a Car - Hey Roseanne: https://heyroseanne.com/jeju-without-a-car/  \\n[8] Ultimate Hotel Guide for Your Stay in Jeju Island - Lemon8 app: https://www.lemon8-app.com/experience/jeju-island-hotel?region=sg  \\n[9] Best area to stay in Jeju for attractions and night market? - Facebook: https://www.facebook.com/groups/southkoreatravel/posts/1288390196102032/  \\n[10] Jeju's Best Kept Secrets: Budget Accommodation Guide - Agoda.com: https://www.agoda.com/travel-guides/south-korea/jeju-island/jejus-best-kept-secrets-budget-accommodation-guide/\",\n",
       "  'img_url': 'https://api.cdn.visitjeju.net/photomng/imgpath/202002/18/f0bbb3d6-9fa1-4e35-b55b-3e292d2d7f91.jpeg'},\n",
       " {'topic': '제주도 여행',\n",
       "  'name': '제주도 관광 명소',\n",
       "  'description': '제주도의 대표 관광 명소들을 소개합니다. 성산일출봉, 한라산, 섭지코지 등 자연 경관과 여행지에서 꼭 가보아야 할 명소들을 강조합니다.',\n",
       "  'content': \"## 제주도 관광 명소\\n\\n제주도는 그 아름다운 자연 경관으로 유명하며, 꼭 방문해야 할 관광 명소가 많습니다. 그 중에서도 성산일출봉, 한라산, 그리고 섭지코지는 제주도를 대표하는 명소로 손꼽힙니다.\\n\\n성산일출봉은 제주도 동쪽 끝에 위치한 화산 지형으로, UNESCO 세계자연유산으로 지정되어 있습니다. 이곳은 5000년 전 해저에서 화산 폭발로 형성된 것으로, 일출을 감상할 수 있는 명소로 유명합니다. 해발 182m의 높이로 비교적 오르기 쉬워 등산객들에게 인기가 많으며, 정상에 오르면 제주도 전역을 한눈에 내려다볼 수 있습니다[1][2].\\n\\n제주도 한가운데에 자리 잡은 한라산은 남한에서 가장 높은 산으로, 많은 생물의 고향이며 다양한 식물군락이 존재하는 국립공원입니다. 한라산 등반은 체력과 시간이 요구되지만, 정상을 오르면 뛰어난 경치를 만날 수 있어 많은 여행객들이 찾는 명소입니다. 사계절마다 다른 매력을 지니며, 겨울철에 눈이 덮인 한라산은 특히 아름답습니다[3][4].\\n\\n섭지코지는 제주도의 동남쪽 해안에 자리한 명소로, 바닷바람을 맞으면서 드라마틱한 해안선과 푸른 바다를 감상할 수 있는 곳입니다. 이름에서 비롯된 '섭지'는 제주 방언으로 '작은 땅', '코지'는 곶을 의미하며, 이곳의 지형적 특색을 잘 설명해 줍니다. 해안 절벽과 파랑 위로 솟아오른 화산암이 어우러져 아름다운 경관을 형성하고 있습니다[5][6].\\n\\n이러한 대표적인 명소들은 제주를 찾는 관광객들에게 독특한 자연 환경을 제공하며, 꼭 방문해볼 만한 가치가 있는 장소들입니다. \\n\\n### Sources\\n\\n[1] 성산일출봉 - 나무위키: https://namu.wiki/w/%EC%84%B1%EC%82%B0%EC%9D%BC%EC%B6%9C%EB%B4%89  \\n[2] 성산일출봉 [유네스코 세계자연유산] > 여행지 | '열린 관광' 모두의 여행: https://korean.visitkorea.or.kr/detail/ms_detail.do?cotid=f5da2334-1c8c-4049-8e06-4db38333a57f  \\n[3] 한라산 - 위키백과: https://ko.wikipedia.org/wiki/%ED%95%9C%EB%9D%BC%EC%82%B0  \\n[4] 한라산국립공원 - 탐방 및 예약 시스템 - 제주도청: https://visithalla.jeju.go.kr/contents/contents.do?id=49  \\n[5] 섭지코지 - 한국민족문화대백과사전: https://encykorea.aks.ac.kr/Article/E0074985  \\n[6] 섭지코지>여행지 | '열린 관광' 모두의 여행: https://korean.visitkorea.or.kr/detail/ms_detail.do?cotid=c2b1e89f-cc48-46f4-b15b-ccf24db7776c  \",\n",
       "  'img_url': 'https://upload.wikimedia.org/wikipedia/commons/6/61/Seongsan_Ilchulbong_from_the_air.jpg'},\n",
       " {'topic': '제주도 여행',\n",
       "  'name': '제주도 전통 문화 체험',\n",
       "  'description': '제주도의 전통 문화를 체험할 수 있는 다양한 장소와 활동을 살펴봅니다. 한복 렌탈과 전통 놀이 체험, 해녀 문화 체험, 전통 마을 방문 등을 포함합니다.',\n",
       "  'content': \"## 제주도 전통 문화 체험\\n\\n제주도는 독특한 전통문화를 체험할 수 있는 다양한 활동과 장소가 있습니다. 한복을 입고 전통 놀이를 즐기며, 해녀 문화를 직접 체험하거나, 전통 마을을 방문하여 제주도의 유산을 깊이 있게 이해할 수 있는 기회를 제공합니다.\\n\\n### 한복 렌탈과 전통 놀이 체험\\n\\n제주에서의 한복 체험은 관광객들이 한국의 전통 복식 문화에 깊이 빠져들 수 있게 해줍니다. 한복 대여점은 제주신화월드와 성읍민속마을 등에서 제공되며, 다양한 디자인과 색채의 한복을 선택할 수 있습니다 [1][2]. 한복을 입고 해안도로를 따라 아름다운 사진을 남길 수 있고, 전통 놀이 체험도 합니다. 특히 제주목관아는 한복 체험 외에도 전통 놀이와 다양한 문화 프로그램을 제공합니다 [3].\\n\\n### 해녀 문화 체험\\n\\n제주 해녀 문화는 국가무형문화재로 지정되어 유네스코 인류무형문화유산으로 등재되었으며, 이러한 독특한 문화는 법환 해녀체험센터와 하도어촌체험마을 등 여러 곳에서 직접 경험할 수 있습니다 [4][5]. 해녀 박물관에서는 해녀들의 역사와 생활 방식을 전시하고, 해녀들이 직접 거두어 온 해산물을 채집해 맛볼 수 있는 체험이 가능합니다 [6].\\n\\n### 전통 마을 방문\\n\\n성읍민속마을은 제주 전통문화를 그대로 보존한 대표적인 장소로, 마을 내 전통 초가집과 돌담장 등을 둘러보며 제주도의 독특한 역사와 문화를 체험할 수 있습니다 [7]. 또한 제주민속촌박물관을 방문하여 제주인의 삶과 문화를 깊이 탐구하고 배우는 기회를 가질 수 있습니다 [8].\\n\\n이렇게 제주도는 다양한 문화 체험을 제공하여 방문객들이 제주도의 독특한 전통과 역사를 직접 경험할 수 있도록 합니다. 각 체험은 제주 고유의 문화적 특징을 기반으로 하여 여행객들에게 잊지 못할 경험을 선사합니다.\\n\\n### Sources\\n[1] 제주여행 한복체험 오라한복 성읍민속마을에서 예쁘게 인생샷: https://blog.naver.com/3ofcups_/223418788946  \\n[2] 제주신화월드, 한복 대여 서비스 진행 - 베이비뉴스: https://www.ibabynews.com/news/articleView.html?idxno=117200  \\n[3] 한복입은 외국인들 북적북적… 제주목 관아 한류관광명소로 - 서울신문: https://www.seoul.co.kr/news/life/travel-news/2024/03/20/20240320500038  \\n[4] Beophwan Haenyeo Experience Center: https://m.visitjeju.net/en/detail/view?contentsid=CNTS_300000000013166  \\n[5] 제주해녀박물관 : VISITKOREA: https://english.visitkorea.or.kr/svc/whereToGo/locIntrdn/rgnContentsView.do?vcontsId=103315  \\n[6] Diving into the rich cultural world of Jeju's haenyeo: https://haenyeo.co.kr/  \\n[7] 성읍민속마을에서의 하루(제주 서귀포)> 여행기사 - 대한민국 구석구석: https://korean.visitkorea.or.kr/detail/rem_detail.do?cotid=a490c038-06ae-4cc6-9b24-779599b39abc  \\n[8] 제주민속촌 - 비짓제주: https://www.visitjeju.net/kr/detail/view?contentsid=CONT_000000000500553  \",\n",
       "  'img_url': 'https://upload.wikimedia.org/wikipedia/commons/thumb/c/c5/Seongeup_Historic_Village.jpg/1200px-Seongeup_Historic_Village.jpg'},\n",
       " {'topic': '제주도 여행',\n",
       "  'name': '제주도 맛집 추천',\n",
       "  'description': '제주도의 풍요로운 미식 경험을 위한 맛집을 추천합니다. 현지인 추천 맛집과 독특한 제주 요리, 해산물 음식점 등을 중심으로 소개합니다.',\n",
       "  'content': \"## 제주도 맛집 추천\\n\\n제주도는 그 특별한 위치와 아름다운 자연 환경 덕분에 독특하고 풍부한 미식 경험을 제공합니다. 제주의 현지인들로부터 추천 받은 몇몇 맛집을 소개합니다.\\n\\n제주 현지인이 추천하는 맛집으로는 여러 곳이 있습니다. 서귀포에 위치한 '제주 해녀촌'은 신선한 해산물 요리로 유명합니다. 이곳은 해녀들이 직접 채집한 해산물을 이용하여 독특하고 신선한 맛을 제공합니다 [1]. 또한, 제주시 외곽에 위치한 '신설오름(신선한 요리)'은 다양한 제주 특산물 요리를 맛볼 수 있는 곳입니다 [2].\\n\\n제주도는 신선한 해산물 요리로 잘 알려져 있습니다. 그중에서도 '고집돌우럭'은 함덕지점과 중문점 두 곳에서 새우, 오징어, 소라 등의 해산물을 다양한 방식으로 제공하여 많은 사랑을 받고 있습니다 [3]. 이 외에도 제주시의 'Myeongjin Jeonbok Abalone Restaurant'은 특유의 전복요리가 관광객과 지역 주민들 사이에서 인기가 높습니다 [4].\\n\\n또한, 제주도의 독특한 요리 중 하나로 '흑돼지'가 있습니다. 흑돼지를 목표로 하는 다양한 맛집이 있으니 제주 방문 시 꼭 경험해 보시길 추천합니다. 제주시의 'Neulbom Heukdwaeji'는 삼겹살과 흑돼지 특유의 풍미를 즐길 수 있는 곳으로 유명합니다 [5].\\n\\n이와 같이 제주의 다양한 맛집은 여행자들에게 특별하고 인상 깊은 미식 경험을 선사합니다. 각 곳에서는 전통적인 제주 요리와 함께 현대적인 요리 트렌드를 즐길 수 있으니 여행 계획 시 고려해 보시기 바랍니다.\\n\\n### Sources\\n1. 제주도 해녀촌: https://arothinking.tistory.com/entry/%EC%A0%9C%EC%A3%BC%EB%8F%84-%EC%84%9C%EA%B7%80%ED%8F%AC-%EB%A7%9B%EC%A7%91-%EC%82%AC%EA%B3%84-%ED%95%B4%EB%85%80%EC%9D%98%EC%A7%91-%ED%95%B4%EC%82%B0%EB%AC%BC-%EB%A7%9B%EC%A7%91-%EC%A0%9C%EC%A3%BC%EC%97%AC%ED%96%89-%EA%B8%B0%EB%A1%9D\\n2. 신설오름의 특산 요리: https://brunch.co.kr/@sister-manbo/37\\n3. 고집돌우럭: https://www.tripadvisor.co.kr/Restaurants-g297885-Jeju_Jeju_Island.html\\n4. Myeongjin Jeonbok Abalone Restaurant: https://wanderlog.com/list/geoCategory/81221/best-seafood-restaurants-in-jeju\\n5. Neulbom Heukdwaeji: https://www.mytravelbuzzg.com/top-10-must-try-food-in-jeju/\",\n",
       "  'img_url': 'https://cdn.imweb.me/upload/S202001291023ba77fb258/2518e16621379.jpg'},\n",
       " {'topic': '제주도 여행',\n",
       "  'name': '제주도 액티비티 추천',\n",
       "  'description': '제주도에서 즐길 수 있는 수많은 액티비티를 소개합니다. 올레길 트래킹, 스쿠버다이빙, 패러글라이딩, 요트 투어 등 다양한 체험거리를 포함합니다.',\n",
       "  'content': \"## 제주도 액티비티 추천\\n\\n제주도는 다양한 액티비티를 즐길 수 있는 곳으로 유명합니다. 특히 제주올레길 트래킹은 자연을 만끽하며 제주도의 아름다움과 정취를 체험할 수 있는 대표적인 액티비티 중 하나입니다. 제주올레길은 섬 전체를 둘러싼 총 27개의 공식 트레일로 구성되어 있으며, 각 코스는 4~8시간 동안 이어질 수 있는 중간 난이도의 경로로, 아름다운 섬 경관을 바라보며 여유롭게 걸을 수 있는 좋은 기회를 제공합니다 [1].\\n\\n제주도의 수중 탐험을 원하신다면 스쿠버다이빙을 추천드립니다. 제주도는 한국 내 최고의 스쿠버다이빙 장소 중 하나로, 특히 서귀포 근처의 문섬은 다양한 해양 생물을 만날 수 있는 인기 다이빙 명소로 알려져 있습니다. 이러한 경험을 통해 제주도의 독특한 기후와 화산성 자연환경을 더 깊이 탐험할 수 있습니다 [2].\\n\\n해안선의 멋진 풍경을 하늘에서 감상하고 싶다면, 패러글라이딩을 통해 제주의 절경을 즐겨보세요. 봄과 가을은 제주에서 패러글라이딩을 즐기기에 가장 좋은 시기이며, 금악 오름은 제주에서 가장 인기 있는 패러글라이딩 장소 중 하나로, 비행 경험을 제공하는 전문 강사와 함께 두 팔 펼쳐 대자연을 감상할 수 있습니다 [3][4].\\n\\n마지막으로, 여유로운 시간을 보내고 싶다면, 요트 투어를 추천드립니다. 제주도의 에메랄드빛 해상에서의 럭셔리 요트 투어는 원할 경우 돌고래도 목격하며 즐거운 추억을 남길 수 있는 기회입니다. 다양한 요트 코스 중 선택 가능하며, 유명한 주상절리와 같은 명소를 감상할 수 있어 많은 여행객들에게 인기가 높습니다 [5][6]. 제주도에서의 이러한 액티비티들은 여행을 보다 풍부하게 만들고, 자연과 하나되는 경험을 제공할 것입니다 [2][3].\\n\\n### Sources\\n1. [Jejuolle Trail - \\x7fuc81c7fxc8fc7fuc62c\\tten7ft\\teen](https://www.jejuolle.org/trail_en)\\n2. [Jeju Island - The Best Diving of South Korea!](https://www.diveoclock.com/destinations/Asia/South_Korea/Jeju/)\\n3. [Tandem Paragliding in Jeju Island - Trazy, Korea's #1 Travel Shop](https://www.trazy.com/experience/detail/jeju-paragliding)\\n4. [Geum Oreum Paragliding : Flying Through the Skies of Jeju - YouTube](https://www.youtube.com/watch?v=c1eW88EIaf8)\",\n",
       "  'img_url': 'https://d3h30waly5w5yx.cloudfront.net/images/tour/pictures/jeju-paragliding-1.JPG'}]"
      ]
     },
     "execution_count": 12,
     "metadata": {},
     "output_type": "execute_result"
    }
   ],
   "source": [
    "state[\"values\"][\"slides\"]"
   ]
  },
  {
   "cell_type": "code",
   "execution_count": 13,
   "id": "6430f148-67d8-44e8-b67f-1f8076097e63",
   "metadata": {},
   "outputs": [
    {
     "ename": "KeyError",
     "evalue": "'idx'",
     "output_type": "error",
     "traceback": [
      "\u001b[31m---------------------------------------------------------------------------\u001b[39m",
      "\u001b[31mKeyError\u001b[39m                                  Traceback (most recent call last)",
      "\u001b[36mCell\u001b[39m\u001b[36m \u001b[39m\u001b[32mIn[13]\u001b[39m\u001b[32m, line 2\u001b[39m\n\u001b[32m      1\u001b[39m \u001b[38;5;28;01mfor\u001b[39;00m s \u001b[38;5;129;01min\u001b[39;00m state[\u001b[33m\"\u001b[39m\u001b[33mvalues\u001b[39m\u001b[33m\"\u001b[39m][\u001b[33m\"\u001b[39m\u001b[33mslides\u001b[39m\u001b[33m\"\u001b[39m]:\n\u001b[32m----> \u001b[39m\u001b[32m2\u001b[39m     \u001b[38;5;28mprint\u001b[39m(\u001b[43ms\u001b[49m\u001b[43m[\u001b[49m\u001b[33;43m\"\u001b[39;49m\u001b[33;43midx\u001b[39;49m\u001b[33;43m\"\u001b[39;49m\u001b[43m]\u001b[49m)\n",
      "\u001b[31mKeyError\u001b[39m: 'idx'"
     ]
    }
   ],
   "source": [
    "for s in state[\"values\"][\"slides\"]:\n",
    "    print(s[\"idx\"])"
   ]
  },
  {
   "cell_type": "code",
   "execution_count": null,
   "id": "1c629f93-f31e-415c-8354-46d60e9cd38d",
   "metadata": {},
   "outputs": [],
   "source": [
    "state[\"values\"]['sections']"
   ]
  },
  {
   "cell_type": "code",
   "execution_count": null,
   "id": "f14ce7ef-387a-4578-af9b-486feb3cc133",
   "metadata": {},
   "outputs": [],
   "source": []
  }
 ],
 "metadata": {
  "kernelspec": {
   "display_name": "Python 3 (ipykernel)",
   "language": "python",
   "name": "python3"
  },
  "language_info": {
   "codemirror_mode": {
    "name": "ipython",
    "version": 3
   },
   "file_extension": ".py",
   "mimetype": "text/x-python",
   "name": "python",
   "nbconvert_exporter": "python",
   "pygments_lexer": "ipython3",
   "version": "3.13.2"
  }
 },
 "nbformat": 4,
 "nbformat_minor": 5
}
