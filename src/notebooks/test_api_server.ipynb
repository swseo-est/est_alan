{
 "cells": [
  {
   "cell_type": "markdown",
   "id": "feb6cbf7-5f08-4fc7-8a37-5af0ba71c970",
   "metadata": {},
   "source": [
    "# client instance 생성"
   ]
  },
  {
   "cell_type": "code",
   "execution_count": 1,
   "id": "2e633658-62cc-45ba-bf46-a68be289080a",
   "metadata": {
    "ExecuteTime": {
     "end_time": "2025-07-31T08:02:49.558486Z",
     "start_time": "2025-07-31T08:02:49.547246Z"
    }
   },
   "outputs": [],
   "source": [
    "DEPLOYMENT_URL=\"http://10.8.1.229:8000/\"\n",
    "# DEPLOYMENT_URL=\"http://localhost:2024/\"\n",
    "# DEPLOYMENT_URL=\"http://localhost:8000/\"\n",
    "\n",
    "from langgraph_sdk import get_client\n",
    "\n",
    "client = get_client(url=DEPLOYMENT_URL)"
   ]
  },
  {
   "cell_type": "markdown",
   "id": "1060453e-25dc-4f8f-8a80-63f12900344d",
   "metadata": {},
   "source": [
    "# thread 생성 (앨런의 channel에 대응)\n",
    "\n",
    "- 생성 요청 후 thread_id를 포함한 데이터를 return 받음\n",
    "- 하나의 thread에 대해서 여러 에이전트를 호출하고 대화가능\n",
    "- 현재 앨런은 한개의 channel에 대해서 한개의 agent가 1:1로 대응되므로 현재는 고려할 필요 없지만, 추후에 1개의 채널에 대해서 여러 agent를 호출가능"
   ]
  },
  {
   "cell_type": "code",
   "execution_count": 2,
   "id": "d728bcf5-d7b5-4768-9953-f60e5dd7340d",
   "metadata": {},
   "outputs": [],
   "source": [
    "def get_data(chunk):\n",
    "    data = list(chunk.data.values())[0]\n",
    "    return data\n",
    " \n",
    " \n",
    "def filter_ai_msg(chunk):\n",
    "    # 유저와 채팅 창에 출력될 ai 메시지를 필터링하는 함수\n",
    "    if 'updates' in chunk.event:\n",
    "        data = get_data(chunk)\n",
    " \n",
    "        if data is not None:\n",
    "            if 'messages' in data.keys():\n",
    "                if data['messages'][-1][\"name\"] is not None:\n",
    "                    msg_type = data['messages'][-1]['type']\n",
    "                    if msg_type == \"ai\":\n",
    "                        return True\n",
    "    return False"
   ]
  },
  {
   "cell_type": "code",
   "execution_count": 3,
   "id": "00db8bac-8b27-48e7-bbc3-e8bb1e1f97e9",
   "metadata": {},
   "outputs": [
    {
     "name": "stdout",
     "output_type": "stream",
     "text": [
      "{'thread_id': '5d82d2d8-862a-434d-903b-05d567a3f2b1', 'created_at': '2025-08-18T00:51:22.194002+00:00', 'updated_at': '2025-08-18T00:51:22.194002+00:00', 'metadata': {}, 'status': 'idle', 'config': {}, 'values': None, 'interrupts': {}, 'error': None}\n",
      "5d82d2d8-862a-434d-903b-05d567a3f2b1\n"
     ]
    }
   ],
   "source": [
    "thread = await client.threads.create()\n",
    "print(thread)\n",
    "\n",
    "thread_id = thread[\"thread_id\"]\n",
    "print(thread_id)"
   ]
  },
  {
   "cell_type": "markdown",
   "id": "07786c8d-0172-42d5-b5e2-5ae1aafdeafc",
   "metadata": {},
   "source": [
    "# 에이전트 호출\n",
    "\n",
    "- 해당 thread에서 어떤 agent를 호출할 지 assistant_id를 포함하여 요청을 보냄"
   ]
  },
  {
   "cell_type": "markdown",
   "id": "9281de96-1d3f-4514-9fd2-fc5590a9b8ff",
   "metadata": {},
   "source": [
    "## parameters\n",
    "- thread_id : 위에서 생성한 thread_id\n",
    "- assistant_id : 앨런의 persona_id에 대응, agent를 구분하는 id, 슬라이드 에이전트의 경우 \"slide_generate_agent\"\n",
    "- input : 해당 agent 요청에 대한 parameter, 현재는 messages만 존재, 앨런 페이지에서 유저로 부터 받는 input을 해당 parameter에 dict로 넣어줌\n",
    "- stream_mode : 어떤 event에 따라서 메시지를 받을지 지정, updates(한 단계가 끝날 때마나 메시지가 옴), events(llm이 생성하는 단위로 메시지 생성)"
   ]
  },
  {
   "cell_type": "code",
   "execution_count": 4,
   "id": "48f82979-592c-4b2c-8e24-2c0c03b12d2a",
   "metadata": {},
   "outputs": [],
   "source": [
    "list_msg_id = list()\n",
    "\n",
    "\n",
    "def get_data(chunk):\n",
    "    data = list(chunk.data.values())[0]\n",
    "    return data\n",
    "\n",
    "\n",
    "def filter_ai_msg(chunk):\n",
    "    # 유저와 채팅 창에 출력될 ai 메시지를 필터링하는 함수\n",
    "    if 'updates' in chunk.event:\n",
    "        data = get_data(chunk)\n",
    "\n",
    "        if data is not None:\n",
    "            if 'messages' in data.keys():\n",
    "                if data['messages'][-1][\"name\"] is not None:\n",
    "                    msg_type = data['messages'][-1]['type']\n",
    "                    msg_id = data['messages'][-1]['id']\n",
    "                    if msg_id not in list_msg_id and msg_type == \"ai\":\n",
    "                        list_msg_id.append(msg_id)\n",
    "                        return True\n",
    "    return False\n",
    "\n",
    "\n",
    "def filter_silde_data(chunk):\n",
    "    # slide 관련 데이터를 담은 메시지를 필터링하는 함수\n",
    "    # 슬라이드 한페이지 단위로 메시지가 옴\n",
    "    if 'updates' in chunk.event:\n",
    "        node_name = chunk.data.keys()\n",
    "        if 'executor' in node_name:\n",
    "            return True"
   ]
  },
  {
   "cell_type": "code",
   "execution_count": 5,
   "id": "8d5fddde-f825-4491-be5a-0e7ed123a866",
   "metadata": {},
   "outputs": [],
   "source": [
    "assistant_id = \"slide_generate_agent\"\n",
    "list_chunk = list()"
   ]
  },
  {
   "cell_type": "code",
   "execution_count": 6,
   "id": "initial_id",
   "metadata": {
    "ExecuteTime": {
     "end_time": "2025-07-31T08:02:51.030604Z",
     "start_time": "2025-07-31T08:02:49.655777Z"
    },
    "scrolled": true
   },
   "outputs": [
    {
     "name": "stdout",
     "output_type": "stream",
     "text": [
      "##########  AI 메시지  ##########\n",
      "제주도 여행을 주제로 슬라이드를 생성하도록 하겠습니다.\n",
      "##########  AI 메시지  ##########\n",
      "검색 도구를 사용하여 목차를 생성하기 위한 조사를 시작합니다.\n",
      "##########  AI 메시지  ##########\n",
      "생성된 목차는 다음과 같습니다. \n",
      "\n",
      "2. 제주도 추천 여행지 - 이 섹션에서는 제주도의 대표적인 여행 명소와 해당 명소의 매력을 소개합니다. 성산일출봉, 서귀포의 중문관광단지, 협재해수욕장 등 주목할 만한 명소를 포함하며, 각 지역의 대표적인 관광지의 매력을 살펴봅니다. \n",
      "3. 제주도의 맛 - 제주도에서 시도할 만한 대표 음식을 소개합니다. 흑돼지, 갈치조림, 오메기떡 등 독특한 제주도 미식 체험에 대한 정보를 제공합니다. \n",
      "4. 제주도 교통 및 여행 팁 - 제주도 여행 시 유용한 교통 정보와 여행 팁을 공유합니다. 대중교통 이용 방법, 렌터카 추천, 교통카드 사용법 등을 다룹니다. \n",
      "5. 제주도 숙박 시설 정보 - 제주도의 다양한 숙박 옵션에 대해 소개합니다. 호텔, 펜션, 게스트하우스 등 다양한 선택지와 그 특징 및 가격 범위를 설명합니다. \n",
      "6. 제주도 여행 일정 및 코스 - 효율적인 제주도 여행을 위한 일정을 제안합니다. 2박 3일, 3박 4일 등 기간별 추천 일정을 포함하여 여행객의 선호에 맞춘 코스를 제공합니다. \n",
      "\n",
      "##########  AI 메시지  ##########\n",
      "\n",
      "    슬라이드 생성에 필요한 조사를 시작합니다.\n",
      "    \n",
      "##########  AI 메시지  ##########\n",
      "\n",
      "    슬라이드에 사용할 이미지를 검색하고 있습니다.\n",
      "    \n",
      "##########  AI 메시지  ##########\n",
      "\n",
      "    슬라이드 디자인을 시작합니다.\n",
      "    \n",
      "##########  AI 메시지  ##########\n",
      "\n",
      "    슬라이드를 생성하고 있습니다.\n",
      "    \n",
      "##########  AI 메시지  ##########\n",
      "슬라이드 생성이 완료되었습니다.\n"
     ]
    }
   ],
   "source": [
    "input = { \"messages\": \"제주도 여행\"}\n",
    "\n",
    "async for chunk in client.runs.stream(\n",
    "    thread_id,\n",
    "    assistant_id=assistant_id,\n",
    "    input=input,\n",
    "    stream_mode=[\"updates\"],\n",
    "    stream_subgraphs=True\n",
    "):\n",
    "    list_chunk.append(chunk)\n",
    "    if filter_ai_msg(chunk):\n",
    "        print(\"#\" * 10 + \"  AI 메시지  \" + \"#\" * 10)\n",
    "        data = get_data(chunk)\n",
    "        print(data['messages'][-1]['content'])\n",
    "    # elif filter_silde_data(chunk):\n",
    "    #     print(\"#\" * 10 + \"  슬라이드 데이터  \" + \"#\" * 10)\n",
    "    #     print(chunk)\n"
   ]
  },
  {
   "cell_type": "code",
   "execution_count": 7,
   "id": "bd7a08e4-51f1-41d3-a503-5e50da6b8a76",
   "metadata": {
    "scrolled": true
   },
   "outputs": [],
   "source": [
    "for chunk in list_chunk:\n",
    "    if filter_ai_msg(chunk):\n",
    "        print(\"#\" * 10 + \"  AI 메시지  \" + \"#\" * 10)\n",
    "        data = get_data(chunk)\n",
    "        print(data['messages'][-1]['content'])\n"
   ]
  },
  {
   "cell_type": "code",
   "execution_count": 8,
   "id": "59081551-edc0-4e05-a95a-5a7c663b7e42",
   "metadata": {
    "scrolled": true
   },
   "outputs": [
    {
     "name": "stdout",
     "output_type": "stream",
     "text": [
      "##########  AI 메시지  ##########\n",
      "제주도 여행을 주제로 슬라이드를 생성하도록 하겠습니다.\n",
      "##########  AI 메시지  ##########\n",
      "검색 도구를 사용하여 목차를 생성하기 위한 조사를 시작합니다.\n",
      "##########  AI 메시지  ##########\n",
      "생성된 목차는 다음과 같습니다. \n",
      "\n",
      "2. 제주도 추천 여행지 - 이 섹션에서는 제주도의 대표적인 여행 명소와 해당 명소의 매력을 소개합니다. 성산일출봉, 서귀포의 중문관광단지, 협재해수욕장 등 주목할 만한 명소를 포함하며, 각 지역의 대표적인 관광지의 매력을 살펴봅니다. \n",
      "3. 제주도의 맛 - 제주도에서 시도할 만한 대표 음식을 소개합니다. 흑돼지, 갈치조림, 오메기떡 등 독특한 제주도 미식 체험에 대한 정보를 제공합니다. \n",
      "4. 제주도 교통 및 여행 팁 - 제주도 여행 시 유용한 교통 정보와 여행 팁을 공유합니다. 대중교통 이용 방법, 렌터카 추천, 교통카드 사용법 등을 다룹니다. \n",
      "5. 제주도 숙박 시설 정보 - 제주도의 다양한 숙박 옵션에 대해 소개합니다. 호텔, 펜션, 게스트하우스 등 다양한 선택지와 그 특징 및 가격 범위를 설명합니다. \n",
      "6. 제주도 여행 일정 및 코스 - 효율적인 제주도 여행을 위한 일정을 제안합니다. 2박 3일, 3박 4일 등 기간별 추천 일정을 포함하여 여행객의 선호에 맞춘 코스를 제공합니다. \n",
      "\n",
      "##########  AI 메시지  ##########\n",
      "슬라이드 생성이 완료되었습니다.\n"
     ]
    }
   ],
   "source": [
    "state = await client.threads.get_state(thread_id=thread_id)\n",
    "\n",
    "for msg in state[\"values\"][\"messages\"]:\n",
    "    if msg[\"type\"] != \"human\":\n",
    "        print(\"#\" * 10 + \"  AI 메시지  \" + \"#\" * 10)\n",
    "        print(msg[\"content\"])"
   ]
  },
  {
   "cell_type": "code",
   "execution_count": 9,
   "id": "b28def97-7983-4c7c-acb2-08d617724170",
   "metadata": {
    "scrolled": true
   },
   "outputs": [
    {
     "data": {
      "text/plain": [
       "7"
      ]
     },
     "execution_count": 9,
     "metadata": {},
     "output_type": "execute_result"
    }
   ],
   "source": [
    "len(state[\"values\"][\"slides\"])"
   ]
  },
  {
   "cell_type": "code",
   "execution_count": 10,
   "id": "52f97132-2be6-437a-b0f8-90e1f4f3c51f",
   "metadata": {
    "scrolled": true
   },
   "outputs": [
    {
     "data": {
      "text/plain": [
       "[{'slide_type': 'title',\n",
       "  'topic': '제주도 여행',\n",
       "  'idx': 0,\n",
       "  'name': '타이틀',\n",
       "  'description': '제주도 여행에 대한 프레젠테이션 타이틀 페이지',\n",
       "  'requirements': ['타이틀 텍스트', '부제목 또는 설명'],\n",
       "  'research': True,\n",
       "  'content': '## 타이틀\\n\\n제주도는 한국을 대표하는 관광 명소로, 방문객들에게 다양하고 독특한 경험을 제공합니다. 제주도 여행 프레젠테이션의 타이틀 페이지는 여행객들이 떠날 여행의 첫인상을 형성하는 데 중요한 역할을 합니다. 이러한 타이틀 페이지는 제주도의 자연경관과 문화적 요소를 잘 반영해야 합니다.\\n\\n먼저, 제주도의 상징인 돌하르방이나 한라산을 배경 이미지로 선택하는 것이 좋습니다. 이 외에도 제주 특산물인 유채꽃과 감귤, 그리고 제주 해녀 문화를 엿볼 수 있는 이미지들이 타이틀 페이지를 더욱 풍부하게 만들어 줄 것입니다 [1][2]. 타이틀은 간단하면서도 인상적인 문구로 구성되며, 예를 들어 \"신비의 섬, 제주로 떠나는 여정\"과 같은 표현은 여행의 기대감을 높일 수 있습니다.\\n\\n디자인 측면에서는 깔끔하고 단정한 레이아웃을 활용하는 것이 좋습니다. 예를 들어, 미리캔버스에서 제공하는 제주도 여행 템플릿을 참고하여 심플하면서도 현대적인 스타일의 페이지를 구성하는 것이 좋습니다 [3]. 색상 선택에서는 제주도의 주요 색조인 파란색과 초록색을 사용하여 시각적으로 제주도의 자연과 맞물리도록 디자인합니다.\\n\\n타이틀 페이지는 여행의 전반적인 정보를 간단히 소개할 수 있는 서문 역할도 합니다. 여행의 목표, 주요 여행지, 및 참가자 정보를 간단히 요약하여 참석자들이 여행 계획의 개요를 쉽게 파악할 수 있도록 합니다.\\n\\n이렇게 설계된 타이틀 페이지는 청중에게 제주도의 매력을 효과적으로 전달하며, 성공적인 프레젠테이션의 시작점을 제공합니다.\\n\\n### Sources\\n1. [제주도 여행 가이드 - Naver Blog](https://blog.naver.com/yesform2/223801379372)\\n2. [제주도 여행 템플릿 - MiriCanvas](https://www.miricanvas.com/ko/template/presentation/%EC%A0%9C%EC%A3%BC%EB%8F%84%20%EC%97%AC%ED%96%89)\\n3. [제주도 돌하르방 - Slide Members](https://www.slidemembers.com/ko_KR/view/Free-Slides/%EC%A0%9C%EC%A3%BC%EB%8F%84-%EB%8F%8C%ED%95%98%EB%A5%B4%EB%B0%A9-%EB%AC%B4%EB%A3%8C-%ED%94%BC%ED%94%BC%ED%8B%B0-%ED%85%9C%ED%94%8C%EB%A6%BF-2549)',\n",
       "  'img_url': 'https://upload.wikimedia.org/wikipedia/commons/e/e1/Dol-hareubang_from_Jeju_Island_at_the_National_Folk_Museum_of_Korea.jpg',\n",
       "  'design': '⭐ 제주도 여행 프레젠테이션의 타이틀 슬라이드를 작성하겠습니다. 이 슬라이드는 제주도의 독특한 자연경관과 매력을 효과적으로 전달하는 것을 목적으로 합니다. 배경 이미지는 돌하르방이나 한라산을 선택하여 제주도를 대표하는 상징성을 강조하며, \"신비의 섬, 제주로 떠나는 여정\"이라는 인상적인 문구가 중심 텍스트로 배치됩니다.\\n\\n사용할 이미지:\\n- https://upload.wikimedia.org/wikipedia/commons/e/e1/Dol-hareubang_from_Jeju_Island_at_the_National_Folk_Museum_of_Korea.jpg - 제주도의 상징적인 돌하르방 이미지\\n\\n디자인 요소:\\n1. **배경 이미지**: 페이지 전체를 덮는 돌하르방 또는 한라산 이미지 옵션.\\n2. **타이틀 문구**: 슬라이드 중앙에 배치되는 \"신비의 섬, 제주로 떠나는 여정\" 텍스트.\\n3. **페이지 레이아웃**: 현대적이며 심플한 레이아웃.\\n4. **색상 팔레트**: 제주도의 자연을 반영하는 파란색과 초록색 채도 사용.\\n5. **자료소개**: 슬라이드 하단에 여행 개요 및 주요 정보 간략히 서술.\\n\\n마무리 문단\\n이 슬라이트는 제주도의 자연적 아름다움과 문화적 요소를 강조하는 디자인을 통해 여행객들에게 시각적 기대감을 전달할 것입니다. 깔끔한 레이아웃과 색상은 제주도의 매력적인 풍경을 효과적으로 반영합니다.',\n",
       "  'html': '<!DOCTYPE html>\\n<html lang=\"ko\">\\n<head>\\n  <meta charset=\"UTF-8\">\\n  <meta name=\"viewport\" content=\"width=device-width, initial-scale=1.0\">\\n  <title>제주도 여행 프레젠테이션 타이틀 슬라이드</title>\\n  <link href=\"https://cdn.jsdelivr.net/npm/tailwindcss@2.2.19/dist/tailwind.min.css\" rel=\"stylesheet\">\\n  <link href=\"https://fonts.googleapis.com/css?family=Noto+Sans+KR:400,700&display=swap\" rel=\"stylesheet\">\\n  <style>\\n    body { font-family: \\'Noto Sans KR\\', sans-serif; }\\n    .slide-container { width: 1280px !important; height: 720px !important; display: flex; overflow: hidden; }\\n    .text-content { width: 50%; padding: 40px; box-sizing: border-box; background-color: #f8f9fa; }\\n    .image-content { width: 50%; position: relative; }\\n    .image-content img { position: absolute; top: 0; left: 0; width: 100%; height: 100%; object-fit: cover; }\\n    .swiss-accent { height: 4px; background-color: #cc0000; margin: 20px 0; }\\n    .content-title { font-size: 40px; font-weight: 700; color: #222222; margin-bottom: 8px; }\\n    .content-text { font-size: 24px; color: #222222; }\\n    .info-box { background-color: white; border-left: 4px solid #cc0000; padding: 20px; margin-top: 20px; }\\n  </style>\\n</head>\\n<body>\\n  <div class=\"slide-container\">\\n    <!-- 텍스트 영역 -->\\n    <div class=\"text-content\">\\n      <div class=\"content-title\">신비의 섬, 제주로 떠나는 여정</div>\\n      <div class=\"swiss-accent\"></div>\\n      <div class=\"content-text\">\\n        <p>제주도는 한국을 대표하는 관광 명소로, 방문객들에게 다양하고 독특한 경험을 제공합니다. 돌하르방과 한라산을 배경으로 한 타이틀 페이지는 제주도의 상징성을 강조합니다.</p>\\n      </div>\\n      <div class=\"info-box\">\\n        <p>여행 개요: 제주도의 자연과 문화를 탐험하는 여정에 오신 것을 환영합니다. 참가자는 아래 주요 정보를 참고하세요.</p>\\n      </div>\\n    </div>\\n    <!-- 이미지 영역 -->\\n    <div class=\"image-content\">\\n      <img src=\"https://upload.wikimedia.org/wikipedia/commons/e/e1/Dol-hareubang_from_Jeju_Island_at_the_National_Folk_Museum_of_Korea.jpg\" alt=\"제주도의 돌하르방\" />\\n    </div>\\n  </div>\\n</body>\\n</html>',\n",
       "  'width': 1280,\n",
       "  'height': 720},\n",
       " {'slide_type': 'toc',\n",
       "  'topic': '제주도 여행',\n",
       "  'idx': 1,\n",
       "  'name': '목차',\n",
       "  'description': '제주도 여행에 대한 프레젠테이션 목차 페이지\\n\\n2. 제주도 추천 여행지\\n3. 제주도의 맛\\n4. 제주도 교통 및 여행 팁\\n5. 제주도 숙박 시설 정보\\n6. 제주도 여행 일정 및 코스',\n",
       "  'requirements': ['목차 항목들'],\n",
       "  'research': True,\n",
       "  'content': '## 목차\\n\\n2. **제주도 추천 여행지**  \\n   제주도는 아름다운 자연 경관과 다양한 관광 명소로 유명합니다. 많은 여행자들이 방문하는 인기 있는 장소로는 한라산이라는 한국에서 가장 높은 산, 유네스코 세계 자연유산으로 지정된 만장굴 용암동굴, 그리고 아름다운 일몰을 즐길 수 있는 성산일출봉이 있습니다. 그 외에도 용두암, 천제연 폭포 등 제주도의 다양한 자연 경관을 경험할 수 있는 곳들이 많이 있습니다 [1][2].\\n\\n3. **제주도의 맛**  \\n   제주도는 독특한 음식 문화로도 유명합니다. 대표적인 음식으로는 제주 흑돼지 바비큐, 해산물 요리, 그리고 제주 귤 등이 있습니다. 이 외에도, 제주도에서는 다양한 해산물 회와 해물탕을 즐길 수 있으며, 제주 전통 음식인 고기국수도 맛볼 수 있습니다 [3][4].\\n\\n4. **제주도 교통 및 여행 팁**  \\n   제주도는 렌터카를 이용하여 여행하는 것이 가장 편리하지만, 대중교통인 버스와 택시도 쉽게 이용할 수 있습니다. 공항에서 중심지로 쉽게 이동할 수 있는 다양한 방법도 존재하며, 특히 밤 시간대에는 안전한 도심 중심부에서의 이동을 추천합니다. 여행 시 필요한 유용한 팁으로는 요금이 저렴한 T-money 카드를 활용하는 것이 있습니다 [5][6].\\n\\n5. **제주도 숙박 시설 정보**  \\n   제주도는 다양한 숙박 옵션을 제공합니다. 고급 호텔, 게스트하우스, 펜션 등 다양한 숙박 시설이 있으며, 시설마다의 특색과 가격대가 다릅니다. 서귀포와 제주시 지역은 관광하기에 좋은 위치에 다양한 숙박 옵션이 마련되어 있습니다 [7][8].\\n\\n6. **제주도 여행 일정 및 코스**  \\n   다양한 일정으로 제주도를 즐길 수 있습니다. 일반적인 3일 일정은 서귀포 일대 탐방과 동문공원, 성산일출봉 일출을 포함할 수 있습니다. 5일 코스는 제주 전체를 차로 탐방하며 다양한 지역의 매력을 체험할 수 있는 여유로운 일정입니다 [9][10].\\n\\n### Sources\\n[1] Title: Go Guides - 제주도의 가볼 만한 곳 베스트 10 - URL  \\n[2] Title: NEWT - 제주도(제주) - URL  \\n[3] Title: The Calm Chronicle - 제주도에서 꼭 먹어야 할 음식 12가지 - URL  \\n[4] Title: Go Guides - 제주도 최고의 로컬 음식 10 - URL  \\n[5] Title: Klook - 제주도 교통 가이드 - URL  \\n[6] Title: GPT Times - 제주도 대중교통 이용 가이드 - URL  \\n[7] Title: Agoda - 호텔스카이파크 제주, 롯데호텔 제주 - URL  \\n[8] Title: Expedia - 제주도 숙박 시설 목록 - URL  \\n[9] Title: Agoda - 제주도 여행 필수 일정 - URL  \\n[10] Title: KKday - 제주도 관광지를 둘러보는 방법 - URL',\n",
       "  'img_url': 'https://dimg04.c-ctrip.com/images/1mj3s12000atjxjluA03C.png',\n",
       "  'design': '⭐ 제주도 여행 목차 슬라이드를 작성하겠습니다. 슬라이드의 주요 목적은 전체 프레젠테이션의 흐름을 명확히 전달하는 것입니다. 배경 이미지를 통해 제주도의 풍경을 시각적으로 표현해, 여행의 기대감을 높이고자 합니다. 텍스트는 다소 간결하고 읽기 쉽게 배치되어야 하며 숫자와 섹션 이름이 뚜렷이 드러나야 합니다.\\n\\n\\n사용할 이미지:\\n- https://dimg04.c-ctrip.com/images/1mj3s12000atjxjluA03C.png\\n  - 제주도의 아름다운 해안선과 자연 경관을 보여주는 이미지.\\n\\n\\n디자인 요소:\\n1. 제목 \"목차\"를 중앙 상단에 배치하여 주의를 끌게 합니다.\\n2. 배경 이미지가 슬라이드의 전체를 덮도록 배치되어, 시각적 몰입감을 제공합니다.\\n3. 각 목차 항목은 점 형태로 배치하고 번호와 제목을 굵게 표기합니다.\\n4. 목차 각 항목 사이에 적절한 간격을 두어 가독성을 높입니다.\\n5. 슬라이드의 우측 상단에서 출처를 언급하여 신뢰성을 부여합니다.\\n\\n\\n전체 스타일은 제주도의 자연을 반영하는 고요하고 청량한 톤을 사용하며, 본문 텍스트는 자연을 반영하는 부드러운 색조로 표현합니다. 목차가 직접적으로 눈에 띄도록 텍스트 배치에 집중하여 일목요연한 전달을 돕습니다.',\n",
       "  'html': '<!DOCTYPE html>\\n<html lang=\"ko\">\\n<head>\\n    <meta charset=\"UTF-8\">\\n    <meta name=\"viewport\" content=\"width=device-width, initial-scale=1.0\">\\n    <link href=\"https://fonts.googleapis.com/css2?family=Noto+Sans+KR:wght@400;700&display=swap\" rel=\"stylesheet\">\\n    <link href=\"https://cdnjs.cloudflare.com/ajax/libs/tailwindcss/2.2.19/tailwind.min.css\" rel=\"stylesheet\">\\n    <style>\\n        body, html { margin: 0; padding: 0; height: 100%; }\\n        .slide-container { display: flex; flex-direction: row; width: 1280px; height: 720px; }\\n        .text-left { width: 50%; padding: 40px; background-color: #f9f9f9; }\\n        .image-right { position: relative; width: 50%; overflow: hidden; }\\n        .image-right img { position: absolute; top: 0; left: 0; width: 100%; height: 100%; object-fit: cover; }\\n        .title { font-size: 40px; font-weight: 700; color: #222; }\\n        .swiss-accent { width: 80px; height: 3px; background-color: #cc0000; margin-top: 5px; margin-bottom: 20px; }\\n        .content-box { margin-bottom: 20px; padding: 10px 0; border-left: 4px solid #cc0000; }\\n        .toc-number { color: #cc0000; font-weight: 700; }\\n        .caption { position: absolute; bottom: 0; left: 0; width: 100%; padding: 10px; background-color: rgba(0, 0, 0, 0.5); color: white; font-size: 14px; text-align: right; }\\n    </style>\\n    <title>제주도 여행 목차</title>\\n</head>\\n<body>\\n<div class=\"slide-container\">\\n    <div class=\"text-left\">\\n        <div class=\"title\">목차</div>\\n        <div class=\"swiss-accent\"></div>\\n        <div class=\"content-box\">\\n            <span class=\"toc-number\">2.</span> 제주도 추천 여행지\\n        </div>\\n        <div class=\"content-box\">\\n            <span class=\"toc-number\">3.</span> 제주도의 맛\\n        </div>\\n        <div class=\"content-box\">\\n            <span class=\"toc-number\">4.</span> 제주도 교통 및 여행 팁\\n        </div>\\n        <div class=\"content-box\">\\n            <span class=\"toc-number\">5.</span> 제주도 숙박 시설 정보\\n        </div>\\n        <div class=\"content-box\">\\n            <span class=\"toc-number\">6.</span> 제주도 여행 일정 및 코스\\n        </div>\\n    </div>\\n    <div class=\"image-right\">\\n        <img src=\"https://dimg04.c-ctrip.com/images/1mj3s12000atjxjluA03C.png\" alt=\"제주도의 아름다운 해안선\">\\n        <div class=\"caption\">Image Source: C-Trip</div>\\n    </div>\\n</div>\\n</body>\\n</html>',\n",
       "  'width': 1280,\n",
       "  'height': 720},\n",
       " {'topic': '제주도 인기 추천 명소',\n",
       "  'idx': 2,\n",
       "  'name': '제주도 추천 여행지',\n",
       "  'description': '이 섹션에서는 제주도의 대표적인 여행 명소와 해당 명소의 매력을 소개합니다. 성산일출봉, 서귀포의 중문관광단지, 협재해수욕장 등 주목할 만한 명소를 포함하며, 각 지역의 대표적인 관광지의 매력을 살펴봅니다.',\n",
       "  'research': True,\n",
       "  'content': \"## 제주도 추천 여행지\\n\\n제주도는 수많은 매력적인 관광 명소로 가득하며 그중에서 성산일출봉, 서귀포의 중문관광단지, 협재해수욕장은 꼭 방문해야 할 곳으로 꼽힙니다.\\n\\n성산일출봉은 제주도 동부에 위치한 고대 화산지형으로, 약 5,000년 전 형성된 화산암층입니다. '일출봉'이라는 이름처럼 일출을 감상하기에 최적의 장소로, 정상에서 바라보는 일출 풍경은 그야말로 장관입니다. 또한, 유네스코 세계유산으로 지정되어 있어 자연의 경이로움을 직접 체험할 수 있습니다[1][2].\\n\\n서귀포의 중문관광단지는 다양한 볼거리와 체험 거리로 가득한 관광 명소입니다. 이곳에는 고급 호텔과 함께 테디베어 박물관, 예미지 식물원, 천제연 폭포 등의 다양한 문화 및 자연 관광지가 자리 잡고 있습니다. 중문해변은 해양 스포츠를 즐기기에 적합하며, 주변의 열대 식물원에서는 평화로운 산책을 즐길 수 있습니다[3][4].\\n\\n협재해수욕장은 서쪽 해안에 위치한 아름다운 해변으로, 흰 모래와 에메랄드 빛 바다로 유명합니다. 해변에서는 비양도를 배경으로 하는 일몰을 감상할 수 있으며, 근처의 한림공원과 협재굴 등의 관광지를 함께 탐방할 수 있습니다. 이곳은 가족 단위 여행객들에게 특히 인기가 높습니다[5][6].\\n\\n이처럼 제주도의 대표적인 명소들은 각각 고유한 매력으로 여행자들을 사로잡고 있으며, 자연과 문화의 조화로운 경험을 선사합니다.\\n\\n### Sources\\n1. [Seongsan Ilchulbong Sunrise Peak](https://english.visitkorea.or.kr/svc/whereToGo/locIntrdn/rgnContentsView.do?vcontsId=110731)\\n2. [Jeju Road Trip Itinerary Day 4: Sunrise Peak Seongsan Ilchulbong](https://www.mytravelbuzzg.com/jeju-road-trip-itinerary-day-4-seongsan-ilchulbong-sunrise/)\\n3. [Jungmun Tourist Complex](https://english.visitkorea.or.kr/svc/contents/contentsView.do?vcontsId=110912)\\n4. [Visit Jungmun Tourism Complex - Seogwipo](https://www.expedia.co.kr/en/Jungmun-Tourism-Complex.dx6335574)\\n5. [Hyeopjae Beach](https://m.visitjeju.net/en/detail/view?contentsid=CONT_000000000500697)\\n6. [Hyeopjae Beach Tours - Book Now | Expedia](https://www.expedia.co.kr/en/Hyeopjae-Beach-Hallim.d6119674.Vacation-Attraction)\",\n",
       "  'img_url': 'https://upload.wikimedia.org/wikipedia/commons/6/61/Seongsan_Ilchulbong_from_the_air.jpg',\n",
       "  'design': '\\\\n⭐ 제주도 추천 여행지 섹션의 슬라이드를 작성하겠습니다.\\\\n- 이 슬라이드는 제주도의 주요 관광지인 성산일출봉, 서귀포의 중문관광단지, 협재해수욕장을 시각적으로 소개합니다. 각 명소의 그림을 배경으로 하여 자연의 아름다움을 강조하며, 명소의 특징과 매력을 간단한 텍스트로 설명합니다. 텍스트는 중앙에 배치하고, 이미지는 배경으로 넓게 사용하여 제주도의 생생함을 전달합니다.\\\\n\\\\n`사용할 이미지:`  \\\\n- https://upload.wikimedia.org/wikipedia/commons/6/61/Seongsan_Ilchulbong_from_the_air.jpg : 성산일출봉의 공중 촬영\\\\n\\\\n`디자인 요소:`  \\\\n1. 배경 이미지를 전체에 깔아 자연의 경이로움을 강조합니다. \\\\n2. 중앙에 텍스트 박스를 배치하여 명소의 장점을 한눈에 볼 수 있도록 합니다. \\\\n3. 각 명소의 이름은 굵은 글씨로, 설명은 일반 서체로 대비를 줍니다. \\\\n4. 중간중간 짧은 설명과 함께 키워드를 부각시켜 흥미를 높입니다. \\\\n5. 색상은 자연의 색상을 반영하여, 초록과 파란색 중심으로 진행합니다. \\\\n\\\\n마무리 문단  \\\\n- 이 슬라이드는 간결한 디자인과 함께 초록과 파란색을 중심으로 하여 제주도의 자연경관을 연출합니다. 각 명소의 아름다움을 강렬히 느낄 수 있도록 이미지 중심 디자인을 선택하여 여행의 기대감을 높입니다.',\n",
       "  'html': '<!DOCTYPE html>\\n<html lang=\"ko\">\\n<head>\\n    <meta charset=\"UTF-8\">\\n    <meta name=\"viewport\" content=\"width=device-width, initial-scale=1.0\">\\n    <link href=\"https://cdn.jsdelivr.net/npm/tailwindcss@2.2.19/dist/tailwind.min.css\" rel=\"stylesheet\">\\n    <style>\\n        @import url(\\'https://fonts.googleapis.com/css2?family=Noto+Sans+KR:wght@400;700&display=swap\\');\\n\\n        body, html {\\n            margin: 0;\\n            padding: 0;\\n            font-family: \\'Noto Sans KR\\', sans-serif;\\n            background-color: #f9f9f9;\\n        }\\n\\n        .slide-container {\\n            width: 1280px;\\n            height: 720px;\\n            display: flex;\\n            overflow: hidden;\\n        }\\n\\n        .text-left {\\n            width: 50%;\\n            padding: 40px;\\n            background-color: #ffffff;\\n        }\\n\\n        .image-right {\\n            width: 50%;\\n            position: relative;\\n            overflow: hidden;\\n        }\\n\\n        .image-right img {\\n            position: absolute;\\n            top: 0;\\n            left: 0;\\n            width: 100%;\\n            height: 100%;\\n            object-fit: cover;\\n        }\\n\\n        .title {\\n            font-size: 36px;\\n            font-weight: bold;\\n            color: #222222;\\n        }\\n\\n        .subtitle {\\n            font-size: 24px;\\n            margin-top: 10px;\\n            color: #cc0000;\\n        }\\n\\n        .content-box {\\n            border-left: 4px solid #ff0000;\\n            padding-left: 20px;\\n            margin-top: 30px;\\n            color: #222222;\\n        }\\n\\n        .info {\\n            font-size: 18px;\\n            line-height: 1.4;\\n        }\\n\\n    </style>\\n</head>\\n<body>\\n<div class=\"slide-container\">\\n    <div class=\"text-left\">\\n        <h1 class=\"title\">제주도 추천 여행지</h1>\\n        <div class=\"subtitle\">다양한 매력 넘치는 명소</div>\\n        <div class=\"content-box\">\\n            <div class=\"info\">\\n                <strong>성산일출봉</strong>: 제주도 동부의 고대 화산지형. 일출의 장관과 유네스코 세계유산.\\n            </div>\\n            <div class=\"info mt-4\">\\n                <strong>중문관광단지</strong>: 예미지 식물원, 천제연 폭포 등 다양한 자연 및 문화 관광지가 밀집.\\n            </div>\\n            <div class=\"info mt-4\">\\n                <strong>협재해수욕장</strong>: 흰 모래와 에메랄드 바다의 아름다움, 가족 여행객에게 인기.\\n            </div>\\n        </div>\\n    </div>\\n    <div class=\"image-right\">\\n        <img src=\"https://upload.wikimedia.org/wikipedia/commons/6/61/Seongsan_Ilchulbong_from_the_air.jpg\" alt=\"성산일출봉\">\\n    </div>\\n</div>\\n</body>\\n</html>',\n",
       "  'width': 1280,\n",
       "  'height': 720},\n",
       " {'topic': '제주도의 전통 음식',\n",
       "  'idx': 3,\n",
       "  'name': '제주도의 맛',\n",
       "  'description': '제주도에서 시도할 만한 대표 음식을 소개합니다. 흑돼지, 갈치조림, 오메기떡 등 독특한 제주도 미식 체험에 대한 정보를 제공합니다.',\n",
       "  'research': True,\n",
       "  'content': '## 제주도의 맛\\n\\n제주도는 독특하고 다양한 전통 음식으로 여행객들에게 특별한 미식 경험을 제공합니다. 그중에서도 꼭 시도해볼 만한 대표 음식은 바로 제주 흑돼지, 갈치조림, 오메기떡입니다.\\n\\n제주 흑돼지는 식도락가들에게 반드시 맛봐야 할 음식으로 손꼽힙니다. 흑돼지는 제주도에서 자라난 특별한 품종으로 풍부한 맛과 부드러운 식감을 자랑합니다. 특히 제주에 형성된 흑돼지 거리에서는 수많은 식당이 바비큐 흑돼지를 제공합니다. 이곳에서 맛보는 흑돼지는 그 뛰어난 풍미와 육질로 유명하며, 대부분의 관광객은 제주도 방문 시 꼭 한 번 맛볼 것을 추천합니다[1][2].\\n\\n갈치조림은 제주 특산물인 은갈치를 사용하여 끓여낸 매콤한 찜 요리입니다. 제주도의 신선한 갈치와 다양한 채소를 특제 양념에 조리한 갈치조림은 깊은 맛과 풍부한 향으로 많은 사람들에게 사랑받고 있습니다. 특히 제주도를 방문하면 다양한 음식점에서 갈치조림을 쉽게 찾아볼 수 있습니다. 갈치조림을 맛보는 것은 제주 여행의 재미를 더하는 요소로 작용합니다[3][4].\\n\\n마지막으로 오메기떡은 제주 전통 떡으로 제주 지역에서 생산되는 여러 가지 재료를 사용하여 만들어지며, 특히 제주산 차조와 쑥을 이용한 고유의 맛과 향이 있습니다. 오메기떡은 다양한 향신료와 붉은 팥을 푸짐하게 넣어 완성됩니다. 이 떡은 차와 매우 잘 어울리며 간식으로 즐겨 먹히고, 제주를 방문한 기념품으로도 인기가 높습니다[5][6].\\n\\n제주도에서 이 세 가지 대표 음식을 맛본다면, 독특한 제주 미식 경험을 제대로 즐길 수 있을 것입니다.\\n\\n### Sources\\n[1] Jeju Black Pork Korean BBQ: URL\\n[2] Local Taste (Jeju Black Pork): URL\\n[3] Galchi Jorim (Jeju Cutlassfish Stew): URL\\n[4] Trying Cutlassfish on Jeju: URL\\n[5] Jeju Traditional Omegi Rice Cake: URL\\n[6] Omegi-tteok (Korean Rice Cake): URL',\n",
       "  'img_url': 'https://upload.wikimedia.org/wikipedia/commons/0/0a/Jeju_Black_Pig.jpg',\n",
       "  'design': '⭐ … 슬라이드를 작성하겠습니다.\\n - 이번 슬라이드는 ‘제주도의 맛’이라는 제목 아래 제주도의 대표 음식을 소개하는 목적으로 설계됩니다.\\n - 슬라이드의 배경은 제주도를 상징하는 자연 경관 사진으로 채워, 현지의 분위기를 더욱 느끼게 할 것입니다.\\n - 중앙에 큰 글씨로 \"제주도의 맛\"이란 제목이 적혀 있으며, 중요하게 소개할 음식 이름들이 그 주위를 감쌉니다.\\n - 텍스트는 슬라이드 왼편에서 오른편으로 자연스럽게 흐르게 배치되며, 각 음식에 대한 정보는 간결하고 명확하게 전달됩니다.\\n\\n사용할 이미지:\\n- https://upload.wikimedia.org/wikipedia/commons/0/0a/Jeju_Black_Pig.jpg: 제주 흑돼지 이미지 - 제주도를 대표하는 음식인 흑돼지의 생생한 이미지를 함께 사용합니다.\\n\\n디자인 요소:\\n1. 배경: 제주도의 자연 경관 이미지를 활용하여 제주도의 분위기를 살립니다.\\n2. 제목 폰트: 손글씨 스타일의 폰트를 사용하여 전통적이고 따뜻한 느낌을 강조합니다.\\n3. 텍스트 박스: 음식 이름과 설명을 담을 때 투명한 배경의 텍스트 박스를 사용해 자연 경관 이미지와 자연스럽게 융합되도록 합니다.\\n4. 컬러 팔레트: 자연적이고 편안한 색조를 활용, 초록색과 갈색 계열의 포인트 컬러로 제주도의 자연을 상징화합니다.\\n\\n전체 슬라이드는 제주도의 전통 미식과 자연을 조화롭게 강조하고자 합니다. 자연 경관 배경과 조화된 따뜻하고 친근한 컬러와 폰트를 선택하여 시각적으로 매력적이면서도 정보 전달이 명확하게 진행되도록 설계합니다.',\n",
       "  'html': '<!DOCTYPE html>\\n<html lang=\"ko\">\\n<head>\\n    <meta charset=\"UTF-8\">\\n    <meta name=\"viewport\" content=\"width=device-width, initial-scale=1.0\">\\n    <title>제주도의 맛 슬라이드</title>\\n    <link href=\"https://cdn.jsdelivr.net/npm/tailwindcss@2.2.19/dist/tailwind.min.css\" rel=\"stylesheet\">\\n    <style>\\n        .slide-container {\\n            display: flex;\\n            width: 1280px !important;\\n            height: 720px !important;\\n            min-width: 1280px;\\n            min-height: 720px;\\n            max-width: 1280px;\\n            max-height: 720px;\\n            background-color: #f8f9fa;\\n        }\\n        .text-left {\\n            width: 50%;\\n            padding: 20px;\\n            overflow: hidden;\\n        }\\n        .image-right {\\n            width: 50%;\\n            overflow: hidden;\\n            position: relative;\\n        }\\n        .image-right img {\\n            position: absolute;\\n            top: 0;\\n            left: 0;\\n            width: 100%;\\n            height: 100%;\\n            object-fit: cover;\\n        }\\n        .content-box {\\n            background-color: #ffffff;\\n            border-left: 4px solid #ff0000;\\n            padding: 20px;\\n            margin-bottom: 20px;\\n        }\\n        .title {\\n            font-size: 36px;\\n            font-weight: bold;\\n            color: #222222;\\n        }\\n        .swiss-accent {\\n            width: 50px;\\n            height: 2px;\\n            background-color: #cc0000;\\n            margin-top: 10px;\\n        }\\n        .section-title {\\n            font-size: 24px;\\n            color: #cc0000;\\n            margin-bottom: 10px;\\n        }\\n        .section-description {\\n            font-size: 18px;\\n            color: #555555;\\n        }\\n    </style>\\n    <link href=\"https://fonts.googleapis.com/css2?family=Noto+Sans+KR:wght@400;700&display=swap\" rel=\"stylesheet\">\\n</head>\\n<body class=\"flex items-center justify-center\">\\n    <div class=\"slide-container\">\\n        <div class=\"text-left\">\\n            <div class=\"title\">제주도의 맛</div>\\n            <div class=\"swiss-accent\"></div>\\n            <div class=\"content-box\">\\n                <div class=\"section-title\">제주 흑돼지</div>\\n                <div class=\"section-description\">제주도 특산품인 흑돼지는 부드러운 식감과 풍부한 맛으로 유명합니다. 관광객들이 반드시 맛봐야 할 제주도의 대표 요리입니다.</div>\\n            </div>\\n            <div class=\"content-box\">\\n                <div class=\"section-title\">갈치조림</div>\\n                <div class=\"section-description\">신선한 은갈치에 야채와 특제 양념을 더한 매콤한 찜 요리로, 제주에서만 맛볼 수 있는 별미입니다.</div>\\n            </div>\\n            <div class=\"content-box\">\\n                <div class=\"section-title\">오메기떡</div>\\n                <div class=\"section-description\">차조와 쑥을 이용하여 만든 제주 전통 떡으로, 향신료와 붉은 팥이 더해져 독특한 맛을 자아냅니다.</div>\\n            </div>\\n        </div>\\n        <div class=\"image-right\">\\n            <img src=\"https://upload.wikimedia.org/wikipedia/commons/0/0a/Jeju_Black_Pig.jpg\" alt=\"제주 흑돼지\">\\n        </div>\\n    </div>\\n</body>\\n</html>',\n",
       "  'width': 1280,\n",
       "  'height': 720},\n",
       " {'topic': '제주도 교통 및 여행 팁',\n",
       "  'idx': 4,\n",
       "  'name': '제주도 교통 및 여행 팁',\n",
       "  'description': '제주도 여행 시 유용한 교통 정보와 여행 팁을 공유합니다. 대중교통 이용 방법, 렌터카 추천, 교통카드 사용법 등을 다룹니다.',\n",
       "  'research': True,\n",
       "  'content': '## 제주도 교통 및 여행 팁\\n\\n제주도는 다양한 자연 경관과 독특한 문화유산으로 유명한 여행지로, 효율적인 교통 수단이 여행 경험의 질을 좌우합니다. 다양한 교통 수단 중에서도 대중교통 이용과 렌터카 대여는 제주도를 살펴볼 때 많은 이점이 있습니다.\\n\\n제주도의 대중교통은 주로 버스에 의존하고 있습니다. 주요 도시 간에는 간선버스와 급행버스 노선이 잘 발달되어 있습니다. 간선버스는 청록색으로 도시 중심부를 비롯한 주요 목적지에 정차하고, 빨간색의 급행버스는 보다 넓은 구간을 빠르게 이동할 때 유리합니다 [1]. 많은 정류장에 정차하는 간선버스의 요금은 거리 비례제로 책정되어 있으며 현금 혹은 교통카드를 사용해 탑승할 수 있습니다[1][2].\\n\\n또한, 제주도 내 대중교통 이용을 위해서는 T-money나 Cashbee와 같은 교통카드 사용이 가능합니다. 이러한 카드는 대부분의 편의점에서 구입할 수 있으며, 교통카드 기능을 추가한 신용카드를 이용하여 간편하게 결제할 수 있습니다[2][3]. 최근에는 QR 코드 결제 시스템도 도입되어, 더 쉽게 이용할 수 있는 방법도 추가되었습니다[6].\\n\\n자동차를 임대하여 섬을 둘러보려는 여행객은 Lotte Rent-A-Car와 같은 업체를 이용하는 것이 유리합니다. 이 업체들은 제주공항 근처에 위치하고 있으며, 무료 셔틀 서비스도 제공합니다[1]. 자동차 여행은 특히 외딴 해변이나 자연경관을 탐험하고자 할 때 유리합니다[9]. 렌터카를 이용할 경우 국제 운전면허증이 필요합니다[12].\\n\\n전반적으로, 제주도의 교통은 계획적인 여행 준비와 약간의 조사만으로도 충분히 탐색이 가능합니다. 대중교통을 선호하신다면 다양한 버스 노선을 활용할 수 있고, 더 개인적인 이동이 필요하다면 차량 대여도 현명한 선택이 될 수 있습니다.### Sources\\n[1] 제주 버스 완전 정복 - 트리플: https://triple.guide/articles/807eabdb-8795-4e98-bc20-71b660b420ee\\n[2] 제주버스 이용안내: http://dev.sumeng.kr:9001/jejuBusInfo\\n[3] \"제주특별자치도 시내버스 - 나무위키\": https://namu.wiki/w/%EC%A0%9C%EC%A3%BC%ED%8A%B9%EB%B3%84%EC%9E%90%EC%B9%98%EB%8F%84%20%EC%8B%9C%EB%82%B4%EB%B2%84%EC%8A%A4\\n[6] 제주, \\'뚜벅이 관광객\\' 위한 버스 이용정보 숏츠 영상 화제 - headlinejeju: https://www.headlinejeju.co.kr/news/articleView.html?idxno=575613\\n[12] Car Rental Jeju Island: https://www.kayak.com/car-rental/jeju-island',\n",
       "  'img_url': 'https://api.cdn.visitjeju.net/photomng/imgpath/202112/29/4d841c8c-b24c-4a09-be2b-26e90428d9f5.jpg',\n",
       "  'design': \"⭐ 제주도 교통 및 여행 팁 슬라이드를 작성하겠습니다. 이 슬라이드는 제주도 여행의 교통 정보를 전달하기 위해 요약된 정보를 제공합니다. 배경에는 제주도 이미지를 넣어 여행의 느낌을 강조합니다. 본문은 두 개의 주제, 즉 대중교통과 렌터카 정보를 포함합니다.\\n\\n사용할 이미지:\\n- https://api.cdn.visitjeju.net/photomng/imgpath/202112/29/4d841c8c-b24c-4a09-be2b-26e90428d9f5.jpg (제주의 아름다운 경관을 보여주는 이미지)\\n\\n디자인 요소:\\n1. 제목 섹션: '제주도 교통 및 여행 팁' 제목은 화면 상단 중앙에 크게 배치합니다.\\n2. 본문 섹션: 대중교통과 렌터카 정보를 두 개의 열로 나누어 제시합니다. 각 열에는 해당 주제에 대한 세부 정보를 간결하게 정리합니다.\\n3. 나타내는 정보: 버스 이용 팁, 교통카드 사용법 그리고 렌터카 이용 전략에 관한 핵심 포인트를 개조식으로 나열합니다.\\n4. 컬러 코드: 제주도의 자연과 잘 어울리는 파란색과 초록색 계열을 사용하여 디자인의 일관성과 휴양지의 이미지를 유지합니다.\\n\\n이 마무리 문단에서는 슬라이드가 시각적으로 매력적이면서 정보 전달이 효율적이도록 진행합니다. 색상 선택은 시원하고 편안하며, 텍스트는 명확하고 읽기 쉽게 배치합니다.\",\n",
       "  'html': '<!DOCTYPE html>\\n<html lang=\"ko\">\\n<head>\\n    <meta charset=\"UTF-8\">\\n    <meta name=\"viewport\" content=\"width=device-width, initial-scale=1.0\">\\n    <title>제주도 교통 및 여행 팁</title>\\n    <link href=\"https://stackpath.bootstrapcdn.com/tailwindcss/2.2.19/tailwind.min.css\" rel=\"stylesheet\">\\n    <style>\\n        body { margin: 0; font-family: \\'Noto Sans KR\\', sans-serif; }\\n        .slide-container { display: flex; width: 1280px; height: 720px; }\\n        .slide-content { width: 50%; padding: 30px; box-sizing: border-box; }\\n        .image-right { width: 50%; position: relative; overflow: hidden; }\\n        .image-right img { position: absolute; top: 0; left: 0; width: 100%; height: 100%; object-fit: cover; }\\n        .title { font-size: 40px; font-weight: bold; color: #222222; }\\n        .swiss-accent { margin-top: 5px; width: 60px; height: 5px; background-color: #cc0000; }\\n        .content-box { background-color: #f8f9fa; border-left: 4px solid #cc0000; padding: 20px; margin-top: 20px; }\\n        .info-text { font-size: 18px; color: #222222; }\\n        .info-icon { content: \"• \"; color: #cc0000; }\\n    </style>\\n</head>\\n<body>\\n    <div class=\"slide-container\">\\n        <!-- Left Side Content -->\\n        <div class=\"slide-content\">\\n            <!-- Title -->\\n            <div class=\"title\">제주도 교통 및 여행 팁</div>\\n            <div class=\"swiss-accent\"></div>\\n            <!-- Content Section: Public Transportation & Rent-a-car -->\\n            <!-- Public Transportation -->\\n            <div class=\"content-box\">\\n                <div class=\"info-text\">\\n                    <span class=\"info-icon\"></span>제주도의 대중교통 주로 버스에 의존\\n                </div>\\n                <div class=\"info-text\">\\n                    <span class=\"info-icon\"></span>T-money 및 Cashbee 교통카드 사용 가능\\n                </div>\\n                <div class=\"info-text\">\\n                    <span class=\"info-icon\"></span>QR 코드 결제 시스템 사용 가능\\n                </div>\\n            </div>\\n            <!-- Rent-a-car -->\\n            <div class=\"content-box\">\\n                <div class=\"info-text\">\\n                    <span class=\"info-icon\"></span>Lotte Rent-A-Car, 제주공항 근처 위치\\n                </div>\\n                <div class=\"info-text\">\\n                    <span class=\"info-icon\"></span>무료 셔틀 서비스 제공\\n                </div>\\n                <div class=\"info-text\">\\n                    <span class=\"info-icon\"></span>국제 운전면허증 필요\\n                </div>\\n            </div>\\n        </div>\\n        <!-- Right Side Image -->\\n        <div class=\"image-right\">\\n            <img src=\"https://api.cdn.visitjeju.net/photomng/imgpath/202112/29/4d841c8c-b24c-4a09-be2b-26e90428d9f5.jpg\" alt=\"제주의 아름다운 경관\">\\n        </div>\\n    </div>\\n</body>\\n</html>',\n",
       "  'width': 1280,\n",
       "  'height': 720},\n",
       " {'topic': '제주도 숙박 시설',\n",
       "  'idx': 5,\n",
       "  'name': '제주도 숙박 시설 정보',\n",
       "  'description': '제주도의 다양한 숙박 옵션에 대해 소개합니다. 호텔, 펜션, 게스트하우스 등 다양한 선택지와 그 특징 및 가격 범위를 설명합니다.',\n",
       "  'research': True,\n",
       "  'content': \"## 제주도 숙박 시설 정보\\n\\n제주도는 다양한 숙박 시설을 보유하고 있어 여행자의 다양한 요구를 충족시킬 수 있는 선택지를 제공합니다. 제주도의 숙박 시설은 주로 호텔, 펜션, 게스트하우스 등으로 나뉘며, 각기 다른 매력을 발산하고 있습니다.\\n\\n**호텔 옵션**: 제주도 내 호텔은 고급스러운 서비스와 편의 시설을 제공하는 것으로 잘 알려져 있습니다. 주요 호텔로는 그랜드 하얏트 제주, 파르나스 호텔 제주, 그리고 롯데 시티 호텔 등이 있습니다. 특히 제주 국제공항 근처에 위치한 ‘롯데 시티 호텔 제주’는 현대적인 숙박 시설 제공과 함께 주요 관광 명소에의 접근성이 좋아 인기가 높습니다[1][2][3][4].\\n\\n반면, 제주도의 펜션은 주로 작은 규모로 개인적이고 아늑한 분위기를 제공하므로, 가족 단위 여행이나 조용한 휴식을 원하는 여행객들에게 추천되는 숙박 옵션입니다. 예를 들어, 'Aewol Oceanstay'와 같은 펜션은 해변과 가까운 접근성을 자랑하며, 가족, 커플 관광객들에게 인기가 높습니다[5][6]. 제주도 게스트하우스도 풍부하게 위치해 있으며, 이들 숙소는 일반적으로 경제적인 가격이 강점입니다. 제주 시내에서 평균적인 3성급 호텔의 1박 가격이 약 72,500원이며, 5성급 호텔의 경우 약 180,000원 정도로 다양합니다[1][2].\\n\\n제주의 숙박시설은 가격대와 스타일에 따라 다양한 선택지를 제공하므로 여행 형태나 예산에 맞추어 적합한 숙박 장소를 선택할 수 있는 장점을 지닙니다.\\n\\n### Sources\\n[1] [Booking.com](https://www.booking.com/guest-house/city/kr/saektal-tong.ko.html)  \\n[2] '제주도 게스트하우스' 숙소, 호텔, 펜션 특가 예약 - 여기어때: https://www.yeogi.com/domestic-accommodations?keyword=%EC%A0%9C%EC%A3%BC%EB%8F%84%20%EA%B2%8C%EC%8A%A4%ED%8A%B8%ED%95%98%EC%9A%B0%EC%8A%A4  \\n[3] Grand Hyatt Jeju I Jeju Dream Tower Integrated Resort: https://www.hyatt.com/grand-hyatt/en-US/cjugh-grand-hyatt-jeju  \\n[4] LOTTE City Hotel Jeju | Convenient Stay Near Jeju Airport: https://www.lottehotel.com/jeju-city/en  \",\n",
       "  'img_url': 'https://dynamic-media-cdn.tripadvisor.com/media/photo-o/11/cf/aa/f8/caption.jpg?w=1200&h=-1&s=1',\n",
       "  'design': \"⭐ 제주도 숙박 시설 정보 슬라이드를 작성하겠습니다. 이 슬라이드는 제주도의 다양한 숙박 옵션을 설명하며, 호텔, 펜션 및 게스트하우스의 특징과 가격 범위를 다룹니다. 배경에는 제주도의 아름다운 자연 풍경 사진을 사용하고, 텍스트는 깔끔하게 배치하여 정보 전달이 용이하도록 디자인합니다.\\n\\n사용할 이미지:\\n- https://dynamic-media-cdn.tripadvisor.com/media/photo-o/11/cf/aa/f8/caption.jpg?w=1200&h=-1&s=1 - 제주도의 자연 풍경을 나타내는 이미지로, 전체적인 슬라이드 배경에 사용\\n\\n디자인 요소:\\n1. **타이틀 섹션**: '제주도 숙박 시설 정보'라는 제목을 굵은 글씨로 중앙에 배치합니다.\\n2. **텍스트 블록**: '제주도의 다양한 숙박 옵션에 대해 소개합니다...' 문단을 좌측 정렬로 배치하여 읽기 쉽게 합니다.\\n3. **이미지 섹션**: 배경 이미지에 반투명 레이어를 추가하여 텍스트 가독성을 높입니다.\\n4. **정보 포인트 박스**: 호텔, 펜션, 게스트하우스의 평균 가격을 간단한 포인트로 우측 하단에 배치합니다.\\n\\n이 슬라이드는 제주도의 다양한 숙박 옵션과 그 특징을 시각적으로 흥미롭게 전달하기 위해 자연 풍경을 적절히 배경으로 활용합니다. 텍스트는 부드러운 색감으로 조화롭게 맞추어 정보가 효과적으로 전달되도록 설계합니다.\",\n",
       "  'html': '<!DOCTYPE html>\\n<html lang=\"ko\">\\n<head>\\n    <meta charset=\"UTF-8\">\\n    <meta name=\"viewport\" content=\"width=device-width, initial-scale=1.0\">\\n    <link href=\"https://cdn.jsdelivr.net/npm/tailwindcss@2.2.19/dist/tailwind.min.css\" rel=\"stylesheet\">\\n    <link href=\"https://fonts.googleapis.com/css2?family=Noto+Sans+KR:wght@400;700&display=swap\" rel=\"stylesheet\">\\n    <style>\\n        body, html {\\n            margin: 0;\\n            padding: 0;\\n            font-family: \\'Noto Sans KR\\', sans-serif;\\n            height: 720px;\\n            width: 1280px;\\n        }\\n        .slide-container {\\n            display: flex;\\n            width: 1280px;\\n            height: 720px;\\n        }\\n        .text-left, .image-right {\\n            height: 100%;\\n            overflow: hidden;\\n        }\\n        .text-left {\\n            width: 50%;\\n            background-color: #f8f9fa;\\n            padding: 30px;\\n            box-sizing: border-box;\\n            display: flex;\\n            flex-direction: column;\\n            justify-content: center;\\n        }\\n        .image-right {\\n            position: relative;\\n            width: 50%;\\n        }\\n        .image-right img {\\n            position: absolute;\\n            top: 0;\\n            left: 0;\\n            width: 100%;\\n            height: 100%;\\n            object-fit: cover;\\n        }\\n        .title {\\n            font-size: 36px;\\n            font-weight: bold;\\n            color: #222222;\\n        }\\n        .swiss-accent {\\n            width: 50px;\\n            height: 4px;\\n            background-color: #cc0000;\\n            margin-top: 10px;\\n            margin-bottom: 20px;\\n        }\\n        .content-box {\\n            border-left: 4px solid #cc0000;\\n            padding-left: 20px;\\n            margin-bottom: 20px;\\n        }\\n        .info-icon {\\n            width: 10px;\\n            height: 10px;\\n            background-color: #cc0000;\\n            border-radius: 50%;\\n            display: inline-block;\\n            margin-right: 10px;\\n        }\\n    </style>\\n    <title>제주도 숙박 시설 정보</title>\\n</head>\\n<body>\\n    <div class=\"slide-container\">\\n        <div class=\"text-left\">\\n            <div class=\"title\">\\n                제주도 숙박 시설 정보\\n                <div class=\"swiss-accent\"></div>\\n            </div>\\n            <div class=\"content-box\">\\n                <p>제주도의 다양한 숙박 옵션에 대해 소개합니다. 제주도는 호텔, 펜션, 게스트하우스로 구성되어 있으며 각기 다른 매력을 가진 숙박 시설을 제공합니다.</p>\\n            </div>\\n            <div class=\"content-box\">\\n                <div><span class=\"info-icon\"></span> 호텔 평균 가격: 약 72,500원 (3성급) ~ 180,000원 (5성급)</div>\\n                <div><span class=\"info-icon\"></span> 아늑한 펜션: 가족과 커플에게 추천</div>\\n                <div><span class=\"info-icon\"></span> 경제적인 게스트하우스: 다양한 위치에 존재</div>\\n            </div>\\n        </div>\\n        <div class=\"image-right\">\\n            <img src=\"https://dynamic-media-cdn.tripadvisor.com/media/photo-o/11/cf/aa/f8/caption.jpg?w=1200&h=-1&s=1\" alt=\"제주도 자연 풍경\">\\n        </div>\\n    </div>\\n</body>\\n</html>',\n",
       "  'width': 1280,\n",
       "  'height': 720},\n",
       " {'topic': '제주도 여행 일정',\n",
       "  'idx': 6,\n",
       "  'name': '제주도 여행 일정 및 코스',\n",
       "  'description': '효율적인 제주도 여행을 위한 일정을 제안합니다. 2박 3일, 3박 4일 등 기간별 추천 일정을 포함하여 여행객의 선호에 맞춘 코스를 제공합니다.',\n",
       "  'research': True,\n",
       "  'content': '## 제주도 여행 일정 및 코스\\n\\n### 2박 3일 일정\\n\\n제주도의 2박 3일 여행 코스는 첫날 북쪽 지역을 탐방하는 데 초점을 맞춥니다. 도착 후에는 제주 공항 근처에 위치한 용두암을 방문하며 시작합니다. 그 후 제주 시내를 거쳐 동문시장에서 다양한 제주 특산물을 즐기고, 가까운 해변을 둘러볼 수 있습니다. 두 번째 날은 섬 동쪽으로 이동해 만장굴과 성산일출봉을 탐방합니다. 이 두 장소는 각각 자연경관과 일출로 유명합니다. 저녁에는 성산 일대의 로컬 식당에서 저녁 식사를 즐길 수 있습니다. 마지막 날에는 제주 시내로 돌아와 도두무지개해안을 방문하여 색색의 타일 블록을 즐기며 시간을 보낼 수 있습니다[1].\\n\\n### 3박 4일 일정\\n\\n3박 4일 일정에서는 조금 더 깊이 있는 제주 탐방이 가능합니다. 첫날과 두 번째 날은 2박 3일 일정과 유사하게 진행할 수 있지만, 여유로운 저녁 시간을 통해 현지 카페나 술집을 방문하는 것을 추천합니다. 세 번째 날은 서쪽 지역 탐방을 하며, 협재 해수욕장과 오설록 티 뮤지엄을 방문합니다. 오설록 티 뮤지엄에서는 다양한 차를 시음하며 휴식을 즐길 수 있습니다[2]. 마지막 날은 남쪽 지역으로 이동하여 천제연 폭포를 방문하고, 내려오는 길에 충분한 여유를 가지고 느긋하게 일정을 마무리합니다[3].\\n\\n이처럼 제주도의 여행은 다양한 일정과 코스를 통해 개인의 취향에 따라 맞출 수 있습니다. 특히 제주도는 자연 경관과 문화적 명소가 풍부하여 일정에 따라 다양한 경험을 할 수 있습니다. 본 여행 코스는 유명한 명소뿐 아니라 새롭게 부상하는 장소들까지 고려하여 짜여졌기에 잊지 못할 추억을 만들기에 충분합니다.\\n\\n### Sources\\n1. [제주도 2박 3일 일정 및 명소](https://blog.naver.com/poketeva/223185178126)\\n2. [제주도 3박 4일 일정 및 추천 명소](https://kr.trip.com/hot/travel-itinerary/3%EB%B0%95+4%EC%9D%BC+%EC%A0%9C%EC%A3%BC+%EC%97%AC%ED%96%89+%EC%9D%BC%EC%A0%95.html)\\n3. [제주도 여행 코스와 일정 추천](https://halyourtravelpal.com/jeju-itinerary/)',\n",
       "  'img_url': 'https://allways.kg-mobility.com/wp-content/uploads/2017/07/%E1%84%8C%E1%85%A6%E1%84%8C%E1%85%AE%E1%84%8C%E1%85%B5%E1%84%83%E1%85%A9.jpg',\n",
       "  'design': '⭐ 제주도 여행 일정 슬라이드를 작성하겠습니다. 이 슬라이드는 여행자들에게 제주도 여행 일정 및 추천 코스를 효과적으로 전달하기 위한 목적으로 제작됩니다. 배경 이미지로는 제주도 특유의 아름다운 자연경관을 담은 사진을 삽입하며, 주요 일정 및 코스를 텍스트로 설명합니다. 배치는 간결하고 직관적이어야 하며, 여행의 목적지들을 강조하는 방식입니다. \\n\\n사용할 이미지:\\n- https://allways.kg-mobility.com/wp-content/uploads/2017/07/%E1%84%8C%E1%85%A6%E1%84%8C%E1%85%AE%E1%84%8C%E1%85%B5%E1%84%83%E1%85%A9.jpg — 제주도의 자연경관을 대표하는 이미지입니다.\\n\\n디자인 요소:\\n1. 타이틀 \"제주도 여행 일정\"을 상단 중앙에 배치하여 주제를 명확히 전달합니다.\\n2. 사용된 사진은 배경 전체를 덮거나 상단에 배치하여 시각적 매력을 극대화합니다.\\n3. 텍스트는 좌측 하단에 일정별로 구분된 상자 형태로 배치해 읽기 쉽도록 합니다.\\n4. 글씨체는 가독성이 높은 산세리프체를 사용하고, 제주도 특유의 청명한 색감을 반영한 블루나 그린 톤으로 꾸밉니다.\\n5. 로컬 장소를 강조하기 위해 각 지역 명소 옆에 작은 아이콘을 추가합니다.\\n\\n전체 스타일은 네이처 톤을 활용하여 제주도의 자연미를 전달하는 것이 핵심입니다. 시각적 효과와 정보를 균형 있게 전달하여 여행 계획을 구체적으로 제시하고자 합니다.',\n",
       "  'html': '<!DOCTYPE html>\\n<html lang=\"ko\">\\n<head>\\n    <meta charset=\"UTF-8\">\\n    <meta http-equiv=\"X-UA-Compatible\" content=\"IE=edge\">\\n    <meta name=\"viewport\" content=\"width=device-width, initial-scale=1.0\">\\n    <link href=\"https://cdnjs.cloudflare.com/ajax/libs/tailwindcss/2.2.19/tailwind.min.css\" rel=\"stylesheet\">\\n    <link href=\"https://fonts.googleapis.com/css2?family=Noto+Sans+KR:wght@400;700&display=swap\" rel=\"stylesheet\">\\n    <style>\\n        body { margin: 0; font-family: \\'Noto Sans KR\\', sans-serif; }\\n        .slide-container { width: 1280px; height: 720px; margin: auto; overflow: hidden; display: flex; }\\n        .text-left { flex: 1; padding: 40px; background-color: #f8f9fa; box-shadow: 0 4px 8px rgba(0,0,0,0.1); }\\n        .image-right { flex: 1; position: relative; overflow: hidden; }\\n        .image-right img { position: absolute; top: 0; left: 0; width: 100%; height: 100%; object-fit: cover; }\\n        .title { font-size: 32pt; color: #222; }\\n        .swiss-accent { height: 4px; background-color: #cc0000; width: 100px; margin-top: 8px; }\\n        .content-box { border-left: 4px solid #cc0000; padding-left: 16px; margin-top: 24px; background-color: #fff; }\\n        .info-icon { width: 6pt; height: 6pt; background-color: #cc0000; border-radius: 50%; display: inline-block; margin-right: 8px; }\\n    </style>\\n    <title>제주도 여행 일정</title>\\n</head>\\n<body>\\n    <div class=\"slide-container\">\\n        <div class=\"text-left\">\\n            <div class=\"title\">제주도 여행 일정</div>\\n            <div class=\"swiss-accent\"></div>\\n            <div class=\"content-box\">\\n                <div class=\"font-bold text-xl\">⭐ 2박 3일 일정</div>\\n                <div class=\"mt-4\">\\n                    <div class=\"flex items-center mb-2\">\\n                        <span class=\"info-icon\"></span>\\n                        <div>첫날 - 용두암 및 동문시장 탐방</div>\\n                    </div>\\n                    <div class=\"flex items-center mb-2\">\\n                        <span class=\"info-icon\"></span>\\n                        <div>둘째날 - 만장굴과 성산일출봉</div>\\n                    </div>\\n                    <div class=\"flex items-center mb-2\">\\n                        <span class=\"info-icon\"></span>\\n                        <div>셋째날 - 도두무지개해안 방문</div>\\n                    </div>\\n                </div>\\n                <div class=\"font-bold text-xl mt-6\">⭐ 3박 4일 일정</div>\\n                <div class=\"mt-4\">\\n                    <div class=\"flex items-center mb-2\">\\n                        <span class=\"info-icon\"></span>\\n                        <div>첫날 - 용두암 및 제주 시내 탐방</div>\\n                    </div>\\n                    <div class=\"flex items-center mb-2\">\\n                        <span class=\"info-icon\"></span>\\n                        <div>둘째날 - 성산 일대 저녁 시간</div>\\n                    </div>\\n                    <div class=\"flex items-center mb-2\">\\n                        <span class=\"info-icon\"></span>\\n                        <div>셋째날 - 협재 해수욕장 및 오설록 티 뮤지엄</div>\\n                    </div>\\n                    <div class=\"flex items-center mb-2\">\\n                        <span class=\"info-icon\"></span>\\n                        <div>넷째날 - 천제연 폭포</div>\\n                    </div>\\n                </div>\\n            </div>\\n        </div>\\n        <div class=\"image-right\">\\n            <img src=\"https://allways.kg-mobility.com/wp-content/uploads/2017/07/%E1%84%8C%E1%85%A6%E1%84%8C%E1%85%AE%E1%84%8C%E1%85%B5%E1%84%83%E1%85%A9.jpg\" alt=\"제주도의 자연경관\">\\n        </div>\\n    </div>\\n</body>\\n</html>',\n",
       "  'width': 1280,\n",
       "  'height': 720}]"
      ]
     },
     "execution_count": 10,
     "metadata": {},
     "output_type": "execute_result"
    }
   ],
   "source": [
    "state[\"values\"][\"slides\"]"
   ]
  },
  {
   "cell_type": "code",
   "execution_count": 11,
   "id": "f14ce7ef-387a-4578-af9b-486feb3cc133",
   "metadata": {},
   "outputs": [],
   "source": [
    "for s in state[\"values\"][\"slides\"]:\n",
    "    with open(f\"{s['idx']}.html\", \"w\", encoding=\"utf-8\") as f:\n",
    "        f.write(s['html'])"
   ]
  },
  {
   "cell_type": "code",
   "execution_count": null,
   "id": "9f7dd05a-5743-4b67-b4f2-04451e29d6cb",
   "metadata": {},
   "outputs": [],
   "source": []
  }
 ],
 "metadata": {
  "kernelspec": {
   "display_name": "Python 3 (ipykernel)",
   "language": "python",
   "name": "python3"
  },
  "language_info": {
   "codemirror_mode": {
    "name": "ipython",
    "version": 3
   },
   "file_extension": ".py",
   "mimetype": "text/x-python",
   "name": "python",
   "nbconvert_exporter": "python",
   "pygments_lexer": "ipython3",
   "version": "3.13.2"
  }
 },
 "nbformat": 4,
 "nbformat_minor": 5
}
