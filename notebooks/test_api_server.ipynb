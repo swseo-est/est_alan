{
 "cells": [
  {
   "cell_type": "markdown",
   "id": "feb6cbf7-5f08-4fc7-8a37-5af0ba71c970",
   "metadata": {},
   "source": [
    "# client instance 생성"
   ]
  },
  {
   "cell_type": "code",
   "execution_count": 1,
   "id": "2e633658-62cc-45ba-bf46-a68be289080a",
   "metadata": {
    "ExecuteTime": {
     "end_time": "2025-07-31T08:02:49.558486Z",
     "start_time": "2025-07-31T08:02:49.547246Z"
    }
   },
   "outputs": [],
   "source": [
    "DEPLOYMENT_URL=\"http://10.8.1.229:8000/\"\n",
    "DEPLOYMENT_URL=\"http://localhost:2024/\"\n",
    "\n",
    "from langgraph_sdk import get_client\n",
    "\n",
    "client = get_client(url=DEPLOYMENT_URL)"
   ]
  },
  {
   "cell_type": "markdown",
   "id": "1060453e-25dc-4f8f-8a80-63f12900344d",
   "metadata": {},
   "source": [
    "# thread 생성 (앨런의 channel에 대응)\n",
    "\n",
    "- 생성 요청 후 thread_id를 포함한 데이터를 return 받음\n",
    "- 하나의 thread에 대해서 여러 에이전트를 호출하고 대화가능\n",
    "- 현재 앨런은 한개의 channel에 대해서 한개의 agent가 1:1로 대응되므로 현재는 고려할 필요 없지만, 추후에 1개의 채널에 대해서 여러 agent를 호출가능"
   ]
  },
  {
   "cell_type": "code",
   "execution_count": 2,
   "id": "00db8bac-8b27-48e7-bbc3-e8bb1e1f97e9",
   "metadata": {},
   "outputs": [
    {
     "name": "stdout",
     "output_type": "stream",
     "text": [
      "{'thread_id': 'ed5b54e5-a736-4784-a239-57ce53b65dd3', 'created_at': '2025-08-08T01:37:44.870268+00:00', 'updated_at': '2025-08-08T01:37:44.870271+00:00', 'metadata': {}, 'status': 'idle', 'config': {}, 'values': None}\n",
      "ed5b54e5-a736-4784-a239-57ce53b65dd3\n"
     ]
    }
   ],
   "source": [
    "thread = await client.threads.create()\n",
    "print(thread)\n",
    "\n",
    "thread_id = thread[\"thread_id\"]\n",
    "print(thread_id)"
   ]
  },
  {
   "cell_type": "markdown",
   "id": "07786c8d-0172-42d5-b5e2-5ae1aafdeafc",
   "metadata": {},
   "source": [
    "# 에이전트 호출\n",
    "\n",
    "- 해당 thread에서 어떤 agent를 호출할 지 assistant_id를 포함하여 요청을 보냄"
   ]
  },
  {
   "cell_type": "markdown",
   "id": "9281de96-1d3f-4514-9fd2-fc5590a9b8ff",
   "metadata": {},
   "source": [
    "## parameters\n",
    "- thread_id : 위에서 생성한 thread_id\n",
    "- assistant_id : 앨런의 persona_id에 대응, agent를 구분하는 id, 슬라이드 에이전트의 경우 \"slide_generate_agent\"\n",
    "- input : 해당 agent 요청에 대한 parameter, 현재는 messages만 존재, 앨런 페이지에서 유저로 부터 받는 input을 해당 parameter에 dict로 넣어줌\n",
    "- stream_mode : 어떤 event에 따라서 메시지를 받을지 지정, updates(한 단계가 끝날 때마나 메시지가 옴), events(llm이 생성하는 단위로 메시지 생성)"
   ]
  },
  {
   "cell_type": "code",
   "execution_count": 3,
   "id": "48f82979-592c-4b2c-8e24-2c0c03b12d2a",
   "metadata": {},
   "outputs": [],
   "source": [
    "def filter_ai_msg(chunk):\n",
    "    # 유저와 채팅 창에 출력될 ai 메시지를 필터링하는 함수\n",
    "    if 'updates' in chunk.event:\n",
    "        node_name = chunk.data.keys()\n",
    "        if 'agent' in node_name:\n",
    "            return True\n",
    "\n",
    "def filter_silde_data(chunk):\n",
    "    # slide 관련 데이터를 담은 메시지를 필터링하는 함수\n",
    "    # 슬라이드 한페이지 단위로 메시지가 옴\n",
    "    if 'updates' in chunk.event:\n",
    "        node_name = chunk.data.keys()\n",
    "        if 'executor' in node_name:\n",
    "            return True\n",
    "            print(chunk.data['agent']['messages'][-1]['content'])"
   ]
  },
  {
   "cell_type": "code",
   "execution_count": 4,
   "id": "initial_id",
   "metadata": {
    "ExecuteTime": {
     "end_time": "2025-07-31T08:02:51.030604Z",
     "start_time": "2025-07-31T08:02:49.655777Z"
    },
    "scrolled": true
   },
   "outputs": [
    {
     "name": "stdout",
     "output_type": "stream",
     "text": [
      "##########  AI 메시지  ##########\n",
      "안녕하세요! 슬라이드를 생성하는 데 필요한 도움을 드리겠습니다. 슬라이드 주제는 어떤 것인가요?\n"
     ]
    }
   ],
   "source": [
    "assistant_id = \"slide_generate_agent\"\n",
    "\n",
    "input = { \"messages\": \"안녕\"}\n",
    "list_chunk = list()\n",
    "\n",
    "async for chunk in client.runs.stream(\n",
    "    thread_id,\n",
    "    assistant_id=assistant_id,\n",
    "    input=input,\n",
    "    stream_mode=[\"updates\"],\n",
    "    stream_subgraphs=True\n",
    "):\n",
    "    try:\n",
    "        list_chunk.append(chunk)\n",
    "        if filter_ai_msg(chunk):\n",
    "            print(\"#\" * 10 + \"  AI 메시지  \" + \"#\" * 10)\n",
    "            print(chunk.data['agent']['messages'][-1]['content'])\n",
    "        elif filter_silde_data(chunk):\n",
    "            print(\"#\" * 10 + \"  슬라이드 데이터  \" + \"#\" * 10)\n",
    "            print(chunk)\n",
    "    except:\n",
    "        continue\n",
    "    pass"
   ]
  },
  {
   "cell_type": "code",
   "execution_count": 5,
   "id": "604e3895-0105-44b0-9d2e-e6eef79fb2fb",
   "metadata": {},
   "outputs": [
    {
     "name": "stdout",
     "output_type": "stream",
     "text": [
      "##########  AI 메시지  ##########\n",
      "제주도 여행을 주제로 슬라이드를 만들기 위해 몇 가지 정보를 추가로 여쭤보고 싶습니다.\n",
      "\n",
      "1. 총 슬라이드 장 수는 몇 장으로 할까요?\n",
      "2. 특별히 강조하고 싶은 제주도의 명소나 활동이 있나요?\n",
      "3. 슬라이드의 대상 관객은 누구인가요? (예: 학생, 가족, 관광객 등)\n",
      "4. 추가하고 싶은 이미지나 그래픽 요소가 있나요?\n",
      "5. 특정한 디자인 스타일이나 테마가 있으면 말씀해 주세요.\n",
      "\n",
      "이 정보들을 알려주시면 더욱 맞춤화된 슬라이드를 만들어 드릴 수 있습니다!\n"
     ]
    }
   ],
   "source": [
    "assistant_id = \"slide_generate_agent\"\n",
    "list_chunk = list()\n",
    "\n",
    "input = { \"messages\": \"제주도 여행을 주제로 슬라이드를 만들어줘\"}\n",
    "\n",
    "async for chunk in client.runs.stream(\n",
    "    thread_id,\n",
    "    assistant_id=assistant_id,\n",
    "    input=input,\n",
    "    stream_mode=[\"updates\"],\n",
    "    stream_subgraphs=True\n",
    "):\n",
    "    try:\n",
    "        list_chunk.append(chunk)\n",
    "        if filter_ai_msg(chunk):\n",
    "            print(\"#\" * 10 + \"  AI 메시지  \" + \"#\" * 10)\n",
    "            print(chunk.data['agent']['messages'][-1]['content'])\n",
    "        elif filter_silde_data(chunk):\n",
    "            print(\"#\" * 10 + \"  슬라이드 데이터  \" + \"#\" * 10)\n",
    "            print(chunk)\n",
    "    except:\n",
    "        continue\n",
    "    pass"
   ]
  },
  {
   "cell_type": "code",
   "execution_count": null,
   "id": "d63335ad-3c5e-45b7-aa5e-e743d043db69",
   "metadata": {
    "scrolled": true
   },
   "outputs": [
    {
     "name": "stdout",
     "output_type": "stream",
     "text": [
      "##########  AI 메시지  ##########\n",
      "\n",
      "##########  AI 메시지  ##########\n",
      "\n",
      "##########  AI 메시지  ##########\n",
      "Here's a detailed report plan for a guide on a trip to Jeju Island:\n",
      "\n",
      "### 2. 개요\n",
      "#### Name: 제주도 소개 및 여행 개요\n",
      "- **Description**: 제주도의 역사, 문화, 기후, 그리고 여행의 전반적인 개요에 대한 소개.\n",
      "- **Research**: 제주도의 역사와 문화를 간략히 설명하는 자료를 검토합니다.\n",
      "- **Content**: \"\"\n",
      "- **Img**: \"\"\n",
      "- **HTML**: \"\"\n",
      "\n",
      "### 3. 명소\n",
      "#### Name: 제주도의 명소\n",
      "- **Description**: 한라산, 성산일출봉 등 제주도의 주요 관광 명소와 자연경관에 대해 설명합니다.\n",
      "- **Research**: 제주도의 인기 있는 관광지와 각 지역별 특색있는 명소 정보를 조사합니다.\n",
      "- **Content**: \"\"\n",
      "- **Img**: \"\"\n",
      "- **HTML**: \"\"\n",
      "\n",
      "### 4. 전통 음식\n",
      "#### Name: 제주 전통 음식\n",
      "- **Description**: 흑돼지, 전복구이 등 제주에서 꼭 맛봐야할 전통 음식을 소개합니다.\n",
      "- **Research**: 제주도의 전통 음식과 관련된 자료를 조사하여 지역 음식 문화를 소화합니다.\n",
      "- **Content**: \"\"\n",
      "- **Img**: \"\"\n",
      "- **HTML**: \"\"\n",
      "\n",
      "### 5. 숙박\n",
      "#### Name: 제주도의 숙박 시설\n",
      "- **Description**: 호텔, 게스트하우스, 리조트 등의 다양한 숙박 옵션과 그 특징을 확인합니다.\n",
      "- **Research**: 제주도 숙박 시설의 다양한 옵션과 리뷰, 가격대 등을 분석합니다.\n",
      "- **Content**: \"\"\n",
      "- **Img**: \"\"\n",
      "- **HTML**: \"\"\n",
      "\n",
      "### 6. 교통 정보\n",
      "#### Name: 제주도의 교통\n",
      "- **Description**: 버스 및 렌터카 등 제주에서의 이동 수단에 대해 설명합니다.\n",
      "- **Research**: 제주도의 교통 시스템과 각 교통 수단의 장단점, 이용 방법 등을 분석합니다.\n",
      "- **Content**: \"\"\n",
      "- **Img**: \"\"\n",
      "- **HTML**: \"\"\n",
      "\n",
      "This layout plans the report sections coherently while addressing the essential aspects of a travel guide to Jeju Island, covering its attractions, food, accommodation, and transportation.\n",
      "##########  AI 메시지  ##########\n",
      "\n",
      "##########  AI 메시지  ##########\n",
      "\n",
      "##########  AI 메시지  ##########\n",
      "\n",
      "##########  AI 메시지  ##########\n",
      "\n",
      "##########  AI 메시지  ##########\n",
      "\n",
      "##########  AI 메시지  ##########\n",
      "\n",
      "##########  AI 메시지  ##########\n",
      "\n"
     ]
    }
   ],
   "source": [
    "assistant_id = \"slide_generate_agent\"\n",
    "list_chunk = list()\n",
    "\n",
    "input = {\"messages\": \"알아서 해줘\"}\n",
    "\n",
    "async for chunk in client.runs.stream(\n",
    "    thread_id,\n",
    "    assistant_id=assistant_id,\n",
    "    input=input,\n",
    "    stream_mode=[\"updates\"],\n",
    "    stream_subgraphs=True\n",
    "):\n",
    "    try:\n",
    "        list_chunk.append(chunk)\n",
    "        if filter_ai_msg(chunk):\n",
    "            print(\"#\" * 10 + \"  AI 메시지  \" + \"#\" * 10)\n",
    "            print(chunk.data['agent']['messages'][-1]['content'])\n",
    "        elif filter_silde_data(chunk):\n",
    "            print(\"#\" * 10 + \"  슬라이드 데이터  \" + \"#\" * 10)\n",
    "            print(chunk)\n",
    "    except:\n",
    "        continue\n",
    "    pass"
   ]
  },
  {
   "cell_type": "code",
   "execution_count": null,
   "id": "7aa58305-657f-467b-8ca7-ec09d2da37f5",
   "metadata": {},
   "outputs": [],
   "source": [
    "for chunk in list_chunk:\n",
    "    if filter_silde_data(chunk):\n",
    "        print(\"#\" * 10 + \"  슬라이드 데이터  \" + \"#\" * 10)\n",
    "        print(chunk.data)\n",
    "        break"
   ]
  },
  {
   "cell_type": "code",
   "execution_count": null,
   "id": "59081551-edc0-4e05-a95a-5a7c663b7e42",
   "metadata": {},
   "outputs": [],
   "source": [
    "state = await client.threads.get_state(thread_id=thread_id)\n",
    "\n",
    "for msg in state[\"values\"][\"messages\"]:\n",
    "    if msg[\"type\"] == \"human\":\n",
    "        print(\"Human :\", msg[\"content\"])\n",
    "    else:\n",
    "        print(\"AI :\", msg[\"content\"])"
   ]
  },
  {
   "cell_type": "code",
   "execution_count": null,
   "id": "b28def97-7983-4c7c-acb2-08d617724170",
   "metadata": {},
   "outputs": [],
   "source": [
    "state[\"values\"][\"slides\"]"
   ]
  },
  {
   "cell_type": "code",
   "execution_count": null,
   "id": "745feb85-84f0-4aac-a3f0-63ab485bddff",
   "metadata": {},
   "outputs": [],
   "source": []
  }
 ],
 "metadata": {
  "kernelspec": {
   "display_name": "Python 3 (ipykernel)",
   "language": "python",
   "name": "python3"
  },
  "language_info": {
   "codemirror_mode": {
    "name": "ipython",
    "version": 3
   },
   "file_extension": ".py",
   "mimetype": "text/x-python",
   "name": "python",
   "nbconvert_exporter": "python",
   "pygments_lexer": "ipython3",
   "version": "3.13.2"
  }
 },
 "nbformat": 4,
 "nbformat_minor": 5
}
