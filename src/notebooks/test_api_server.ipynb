{
 "cells": [
  {
   "cell_type": "markdown",
   "id": "feb6cbf7-5f08-4fc7-8a37-5af0ba71c970",
   "metadata": {},
   "source": [
    "# client instance 생성"
   ]
  },
  {
   "cell_type": "code",
   "execution_count": 1,
   "id": "2e633658-62cc-45ba-bf46-a68be289080a",
   "metadata": {
    "ExecuteTime": {
     "end_time": "2025-07-31T08:02:49.558486Z",
     "start_time": "2025-07-31T08:02:49.547246Z"
    }
   },
   "outputs": [],
   "source": [
    "DEPLOYMENT_URL=\"http://10.8.1.229:8000/\"\n",
    "# DEPLOYMENT_URL=\"http://localhost:2024/\"\n",
    "DEPLOYMENT_URL=\"http://localhost:8000/\"\n",
    "\n",
    "from langgraph_sdk import get_client\n",
    "\n",
    "client = get_client(url=DEPLOYMENT_URL)"
   ]
  },
  {
   "cell_type": "markdown",
   "id": "1060453e-25dc-4f8f-8a80-63f12900344d",
   "metadata": {},
   "source": [
    "# thread 생성 (앨런의 channel에 대응)\n",
    "\n",
    "- 생성 요청 후 thread_id를 포함한 데이터를 return 받음\n",
    "- 하나의 thread에 대해서 여러 에이전트를 호출하고 대화가능\n",
    "- 현재 앨런은 한개의 channel에 대해서 한개의 agent가 1:1로 대응되므로 현재는 고려할 필요 없지만, 추후에 1개의 채널에 대해서 여러 agent를 호출가능"
   ]
  },
  {
   "cell_type": "code",
   "execution_count": 2,
   "id": "d728bcf5-d7b5-4768-9953-f60e5dd7340d",
   "metadata": {},
   "outputs": [],
   "source": [
    "def get_data(chunk):\n",
    "    data = list(chunk.data.values())[0]\n",
    "    return data\n",
    " \n",
    " \n",
    "def filter_ai_msg(chunk):\n",
    "    # 유저와 채팅 창에 출력될 ai 메시지를 필터링하는 함수\n",
    "    if 'updates' in chunk.event:\n",
    "        data = get_data(chunk)\n",
    " \n",
    "        if data is not None:\n",
    "            if 'messages' in data.keys():\n",
    "                if data['messages'][-1][\"name\"] is not None:\n",
    "                    msg_type = data['messages'][-1]['type']\n",
    "                    if msg_type == \"ai\":\n",
    "                        return True\n",
    "    return False"
   ]
  },
  {
   "cell_type": "code",
   "execution_count": 3,
   "id": "00db8bac-8b27-48e7-bbc3-e8bb1e1f97e9",
   "metadata": {},
   "outputs": [
    {
     "name": "stdout",
     "output_type": "stream",
     "text": [
      "{'thread_id': 'be55240d-e282-4103-9ad0-ad346da1bf42', 'created_at': '2025-08-14T00:14:09.214825+00:00', 'updated_at': '2025-08-14T00:14:09.214825+00:00', 'metadata': {}, 'status': 'idle', 'config': {}, 'values': None, 'interrupts': {}, 'error': None}\n",
      "be55240d-e282-4103-9ad0-ad346da1bf42\n"
     ]
    }
   ],
   "source": [
    "thread = await client.threads.create()\n",
    "print(thread)\n",
    "\n",
    "thread_id = thread[\"thread_id\"]\n",
    "print(thread_id)"
   ]
  },
  {
   "cell_type": "markdown",
   "id": "07786c8d-0172-42d5-b5e2-5ae1aafdeafc",
   "metadata": {},
   "source": [
    "# 에이전트 호출\n",
    "\n",
    "- 해당 thread에서 어떤 agent를 호출할 지 assistant_id를 포함하여 요청을 보냄"
   ]
  },
  {
   "cell_type": "markdown",
   "id": "9281de96-1d3f-4514-9fd2-fc5590a9b8ff",
   "metadata": {},
   "source": [
    "## parameters\n",
    "- thread_id : 위에서 생성한 thread_id\n",
    "- assistant_id : 앨런의 persona_id에 대응, agent를 구분하는 id, 슬라이드 에이전트의 경우 \"slide_generate_agent\"\n",
    "- input : 해당 agent 요청에 대한 parameter, 현재는 messages만 존재, 앨런 페이지에서 유저로 부터 받는 input을 해당 parameter에 dict로 넣어줌\n",
    "- stream_mode : 어떤 event에 따라서 메시지를 받을지 지정, updates(한 단계가 끝날 때마나 메시지가 옴), events(llm이 생성하는 단위로 메시지 생성)"
   ]
  },
  {
   "cell_type": "code",
   "execution_count": 4,
   "id": "48f82979-592c-4b2c-8e24-2c0c03b12d2a",
   "metadata": {},
   "outputs": [],
   "source": [
    "list_msg_id = list()\n",
    "\n",
    "\n",
    "def get_data(chunk):\n",
    "    data = list(chunk.data.values())[0]\n",
    "    return data\n",
    "\n",
    "\n",
    "def filter_ai_msg(chunk):\n",
    "    # 유저와 채팅 창에 출력될 ai 메시지를 필터링하는 함수\n",
    "    if 'updates' in chunk.event:\n",
    "        data = get_data(chunk)\n",
    "\n",
    "        if data is not None:\n",
    "            if 'messages' in data.keys():\n",
    "                if data['messages'][-1][\"name\"] is not None:\n",
    "                    msg_type = data['messages'][-1]['type']\n",
    "                    msg_id = data['messages'][-1]['id']\n",
    "                    if msg_id not in list_msg_id and msg_type == \"ai\":\n",
    "                        list_msg_id.append(msg_id)\n",
    "                        return True\n",
    "    return False\n",
    "\n",
    "\n",
    "def filter_silde_data(chunk):\n",
    "    # slide 관련 데이터를 담은 메시지를 필터링하는 함수\n",
    "    # 슬라이드 한페이지 단위로 메시지가 옴\n",
    "    if 'updates' in chunk.event:\n",
    "        node_name = chunk.data.keys()\n",
    "        if 'executor' in node_name:\n",
    "            return True"
   ]
  },
  {
   "cell_type": "code",
   "execution_count": 5,
   "id": "8d5fddde-f825-4491-be5a-0e7ed123a866",
   "metadata": {},
   "outputs": [],
   "source": [
    "assistant_id = \"slide_generate_agent\"\n",
    "list_chunk = list()"
   ]
  },
  {
   "cell_type": "code",
   "execution_count": 6,
   "id": "initial_id",
   "metadata": {
    "ExecuteTime": {
     "end_time": "2025-07-31T08:02:51.030604Z",
     "start_time": "2025-07-31T08:02:49.655777Z"
    },
    "scrolled": true
   },
   "outputs": [
    {
     "name": "stdout",
     "output_type": "stream",
     "text": [
      "##########  AI 메시지  ##########\n",
      "한국 반도체 현황을 주제로 슬라이드를 생성하도록 하겠습니다.\n",
      "##########  AI 메시지  ##########\n",
      "검색 도구를 사용하여 목차를 생성하기 위한 조사를 시작합니다.\n",
      "##########  AI 메시지  ##########\n",
      "생성된 목차는 다음과 같습니다. \n",
      "\n",
      "2. 한국 반도체 산업 역사 - 한국 반도체 산업의 기원을 탐구하고, 1960년대 시작된 반도체 조립 생산부터 현재에 이르기까지의 발전 과정을 분석합니다. \n",
      "3. 한국 반도체 산업의 세계 시장 점유율 분석 - 한국 반도체 산업이 세계 시장에서 차지하는 비중을 분석하고, 주요 국가와의 비교를 통해 글로벌 시장에서의 위치를 평가합니다. \n",
      "4. 한국 주요 반도체 제조 기업 순위 및 특성 - 한국 내 주요 반도체 제조 기업의 현재 순위와 각각의 기술적 특성 및 장점을 살펴봅니다. \n",
      "5. 한국 반도체 기술 개발 동향 - 한국의 반도체 기술 발전 현황과 주요 기술 개발 동향을 파악하며, AI 및 차세대 반도체 기술의 성장 가능성을 논의합니다. \n",
      "6. 한국 반도체 산업의 미래와 전망 - 한국 반도체 산업의 미래 성장 방향 및 세계 시장에서의 경쟁력 강화를 위한 전략적 방안을 전망합니다. \n",
      "\n",
      "##########  AI 메시지  ##########\n",
      "\n",
      "    슬라이드 생성에 필요한 조사를 시작합니다.\n",
      "    \n",
      "##########  AI 메시지  ##########\n",
      "\n",
      "    슬라이드에 사용할 이미지를 검색하고 있습니다.\n",
      "    \n",
      "##########  AI 메시지  ##########\n",
      "\n",
      "    슬라이드 디자인을 시작합니다.\n",
      "    \n",
      "##########  AI 메시지  ##########\n",
      "\n",
      "    슬라이드를 생성하고 있습니다.\n",
      "    \n",
      "##########  AI 메시지  ##########\n",
      "슬라이드 생성이 완료되었습니다.\n"
     ]
    }
   ],
   "source": [
    "input = { \"messages\": \"한국 반도체 현황. 모두 한글로 만들어줘\"}\n",
    "\n",
    "async for chunk in client.runs.stream(\n",
    "    thread_id,\n",
    "    assistant_id=assistant_id,\n",
    "    input=input,\n",
    "    stream_mode=[\"updates\"],\n",
    "    stream_subgraphs=True\n",
    "):\n",
    "    list_chunk.append(chunk)\n",
    "    if filter_ai_msg(chunk):\n",
    "        print(\"#\" * 10 + \"  AI 메시지  \" + \"#\" * 10)\n",
    "        data = get_data(chunk)\n",
    "        print(data['messages'][-1]['content'])\n",
    "    # elif filter_silde_data(chunk):\n",
    "    #     print(\"#\" * 10 + \"  슬라이드 데이터  \" + \"#\" * 10)\n",
    "    #     print(chunk)\n"
   ]
  },
  {
   "cell_type": "code",
   "execution_count": 7,
   "id": "bd7a08e4-51f1-41d3-a503-5e50da6b8a76",
   "metadata": {
    "scrolled": true
   },
   "outputs": [],
   "source": [
    "for chunk in list_chunk:\n",
    "    if filter_ai_msg(chunk):\n",
    "        print(\"#\" * 10 + \"  AI 메시지  \" + \"#\" * 10)\n",
    "        data = get_data(chunk)\n",
    "        print(data['messages'][-1]['content'])\n"
   ]
  },
  {
   "cell_type": "code",
   "execution_count": 8,
   "id": "59081551-edc0-4e05-a95a-5a7c663b7e42",
   "metadata": {
    "scrolled": true
   },
   "outputs": [
    {
     "name": "stdout",
     "output_type": "stream",
     "text": [
      "##########  AI 메시지  ##########\n",
      "한국 반도체 현황을 주제로 슬라이드를 생성하도록 하겠습니다.\n",
      "##########  AI 메시지  ##########\n",
      "검색 도구를 사용하여 목차를 생성하기 위한 조사를 시작합니다.\n",
      "##########  AI 메시지  ##########\n",
      "생성된 목차는 다음과 같습니다. \n",
      "\n",
      "2. 한국 반도체 산업 역사 - 한국 반도체 산업의 기원을 탐구하고, 1960년대 시작된 반도체 조립 생산부터 현재에 이르기까지의 발전 과정을 분석합니다. \n",
      "3. 한국 반도체 산업의 세계 시장 점유율 분석 - 한국 반도체 산업이 세계 시장에서 차지하는 비중을 분석하고, 주요 국가와의 비교를 통해 글로벌 시장에서의 위치를 평가합니다. \n",
      "4. 한국 주요 반도체 제조 기업 순위 및 특성 - 한국 내 주요 반도체 제조 기업의 현재 순위와 각각의 기술적 특성 및 장점을 살펴봅니다. \n",
      "5. 한국 반도체 기술 개발 동향 - 한국의 반도체 기술 발전 현황과 주요 기술 개발 동향을 파악하며, AI 및 차세대 반도체 기술의 성장 가능성을 논의합니다. \n",
      "6. 한국 반도체 산업의 미래와 전망 - 한국 반도체 산업의 미래 성장 방향 및 세계 시장에서의 경쟁력 강화를 위한 전략적 방안을 전망합니다. \n",
      "\n",
      "##########  AI 메시지  ##########\n",
      "\n",
      "    슬라이드 생성에 필요한 조사를 시작합니다.\n",
      "    \n",
      "##########  AI 메시지  ##########\n",
      "\n",
      "    슬라이드에 사용할 이미지를 검색하고 있습니다.\n",
      "    \n",
      "##########  AI 메시지  ##########\n",
      "\n",
      "    슬라이드 디자인을 시작합니다.\n",
      "    \n",
      "##########  AI 메시지  ##########\n",
      "\n",
      "    슬라이드를 생성하고 있습니다.\n",
      "    \n",
      "##########  AI 메시지  ##########\n",
      "슬라이드 생성이 완료되었습니다.\n"
     ]
    }
   ],
   "source": [
    "state = await client.threads.get_state(thread_id=thread_id)\n",
    "\n",
    "for msg in state[\"values\"][\"messages\"]:\n",
    "    if msg[\"type\"] != \"human\":\n",
    "        print(\"#\" * 10 + \"  AI 메시지  \" + \"#\" * 10)\n",
    "        print(msg[\"content\"])"
   ]
  },
  {
   "cell_type": "code",
   "execution_count": 9,
   "id": "b28def97-7983-4c7c-acb2-08d617724170",
   "metadata": {
    "scrolled": true
   },
   "outputs": [
    {
     "data": {
      "text/plain": [
       "7"
      ]
     },
     "execution_count": 9,
     "metadata": {},
     "output_type": "execute_result"
    }
   ],
   "source": [
    "len(state[\"values\"][\"slides\"])"
   ]
  },
  {
   "cell_type": "code",
   "execution_count": 10,
   "id": "52f97132-2be6-437a-b0f8-90e1f4f3c51f",
   "metadata": {
    "scrolled": true
   },
   "outputs": [
    {
     "data": {
      "text/plain": [
       "[{'description': '한국 반도체 현황에 대한 프레젠테이션 타이틀 페이지',\n",
       "  'requirements': ['타이틀 텍스트', '부제목 또는 설명'],\n",
       "  'research': True,\n",
       "  'slide_type': 'title',\n",
       "  'topic': '한국 반도체 현황',\n",
       "  'idx': 0,\n",
       "  'name': '타이틀',\n",
       "  'content': '## 타이틀: 한국 반도체 현황\\n\\n### 개요\\n\\n대한민국은 세계 반도체 시장에서 중요한 위치를 차지하고 있으며, 특히 메모리 반도체 부문에서 독보적인 경쟁력을 갖추고 있습니다. 삼성전자와 SK하이닉스는 글로벌 DRAM 시장에서 73% 이상의 점유율을 보유하고 있으며, 이는 한국의 전반적 반도체 산업 성장을 이끄는 주요 원동력입니다. [1]\\n\\n### 시장 점유율 및 경제적 영향\\n\\n2022년 기준, 한국은 글로벌 반도체 시장에서 17.7%의 점유율을 차지하며, 미국에 이어 2위를 유지하고 있습니다. 이는 지난 10년간 꾸준히 지속되어 온 위치입니다. [2] 또한, 반도체는 한국 전체 수출의 18.9%를 차지하며, 이는 2022년 총 129.2억 달러에 달하는 수출액으로, 한국 경제에서 차지하는 비중이 상당히 큽니다. [3]\\n\\n### 산업 투자 및 정부 정책\\n\\n한국 정부는 반도체 산업의 글로벌 경쟁력을 유지하기 위해 산업 지원 정책을 활발히 추진하고 있습니다. 정부는 반도체 클러스터 확장과 같은 기반 시설 개발 비용을 줄이고, 민간 연구 개발에 대한 세제 혜택을 확대하는 등의 조치를 취하고 있습니다. 최근 발표된 33조 원 상당의 지원 패키지를 통해 이러한 노력을 뒷받침하고 있습니다. [4][5]\\n\\n### 미래 전망\\n\\n전망에 따르면, 한국은 2032년까지 대만을 제치고 세계에서 두 번째로 큰 반도체 생산국으로 부상할 것으로 예상됩니다. 이는 AI 및 비메모리 반도체 분야로의 확대를 통해 가능할 것입니다. 반도체 산업의 구조적 변화와 시장 수요의 지속적인 증가가 이러한 전망을 뒷받침하고 있습니다. [6][7]\\n\\n---\\n\\nSources:\\n1. https://www.trade.gov/market-intelligence/south-korea-semiconductors\\n2. https://en.wikipedia.org/wiki/Semiconductor_industry_in_South_Korea\\n3. https://www.investkorea.org/ik-en/bbs/i-308/detail.do?ntt_sn=490787\\n4. https://thediplomat.com/2024/09/the-global-battle-for-chip-talent-south-koreas-strategic-dilemma/\\n5. https://www.koreatimes.co.kr/economy/policy/20250415/south-korea-to-expand-investment-in-chip-industry-to-secure-global-competitiveness\\n6. https://www.businesskorea.co.kr/news/articleView.html?idxno=233746\\n7. https://english.hani.co.kr/arti/english_edition/e_business/1140071.html',\n",
       "  'img_url': 'https://img.khan.co.kr/news/2024/05/09/news-p.v1.20240509.6a45cce4bd344770b92a0f0d855711bb_P1.jpg',\n",
       "  'design': '',\n",
       "  'html_template': '<!DOCTYPE html>\\n<html lang=\"ko\">\\n<head>\\n<meta charset=\"utf-8\"/>\\n<meta content=\"width=device-width, initial-scale=1.0\" name=\"viewport\"/>\\n<title>한국 반도체 현황</title>\\n<link href=\"https://cdn.jsdelivr.net/npm/tailwindcss@2.2.19/dist/tailwind.min.css\" rel=\"stylesheet\"/>\\n<link href=\"https://cdn.jsdelivr.net/npm/@fortawesome/fontawesome-free@6.4.0/css/all.min.css\" rel=\"stylesheet\"/>\\n<link href=\"https://fonts.googleapis.com/css2?family=Nanum+Gothic:wght@400;700;800&amp;family=Nanum+Myeongjo:wght@400;700&amp;display=swap\" rel=\"stylesheet\"/>\\n<style>\\n        body, html {\\n            margin: 0;\\n            padding: 0;\\n            font-family: \\'Nanum Myeongjo\\', serif;\\n            overflow: hidden;\\n        }\\n        .slide-container {\\n            width: 1280px;\\n            height: 720px;\\n            position: relative;\\n            overflow: hidden;\\n            display: flex;\\n        }\\n        .image-section {\\n            width: 50%;\\n            height: 100%;\\n            position: relative;\\n        }\\n        .content-section {\\n            width: 50%;\\n            height: 100%;\\n            background-color: #f49415;\\n            padding: 60px;\\n            display: flex;\\n            flex-direction: column;\\n        }\\n        .logo-container {\\n            display: flex;\\n            justify-content: flex-end;\\n            margin-bottom: 60px;\\n        }\\n        .main-content {\\n            flex-grow: 1;\\n            display: flex;\\n            flex-direction: column;\\n            justify-content: center;\\n        }\\n        .contact-info {\\n            display: flex;\\n            justify-content: space-between;\\n            font-size: 14px;\\n            margin-top: 40px;\\n            color: #06436e;\\n        }\\n        .site-url {\\n            position: absolute;\\n            bottom: 0;\\n            left: 40px;\\n            transform: rotate(-90deg);\\n            transform-origin: left bottom;\\n            font-size: 12px;\\n            color: white;\\n            padding: 5px;\\n        }\\n        h1, h2 {\\n            font-family: \\'Nanum Gothic\\', sans-serif;\\n            color: #06436e;\\n        }\\n        p {\\n            font-family: \\'Nanum Myeongjo\\', serif;\\n            color: #06436e;\\n        }\\n    </style>\\n</head>\\n<body>\\n<div class=\"slide-container\">\\n<!-- Left Section - Image -->\\n<div class=\"image-section\">\\n<img alt=\"한국 반도체 이미지\" src=\"https://img.khan.co.kr/news/2024/05/09/news-p.v1.20240509.6a45cce4bd344770b92a0f0d855711bb_P1.jpg\" style=\"width: 100%; height: 100%; object-fit: cover;\"/>\\n<div class=\"site-url\">이미지 출처: 경향신문</div>\\n</div>\\n<!-- Right Section - Content -->\\n<div class=\"content-section\">\\n<!-- Logo -->\\n<div class=\"logo-container\">\\n<div class=\"flex items-center\">\\n<span class=\"text-xl font-bold\" style=\"color: #06436e; font-family: \\'Nanum Gothic\\', sans-serif;\">반도체 산업</span>\\n<i class=\"fas fa-microchip ml-2 text-xl\" style=\"color: #06436e;\"></i>\\n</div>\\n</div>\\n<!-- Main Content -->\\n<div class=\"main-content\">\\n<h1 class=\"text-8xl font-bold\" style=\"font-family: \\'Nanum Gothic\\', sans-serif; line-height: 1.1; color: #06436e;\">한국 반도체 현황</h1>\\n<h2 class=\"text-5xl font-bold mt-4 mb-8\" style=\"font-family: \\'Nanum Gothic\\', sans-serif; color: #06436e;\">글로벌 경쟁력과 성장 전망</h2>\\n<p class=\"text-lg\" style=\"font-family: \\'Nanum Myeongjo\\', serif; color: #06436e;\">2024년 최신 트렌드 및 분석</p>\\n</div>\\n<!-- Contact Information -->\\n<div class=\"contact-info\">\\n<div style=\"color: #06436e; font-family: \\'Nanum Gothic\\', sans-serif;\">2024년 5월</div>\\n<div style=\"color: #06436e; font-family: \\'Nanum Gothic\\', sans-serif;\">한국 반도체 연구팀</div>\\n</div>\\n</div>\\n</div>\\n</body>\\n</html>',\n",
       "  'html': '<!DOCTYPE html>\\n<html lang=\"ko\">\\n<head>\\n<meta charset=\"utf-8\"/>\\n<meta content=\"width=device-width, initial-scale=1.0\" name=\"viewport\"/>\\n<title>한국 반도체 현황</title>\\n<link href=\"https://cdn.jsdelivr.net/npm/tailwindcss@2.2.19/dist/tailwind.min.css\" rel=\"stylesheet\"/>\\n<link href=\"https://cdn.jsdelivr.net/npm/@fortawesome/fontawesome-free@6.4.0/css/all.min.css\" rel=\"stylesheet\"/>\\n<link href=\"https://fonts.googleapis.com/css2?family=Nanum+Gothic:wght@400;700;800&amp;family=Nanum+Myeongjo:wght@400;700&amp;display=swap\" rel=\"stylesheet\"/>\\n<style>\\n    body, html {\\n        margin: 0;\\n        padding: 0;\\n        font-family: \\'Nanum Myeongjo\\', serif;\\n        overflow: hidden;\\n    }\\n    .slide-container {\\n        width: 1280px;\\n        height: 720px;\\n        position: relative;\\n        overflow: hidden;\\n        display: flex;\\n    }\\n    .image-section {\\n        width: 50%;\\n        height: 100%;\\n        position: relative;\\n    }\\n    .content-section {\\n        width: 50%;\\n        height: 100%;\\n        background-color: #f49415;\\n        padding: 60px;\\n        display: flex;\\n        flex-direction: column;\\n    }\\n    .logo-container {\\n        display: flex;\\n        justify-content: flex-end;\\n        margin-bottom: 60px;\\n    }\\n    .main-content {\\n        flex-grow: 1;\\n        display: flex;\\n        flex-direction: column;\\n        justify-content: center;\\n    }\\n    .contact-info {\\n        display: flex;\\n        justify-content: space-between;\\n        font-size: 14px;\\n        margin-top: 40px;\\n        color: #06436e;\\n    }\\n    .site-url {\\n        position: absolute;\\n        bottom: 0;\\n        left: 40px;\\n        transform: rotate(-90deg);\\n        transform-origin: left bottom;\\n        font-size: 12px;\\n        color: white;\\n        padding: 5px;\\n    }\\n    h1, h2 {\\n        font-family: \\'Nanum Gothic\\', sans-serif;\\n        color: #06436e;\\n    }\\n    p {\\n        font-family: \\'Nanum Myeongjo\\', serif;\\n        color: #06436e;\\n    }\\n</style>\\n</head>\\n<body>\\n<div class=\"slide-container\">\\n    <!-- Left Section - Image -->\\n    <div class=\"image-section\">\\n        <img alt=\"한국 반도체 이미지\" src=\"https://img.khan.co.kr/news/2024/05/09/news-p.v1.20240509.6a45cce4bd344770b92a0f0d855711bb_P1.jpg\" style=\"width: 100%; height: 100%; object-fit: cover;\"/>\\n        <div class=\"site-url\">이미지 출처: 경향신문</div>\\n    </div>\\n    <!-- Right Section - Content -->\\n    <div class=\"content-section\">\\n        <!-- Logo -->\\n        <div class=\"logo-container\">\\n            <div class=\"flex items-center\">\\n                <span class=\"text-xl font-bold\" style=\"color: #06436e; font-family: \\'Nanum Gothic\\', sans-serif;\">반도체 산업</span>\\n                <i class=\"fas fa-microchip ml-2 text-xl\" style=\"color: #06436e;\"></i>\\n            </div>\\n        </div>\\n        <!-- Main Content -->\\n        <div class=\"main-content\">\\n            <h1 class=\"text-8xl font-bold\" style=\"font-family: \\'Nanum Gothic\\', sans-serif; line-height: 1.1; color: #06436e;\">한국 반도체 현황</h1>\\n            <h2 class=\"text-5xl font-bold mt-4 mb-8\" style=\"font-family: \\'Nanum Gothic\\', sans-serif; color: #06436e;\">글로벌 경쟁력과 성장 전망</h2>\\n            <p class=\"text-lg\" style=\"font-family: \\'Nanum Myeongjo\\', serif; color: #06436e;\">2024년 최신 트렌드 및 분석</p>\\n        </div>\\n        <!-- Contact Information -->\\n        <div class=\"contact-info\">\\n            <div style=\"color: #06436e; font-family: \\'Nanum Gothic\\', sans-serif;\">2024년 5월</div>\\n            <div style=\"color: #06436e; font-family: \\'Nanum Gothic\\', sans-serif;\">한국 반도체 연구팀</div>\\n        </div>\\n    </div>\\n</div>\\n</body>\\n</html>',\n",
       "  'width': 1280,\n",
       "  'height': 720},\n",
       " {'description': '한국 반도체 현황에 대한 프레젠테이션 목차 페이지\\n\\n2. 한국 반도체 산업 역사\\n3. 한국 반도체 산업의 세계 시장 점유율 분석\\n4. 한국 주요 반도체 제조 기업 순위 및 특성\\n5. 한국 반도체 기술 개발 동향\\n6. 한국 반도체 산업의 미래와 전망',\n",
       "  'requirements': ['목차 항목들'],\n",
       "  'research': True,\n",
       "  'slide_type': 'toc',\n",
       "  'topic': '한국 반도체 현황',\n",
       "  'idx': 1,\n",
       "  'name': '목차',\n",
       "  'content': \"## 목차\\n\\n1. 한국 반도체 산업 역사\\n   - 한국 반도체 산업의 역사는 1960년대 중반부터 시작되었습니다. 당시 미국의 기업들이 한국으로 진출하면서 반도체 조립 산업이 시작되었고, 이를 계기로 한국은 반도체 산업에 본격적으로 진입하게 되었습니다. [출처: Юж한news, 2021-10-31T00:00:00Z, https://brunch.co.kr/@@4w67/12]\\n   \\n2. 한국 반도체 산업의 세계 시장 점유율 분석\\n   - 2022년 기준으로, 한국의 반도체 장비 시장은 세계 시장의 24.4%를 차지하였으며 이는 18.3%를 기록한 일본을 넘어서는 수치입니다 [1].\\n   - 한국은 17.7%의 세계 반도체 시장 점유율을 차지하며 2013년부터 10년 연속 세계 2위를 유지하고 있습니다 [7].\\n   - 메모리 반도체 분야에서는 세계 1위로, 2022년 전 세계 시장 점유율의 57%를 차지하고 있습니다 [2].\\n\\n3.## 한국 주요 반도체 제조 기업 순위 및 특성\\n- 한국은 세계적인 반도체 기업의 본고장이며, 주요 기업으로는 삼성전자, SK Hynix 및 LG Display 등이 있습니다 [3]. 이들 회사는 최첨단 반도체 생산에 있어 선두주자로 꼽히고 있습니다 [4].\\n- 2024년 기준, 국내 반도체 제조사 순위는 삼성전자가 1위에 올랐으며, 그 뒤를 이어 SK하이닉스와 DB하이텍, 매그나칩 등이 이름을 올립니다 [5].\\n\\n4. 한국 반도체 기술 개발 동향\\n- 한국은 메모리 반도체 시장에서는 이미 글로벌 선두를 차지하고 있으며, 인공지능 반도체 시장 또한 성장세에 있고, 2028년경에는 메모리 시장 수준으로 커질 것으로 예상됩니다 [12].\\n- 한국 정부는 2024년 반도체 산업의 가속 발전을 위해 첨단 산업 클러스터 창출을 지원할 계획이며 [7], 이러한 계획을 통해 지속적인 기술 개발이 요구되고 있습니다 [10].\\n- 한국은 고급 포장 기술 발전으로 AI 반도체에 대한 기회 창출을 위한 로드맵을 발표했습니다 [6].\\n\\n6. 한국 반도체 산업의 미래와 전망\\n- 한국 반도체 산업은 글로벌 반도체 시장이 고도화됨에 따라 향후 기반 역할을 하게 될 것으로 보입니다 [4].\\n- 한편, 한국은 인공지능 및 5G와 같은 주요 기술 분야의 수요 증가로 인해 반도체 산업이 계속해서 성장할 것으로 예상됩니다 [12].\\n- 그러나, 2032년까지 10나노미터 미만의 고급 반도체 생산 비율이 줄어들 것으로 예상되면서, 고급 인력의 유지와 새로운 인재 개발의 필요성이 제기되고 있습니다 [6][7].\\n\\n### 출처\\n1. [Korea's Semiconductor Industry: Taking Another Leap Forward to...](https://www.investkorea.org/ik-en/bbs/i-308/detail.do?ntt_sn=490787)\\n2. [대한민국 경제성장의 주역, 반도체의 모든 것](https://www.epnc.co.kr/news/articleView.html?idxno=306765)\\n3. [Semiconductor industry in South Korea - Wikipedia](https://en.wikipedia.org/wiki/Semiconductor_industry_in_South_Korea)\\n4. [The Korean semiconductor industry: historical overview](https://archives.kdischool.ac.kr/bitstream/11125/29891/1/The%20Korean%20semiconductor%20industry.pdf)\\n5. [국내 반도체 제조사 기업 순위](https://rotihire.tistory.com/14)\\n6. [Semiconductor Future Technology Roadmap](https://www.msit.go.kr/eng/bbs/view.do?sCode=eng&mId=4&bbsSeqNo=42&nttSeqNo=802)\\n7. [The Global Battle for Chip Talent: South Korea's Strategic Dilemma](https://thediplomat.com/2024/09/the-global-battle-for-chip-talent-south-koreas-strategic-dilemma/)\\n8. [Navigating the Semiconductor Diversified end Markets: Trends and ...](https://www.semiconkorea.org/ko/node/9506)\",\n",
       "  'img_url': 'http://t1.daumcdn.net/brunch/service/user/4w67/image/7tHm3vVtj_PoOuiSeUwf0kjKOaU.png',\n",
       "  'design': '',\n",
       "  'html_template': '<!DOCTYPE html>\\n\\n<html lang=\"ko\">\\n<head>\\n<meta charset=\"utf-8\"/>\\n<meta content=\"width=device-width, initial-scale=1.0\" name=\"viewport\"/>\\n<title>발표 목차 - 제주도 여행 비즈니스</title>\\n<link href=\"https://cdn.jsdelivr.net/npm/tailwindcss@2.2.19/dist/tailwind.min.css\" rel=\"stylesheet\"/>\\n<link href=\"https://cdn.jsdelivr.net/npm/@fortawesome/fontawesome-free@6.4.0/css/all.min.css\" rel=\"stylesheet\"/>\\n<style>\\n        body, html {\\n            margin: 0;\\n            padding: 0;\\n            overflow: hidden;\\n            font-family: \\'Nanum Gothic\\', Arial, sans-serif;\\n        }\\n        .slide-container {\\n            width: 1280px;\\n            height: 720px;\\n            position: relative;\\n            background-color: #06436e;\\n            overflow: hidden;\\n        }\\n        .sunburst {\\n            position: absolute;\\n            width: 400px;\\n            height: 400px;\\n            background: radial-gradient(circle, transparent 0%, transparent 70%, rgba(255,255,255,0.1) 100%);\\n            opacity: 0.3;\\n            right: 50px;\\n            top: 50px;\\n        }\\n        .agenda-box {\\n            position: absolute;\\n            left: 0;\\n            top: 50px;\\n            width: 340px;\\n            height: 180px;\\n            background-color: #f49415;\\n            padding: 30px;\\n        }\\n        .number-badge {\\n            position: absolute;\\n            right: 30px;\\n            bottom: 30px;\\n            width: 50px;\\n            height: 50px;\\n            background-color: #f49415;\\n            display: flex;\\n            align-items: center;\\n            justify-content: center;\\n            font-size: 24px;\\n            font-weight: bold;\\n        }\\n        .title-font {\\n            font-family: \\'Nanum Gothic\\', Arial, sans-serif;\\n        }\\n        .content-font {\\n            font-family: \\'Nanum Myeongjo\\', \\'Times New Roman\\', Times, serif;\\n        }\\n    </style>\\n</head>\\n<body>\\n<div class=\"slide-container flex\">\\n<!-- Sunburst Pattern -->\\n<div class=\"sunburst\"></div>\\n<!-- Left Section - Agenda -->\\n<div class=\"agenda-box\">\\n<h2 class=\"text-3xl font-bold mb-3 title-font\">발표 목차</h2>\\n<p class=\"text-sm content-font\">\\n                오늘의 세션은 제주도 관광산업 현황과 미래 비즈니스 기회를 종합적으로 분석합니다.\\n            </p>\\n</div>\\n<!-- Center Section - Image -->\\n<div class=\"absolute\" style=\"left: 50px; top: 230px; width: 650px; height: 400px;\">\\n<img alt=\"제주도 성산일출봉 전경\" class=\"w-full h-full object-cover rounded-md\" src=\"https://page.gensparksite.com/slides_images/9cace8cf59587d36c3e225bf17b04a45.jpg\"/>\\n</div>\\n<!-- Right Section - Content -->\\n<div class=\"absolute text-white\" style=\"right: 50px; top: 190px; width: 450px;\">\\n<h3 class=\"text-xl font-bold mb-4 title-font\">세션 내용</h3>\\n<ul class=\"space-y-3 content-font\">\\n<li class=\"flex items-start\">\\n<i class=\"fas fa-circle text-orange-400 mr-3 mt-1 text-xs\" style=\"color: #f49415;\"></i>\\n<span>산업 동향 &amp; 진단</span>\\n</li>\\n<li class=\"flex items-start\">\\n<i class=\"fas fa-circle text-orange-400 mr-3 mt-1 text-xs\" style=\"color: #f49415;\"></i>\\n<span>명소·핵심 자원 분석</span>\\n</li>\\n<li class=\"flex items-start\">\\n<i class=\"fas fa-circle text-orange-400 mr-3 mt-1 text-xs\" style=\"color: #f49415;\"></i>\\n<span>시장 데이터·비즈니스 기회</span>\\n</li>\\n<li class=\"flex items-start\">\\n<i class=\"fas fa-circle text-orange-400 mr-3 mt-1 text-xs\" style=\"color: #f49415;\"></i>\\n<span>성공 사례/전략 제안</span>\\n</li>\\n<li class=\"flex items-start\">\\n<i class=\"fas fa-circle text-orange-400 mr-3 mt-1 text-xs\" style=\"color: #f49415;\"></i>\\n<span>질의응답 및 향후 계획</span>\\n</li>\\n</ul>\\n<div class=\"mt-6 text-sm content-font\">\\n<p class=\"mb-1\"><i class=\"fas fa-phone-alt mr-2\" style=\"color: #f49415;\"></i> 064-740-6000</p>\\n<p><i class=\"fas fa-globe mr-2\" style=\"color: #f49415;\"></i> www.visitjeju.net</p>\\n</div>\\n</div>\\n<!-- Right Section - Content -->\\n<div class=\"absolute text-white\" style=\"right: 0; top: 50px; width:90%; padding:20px; box-sizing:border-box;\">\\n  <ul class=\"space-y-4\">\\n    <li class=\"flex items-start\">\\n      <i class=\"fas fa-circle text-orange-400 mr-3 mt-1 text-xs\"></i>\\n      <h2 class=\"title-font text-xl font-bold\">1. 한국 반도체 산업 역사</h2>\\n      <p class=\"ml-4\">한국 반도체 산업의 역사는 1960년대 중반부터 시작되었습니다. 당시 미국의 기업들이 한국으로 진출하면서 반도체 조립 산업이 시작되었고, 이를 계기로 한국은 반도체 산업에 본격적으로 진입하게 되었습니다.</p>\\n    </li>\\n    <li class=\"flex items-start\">\\n    <i class=\"fas fa-circle text-orange-400 mr-3 mt-1 text-xs\"></i>\\n    <h3 class=\"text-xl font-semibold\">한국 반도체 산업의 세계 시장 점유율 분석</h3>\\n    <li class=\"flex items-start\">\\n<i class=\"fas fa-circle text-orange-400 mr-3 mt-1 text-xs\"></i>\\n      <p>2022년 기준으로, 한국의 반도체 장비 시장은 세계 시장의 24.4%를 차지하였으며 이는 18.3%를 기록한 일본을 넘어서는 수치입니다.</p>\\n</li>\\n        <li class=\"flex items-start\">\\n<i class=\"fas fa-circle text-orange-400 mr-3 mt-1 text-xs\"></i>\\n      <p>한국은 17.7%의 세계 반도체 시장 점유율을 차지하며 2013년부터 10년 연속 세계 2위를 유지하고 있습니다.</p>\\n</li>\\n        <li class=\"flex items-start\">\\n<i class=\"fas fa-circle text-orange-400 mr-3 mt-1 text-xs\"></i>\\n      <p>메모리 반도체 분야에서는 세계 1위로, 2022년 전 세계 시장 점유율의 57%를 차지하고 있습니다.</p>\\n</li>\\n  </ul>\\n  <h4 class=\"title-font mt-8\">한국 주요 반도체 제조 기업 순위 및 특성</h4>\\n  <ul class=\"space-y-3\">\\n    <li class=\"flex items-start\">\\n<i class=\"fas fa-circle text-orange-400 mr-3 mt-1 text-xs\"></i>\\n    <p>    한국은 세계적인 반도체 기업의 본고장이며, 주요 기업으로는 삼성전자, SK Hynix 및 LG Display 등이 있습니다. 이들 회사는 최첨단 반도체 생산에 있어 선두주자로 꼽히고 있습니다.</p>\\n</li>\\n    <li class=\"flex items-start\">\\n<i class=\"fas fa-circle text-orange-400 mr-3 mt-1 text-xs\"></i>\\n    <p>   2024년 기준, 국내 반도체 제조사 순위는 삼성전자가 1위에 올랐으며, 그 뒤를 이어 SK하이닉스와 DB하이텍, 매그나칩 등이 이름을 올립니다.</p>\\n</li>\\n  </ul>\\n</div>\\n<div class=\"number-badge text-orange-100\">\\n2\\n</div>\\n</div>\\n</body>\\n</html>',\n",
       "  'html': '<!DOCTYPE html>\\n<html lang=\"ko\">\\n<head>\\n<meta charset=\"utf-8\"/>\\n<meta content=\"width=device-width, initial-scale=1.0\" name=\"viewport\"/>\\n<title>발표 목차 - 한국 반도체 현황</title>\\n<link href=\"https://cdn.jsdelivr.net/npm/tailwindcss@2.2.19/dist/tailwind.min.css\" rel=\"stylesheet\"/>\\n<link href=\"https://cdn.jsdelivr.net/npm/@fortawesome/fontawesome-free@6.4.0/css/all.min.css\" rel=\"stylesheet\"/>\\n<style>\\n        body, html {\\n            margin: 0;\\n            padding: 0;\\n            overflow: hidden;\\n            font-family: \\'Nanum Gothic\\', Arial, sans-serif;\\n        }\\n        .slide-container {\\n            width: 1280px;\\n            height: 720px;\\n            position: relative;\\n            background-color: #06436e;\\n            overflow: hidden;\\n        }\\n        .sunburst {\\n            position: absolute;\\n            width: 400px;\\n            height: 400px;\\n            background: radial-gradient(circle, transparent 0%, transparent 70%, rgba(255,255,255,0.1) 100%);\\n            opacity: 0.3;\\n            right: 50px;\\n            top: 50px;\\n        }\\n        .agenda-box {\\n            position: absolute;\\n            left: 0;\\n            top: 50px;\\n            width: 340px;\\n            height: 180px;\\n            background-color: #f49415;\\n            padding: 30px;\\n        }\\n        .number-badge {\\n            position: absolute;\\n            right: 30px;\\n            bottom: 30px;\\n            width: 50px;\\n            height: 50px;\\n            background-color: #f49415;\\n            display: flex;\\n            align-items: center;\\n            justify-content: center;\\n            font-size: 24px;\\n            font-weight: bold;\\n        }\\n        .title-font {\\n            font-family: \\'Nanum Gothic\\', Arial, sans-serif;\\n        }\\n        .content-font {\\n            font-family: \\'Nanum Myeongjo\\', \\'Times New Roman\\', Times, serif;\\n        }\\n    </style>\\n</head>\\n<body>\\n<div class=\"slide-container flex\">\\n<!-- Sunburst Pattern -->\\n<div class=\"sunburst\"></div>\\n<!-- Left Section - Agenda -->\\n<div class=\"agenda-box\">\\n<h2 class=\"text-3xl font-bold mb-3 title-font\">목차</h2>\\n<p class=\"text-sm content-font\">\\n                한국 반도체 산업 현황에 대한 프레젠테이션 목차 페이지.\\n            </p>\\n</div>\\n<!-- Center Section - Image -->\\n<div class=\"absolute\" style=\"left: 50px; top: 230px; width: 650px; height: 400px;\">\\n<img alt=\"한국 반도체\" class=\"w-full h-full object-cover rounded-md\" src=\"http://t1.daumcdn.net/brunch/service/user/4w67/image/7tHm3vVtj_PoOuiSeUwf0kjKOaU.png\"/>\\n</div>\\n<!-- Right Section - Content -->\\n<div class=\"absolute text-white\" style=\"right: 50px; top: 190px; width: 450px;\">\\n<h3 class=\"text-xl font-bold mb-4 title-font\">세션 내용</h3>\\n<ul class=\"space-y-3 content-font\">\\n<li class=\"flex items-start\">\\n<i class=\"fas fa-circle text-orange-400 mr-3 mt-1 text-xs\" style=\"color: #f49415;\"></i>\\n<span>한국 반도체 산업 역사</span>\\n</li>\\n<li class=\"flex items-start\">\\n<i class=\"fas fa-circle text-orange-400 mr-3 mt-1 text-xs\" style=\"color: #f49415;\"></i>\\n<span>한국 반도체 산업의 세계 시장 점유율 분석</span>\\n</li>\\n<li class=\"flex items-start\">\\n<i class=\"fas fa-circle text-orange-400 mr-3 mt-1 text-xs\" style=\"color: #f49415;\"></i>\\n<span>한국 주요 반도체 제조 기업 순위 및 특성</span>\\n</li>\\n<li class=\"flex items-start\">\\n<i class=\"fas fa-circle text-orange-400 mr-3 mt-1 text-xs\" style=\"color: #f49415;\"></i>\\n<span>한국 반도체 기술 개발 동향</span>\\n</li>\\n<li class=\"flex items-start\">\\n<i class=\"fas fa-circle text-orange-400 mr-3 mt-1 text-xs\" style=\"color: #f49415;\"></i>\\n<span>한국 반도체 산업의 미래와 전망</span>\\n</li>\\n</ul>\\n</div>\\n<div class=\"number-badge text-orange-100\">\\n1\\n</div>\\n</div>\\n</body>\\n</html>',\n",
       "  'width': 1280,\n",
       "  'height': 720},\n",
       " {'description': '한국 반도체 산업의 기원을 탐구하고, 1960년대 시작된 반도체 조립 생산부터 현재에 이르기까지의 발전 과정을 분석합니다.',\n",
       "  'research': True,\n",
       "  'topic': '한국 반도체 산업 역사',\n",
       "  'idx': 2,\n",
       "  'name': '한국 반도체 산업 역사',\n",
       "  'content': '## 한국 반도체 산업의 역사\\n\\n한국의 반도체 산업은 1960년대 중반에 본격적으로 시작되었습니다. 이 시기는 미국 기업이 한국에 반도체 조립 및 생산 기지를 세운 때와 일치합니다. 특히 1965년, 미국 기업인 페어차일드와 모토로라가 한국에 진출하며 이를 계기로 한국은 본격적인 반도체 생산을 시도하기 시작했습니다[1](https://en.wikipedia.org/wiki/Semiconductor_industry_in_South_Korea).\\n\\n초기 한국의 반도체 산업은 미국과 일본의 기술을 도입하여 저임금 노동력을 활용하는 조립 위주의 형태였습니다. 당시 한국 시장의 성장은 주로 조립과 테스트라는 간단한 기능에 집중되어 있었습니다. 이러한 상황은 1960년대 초반 저렴한 인건비와 풍부한 노동력을 활용하여 국내에서 반도체 조립을 진행하게 만든 주된 요인이었습니다[2](https://archives.kdischool.ac.kr/bitstream/11125/29891/1/The%20Korean%20semiconductor%20industry.pdf).\\n\\n1969년에는 삼성전자가 국내 반도체 산업에 본격적으로 참여하게 되면서 큰 전환점을 맞이하게 됩니다. 삼성은 1974년, 한국전자산업과 한국반도체 도입을 통해 반도체 산업에 발을 디뎠으며, 이는 한국 반도체 산업의 중요한 기틀이 되었습니다. 이후 삼성은 1980년대에 들어서 대규모 연구개발에 투자하며 급속히 성장하기 시작했습니다[3](https://www.kdevelopedia.org/Development-Overview/all/development-ict-industries--29.do).\\n\\n1983년에는 한국이 세계에서 세 번째로 64K DRAM을 개발하는 성과를 올렸습니다. 이는 한국 반도체 산업의 기술적 발전을 크게 보여주는 사건입니다. 이러한 기술력은 한국이 점차 세계 반도체 시장에서 경쟁력을 갖추게 하는 기초가 되었습니다[4](http://world.kbs.co.kr/service/contents_view.htm?lang=e&menu_cate=business&id=&board_seq=146526&page=45&board_code=).\\n\\n1990년대에 들어서면서 한국은 DRAM 시장에서 세계적인 위치를 차지하게 됩니다. 삼성, LG, 현대 등 대기업들은 이 시장에서 주요한 역할을 담당하며, 한국 반도체 산업의 위상을 높였습니다. 1995년까지 한국 기업 세 곳은 전 세계 반도체 생산의 상위 15개 업체 안에 포함될 정도로 성장했습니다[5](https://cms.ewha.ac.kr/common/downLoad.action?siteId=iitc&fileSeq=11638767).\\n\\n2000년대 초반, 한국은 기계와 공정을 자동화하고 R&D 투자에 집중하면서 메모리 반도체 분야에서 더욱 큰 기술적 진보를 이뤘습니다. 이는 이후 글로벌 시장에서의 주도권을 강화하는 데 기여했습니다. 2010년대에 이르러서는 시스템 반도체 분야로도 그 영역을 넓혀나가고 있습니다. 현재 한국은 메모리 반도체 분야에서 세계적 리더로서 자리 잡고 있으며, 이를 기초로 첨단 산업으로의 전환을 주도하는 데 집중하고 있습니다[6](https://en.eeworld.com.cn/mp/EEWorld/a19854.jspx). \\n\\n한국 반도체 산업의 발전은 국가 경제 발전의 원동력 중 하나로, 미래에도 계속해서 중요한 산업으로 성장할 것으로 예상됩니다. 점점 더 발전된 기술 도입과 혁신을 통해, 한국 반도체 산업은 지속적으로 국제 경쟁력을 유지할 수 있을 것입니다[7](https://theme.archives.go.kr/next/koreaOfRecord/semiconTech.do).\\n\\nSources:\\n1. https://en.wikipedia.org/wiki/Semiconductor_industry_in_South_Korea\\n2. https://archives.kdischool.ac.kr/bitstream/11125/29891/1/The%20Korean%20semiconductor%20industry.pdf\\n3. https://www.kdevelopedia.org/Development-Overview/all/development-ict-industries--29.do\\n4. http://world.kbs.co.kr/service/contents_view.htm?lang=e&menu_cate=business&id=&board_seq=146526&page=45&board_code=\\n5. https://cms.ewha.ac.kr/common/downLoad.action?siteId=iitc&fileSeq=11638767\\n6. https://en.eeworld.com.cn/mp/EEWorld/a19854.jspx\\n7. https://theme.archives.go.kr/next/koreaOfRecord/semiconTech.do',\n",
       "  'img_url': 'https://www.investkorea.org/images/ik-en/2023/img_semiconductor01.jpg',\n",
       "  'html_template': '<!DOCTYPE html>\\n\\n<html lang=\"ko\">\\n<head>\\n<meta charset=\"utf-8\"/>\\n<meta content=\"width=device-width, initial-scale=1.0\" name=\"viewport\"/>\\n<title>한국 반도체 산업 역사</title>\\n<link href=\"https://cdn.jsdelivr.net/npm/tailwindcss@2.2.19/dist/tailwind.min.css\" rel=\"stylesheet\"/>\\n<link href=\"https://cdn.jsdelivr.net/npm/@fortawesome/fontawesome-free@6.4.0/css/all.min.css\" rel=\"stylesheet\"/>\\n<style>\\n        body, html {\\n            margin: 0;\\n            padding: 0;\\n            font-family: 나눔고딕, \"Nanum Gothic\", Arial, sans-serif;\\n            overflow: hidden;\\n        }\\n        .slide-container {\\n            width: 1280px;\\n            height: 720px;\\n            position: relative;\\n            overflow: hidden;\\n            display: flex;\\n        }\\n        .image-section {\\n            width: 50%;\\n            height: 100%;\\n            position: relative;\\n        }\\n        .content-section {\\n            width: 50%;\\n            height: 100%;\\n            background-color: #ffffff;\\n            padding: 80px 60px;\\n            position: relative;\\n        }\\n        .number-badge {\\n            position: absolute;\\n            right: 30px;\\n            bottom: 30px;\\n            width: 60px;\\n            height: 60px;\\n            background-color: #f49415;\\n            display: flex;\\n            align-items: center;\\n            justify-content: center;\\n            font-size: 24px;\\n            font-weight: bold;\\n            z-index: 10;\\n            color: #ffffff;\\n        }\\n        .sunburst {\\n            position: absolute;\\n            width: 300px;\\n            height: 300px;\\n            top: 0;\\n            right: 0;\\n            opacity: 0.2;\\n            background: radial-gradient(circle, transparent 30%, rgba(244, 148, 21, 0.3) 70%);\\n            z-index: 0;\\n        }\\n        .title-text {\\n            font-family: 나눔고딕, \"Nanum Gothic\", Arial, sans-serif;\\n            color: #06436e;\\n        }\\n        .content-text {\\n            font-family: 나눔명조, \"Nanum Myeongjo\", \\'Times New Roman\\', serif;\\n            color: #06436e;\\n        }\\n        .feature-item {\\n            display: flex;\\n            align-items: flex-start;\\n            margin-bottom: 14px;\\n        }\\n        .feature-icon {\\n            color: #f49415;\\n            margin-right: 12px;\\n            margin-top: 4px;\\n        }\\n    </style>\\n</head>\\n<body>\\n<div class=\"slide-container\">\\n<!-- Left Section - Image -->\\n<div class=\"image-section\">\\n<img alt=\"한국 반도체 산업 이미지\" src=\"https://www.investkorea.org/images/ik-en/2023/img_semiconductor01.jpg\" style=\"width: 100%; height: 100%; object-fit: cover;\"/>\\n</div>\\n<!-- Right Section - Content -->\\n<div class=\"content-section\">\\n<!-- Sunburst Pattern -->\\n<div class=\"sunburst\"></div>\\n<!-- Content -->\\n<div style=\"position: relative; z-index: 1;\">\\n<h1 class=\"text-6xl font-bold title-text\" style=\"line-height: 1.1;\">한국 반도체 산업의 역사</h1>\\n<h2 class=\"text-5xl font-bold mb-10 title-text\" style=\"line-height: 1.1;\">1960년대부터 현재까지</h2>\\n<div class=\"mb-6\">\\n<h3 class=\"text-2xl font-bold mb-3 title-text\">산업의 시작</h3>\\n<div class=\"feature-item\">\\n<i class=\"fas fa-industry feature-icon text-lg\"></i>\\n<p class=\"content-text\">1965년, 미국 기업 페어차일드와 모토로라의 한국 진출</p>\\n</div>\\n<div class=\"feature-item\">\\n<i class=\"fas fa-chart-line feature-icon text-lg\"></i>\\n<p class=\"content-text\">삼성전자의 반도체 산업 참여, 1969년</p>\\n</div>\\n<div class=\"feature-item\">\\n<i class=\"fas fa-brain feature-icon text-lg\"></i>\\n<p class=\"content-text\">연구 개발 투자 및 기술 혁신</p>\\n</div>\\n</div>\\n<div>\\n<h3 class=\"text-2xl font-bold mb-3 title-text\">글로벌 영향력</h3>\\n<div class=\"feature-item\">\\n<i class=\"fas fa-globe feature-icon text-lg\"></i>\\n<p class=\"content-text\">1983년, 세계에서 세 번째로 64K DRAM 개발</p>\\n</div>\\n<div class=\"feature-item\">\\n<i class=\"fas fa-trophy feature-icon text-lg\"></i>\\n<p class=\"content-text\">2000년대, 메모리 반도체 분야에서 기술적 진보</p>\\n</div>\\n<div class=\"feature-item\">\\n<i class=\"fas fa-shield-alt feature-icon text-lg\"></i>\\n<p class=\"content-text\">현재 메모리 반도체 분야의 세계적 리더</p>\\n</div>\\n</div>\\n</div>\\n</div>\\n<!-- Number Badge -->\\n<div class=\"number-badge\">\\n    02\\n</div>\\n</div>\\n</body>\\n</html>',\n",
       "  'html': '<!DOCTYPE html>\\n\\n<html lang=\"ko\">\\n<head>\\n<meta charset=\"utf-8\"/>\\n<meta content=\"width=device-width, initial-scale=1.0\" name=\"viewport\"/>\\n<title>한국 반도체 산업 역사</title>\\n<link href=\"https://cdn.jsdelivr.net/npm/tailwindcss@2.2.19/dist/tailwind.min.css\" rel=\"stylesheet\"/>\\n<link href=\"https://cdn.jsdelivr.net/npm/@fortawesome/fontawesome-free@6.4.0/css/all.min.css\" rel=\"stylesheet\"/>\\n<style>\\n        body, html {\\n            margin: 0;\\n            padding: 0;\\n            font-family: 나눔고딕, \"Nanum Gothic\", Arial, sans-serif;\\n            overflow: hidden;\\n        }\\n        .slide-container {\\n            width: 1280px;\\n            height: 720px;\\n            position: relative;\\n            overflow: hidden;\\n            display: flex;\\n        }\\n        .image-section {\\n            width: 50%;\\n            height: 100%;\\n            position: relative;\\n        }\\n        .content-section {\\n            width: 50%;\\n            height: 100%;\\n            background-color: #ffffff;\\n            padding: 80px 60px;\\n            position: relative;\\n        }\\n        .number-badge {\\n            position: absolute;\\n            right: 30px;\\n            bottom: 30px;\\n            width: 60px;\\n            height: 60px;\\n            background-color: #f49415;\\n            display: flex;\\n            align-items: center;\\n            justify-content: center;\\n            font-size: 24px;\\n            font-weight: bold;\\n            z-index: 10;\\n            color: #ffffff;\\n        }\\n        .sunburst {\\n            position: absolute;\\n            width: 300px;\\n            height: 300px;\\n            top: 0;\\n            right: 0;\\n            opacity: 0.2;\\n            background: radial-gradient(circle, transparent 30%, rgba(244, 148, 21, 0.3) 70%);\\n            z-index: 0;\\n        }\\n        .title-text {\\n            font-family: 나눔고딕, \"Nanum Gothic\", Arial, sans-serif;\\n            color: #06436e;\\n        }\\n        .content-text {\\n            font-family: 나눔명조, \"Nanum Myeongjo\", \\'Times New Roman\\', serif;\\n            color: #06436e;\\n        }\\n        .feature-item {\\n            display: flex;\\n            align-items: flex-start;\\n            margin-bottom: 14px;\\n        }\\n        .feature-icon {\\n            color: #f49415;\\n            margin-right: 12px;\\n            margin-top: 4px;\\n        }\\n    </style>\\n</head>\\n<body>\\n<div class=\"slide-container\">\\n<!-- Left Section - Image -->\\n<div class=\"image-section\">\\n<img alt=\"한국 반도체 산업 이미지\" src=\"https://www.investkorea.org/images/ik-en/2023/img_semiconductor01.jpg\" style=\"width: 100%; height: 100%; object-fit: cover;\"/>\\n</div>\\n<!-- Right Section - Content -->\\n<div class=\"content-section\">\\n<!-- Sunburst Pattern -->\\n<div class=\"sunburst\"></div>\\n<!-- Content -->\\n<div style=\"position: relative; z-index: 1;\">\\n<h1 class=\"text-6xl font-bold title-text\" style=\"line-height: 1.1;\">한국 반도체 산업의 역사</h1>\\n<h2 class=\"text-5xl font-bold mb-10 title-text\" style=\"line-height: 1.1;\">1960년대부터 현재까지</h2>\\n<div class=\"mb-6\">\\n<h3 class=\"text-2xl font-bold mb-3 title-text\">산업의 시작</h3>\\n<div class=\"feature-item\">\\n<i class=\"fas fa-industry feature-icon text-lg\"></i>\\n<p class=\"content-text\">1965년, 미국 기업 페어차일드와 모토로라의 한국 진출</p>\\n</div>\\n<div class=\"feature-item\">\\n<i class=\"fas fa-chart-line feature-icon text-lg\"></i>\\n<p class=\"content-text\">삼성전자의 반도체 산업 참여, 1969년</p>\\n</div>\\n<div class=\"feature-item\">\\n<i class=\"fas fa-brain feature-icon text-lg\"></i>\\n<p class=\"content-text\">연구 개발 투자 및 기술 혁신</p>\\n</div>\\n</div>\\n<div>\\n<h3 class=\"text-2xl font-bold mb-3 title-text\">글로벌 영향력</h3>\\n<div class=\"feature-item\">\\n<i class=\"fas fa-globe feature-icon text-lg\"></i>\\n<p class=\"content-text\">1983년, 세계에서 세 번째로 64K DRAM 개발</p>\\n</div>\\n<div class=\"feature-item\">\\n<i class=\"fas fa-trophy feature-icon text-lg\"></i>\\n<p class=\"content-text\">2000년대, 메모리 반도체 분야에서 기술적 진보</p>\\n</div>\\n<div class=\"feature-item\">\\n<i class=\"fas fa-shield-alt feature-icon text-lg\"></i>\\n<p class=\"content-text\">현재 메모리 반도체 분야의 세계적 리더</p>\\n</div>\\n</div>\\n</div>\\n</div>\\n<!-- Number Badge -->\\n<div class=\"number-badge\">\\n    02\\n</div>\\n</div>\\n</body>\\n</html>',\n",
       "  'width': 1280,\n",
       "  'height': 720},\n",
       " {'description': '한국 반도체 산업이 세계 시장에서 차지하는 비중을 분석하고, 주요 국가와의 비교를 통해 글로벌 시장에서의 위치를 평가합니다.',\n",
       "  'research': True,\n",
       "  'topic': '한국 반도체 산업 세계 시장 점유율',\n",
       "  'idx': 3,\n",
       "  'name': '한국 반도체 산업의 세계 시장 점유율 분석',\n",
       "  'content': '## 한국 반도체 산업의 세계 시장 점유율 분석\\n\\n한국은 글로벌 반도체 시장에서 핵심적인 위치를 차지하고 있습니다. 반도체는 대한민국의 가장 중요한 수출품목 중 하나이며, 2023년 현재도 주요 산업으로서의 위상을 계속 유지하고 있습니다. 한국의 반도체 산업은 주로 삼성전자와 SK하이닉스 같은 주요 기업에 의해 이끌어지고 있으며, 이들 기업은 메모리 반도체 분야에서 전체 시장의 60% 이상을 점유하고 있습니다.\\n\\n2023년 한국 반도체 산업은 글로벌 시장에서 17.7%의 점유율을 기록하며, 미국에 이어 세계 2위를 차지했습니다 (출처: [InvestKOREA](https://www.investkorea.org/ik-en/cntnts/i-312/web.do)). 이는 한국 반도체 산업이 지난 10년간 세계 시장에서 꾸준히 유지해온 위치입니다. 특히 메모리 반도체 분야에서는 2023년 한국이 세계 시장의 60.5%를 차지하며 확고한 시장 점유율을 보였습니다 (출처: [Stellar Market Research](https://www.stellarmr.com/report/south-korea-semiconductor-memory-market/2422)).\\n\\n반면, 시스템 반도체 분야에서는 점유율이 상대적으로 낮습니다. 2023년 한국의 시스템 반도체 시장 점유율은 약 2.3%로 보고되었으며, 이는 향후 몇 년간 감소할 것으로 예측됩니다 (출처: [Business Korea](https://www.businesskorea.co.kr/news/articleView.html?idxno=233746)). 이러한 변동은 전반적인 반도체 시장에서 한국의 시스템 반도체 산업이 겪는 도전과도 관련이 있습니다.\\n\\n한국은 특히 메모리 반도체 분야에서 글로벌 시장을 주도하고 있으며 이는 삼성전자와 SK하이닉스의 강력한 생산력에 기인합니다. 그러나 시스템 반도체 분야와 같은 특정 영역에서는 여전히 성장 가능성을 내포하며 글로벌 경쟁에서 위치 강화를 필요로 하고 있습니다. 이러한 분야에서 한국은 대만, 중국, 미국 등과 경쟁하며 기술 및 인프라 개발을 통해 시장 점유율을 확대할 수 있습니다.\\n\\n결국 한국의 반도체 산업은 메모리 분야에서 높은 점유율을 확보하고 있지만, 전체 반도체 시장에서의 지속 가능한 성장과 다양성을 확보하기 위해서는 시스템 반도체와 비메모리 반도체 분야에서의 경쟁력을 강화할 필요가 있습니다. 이러한 다양성과 포트폴리오는 한국의 반도체 산업이 세계적으로 더욱 강력한 위치를 확보하는 데 필수적입니다. \\n\\n한국 반도체 산업이 세계 시장에서 지속적으로 두각을 나타내기 위해서는 기술 혁신과 원활한 공급망 관리를 통해 전략적으로 시장을 지배해야 합니다. 이를 위해서는 정부의 지원과 산업 내 협력 강화가 필요할 것입니다.\\n\\n### 출처\\n1. [InvestKOREA](https://www.investkorea.org/ik-en/cntnts/i-312/web.do)\\n2. [Stellar Market Research](https://www.stellarmr.com/report/south-korea-semiconductor-memory-market/2422)\\n3. [Business Korea](https://www.businesskorea.co.kr/news/articleView.html?idxno=233746)',\n",
       "  'img_url': 'https://www.investkorea.org/upload/_res/editor_image/images/000026/20191127105140807_ZY4W22AX.png',\n",
       "  'html_template': '\\n<!DOCTYPE html>\\n\\n<html lang=\"ko\">\\n<head>\\n<meta charset=\"utf-8\"/>\\n<meta content=\"width=device-width, initial-scale=1.0\" name=\"viewport\"/>\\n<title>한국 반도체 산업의 세계 시장 점유율 분석</title>\\n<link href=\"https://cdn.jsdelivr.net/npm/tailwindcss@2.2.19/dist/tailwind.min.css\" rel=\"stylesheet\"/>\\n<link href=\"https://cdn.jsdelivr.net/npm/@fortawesome/fontawesome-free@6.4.0/css/all.min.css\" rel=\"stylesheet\"/>\\n<script src=\"https://cdn.jsdelivr.net/npm/chart.js\"></script>\\n<style>\\n        body, html {\\n            margin: 0;\\n            padding: 0;\\n            font-family: \\'나눔고딕\\', \\'Nanum Gothic\\', sans-serif;\\n            overflow: hidden;\\n        }\\n        .slide-container {\\n            width: 1280px;\\n            height: 720px;\\n            position: relative;\\n            overflow: hidden;\\n            display: flex;\\n        }\\n        .content-left {\\n            width: 35%;\\n            height: 100%;\\n            background-color: #06436e;\\n            color: #ffffff;\\n            padding: 80px 40px;\\n            position: relative;\\n        }\\n        .content-right {\\n            width: 65%;\\n            height: 100%;\\n            background-color: #FFFFFF;\\n            padding: 60px;\\n            display: flex;\\n            flex-direction: column;\\n        }\\n        .number-badge {\\n            position: absolute;\\n            right: 30px;\\n            bottom: 30px;\\n            width: 60px;\\n            height: 60px;\\n            background-color: #f49415;\\n            display: flex;\\n            align-items: center;\\n            justify-content: center;\\n            font-size: 24px;\\n            font-weight: bold;\\n            font-family: \\'나눔고딕\\', \\'Nanum Gothic\\', sans-serif;\\n        }\\n        .chart-container {\\n            width: 100%;\\n            height: 460px;\\n            margin-top: 20px;\\n        }\\n        .legend-item {\\n            display: flex;\\n            align-items: center;\\n            margin-right: 20px;\\n        }\\n        .legend-color {\\n            width: 16px;\\n            height: 16px;\\n            margin-right: 8px;\\n            border-radius: 50%;\\n        }\\n        h1, h2, h3, .title-font {\\n            font-family: \\'나눔고딕\\', \\'Nanum Gothic\\', sans-serif;\\n        }\\n        .key-stat {\\n            display: flex;\\n            align-items: center;\\n            margin-bottom: 15px;\\n        }\\n        .stat-icon {\\n            margin-right: 10px;\\n            font-size: 18px;\\n            color: #f49415;\\n        }\\n    </style>\\n</head>\\n<body>\\n<div class=\"slide-container\">\\n<!-- Left Section - Content -->\\n<div class=\"content-left\">\\n<div>\\n<h1 class=\"text-5xl font-bold\" style=\"line-height: 1.1;\">한국 반도체 산업의</h1>\\n<h1 class=\"text-5xl font-bold\" style=\"line-height: 1.1;\">세계 시장 점유율 분석</h1>\\n<h2 class=\"text-4xl mt-2\">주요 국가와의 비교</h2>\\n<div class=\"mt-10 text-lg\">\\n<p class=\"mb-6\">한국 반도체 산업은 세계 시장에서 두각을 보이며, 특히 메모리 반도체 분야에서 강력한 시장 점유율을 자랑합니다.</p>\\n<div class=\"mt-8\">\\n<div class=\"key-stat\">\\n<div class=\"stat-icon\">📈</div>\\n<span>2023년 글로벌 시장 점유율 17.7% 기록 (세계 2위)</span>\\n</div>\\n<div class=\"key-stat\">\\n<div class=\"stat-icon\"><i class=\"fas fa-microchip\"></i></div>\\n<span>메모리 반도체: 시장 점유율 60.5%</span>\\n</div>\\n<div class=\"key-stat\">\\n<div class=\"stat-icon\"><i class=\"fas fa-chart-bar\"></i></div>\\n<span>시스템 반도체 점유율: 2.3%</span>\\n</div>\\n<div class=\"key-stat\">\\n<div class=\"stat-icon\"><i class=\"fas fa-bolt\"></i></div>\\n<span>미국 1위, 한국 2위, 대만 3위</span>\\n</div>\\n</div>\\n</div>\\n</div>\\n<!-- Right Section - Chart -->\\n<div class=\"content-right\">\\n<!-- Chart Legend -->\\n<div class=\"flex\">\\n<div class=\"legend-item\">\\n<div class=\"legend-color\" style=\"background-color: #f49415;\"></div>\\n<span class=\"title-font\">반도체 시장 점유율</span>\\n</div>\\n<div class=\"legend-item\">\\n<div class=\"legend-color\" style=\"background-color: #8cc63f;\"></div>\\n<span class=\"title-font\">메모리 반도체 점유율</span>\\n</div>\\n<div class=\"legend-item\">\\n<div class=\"legend-color\" style=\"background-color: #06436e;\"></div>\\n<span class=\"title-font\">시스템 반도체 점유율</span>\\n</div>\\n</div>\\n<div class=\"text-xl mt-2 font-semibold title-font\">한국 반도체 산업 현황 (2023)</div>\\n<!-- General Semiconductor Industry Stats (Bar Chart) -->\\n<div class=\"chart-container\">\\n<canvas id=\"semiconductorBarChart\"></canvas>\\n</div>\\n</div>\\n<!-- Number Badge -->\\n<div class=\"number-badge\">\\n    03\\n</div>\\n</div>\\n<script>\\n    // 반도체 산업 점유율 (Bar Chart)\\n    const barCtx = document.getElementById(\\'barChart\\').getContext(\\'2d\\');\\n    const barChart = new Chart(barCtx, {\\n        type: \\'bar\\',\\n        data: {\\n            labels: [\\'전체 시장 점유율\\', \\'메모리 반도체\\', \\'시스템 반도체\\'],\\n            datasets: [\\n                {\\n                    label: \\'한국 반도체\\',\\n                    data: [17.7, 60.5, 2.3],\\n                    backgroundColor: \\'#f49415\\',\\n                },\\n                {\\n                    label: \\'미국\\',\\n                    data: [54.7, 7.8, 47.5],\\n                    backgroundColor: \\'#06436e\\',\\n                },\\n                {\\n                    label: \\'대만\\',\\n                    data: [8.7, 24.8, 11.3],\\n                    backgroundColor: \\'#8cc63f\\',\\n                }\\n            ]\\n        },\\n        options: {\\n            indexAxis: \\'x\\',\\n            scales: {\\n                y: {\\n                    beginAtZero: true,\\n                    max: 100,\\n                    position: \\'left\\',\\n                    grid: {\\n                        color: \\'#E0E0E0\\'\\n                    },\\n                    title: {\\n                        display: true,\\n                        text: \\'점유율 %\\',\\n                        font: {\\n                            family: \"\\'나눔고딕\\', sans-serif\"\\n                        }\\n                    }\\n                },\\n                x: {\\n                    grid: {\\n                        display: false\\n                    }\\n                }\\n            },\\n            plugins: {\\n                legend: {\\n                    display: false\\n                },\\n                tooltip: {\\n                    titleFont: {\\n                        family: \"\\'나눔고딕\\', sans-serif\"\\n                    },\\n                    bodyFont: {\\n                        family: \"\\'나눔고딕\\', sans-serif\"\\n                    }\\n                }\\n            },\\n            barThickness: 30\\n        }\\n    });\\n</script>\\n</body>\\n</html>\\n```\\n\\n**제안된 변경 사항 및 추천 사항:**\\n\\n1. **제목 수정:** 상단 제목을 주제에 맞게 ',\n",
       "  'html': '<!DOCTYPE html>\\n<html lang=\"ko\">\\n<head>\\n<meta charset=\"utf-8\"/>\\n<meta content=\"width=device-width, initial-scale=1.0\" name=\"viewport\"/>\\n<title>한국 반도체 산업의 세계 시장 점유율 분석</title>\\n<link href=\"https://cdn.jsdelivr.net/npm/tailwindcss@2.2.19/dist/tailwind.min.css\" rel=\"stylesheet\"/>\\n<link href=\"https://cdn.jsdelivr.net/npm/@fortawesome/fontawesome-free@6.4.0/css/all.min.css\" rel=\"stylesheet\"/>\\n<script src=\"https://cdn.jsdelivr.net/npm/chart.js\"></script>\\n<style>\\n        body, html {\\n            margin: 0;\\n            padding: 0;\\n            font-family: \\'나눔고딕\\', \\'Nanum Gothic\\', sans-serif;\\n            overflow: hidden;\\n        }\\n        .slide-container {\\n            width: 1280px;\\n            height: 720px;\\n            position: relative;\\n            overflow: hidden;\\n            display: flex;\\n        }\\n        .content-left {\\n            width: 35%;\\n            height: 100%;\\n            background-color: #06436e;\\n            color: #ffffff;\\n            padding: 80px 40px;\\n            position: relative;\\n            display: flex;\\n            flex-direction: column;\\n        }\\n        .content-right {\\n            width: 65%;\\n            height: 100%;\\n            background-color: #FFFFFF;\\n            padding: 60px;\\n            display: flex;\\n            flex-direction: column;\\n            justify-content: center;\\n            align-items: center;\\n        }\\n        .number-badge {\\n            position: absolute;\\n            right: 30px;\\n            bottom: 30px;\\n            width: 60px;\\n            height: 60px;\\n            background-color: #f49415;\\n            display: flex;\\n            align-items: center;\\n            justify-content: center;\\n            font-size: 24px;\\n            font-weight: bold;\\n            font-family: \\'나눔고딕\\', \\'Nanum Gothic\\', sans-serif;\\n        }\\n        .chart-container {\\n            width: 100%;\\n            height: 480px;\\n        }\\n        .legend-item {\\n            display: flex;\\n            align-items: center;\\n            margin-right: 20px;\\n        }\\n        .legend-color {\\n            width: 16px;\\n            height: 16px;\\n            margin-right: 8px;\\n            border-radius: 50%;\\n        }\\n        h1, h2, h3, .title-font {\\n            font-family: \\'나눔고딕\\', \\'Nanum Gothic\\', sans-serif;\\n        }\\n        .key-stat {\\n            display: flex;\\n            align-items: center;\\n            margin-bottom: 15px;\\n        }\\n        .stat-icon {\\n            margin-right: 10px;\\n            font-size: 18px;\\n            color: #f49415;\\n        }\\n        .image-container {\\n            margin-top: 20px;\\n            display: flex;\\n            justify-content: center;\\n        }\\n    </style>\\n</head>\\n<body>\\n<div class=\"slide-container\">\\n<!-- Left Section - Content -->\\n<div class=\"content-left\">\\n<div>\\n<h1 class=\"text-5xl font-bold\" style=\"line-height: 1.1;\">한국 반도체 산업의</h1>\\n<h1 class=\"text-5xl font-bold\" style=\"line-height: 1.1;\">세계 시장 점유율 분석</h1>\\n<h2 class=\"text-4xl mt-2\">주요 국가와의 비교</h2>\\n<div class=\"mt-10 text-lg\">\\n<p>한국 반도체 산업은 세계 시장에서 두각을 보이며, 특히 메모리 반도체 분야에서 강력한 시장 점유율을 자랑합니다.</p>\\n<div class=\"mt-8\">\\n<div class=\"key-stat\">\\n<div class=\"stat-icon\">📈</div>\\n<span>2023년 글로벌 시장 점유율 17.7% 기록 (세계 2위)</span>\\n</div>\\n<div class=\"key-stat\">\\n<div class=\"stat-icon\"><i class=\"fas fa-microchip\"></i></div>\\n<span>메모리 반도체: 시장 점유율 60.5%</span>\\n</div>\\n<div class=\"key-stat\">\\n<div class=\"stat-icon\"><i class=\"fas fa-chart-bar\"></i></div>\\n<span>시스템 반도체 점유율: 2.3%</span>\\n</div>\\n</div>\\n</div>\\n</div>\\n<!-- Number Badge -->\\n<div class=\"number-badge\">\\n    03\\n</div>\\n</div>\\n<!-- Right Section - Chart and Image -->\\n<div class=\"content-right\">\\n<div class=\"flex justify-center\">\\n<!-- Chart Legend -->\\n<div class=\"legend-item\">\\n<div class=\"legend-color\" style=\"background-color: #f49415;\"></div>\\n<span class=\"title-font\">전체 점유율</span>\\n</div>\\n<div class=\"legend-item\">\\n<div class=\"legend-color\" style=\"background-color: #8cc63f;\"></div>\\n<span class=\"title-font\">메모리 반도체</span>\\n</div>\\n<div class=\"legend-item\">\\n<div class=\"legend-color\" style=\"background-color: #06436e;\"></div>\\n<span class=\"title-font\">시스템 반도체</span>\\n</div>\\n</div>\\n<div class=\"text-xl mt-2 font-semibold title-font\">한국 반도체 산업 현황 (2023)</div>\\n<!-- General Semiconductor Industry Stats (Bar Chart) -->\\n<div class=\"chart-container\">\\n<canvas id=\"semiconductorBarChart\"></canvas>\\n</div>\\n<!-- Image Section -->\\n<div class=\"image-container\">\\n<img src=\"https://www.investkorea.org/upload/_res/editor_image/images/000026/20191127105140807_ZY4W22AX.png\" alt=\"Semiconductor\" style=\"max-width: 100%; height: auto; border: 1px solid #e0e0e0;\"/>\\n</div>\\n</div>\\n</div>\\n<script>\\n    // 반도체 산업 점유율 (Bar Chart)\\n    const barCtx = document.getElementById(\\'semiconductorBarChart\\').getContext(\\'2d\\');\\n    const barChart = new Chart(barCtx, {\\n        type: \\'bar\\',\\n        data: {\\n            labels: [\\'전체 시장 점유율\\', \\'메모리 반도체\\', \\'시스템 반도체\\'],\\n            datasets: [\\n                {\\n                    label: \\'한국 반도체\\',\\n                    data: [17.7, 60.5, 2.3],\\n                    backgroundColor: \\'#f49415\\',\\n                },\\n                {\\n                    label: \\'미국\\',\\n                    data: [54.7, 7.8, 47.5],\\n                    backgroundColor: \\'#06436e\\',\\n                },\\n                {\\n                    label: \\'대만\\',\\n                    data: [8.7, 24.8, 11.3],\\n                    backgroundColor: \\'#8cc63f\\',\\n                }\\n            ]\\n        },\\n        options: {\\n            indexAxis: \\'y\\',\\n            scales: {\\n                x: {\\n                    beginAtZero: true,\\n                    max: 100,\\n                    position: \\'top\\',\\n                    grid: {\\n                        color: \\'#E0E0E0\\'\\n                    },\\n                    title: {\\n                        display: true,\\n                        text: \\'점유율 %\\',\\n                        font: {\\n                            family: \"\\'나눔고딕\\', sans-serif\"\\n                        }\\n                    }\\n                },\\n                y: {\\n                    grid: {\\n                        display: false\\n                    }\\n                }\\n            },\\n            plugins: {\\n                legend: {\\n                    display: false\\n                },\\n                tooltip: {\\n                    titleFont: {\\n                        family: \"\\'나눔고딕\\', sans-serif\"\\n                    },\\n                    bodyFont: {\\n                        family: \"\\'나눔고딕\\', sans-serif\"\\n                    }\\n                }\\n            },\\n            barThickness: 30\\n        }\\n    });\\n</script>\\n</body>\\n</html>',\n",
       "  'width': 1280,\n",
       "  'height': 720},\n",
       " {'description': '한국 내 주요 반도체 제조 기업의 현재 순위와 각각의 기술적 특성 및 장점을 살펴봅니다.',\n",
       "  'research': True,\n",
       "  'topic': '한국 반도체 제조 기업 순위',\n",
       "  'idx': 4,\n",
       "  'name': '한국 주요 반도체 제조 기업 순위 및 특성',\n",
       "  'content': \"## 한국 주요 반도체 제조 기업 순위 및 특성\\n\\n대한민국은 반도체 산업에서 세계적인 강국으로 자리매김하고 있으며, 특히 반도체 시장 점유율 17.7%로 2022년 기준 글로벌 시장에서 10년 연속 두 번째를 기록했습니다. 2023년에도 한국의 반도체 산업은 세계 2위를 이어갔으며, 이를 주도하는 기업으로는 삼성전자와 SK하이닉스가 있습니다 [1, 2].\\n\\n### 삼성전자\\n\\n삼성전자는 전 세계 반도체 시장에서 탑 1에 위치해 있으며, NAND 및 DRAM 분야에서 높은 실적을 보유하고 있습니다. 2022년, 삼성전자는 3nm 공정을 최초로 상용화하여 미세화 경쟁에서 우위를 증명했습니다 [3]. 이러한 기술 혁신에 힘입어 삼성전자는 고효율의 메모리 및 AI 반도체 솔루션 개발에 집중하고 있습니다. 특히, 5G 및 AI와 같은 첨단 기술과 결합된 반도체 제품을 선도하고 있습니다 [4].\\n\\n삼성전자는 또한 지속 가능한 경영을 우선하며, 환경적 책임을 강화하고 있습니다. 이들은 2050년까지 재생 가능 에너지 100% 사용을 목표로 하고 있으며, 이는 글로벌 ESG(환경, 사회, 지배구조) 경쟁력 향상에 기여하고 있습니다 [5].\\n\\n### SK하이닉스\\n\\nSK하이닉스는 메모리 반도체 분야에서 글로벌 리더로 자리잡고 있으며, 특히 HBM(High Bandwidth Memory) 기술을 통해 AI 및 데이터센터 시장에서 강한 입지를 보유하고 있습니다. 이 회사의 혁신적인 메모리 칩 기술은 AI 컴퓨팅의 핵심 성능을 크게 향상시킵니다 [6]. TSV(Through Silicon Via) 기술을 활용한 데이터 처리 관련 기술에서도 두각을 나타내고 있습니다 [7].\\n\\nSK하이닉스는 기술 혁신을 통한 시장 점유율 확장에 집중하고 있으며, PRAM, ReRAM, MRAM 등 차세대 메모리 기술 개발에 적극 투자 중입니다. 이러한 기술적 우위를 통해 회사는 글로벌 AI 반도체 시장에서도 주요 업체로 자리매김합니다 [8, 9].\\n\\n### LG전자의 반도체 사업\\n\\nLG전자도 차량용 반도체 설계 및 고급 패키징 기술의 개발을 통해 반도체 시장에서의 경쟁력을 강화하고 있습니다. 특히, 모바일 반도체와 자동차용 반도체 분야에서 '코퍼 포스트'와 같은 새로운 기술을 세계 최초로 개발하여 주목받고 있습니다 [10].\\n\\n또한, LG전자는 AI 기반 반도체 경쟁력 강화를 목표로 하며, 전기차 및 스마트폰을 위한 고성능 반도체 솔루션 개발에 주력하고 있습니다 [11]. 이런 기술적 노력은 ADAS(첨단 운전자 보조 시스템)와 같은 솔루션을 통해 자율주행차 시대에 대비하는 데 기여할 것입니다 [12]. \\n\\n이렇듯, 한국의 주요 반도체 기업들인 삼성전자, SK하이닉스와 LG전자는 각각의 기술적 강점을 바탕으로 반도체 산업에서 앞서 나아가고 있으며, 지속적인 연구 개발과 투자로 산업계의 리더십을 강화하고 있습니다.\\n\\n## 출처\\n\\n1. https://www.investkorea.org/ik-en/cntnts/i-5021/web.do \\n2. https://koreatechtoday.com/south-koreas-semiconductor-giants-lead-amidst-tech-sector-shifts-a-look-back-at-2023/\\n3. https://news.samsungsemiconductor.com/kr/behind-the-chip-%EB%B0%98%EB%8F%84%EC%B2%B4-%EA%B7%B8-%EC%84%B1%EC%9E%A5%EC%9D%98-%EA%B8%B0%EB%A1%9D-%EA%B3%BC%EA%B1%B0-%ED%98%84%EC%9E%AC-%EA%B7%B8%EB%A6%AC%EA%B3%A0-%EB%AF%B8%EB%9E%98/\\n4. https://semiconductor.samsung.com/kr/ \\n5. https://www.samsung.com/sec/sustainability/main/\\n6. https://news.skhynix.co.kr/skhynix-41st-anniversary/\\n7. https://contents.premium.naver.com/pathway/pathways/contents/231211015521752nz\\n8. https://rnd1.tistory.com/entry/SK%ED%95%98%EC%9D%B4%EB%8B%89%EC%8A%A4-%EC%B0%A8%EC%84%B8%EB%8C%80-%EB%A9%94%EB%AA%A8%EB%A6%AC-%EC%9E%91%EB%8F%99%EC%9B%90%EB%A6%AC-%ED%95%B5%EC%8B%AC%EA%B8%B0%EC%88%A0-SWOT-%EB%B6%84%EC%84%9D \\n9. https://www.sisajournal-e.com/news/articleView.html?idxno=406721\\n10. https://www.hankyung.com/article/202506258979i\\n11. https://live.lge.co.kr/2411-lg-mcu/\\n12. https://www.thelec.kr/news/articleView.html?idxno=30611\",\n",
       "  'img_url': 'https://image.semiconductor.samsung.com/image/samsung/p6/semiconductor/about-us/business-area/business-divisions-memory-pc-1156x555.png?$ORIGIN_PNG$',\n",
       "  'html_template': '<!DOCTYPE html>\\n\\n<html lang=\"kr\">\\n\\n<head>\\n    <meta charset=\"utf-8\">\\n    <meta name=\"viewport\" content=\"width=device-width, initial-scale=1.0\"/>\\n    <title>한국 반도체 제조 기업 순위 및 특성</title>\\n    <link href=\"https://cdn.jsdelivr.net/npm/tailwindcss@2.2.19/tailwind.min.css\" rel=\"stylesheet\">\\n    <link href=\"https://kit.fontawesome.com/a076d05399.js\" rel=\"stylesheet\">\\n    <style>\\n        .slide-background {\\n            width: 100%;\\n            height: 100vh;\\n            background-color: #f5f5f5;\\n            display: flex;\\n            justify-content: center;\\n            align-items: center;\\n        }\\n        .slide-content {\\n            background: #ffffff;\\n            display: flex;\\n            width: 80%;\\n            height: 80%;\\n            box-shadow: 0 0 30px rgba(0,0,0,0.15);\\n            overflow: hidden;\\n        }\\n        .image-container {\\n            width: 50%;\\n            height: 100%;\\n        }\\n        .image-content {\\n            height: 100%;\\n            width: 100%;\\n            object-fit: cover;\\n        }\\n        .text-content {\\n            padding: 40px;\\n            width: 50%;\\n            font-family: \\'Arial\\', sans-serif;\\n            color: #333;\\n            overflow-y: auto;\\n        }\\n        .title {\\n            font-size: 36px;\\n            font-weight: bold;\\n            margin-bottom: 20px;\\n            color: #333;\\n        }\\n    </style>\\n</head>\\n<body>\\n<div class=\"slide-container\">\\n  <div class=\"slide-content\">\\n    <div class=\"slide-row\">\\n        <div class=\"image-section\">\\n            <img class=\"image-item\"\\n                 src=\"https://image.semiconductor.samsung.com/image/samsung/p6/semiconductor/about-us/business-area/business-divisions-memory-pc-1156x555.png?ORIGIN_PNG\"\\n                 alt=\"Samsung Semiconductor Image\">\\n        </div>\\n        <div class=\"text-section\">\\n            <h1 class=\"text-4xl font-bold mb-6\">한국 주요 반도체 제조 기업 순위 및 특성</h1>\\n            <h2 class=\"text-2xl font-bold mb-6\">삼성전자</h2>\\n            <p class=\"content-paragraph\">삼성전자는 전 세계 반도체 시장에서 탑 1에 위치, NAND, DRAM에서 높은 실적. 2022년, 3nm 공정 최초 상용화, 고효율 메모리 및 AI 반도체 솔루션 집중.</p>\\n            <h2 class=\"text-2xl font-bold mb-6\">SK하이닉스</h2>\\n            <p class=\"content-text\">글로벌 메모리 반도체 리더, HBM 및 TSV 기술 사용으로 AI 및 데이터센터 시장 주도.</p>\\n            <h2 class=\"text-2xl font-bold mb-6\">LG전자의 반도체 사업</h2>\\n            <p class=\"content-text\">차량용 반도체 설계 및 패키징 강화, AI 기반 반도체 경쟁력 강화 목표로 한 ESG 열정적</p>\\n            <p class=\"content-item\"><i class=\"fas fa-check-circle feature-icon\"></i> 5G 및 AI와의 결합된 선도형 반도체 제품</p>\\n            <p class=\"content-text\">PRS, ReRAM, MRAM 등 차세대 메모리 기술에 투자</p>\\n        </div>\\n    </div>\\n</div>\\n</div>\\n</body>\\n</html>\\n',\n",
       "  'html': '<!DOCTYPE html>\\n\\n<html lang=\"kr\">\\n\\n<head>\\n    <meta charset=\"utf-8\">\\n    <meta name=\"viewport\" content=\"width=device-width, initial-scale=1.0\"/>\\n    <title>한국 반도체 제조 기업 순위 및 특성</title>\\n    <link href=\"https://cdn.jsdelivr.net/npm/tailwindcss@2.2.19/tailwind.min.css\" rel=\"stylesheet\">\\n    <link href=\"https://kit.fontawesome.com/a076d05399.js\" rel=\"stylesheet\">\\n    <style>\\n        .slide-background {\\n            width: 100%;\\n            height: 100vh;\\n            background-color: #f5f5f5;\\n            display: flex;\\n            justify-content: center;\\n            align-items: center;\\n        }\\n        .slide-content {\\n            background: #ffffff;\\n            display: flex;\\n            flex-direction: row;\\n            width: 80%;\\n            height: 80%;\\n            box-shadow: 0 0 30px rgba(0,0,0,0.15);\\n            overflow: hidden;\\n        }\\n        .image-container {\\n            width: 50%;\\n            height: 100%;\\n        }\\n        .image-content {\\n            height: 100%;\\n            width: 100%;\\n            object-fit: cover;\\n        }\\n        .text-content {\\n            padding: 40px;\\n            width: 50%;\\n            font-family: \\'Arial\\', sans-serif;\\n            color: #333;\\n            overflow-y: auto;\\n        }\\n        .title {\\n            font-size: 36px;\\n            font-weight: bold;\\n            margin-bottom: 20px;\\n            color: #333;\\n        }\\n    </style>\\n</head>\\n<body>\\n<div class=\"slide-background\">\\n  <div class=\"slide-content\">\\n    <div class=\"image-container\">\\n        <img class=\"image-content\"\\n             src=\"https://image.semiconductor.samsung.com/image/samsung/p6/semiconductor/about-us/business-area/business-divisions-memory-pc-1156x555.png?$ORIGIN_PNG$\"\\n             alt=\"Samsung Semiconductor Image\">\\n    </div>\\n    <div class=\"text-content\">\\n        <h1 class=\"title\">한국 주요 반도체 제조 기업 순위 및 특성</h1>\\n        <h2 class=\"text-2xl font-bold mb-6\">삼성전자</h2>\\n        <p>전 세계 탑 1 반도체 기업, NAND 및 DRAM 분야의 강자로 2022년 3nm 공정을 최초로 상용화하며 반도체 미세화 경쟁 우위를 점하고 있습니다. 5G 및 AI 솔루션과 결합된 반도체 시장에서 선도적 위치를 차지하고 있습니다.</p>\\n        <h2 class=\"text-2xl font-bold mb-6\">SK하이닉스</h2>\\n        <p>메모리 반도체 분야에서 글로벌 리더로 자리잡고 있으며 HBM 기술로 AI 및 데이터센터 시장에서 강한 입지를 보유. TSV 기술을 통해 혁신적인 데이터 처리 기술을 선보입니다.</p>\\n        <h2 class=\"text-2xl font-bold mb-6\">LG전자의 반도체 사업</h2>\\n        <p>차량용 반도체 설계 및 고급 패키징 기술에 집중하며 AI 기반의 첨단 운전자 보조 시스템(ADAS) 및 전기차용 반도체 솔루션 개발에 중점을 두고 있습니다.</p>\\n    </div>\\n  </div>\\n</div>\\n</body>\\n</html>',\n",
       "  'width': 1024,\n",
       "  'height': 768},\n",
       " {'description': '한국의 반도체 기술 발전 현황과 주요 기술 개발 동향을 파악하며, AI 및 차세대 반도체 기술의 성장 가능성을 논의합니다.',\n",
       "  'research': True,\n",
       "  'topic': '한국 반도체 기술 개발 동향',\n",
       "  'idx': 5,\n",
       "  'name': '한국 반도체 기술 개발 동향',\n",
       "  'content': '## 한국 반도체 기술 개발 동향\\n\\n한국의 반도체 기술은 지난 몇십 년간 지속적인 발전을 이루었으며, 이는 경제 성장을 견인하는 핵심 요소 중 하나로 자리 잡았습니다. 반도체 산업은 한국의 전자제품 제조업과 기술 발달의 근간을 이루며, 세계 시장에서 중요한 위치를 차지하고 있습니다 [1]. 특히, 메모리 반도체 분야에서 삼성전자와 SK하이닉스가 세계 시장 점유율을 선도하며 한국의 반도체 기술력을 대표하고 있습니다 [2].\\n\\n최근 한국의 반도체 산업은 AI 및 차세대 반도체 기술에 집중하고 있습니다. AI 기술이 발전함에 따라, 관련 반도체 수요가 급증하고 있으며, 이에 대응하기 위해 한국은 국가 차원에서 연구 개발에 막대한 투자를 하고 있습니다. AI 반도체는 고성능 데이터 처리와 학습을 지원하는 데 필수적이며, 이를 통해 산업 전반의 혁신을 촉진하고자 하는 목표를 가지고 있습니다 [3][4].\\n\\n한국 정부는 AI 반도체 개발을 위해 대규모 연구 프로젝트를 시작하고 있습니다. 이 프로젝트들은 AI 및 클라우드 컴퓨팅 분야의 핵심 기술을 강화하고, 차세대 메모리 반도체 개발을 통해 기술 발전을 가속화하는 데 주력하고 있습니다. 또한, 주요 기업들이 국제적인 특허 경쟁력을 갖춘 AI 반도체 기술을 개발함으로써 글로벌 시장에서의 지위 향상을 도모하고 있습니다 [5][6].\\n\\nAI 기술의 발전은 차세대 반도체 기술 개발에 새로운 기회를 제공합니다. 한국은 고성능 컴퓨팅을 지원하는 AI 반도체를 통해 데이터 중심 경제로의 전환을 준비하고 있으며, 이 과정에서 산업 경쟁력을 강화하려는 노력을 계속하고 있습니다. AI 반도체 시장은 지속적인 성장이 예상되며, 이는 고급 데이터 분석과 머신 러닝을 필요로 하는 다양한 산업 분야에 긍정적인 영향을 미칠 것입니다 [7][8].\\n\\n그러나, 기술 발전에 많은 어려움도 존재합니다. 반도체 기술의 고도화와 다변화가 필요한 시점에서, 한국은 다른 주요 반도체 제조국과의 기술 격차를 줄이기 위해 다각적인 노력을 하고 있습니다. 이를 위해 국내외 협력 강화와 첨단 인프라 구축은 필수적이며, 특히 차세대 반도체 소재 연구가 지속적으로 이루어져야 하는 과제입니다 [9][10].\\n\\n한국은 미래 반도체 기술 발전을 위한 로드맵을 발표하며, 이러한 도전에 대한 대응 전략을 수립하고 있습니다. 전 세계 반도체 시장에서의 위치를 유지하고 새로운 기술 혁신을 위해, 정부 주도 정책과 기업의 R&D 투자 확대는 반드시 필요합니다. 이는 AI 및 차세대 반도체 기술의 성장을 견인하며, 한국을 기술 중심국으로 자리매김하게 하는 기반이 될 것입니다 [11][12].\\n\\n한국 반도체 산업은 앞으로도 AI 기술을 활용한 혁신을 통해 시장점유율 확대와 글로벌 경쟁력을 강화하려는 목표를 가지고 있습니다. 지속적인 연구 개발, 인재 육성 및 국제 협력을 통해, 한국은 차세대 반도체 기술을 선도하며 미래 산업의 핵심 주체로 자리 잡을 것입니다 [13][14].\\n\\n### 출처 목록\\n1. [Invest Korea](https://www.investkorea.org/ik-en/cntnts/i-312/web.do)\\n2. [Wikipedia](https://en.wikipedia.org/wiki/Semiconductor_industry_in_South_Korea)\\n3. [MSIT](https://www.msit.go.kr/eng/bbs/view.do?sCode=eng&nttSeqNo=1102&bbsSeqNo=42&mId=4)\\n4. [Business Korea](https://www.businesskorea.co.kr/news/articleView.html?idxno=231230)\\n5. [S Korea News](https://www.chosun.com/english/industry-en/2025/03/05/5GSK6LANBFEJRM757BHHZUCHUA/)\\n6. [Korea University](https://gpa.korea.ac.kr/bbs/eng/889/253505/artclView.do?layout=unknown)\\n7. [ETRI Knowledge Platform](https://ksp.etri.re.kr/ksp/plan-report/file/833.pdf)\\n8. [Nomad Life](https://devnomadlife.tistory.com/entry/2024%EB%85%84-%EA%B5%AD%EB%82%B4%EC%99%B8-%EC%B0%A8%EC%84%B8%EB%8C%80%EB%B0%98%EB%8F%84%EC%B2%B4%EB%B0%98%EB%8F%84%EC%B2%B4-%EA%B8%B0%EC%88%A0-%EB%B0%8F-%EC%82%B0%EC%97%85-%EC%A0%84%EB%A7%9D-%ED%98%81%EC%8B%A0%EA%B3%BC-%EC%84%B1%EC%9E%A5%EC%9D%98-%EC%83%88%EB%A1%9C%EC%9A%B4-%EC%A7%80%ED%8F%89)\\n9. [PwC Consulting](https://www.pwcconsulting.co.kr/ko/insights/state-of-the-semiconductor-industry.html)\\n10. [IRS Global](https://www.irsglobal.com/img_up/shop_pds/irsglobal1/design/pdf/904.pdf)\\n11. [Korea Biz Review](https://www.koreabizreview.com/detail.php?number=6214&thread=24)\\n12. [Korea Times](https://www.koreatimes.co.kr/business/tech-science/20250529/ai-memory-chip-guru-to-unveil-roadmap-for-next-generation-hbms)\\n13. [YTN Video](https://www.youtube.com/watch?v=ZYiCVlS12Ts)\\n14. [News SK Hynix](https://news.skhynix.co.kr/semiconductor-trends-2025/)',\n",
       "  'img_url': 'https://pimg.mk.co.kr/meet/neds/2019/06/image_readtop_2019_379838_15595585603774333.jpg',\n",
       "  'html_template': '<!DOCTYPE html>\\n<html lang=\"ko\">\\n<head>\\n<meta charset=\"utf-8\"/>\\n<meta content=\"width=device-width, initial-scale=1.0\" name=\"viewport\"/>\\n<title>제주 관광명소 - 제주도 여행 비즈니스 발표자료</title>\\n<link href=\"https://cdn.jsdelivr.net/npm/tailwindcss@2.2.19/dist/tailwind.min.css\" rel=\"stylesheet\"/>\\n<link href=\"https://cdn.jsdelivr.net/npm/@fortawesome/fontawesome-free@6.4.0/css/all.min.css\" rel=\"stylesheet\"/>\\n<style>\\n        body, html {\\n            margin: 0;\\n            padding: 0;\\n            font-family: 나눔고딕, \"Nanum Gothic\", Arial, sans-serif;\\n            overflow: hidden;\\n        }\\n        .slide-container {\\n            width: 1280px;\\n            height: 720px;\\n            position: relative;\\n            overflow: hidden;\\n            display: flex;\\n        }\\n        .image-section {\\n            width: 50%;\\n            height: 100%;\\n            position: relative;\\n        }\\n        .content-section {\\n            width: 50%;\\n            height: 100%;\\n            background-color: #ffffff;\\n            padding: 80px 60px;\\n            position: relative;\\n        }\\n        .number-badge {\\n            position: absolute;\\n            right: 30px;\\n            bottom: 30px;\\n            width: 60px;\\n            height: 60px;\\n            background-color: #f49415;\\n            display: flex;\\n            align-items: center;\\n            justify-content: center;\\n            font-size: 24px;\\n            font-weight: bold;\\n            z-index: 10;\\n            color: #ffffff;\\n        }\\n        .sunburst {\\n            position: absolute;\\n            width: 300px;\\n            height: 300px;\\n            top: 0;\\n            right: 0;\\n            opacity: 0.2;\\n            background: radial-gradient(circle, transparent 30%, rgba(244, 148, 21, 0.3) 70%);\\n            z-index: 0;\\n        }\\n        .title-text {\\n            font-family: 나눔고딕, \"Nanum Gothic\", Arial, sans-serif;\\n            color: #06436e;\\n        }\\n        .content-text {\\n            font-family: 나눔명조, \"Nanum Myeongjo\", \\'Times New Roman\\', serif;\\n            color: #06436e;\\n        }\\n        .feature-item {\\n            display: flex;\\n            align-items: flex-start;\\n            margin-bottom: 14px;\\n        }\\n        .feature-icon {\\n            color: #f49415;\\n            margin-right: 12px;\\n            margin-top: 4px;\\n        }\\n    </style>\\n</head>\\n<body>\\n<div class=\"slide-container\">\\n<!-- Left Section - Image -->\\n<div class=\"image-section\">\\n<img alt=\"제주도 성산일출봉 전경\" src=\"https://page.gensparksite.com/slides_images/9cace8cf59587d36c3e225bf17b04a45.jpg\" style=\"width: 100%; height: 100%; object-fit: cover;\"/>\\n</div>\\n<!-- Right Section - Content -->\\n<div class=\"content-section\">\\n<!-- Sunburst Pattern -->\\n<div class=\"sunburst\"></div>\\n<!-- Content -->\\n<div style=\"position: relative; z-index: 1;\">\\n<h1 class=\"text-6xl font-bold title-text\" style=\"line-height: 1.1;\">제목</h1>\\n<h2 class=\"text-4xl font-medium title-text\" style=\"line-height: 1.1;\">서브 제목</h2>\\n<div class=\"mb-6\">\\n<h3 class=\"text-2xl font-bold mb-3 title-text\">주요 내용</h3>\\n<div class=\"feature-item\">\\n<i class=\"fas fa-info-circle feature-icon text-lg\"></i>\\n<p class=\"content-text\">여기에 내용이 들어갑니다.</p>\\n</div>\\n</div>\\n</div>\\n</div>\\n<!-- Left Section - Image -->\\n<div class=\"number-badge\">\\n    06\\n</div>\\n</div>\\n</body>\\n</html>',\n",
       "  'html': '<!DOCTYPE html>\\n<html lang=\"ko\">\\n<head>\\n<meta charset=\"utf-8\"/>\\n<meta content=\"width=device-width, initial-scale=1.0\" name=\"viewport\"/>\\n<title>한국 반도체 기술 개발 동향 - 프레젠테이션 슬라이드</title>\\n<link href=\"https://cdn.jsdelivr.net/npm/tailwindcss@2.2.19/dist/tailwind.min.css\" rel=\"stylesheet\"/>\\n<link href=\"https://cdn.jsdelivr.net/npm/@fortawesome/fontawesome-free@6.4.0/css/all.min.css\" rel=\"stylesheet\"/>\\n<style>\\n    body, html {\\n        margin: 0;\\n        padding: 0;\\n        font-family: 나눔고딕, \"Nanum Gothic\", Arial, sans-serif;\\n        overflow: hidden;\\n    }\\n    .slide-container {\\n        width: 1280px;\\n        height: 720px;\\n        position: relative;\\n        overflow: hidden;\\n        display: flex;\\n    }\\n    .image-section {\\n        width: 50%;\\n        height: 100%;\\n        position: relative;\\n    }\\n    .content-section {\\n        width: 50%;\\n        height: 100%;\\n        background-color: #ffffff;\\n        padding: 80px 60px;\\n        position: relative;\\n    }\\n    .number-badge {\\n        position: absolute;\\n        right: 30px;\\n        bottom: 30px;\\n        width: 60px;\\n        height: 60px;\\n        background-color: #f49415;\\n        display: flex;\\n        align-items: center;\\n        justify-content: center;\\n        font-size: 24px;\\n        font-weight: bold;\\n        z-index: 10;\\n        color: #ffffff;\\n    }\\n    .sunburst {\\n        position: absolute;\\n        width: 300px;\\n        height: 300px;\\n        top: 0;\\n        right: 0;\\n        opacity: 0.2;\\n        background: radial-gradient(circle, transparent 30%, rgba(244, 148, 21, 0.3) 70%);\\n        z-index: 0;\\n    }\\n    .title-text {\\n        font-family: 나눔고딕, \"Nanum Gothic\", Arial, sans-serif;\\n        color: #06436e;\\n    }\\n    .content-text {\\n        font-family: 나눔명조, \"Nanum Myeongjo\", \\'Times New Roman\\', serif;\\n        color: #06436e;\\n    }\\n    .feature-item {\\n        display: flex;\\n        align-items: flex-start;\\n        margin-bottom: 14px;\\n    }\\n    .feature-icon {\\n        color: #f49415;\\n        margin-right: 12px;\\n        margin-top: 4px;\\n    }\\n</style>\\n</head>\\n<body>\\n<div class=\"slide-container\">\\n<!-- Left Section - Image -->\\n<div class=\"image-section\">\\n<img alt=\"한국 반도체 기술 이미지\" src=\"https://pimg.mk.co.kr/meet/neds/2019/06/image_readtop_2019_379838_15595585603774333.jpg\" style=\"width: 100%; height: 100%; object-fit: cover;\"/>\\n</div>\\n<!-- Right Section - Content -->\\n<div class=\"content-section\">\\n<!-- Sunburst Pattern -->\\n<div class=\"sunburst\"></div>\\n<!-- Content -->\\n<div style=\"position: relative; z-index: 1;\">\\n<h1 class=\"text-6xl font-bold title-text\" style=\"line-height: 1.1;\">한국 반도체 기술 개발 동향</h1>\\n<h2 class=\"text-4xl font-medium title-text\" style=\"line-height: 1.1;\">산업과 혁신</h2>\\n<div class=\"mb-6\">\\n<h3 class=\"text-2xl font-bold mb-3 title-text\">주요 내용</h3>\\n<div class=\"feature-item\">\\n<i class=\"fas fa-info-circle feature-icon text-lg\"></i>\\n<p class=\"content-text\">한국의 반도체 산업은 IT 및 AI 기술의 급속한 성장으로 세계 시장에서의 중요성을 높이고 있습니다.</p>\\n</div>\\n<div class=\"feature-item\">\\n<i class=\"fas fa-info-circle feature-icon text-lg\"></i>\\n<p class=\"content-text\">AI 및 차세대 반도체 개발에 주력하면서 글로벌 시장에서의 강력한 입지를 구축 중입니다.</p>\\n</div>\\n</div>\\n</div>\\n</div>\\n<!-- Right Section - Content -->\\n<div class=\"number-badge\">\\n    05\\n</div>\\n</div>\\n</body>\\n</html>',\n",
       "  'width': 1280,\n",
       "  'height': 720},\n",
       " {'description': '한국 반도체 산업의 미래 성장 방향 및 세계 시장에서의 경쟁력 강화를 위한 전략적 방안을 전망합니다.',\n",
       "  'research': True,\n",
       "  'topic': '한국 반도체 미래 전망',\n",
       "  'idx': 6,\n",
       "  'name': '한국 반도체 산업의 미래와 전망',\n",
       "  'content': '## 한국 반도체 산업의 미래와 전망\\n\\n한국의 반도체 산업은 다양한 성장 전략과 세계 시장에서의 경쟁력 강화를 위한 여러 방안을 고심 중입니다. 한국은 세계 반도체 시장에서 중요한 위치를 차지하고 있으며, 미래 성장 방향에 대한 종합적인 계획을 마련하고 있습니다.\\n\\n### 새로운 성장 동력 확보\\n\\n한국 정부는 반도체 산업의 지속적인 성장을 위해 \"K-Semiconductor Belt Strategy\"를 발표하고, 세계 최대의 반도체 클러스터를 구축할 계획을 세웠습니다. 이는 기술 연구소, 제조 시설, 인프라 등을 포함한 대규모 협력 체계를 마련해, 반도체 산업의 경쟁력을 극대화하려는 것입니다 [^1]. 또한, 정부는 반도체 연구 개발을 위한 막대한 자금을 투입하고, 연구 인력 양성을 위한 전략적인 지원을 확대할 것입니다 [^2].\\n\\n### 기술적 경쟁력 발전\\n\\n한국은 현재 반도체 분야 여러 기술에서 글로벌 경쟁력을 유지하고 있습니다. 특히 메모리 분야에서 높은 점유율을 기록하고 있으며, 시스템 반도체 분야에서도 경쟁력을 강화하기 위해 AI 및 퀀텀 기술을 전략적으로 육성할 계획입니다 [^3]. 또한, 기술 혁신을 지속적으로 추진하고, 글로벌 협력 파트너십을 통해 반도체 제조 기술 및 설계 역량을 확충할 방침입니다 [^4].\\n\\n### 시장 전략 및 외교 방안 \\n\\n한국의 반도체 시장은 주로 수출에 의존하고 있으며, 미국과 중국 간의 외교적 긴장을 고려해 시장 다변화를 추진해야 할 필요가 있습니다. 한국은 적극적인 외교 노력을 통해 미국, 유럽 등과의 반도체 기술 협력을 강화하고, 중국에 대한 의존도를 줄이는 전략을 채택하고 있습니다. 이를 통해 외교적 리스크를 완화하고, 안정적인 공급 체계를 확립할 계획입니다 [^5].\\n\\n### 지속 가능한 경쟁력 강화\\n\\n한국 반도체 산업은 향후 인간-기계 협업과 혁신적인 설비 투자를 통해 지속 가능한 경쟁력을 유지하는 것이 중요합니다. 정부는 재정적, 정책적 지원을 통해 기업들이 새롭게 상상해볼 수 있는 혁신적인 솔루션을 개발할 수 있도록 장려할 것입니다 [^6]. 또한, 기존 인프라를 최적화하는 것뿐만 아니라, 기후 변화 및 친환경 제조에 대한 대응을 강화하는 방안을 모색하고 있습니다 [^7].\\n\\n이상으로, 한국 반도체 산업의 미래 성장 방향 및 세계 시장에서 경쟁력을 강화하기 위한 전략적 방안을 살펴보았습니다. 앞으로도 기술 혁신과 글로벌 협력 강화를 통해 반도체 산업의 각각의 부문이 지속적으로 발전할 것으로 기대됩니다.\\n\\n---\\n\\n[^1]: https://world.kbs.co.kr/service/contents_view.htm?board_seq=403357\\n[^2]: https://ombudsman.kotra.or.kr/file/ik-en/Industry_Discover_Semiconductor.pdf\\n[^3]: https://www.msit.go.kr/eng/bbs/view.do?sCode=eng&mId=4&bbsSeqNo=42&nttSeqNo=802\\n[^4]: https://www.investkorea.org/ik-en/bbs/i-5025/detail.do?ntt_sn=490800\\n[^5]: https://www.businesskorea.co.kr/news/articleView.html?idxno=233746\\n[^6]: https://www.kiep.go.kr/board.es?mid=a20404020000&bid=0032&act=view&list_no=21769&nPage=1\\n[^7]: https://hackmd.io/@marketsandata/South-Korea-Semiconductor-Market',\n",
       "  'img_url': 'https://www.investkorea.org/namofile.do?dn=/images/000017/industry_focus_img2_kr.jpg',\n",
       "  'html_template': '<!DOCTYPE html>\\n<html lang=\"ko\">\\n<head>\\n<meta charset=\"utf-8\"/>\\n<meta content=\"width=device-width, initial-scale=1.0\" name=\"viewport\"/>\\n<title>한국 반도체 산업의 미래와 전망</title>\\n<link href=\"https://cdn.jsdelivr.net/npm/tailwindcss@2.2.19/dist/tailwind.min.css\" rel=\"stylesheet\"/>\\n<link href=\"https://cdn.jsdelivr.net/npm/@fortawesome/fontawesome-free@6.4.0/css/all.min.css\" rel=\"stylesheet\"/>\\n<style>\\n        body, html {\\n            margin: 0;\\n            padding: 0;\\n            font-family: 나눔고딕, \"Nanum Gothic\", Arial, sans-serif;\\n            overflow: hidden;\\n        }\\n        .slide-container {\\n            width: 1280px;\\n            height: 720px;\\n            position: relative;\\n            overflow: hidden;\\n            display: flex;\\n        }\\n        .image-section {\\n            width: 50%;\\n            height: 100%;\\n            position: relative;\\n        }\\n        .content-section {\\n            width: 50%;\\n            height: 100%;\\n            background-color: #ffffff;\\n            padding: 80px 60px;\\n            position: relative;\\n        }\\n        .number-badge {\\n            position: absolute;\\n            right: 30px;\\n            bottom: 30px;\\n            width: 60px;\\n            height: 60px;\\n            background-color: #f49415;\\n            display: flex;\\n            align-items: center;\\n            justify-content: center;\\n            font-size: 24px;\\n            font-weight: bold;\\n            z-index: 10;\\n            color: #ffffff;\\n        }\\n        .sunburst {\\n            position: absolute;\\n            width: 300px;\\n            height: 300px;\\n            top: 0;\\n            right: 0;\\n            opacity: 0.2;\\n            background: radial-gradient(circle, transparent 30%, rgba(244, 148, 21, 0.3) 70%);\\n            z-index: 0;\\n        }\\n        .title-text {\\n            font-family: 나눔고딕, \"Nanum Gothic\", Arial, sans-serif;\\n            color: #06436e;\\n        }\\n        .content-text {\\n            font-family: 나눔명조, \"Nanum Myeongjo\", \\'Times New Roman\\', serif;\\n            color: #06436e;\\n        }\\n        .feature-item {\\n            display: flex;\\n            align-items: flex-start;\\n            margin-bottom: 14px;\\n        }\\n        .feature-icon {\\n            color: #f49415;\\n            margin-right: 12px;\\n            margin-top: 4px;\\n        }\\n    </style>\\n</head>\\n<body>\\n<div class=\"slide-container\">\\n<!-- Left Section - Image -->\\n<div class=\"image-section\">\\n<img alt=\"반도체 클러스터\" src=\"https://www.investkorea.org/namofile.do?dn=/images/000017/industry_focus_img2_kr.jpg\" style=\"width: 100%; height: 100%; object-fit: cover;\"/>\\n</div>\\n<!-- Right Section - Content -->\\n<div class=\"content-section\">\\n<!-- Sunburst Pattern -->\\n<div class=\"sunburst\"></div>\\n<!-- Content -->\\n<div style=\"position: relative; z-index: 1;\">\\n<h1 class=\"text-6xl font-bold title-text\" style=\"line-height: 1.1;\">한국 반도체 산업의 미래와 전망</h1>\\n<h2 class=\"text-5xl font-bold mb-10 title-text\" style=\"line-height: 1.1;\">미래 성장 전략</h2>\\n<div class=\"mb-6\">\\n<h3 class=\"text-2xl font-bold mb-3 title-text\">새로운 성장 동력 확보</h3>\\n<div class=\"feature-item\">\\n<i class=\"fas fa-chart-line feature-icon text-lg\"></i>\\n<p class=\"content-text\">\"K-Semiconductor Belt Strategy\" 발표 및 클러스터 구축</p>\\n</div>\\n<div class=\"feature-item\">\\n<i class=\"fas fa-flask feature-icon text-lg\"></i>\\n<p class=\"content-text\">연구 개발 자금 투입 및 연구 인력 양성</p>\\n</div>\\n<div class=\"feature-item\">\\n<i class=\"fas fa-microchip feature-icon text-lg\"></i>\\n<p class=\"content-text\">메모리 및 시스템 반도체 분야 경쟁력 유지</p>\\n</div>\\n</div>\\n<div>\\n<h3 class=\"text-2xl font-bold mb-3 title-text\">기술적 경쟁력 발전</h3>\\n<div class=\"feature-item\">\\n<i class=\"fas fa-brain feature-icon text-lg\"></i>\\n<p class=\"content-text\">AI 및 퀀텀 기술 육성을 통한 경쟁력 강화</p>\\n</div>\\n<div class=\"feature-item\">\\n<i class=\"fas fa-handshake feature-icon text-lg\"></i>\\n<p class=\"content-text\">글로벌 협력 강화 및 기술 혁신 추진</p>\\n</div>\\n<div class=\"feature-item\">\\n<i class=\"fas fa-globe feature-icon text-lg\"></i>\\n<p class=\"content-text\">미국, 유럽과의 기술 협력 및 외교적 리스크 완화</p>\\n</div>\\n</div>\\n</div>\\n</div>\\n<!-- Number Badge -->\\n<div class=\"number-badge\">\\n    06\\n</div>\\n</div>\\n</body>\\n</html>',\n",
       "  'html': '<!DOCTYPE html>\\n<html lang=\"ko\">\\n<head>\\n<meta charset=\"utf-8\"/>\\n<meta content=\"width=device-width, initial-scale=1.0\" name=\"viewport\"/>\\n<title>한국 반도체 산업의 미래와 전망</title>\\n<link href=\"https://cdn.jsdelivr.net/npm/tailwindcss@2.2.19/dist/tailwind.min.css\" rel=\"stylesheet\"/>\\n<link href=\"https://cdn.jsdelivr.net/npm/@fortawesome/fontawesome-free@6.4.0/css/all.min.css\" rel=\"stylesheet\"/>\\n<style>\\n        body, html {\\n            margin: 0;\\n            padding: 0;\\n            font-family: 나눔고딕, \"Nanum Gothic\", Arial, sans-serif;\\n            overflow: hidden;\\n        }\\n        .slide-container {\\n            width: 1280px;\\n            height: 720px;\\n            position: relative;\\n            overflow: hidden;\\n            display: flex;\\n        }\\n        .image-section {\\n            width: 50%;\\n            height: 100%;\\n            position: relative;\\n        }\\n        .content-section {\\n            width: 50%;\\n            height: 100%;\\n            background-color: #ffffff;\\n            padding: 80px 60px;\\n            position: relative;\\n        }\\n        .number-badge {\\n            position: absolute;\\n            right: 30px;\\n            bottom: 30px;\\n            width: 60px;\\n            height: 60px;\\n            background-color: #f49415;\\n            display: flex;\\n            align-items: center;\\n            justify-content: center;\\n            font-size: 24px;\\n            font-weight: bold;\\n            z-index: 10;\\n            color: #ffffff;\\n        }\\n        .sunburst {\\n            position: absolute;\\n            width: 300px;\\n            height: 300px;\\n            top: 0;\\n            right: 0;\\n            opacity: 0.2;\\n            background: radial-gradient(circle, transparent 30%, rgba(244, 148, 21, 0.3) 70%);\\n            z-index: 0;\\n        }\\n        .title-text {\\n            font-family: 나눔고딕, \"Nanum Gothic\", Arial, sans-serif;\\n            color: #06436e;\\n        }\\n        .content-text {\\n            font-family: 나눔명조, \"Nanum Myeongjo\", \\'Times New Roman\\', serif;\\n            color: #06436e;\\n        }\\n        .feature-item {\\n            display: flex;\\n            align-items: flex-start;\\n            margin-bottom: 14px;\\n        }\\n        .feature-icon {\\n            color: #f49415;\\n            margin-right: 12px;\\n            margin-top: 4px;\\n        }\\n    </style>\\n</head>\\n<body>\\n<div class=\"slide-container\">\\n<!-- Left Section - Image -->\\n<div class=\"image-section\">\\n<img alt=\"반도체 클러스터\" src=\"https://www.investkorea.org/namofile.do?dn=/images/000017/industry_focus_img2_kr.jpg\" style=\"width: 100%; height: 100%; object-fit: cover;\"/>\\n</div>\\n<!-- Right Section - Content -->\\n<div class=\"content-section\">\\n<!-- Sunburst Pattern -->\\n<div class=\"sunburst\"></div>\\n<!-- Content -->\\n<div style=\"position: relative; z-index: 1;\">\\n<h1 class=\"text-6xl font-bold title-text\" style=\"line-height: 1.1;\">한국 반도체 산업의 미래와 전망</h1>\\n<h2 class=\"text-5xl font-bold mb-10 title-text\" style=\"line-height: 1.1;\">미래 성장 전략</h2>\\n<div class=\"mb-6\">\\n<h3 class=\"text-2xl font-bold mb-3 title-text\">새로운 성장 동력 확보</h3>\\n<div class=\"feature-item\">\\n<i class=\"fas fa-chart-line feature-icon text-lg\"></i>\\n<p class=\"content-text\">\"K-Semiconductor Belt Strategy\" 발표 및 클러스터 구축</p>\\n</div>\\n<div class=\"feature-item\">\\n<i class=\"fas fa-flask feature-icon text-lg\"></i>\\n<p class=\"content-text\">연구 개발 자금 투입 및 연구 인력 양성</p>\\n</div>\\n<div class=\"feature-item\">\\n<i class=\"fas fa-microchip feature-icon text-lg\"></i>\\n<p class=\"content-text\">메모리 및 시스템 반도체 분야 경쟁력 유지</p>\\n</div>\\n</div>\\n<div>\\n<h3 class=\"text-2xl font-bold mb-3 title-text\">기술적 경쟁력 발전</h3>\\n<div class=\"feature-item\">\\n<i class=\"fas fa-brain feature-icon text-lg\"></i>\\n<p class=\"content-text\">AI 및 퀀텀 기술 육성을 통한 경쟁력 강화</p>\\n</div>\\n<div class=\"feature-item\">\\n<i class=\"fas fa-handshake feature-icon text-lg\"></i>\\n<p class=\"content-text\">글로벌 협력 강화 및 기술 혁신 추진</p>\\n</div>\\n<div class=\"feature-item\">\\n<i class=\"fas fa-globe feature-icon text-lg\"></i>\\n<p class=\"content-text\">미국, 유럽과의 기술 협력 및 외교적 리스크 완화</p>\\n</div>\\n</div>\\n</div>\\n</div>\\n<!-- Number Badge -->\\n<div class=\"number-badge\">\\n    06\\n</div>\\n</div>\\n</body>\\n</html>',\n",
       "  'width': 1280,\n",
       "  'height': 720}]"
      ]
     },
     "execution_count": 10,
     "metadata": {},
     "output_type": "execute_result"
    }
   ],
   "source": [
    "state[\"values\"][\"slides\"]"
   ]
  },
  {
   "cell_type": "code",
   "execution_count": 11,
   "id": "f14ce7ef-387a-4578-af9b-486feb3cc133",
   "metadata": {},
   "outputs": [],
   "source": [
    "for s in state[\"values\"][\"slides\"]:\n",
    "    with open(f\"{s['idx']}.html\", \"w\", encoding=\"utf-8\") as f:\n",
    "        f.write(s['html'])"
   ]
  },
  {
   "cell_type": "code",
   "execution_count": null,
   "id": "9f7dd05a-5743-4b67-b4f2-04451e29d6cb",
   "metadata": {},
   "outputs": [],
   "source": []
  }
 ],
 "metadata": {
  "kernelspec": {
   "display_name": "Python 3 (ipykernel)",
   "language": "python",
   "name": "python3"
  },
  "language_info": {
   "codemirror_mode": {
    "name": "ipython",
    "version": 3
   },
   "file_extension": ".py",
   "mimetype": "text/x-python",
   "name": "python",
   "nbconvert_exporter": "python",
   "pygments_lexer": "ipython3",
   "version": "3.13.2"
  }
 },
 "nbformat": 4,
 "nbformat_minor": 5
}
