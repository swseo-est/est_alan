{
 "cells": [
  {
   "cell_type": "markdown",
   "id": "feb6cbf7-5f08-4fc7-8a37-5af0ba71c970",
   "metadata": {},
   "source": [
    "# client instance 생성"
   ]
  },
  {
   "cell_type": "code",
   "execution_count": 1,
   "id": "2e633658-62cc-45ba-bf46-a68be289080a",
   "metadata": {
    "ExecuteTime": {
     "end_time": "2025-07-31T08:02:49.558486Z",
     "start_time": "2025-07-31T08:02:49.547246Z"
    }
   },
   "outputs": [],
   "source": [
    "DEPLOYMENT_URL=\"http://10.8.1.229:8000/\"\n",
    "# DEPLOYMENT_URL=\"http://localhost:2024/\"\n",
    "# DEPLOYMENT_URL=\"http://localhost:8000/\"\n",
    "\n",
    "from langgraph_sdk import get_client\n",
    "\n",
    "client = get_client(url=DEPLOYMENT_URL)"
   ]
  },
  {
   "cell_type": "markdown",
   "id": "1060453e-25dc-4f8f-8a80-63f12900344d",
   "metadata": {},
   "source": [
    "# thread 생성 (앨런의 channel에 대응)\n",
    "\n",
    "- 생성 요청 후 thread_id를 포함한 데이터를 return 받음\n",
    "- 하나의 thread에 대해서 여러 에이전트를 호출하고 대화가능\n",
    "- 현재 앨런은 한개의 channel에 대해서 한개의 agent가 1:1로 대응되므로 현재는 고려할 필요 없지만, 추후에 1개의 채널에 대해서 여러 agent를 호출가능"
   ]
  },
  {
   "cell_type": "code",
   "execution_count": 2,
   "id": "d728bcf5-d7b5-4768-9953-f60e5dd7340d",
   "metadata": {},
   "outputs": [],
   "source": [
    "def get_data(chunk):\n",
    "    data = list(chunk.data.values())[0]\n",
    "    return data\n",
    " \n",
    " \n",
    "def filter_ai_msg(chunk):\n",
    "    # 유저와 채팅 창에 출력될 ai 메시지를 필터링하는 함수\n",
    "    if 'updates' in chunk.event:\n",
    "        data = get_data(chunk)\n",
    " \n",
    "        if data is not None:\n",
    "            if 'messages' in data.keys():\n",
    "                if data['messages'][-1][\"name\"] is not None:\n",
    "                    msg_type = data['messages'][-1]['type']\n",
    "                    if msg_type == \"ai\":\n",
    "                        return True\n",
    "    return False"
   ]
  },
  {
   "cell_type": "code",
   "execution_count": 3,
   "id": "00db8bac-8b27-48e7-bbc3-e8bb1e1f97e9",
   "metadata": {},
   "outputs": [
    {
     "name": "stdout",
     "output_type": "stream",
     "text": [
      "{'thread_id': 'a3f9423e-ac3d-45f8-b641-d9423248172d', 'created_at': '2025-08-14T04:32:33.503151+00:00', 'updated_at': '2025-08-14T04:32:33.503151+00:00', 'metadata': {}, 'status': 'idle', 'config': {}, 'values': None, 'interrupts': {}, 'error': None}\n",
      "a3f9423e-ac3d-45f8-b641-d9423248172d\n"
     ]
    }
   ],
   "source": [
    "thread = await client.threads.create()\n",
    "print(thread)\n",
    "\n",
    "thread_id = thread[\"thread_id\"]\n",
    "print(thread_id)"
   ]
  },
  {
   "cell_type": "markdown",
   "id": "07786c8d-0172-42d5-b5e2-5ae1aafdeafc",
   "metadata": {},
   "source": [
    "# 에이전트 호출\n",
    "\n",
    "- 해당 thread에서 어떤 agent를 호출할 지 assistant_id를 포함하여 요청을 보냄"
   ]
  },
  {
   "cell_type": "markdown",
   "id": "9281de96-1d3f-4514-9fd2-fc5590a9b8ff",
   "metadata": {},
   "source": [
    "## parameters\n",
    "- thread_id : 위에서 생성한 thread_id\n",
    "- assistant_id : 앨런의 persona_id에 대응, agent를 구분하는 id, 슬라이드 에이전트의 경우 \"slide_generate_agent\"\n",
    "- input : 해당 agent 요청에 대한 parameter, 현재는 messages만 존재, 앨런 페이지에서 유저로 부터 받는 input을 해당 parameter에 dict로 넣어줌\n",
    "- stream_mode : 어떤 event에 따라서 메시지를 받을지 지정, updates(한 단계가 끝날 때마나 메시지가 옴), events(llm이 생성하는 단위로 메시지 생성)"
   ]
  },
  {
   "cell_type": "code",
   "execution_count": 4,
   "id": "48f82979-592c-4b2c-8e24-2c0c03b12d2a",
   "metadata": {},
   "outputs": [],
   "source": [
    "list_msg_id = list()\n",
    "\n",
    "\n",
    "def get_data(chunk):\n",
    "    data = list(chunk.data.values())[0]\n",
    "    return data\n",
    "\n",
    "\n",
    "def filter_ai_msg(chunk):\n",
    "    # 유저와 채팅 창에 출력될 ai 메시지를 필터링하는 함수\n",
    "    if 'updates' in chunk.event:\n",
    "        data = get_data(chunk)\n",
    "\n",
    "        if data is not None:\n",
    "            if 'messages' in data.keys():\n",
    "                if data['messages'][-1][\"name\"] is not None:\n",
    "                    msg_type = data['messages'][-1]['type']\n",
    "                    msg_id = data['messages'][-1]['id']\n",
    "                    if msg_id not in list_msg_id and msg_type == \"ai\":\n",
    "                        list_msg_id.append(msg_id)\n",
    "                        return True\n",
    "    return False\n",
    "\n",
    "\n",
    "def filter_silde_data(chunk):\n",
    "    # slide 관련 데이터를 담은 메시지를 필터링하는 함수\n",
    "    # 슬라이드 한페이지 단위로 메시지가 옴\n",
    "    if 'updates' in chunk.event:\n",
    "        node_name = chunk.data.keys()\n",
    "        if 'executor' in node_name:\n",
    "            return True"
   ]
  },
  {
   "cell_type": "code",
   "execution_count": 5,
   "id": "8d5fddde-f825-4491-be5a-0e7ed123a866",
   "metadata": {},
   "outputs": [],
   "source": [
    "assistant_id = \"slide_generate_agent\"\n",
    "list_chunk = list()"
   ]
  },
  {
   "cell_type": "code",
   "execution_count": 6,
   "id": "initial_id",
   "metadata": {
    "ExecuteTime": {
     "end_time": "2025-07-31T08:02:51.030604Z",
     "start_time": "2025-07-31T08:02:49.655777Z"
    },
    "scrolled": true
   },
   "outputs": [
    {
     "name": "stdout",
     "output_type": "stream",
     "text": [
      "##########  AI 메시지  ##########\n",
      "한국 반도체 현황을 주제로 슬라이드를 생성하도록 하겠습니다.\n",
      "##########  AI 메시지  ##########\n",
      "검색 도구를 사용하여 목차를 생성하기 위한 조사를 시작합니다.\n",
      "##########  AI 메시지  ##########\n",
      "생성된 목차는 다음과 같습니다. \n",
      "\n",
      "2. 한국 반도체 산업의 역사와 발전 - 이 섹션은 한국 반도체 산업의 역사와 진화 과정을 조명하며, 산업 발전의 주요 사건과 주요 성취를 설명합니다. \n",
      "3. 한국 반도체 시장 점유율 분석 - 이 섹션에서는 한국 반도체 시장의 세계 시장 점유율과 주요 경쟁국과의 비교를 다룰 예정입니다. \n",
      "4. 한국 주요 반도체 기업의 동향 - 주요 한국 반도체 회사(삼성전자, SK하이닉스 등)의 현황 및 최근 동향을 다룹니다. \n",
      "5. 한국 반도체 기술과 혁신 동향 - 메모리 반도체와 비메모리 반도체를 포함한 한국의 최신 반도체 기술 동향에 대해 설명합니다. \n",
      "6. 한국 정부의 반도체 정책 - 한국 정부의 반도체산업 육성 전략과 정책지원 방안을 설명합니다. \n",
      "\n",
      "##########  AI 메시지  ##########\n",
      "\n",
      "    슬라이드 생성에 필요한 조사를 시작합니다.\n",
      "    \n",
      "##########  AI 메시지  ##########\n",
      "\n",
      "    슬라이드에 사용할 이미지를 검색하고 있습니다.\n",
      "    \n",
      "##########  AI 메시지  ##########\n",
      "\n",
      "    슬라이드 디자인을 시작합니다.\n",
      "    \n",
      "##########  AI 메시지  ##########\n",
      "\n",
      "    슬라이드를 생성하고 있습니다.\n",
      "    \n",
      "##########  AI 메시지  ##########\n",
      "슬라이드 생성이 완료되었습니다.\n"
     ]
    }
   ],
   "source": [
    "input = { \"messages\": \"한국 반도체 현황. 모두 한글로 만들어줘\"}\n",
    "\n",
    "async for chunk in client.runs.stream(\n",
    "    thread_id,\n",
    "    assistant_id=assistant_id,\n",
    "    input=input,\n",
    "    stream_mode=[\"updates\"],\n",
    "    stream_subgraphs=True\n",
    "):\n",
    "    list_chunk.append(chunk)\n",
    "    if filter_ai_msg(chunk):\n",
    "        print(\"#\" * 10 + \"  AI 메시지  \" + \"#\" * 10)\n",
    "        data = get_data(chunk)\n",
    "        print(data['messages'][-1]['content'])\n",
    "    # elif filter_silde_data(chunk):\n",
    "    #     print(\"#\" * 10 + \"  슬라이드 데이터  \" + \"#\" * 10)\n",
    "    #     print(chunk)\n"
   ]
  },
  {
   "cell_type": "code",
   "execution_count": 7,
   "id": "bd7a08e4-51f1-41d3-a503-5e50da6b8a76",
   "metadata": {
    "scrolled": true
   },
   "outputs": [],
   "source": [
    "for chunk in list_chunk:\n",
    "    if filter_ai_msg(chunk):\n",
    "        print(\"#\" * 10 + \"  AI 메시지  \" + \"#\" * 10)\n",
    "        data = get_data(chunk)\n",
    "        print(data['messages'][-1]['content'])\n"
   ]
  },
  {
   "cell_type": "code",
   "execution_count": 8,
   "id": "59081551-edc0-4e05-a95a-5a7c663b7e42",
   "metadata": {
    "scrolled": true
   },
   "outputs": [
    {
     "name": "stdout",
     "output_type": "stream",
     "text": [
      "##########  AI 메시지  ##########\n",
      "한국 반도체 현황을 주제로 슬라이드를 생성하도록 하겠습니다.\n",
      "##########  AI 메시지  ##########\n",
      "검색 도구를 사용하여 목차를 생성하기 위한 조사를 시작합니다.\n",
      "##########  AI 메시지  ##########\n",
      "생성된 목차는 다음과 같습니다. \n",
      "\n",
      "2. 한국 반도체 산업의 역사와 발전 - 이 섹션은 한국 반도체 산업의 역사와 진화 과정을 조명하며, 산업 발전의 주요 사건과 주요 성취를 설명합니다. \n",
      "3. 한국 반도체 시장 점유율 분석 - 이 섹션에서는 한국 반도체 시장의 세계 시장 점유율과 주요 경쟁국과의 비교를 다룰 예정입니다. \n",
      "4. 한국 주요 반도체 기업의 동향 - 주요 한국 반도체 회사(삼성전자, SK하이닉스 등)의 현황 및 최근 동향을 다룹니다. \n",
      "5. 한국 반도체 기술과 혁신 동향 - 메모리 반도체와 비메모리 반도체를 포함한 한국의 최신 반도체 기술 동향에 대해 설명합니다. \n",
      "6. 한국 정부의 반도체 정책 - 한국 정부의 반도체산업 육성 전략과 정책지원 방안을 설명합니다. \n",
      "\n",
      "##########  AI 메시지  ##########\n",
      "슬라이드 생성이 완료되었습니다.\n"
     ]
    }
   ],
   "source": [
    "state = await client.threads.get_state(thread_id=thread_id)\n",
    "\n",
    "for msg in state[\"values\"][\"messages\"]:\n",
    "    if msg[\"type\"] != \"human\":\n",
    "        print(\"#\" * 10 + \"  AI 메시지  \" + \"#\" * 10)\n",
    "        print(msg[\"content\"])"
   ]
  },
  {
   "cell_type": "code",
   "execution_count": 9,
   "id": "b28def97-7983-4c7c-acb2-08d617724170",
   "metadata": {
    "scrolled": true
   },
   "outputs": [
    {
     "data": {
      "text/plain": [
       "7"
      ]
     },
     "execution_count": 9,
     "metadata": {},
     "output_type": "execute_result"
    }
   ],
   "source": [
    "len(state[\"values\"][\"slides\"])"
   ]
  },
  {
   "cell_type": "code",
   "execution_count": 10,
   "id": "52f97132-2be6-437a-b0f8-90e1f4f3c51f",
   "metadata": {
    "scrolled": true
   },
   "outputs": [
    {
     "data": {
      "text/plain": [
       "[{'slide_type': 'title',\n",
       "  'topic': '한국 반도체 현황',\n",
       "  'idx': 0,\n",
       "  'name': '타이틀',\n",
       "  'description': '한국 반도체 현황에 대한 프레젠테이션 타이틀 페이지',\n",
       "  'requirements': ['타이틀 텍스트', '부제목 또는 설명'],\n",
       "  'research': True,\n",
       "  'content': '## 타이틀\\n\\n\"2023년 한국 반도체 산업 현황: 기회와 도전\"\\n\\n### 배경\\n\\n2023년은 한국 반도체 산업에 있어 도전과 기회의 해였습니다. 주요 반도체 수출품인 메모리 반도체의 가격 하락으로 인해, 한국의 반도체 수출은 전년 대비 감소를 경험했습니다 [1]. 총 수출액은 1310억 9천만 달러로 집계되었지만, 이는 최근 5년간 가장 낮은 수치입니다 [2]. 이러한 상황에도 불구하고, 반도체 산업의 중요성은 지속적으로 증가하고 있습니다.\\n\\n### 성장 전망\\n\\n한국 반도체 산업은 세계 시장에서 계속해서 중요한 위치를 유지하고 있습니다. 향후 5년간 메모리 반도체의 수요가 회복될 것으로 전망되며, 한국은 2032년까지 글로벌 반도체 시장에서 20% 이상의 점유율을 기록할 것으로 예측됩니다 [3]. 특히, 새로운 기술과 생산 공정의 개발로 인해 반도체 제품의 다양성과 품질이 향상될 것으로 기대되고 있습니다.\\n\\n### 결론\\n\\n한국 반도체 산업은 2023년의 시장 변동에도 불구하고, 장기적으로 긍정적인 성장을 계속할 것입니다. 지속 가능한 기술 개발과 글로벌 시장 확대를 위한 전략적 투자가 필요합니다. 한국은 앞으로도 기술 리더십을 유지하며 반도체 산업의 중심에 서 있을 것입니다.\\n\\n### 출처\\n\\n[1] South Korea\\'s Semiconductor Export Overview: https://koreatechtoday.com/south-koreas-semiconductor-giants-lead-amidst-tech-sector-shifts-a-look-back-at-2023  \\n[2] South Korea Semiconductor Market - Overview and Future Prospects: https://www.kiep.go.kr/galleryDownload.es?bid=0003&list_no=11185&seq=1  \\n[3] 2032년 한국 반도체 산업 전망: https://www.yna.co.kr/view/AKR20240509028600091',\n",
       "  'img_url': 'https://cdn.epnc.co.kr/news/photo/202211/230259_231251_136.jpg',\n",
       "  'design': '⭐ 한국 반도체 현황 프레젠테이션의 타이틀 슬라이드를 작성하겠습니다. 이 슬라이드는 2023년 한국 반도체 산업의 현황에 대한 정보를 전달하며, 배경 이미지를 통해 기술적 진보와 산업의 혁신을 강조합니다. 텍스트는 중요한 통계와 예측을 제공하여 슬라이드의 핵심 메시지를 전달합니다.\\n\\n사용할 이미지:\\n- https://cdn.epnc.co.kr/news/photo/202211/230259_231251_136.jpg : 반도체 관련 이미지로 그려진 그래픽\\n\\n디자인 요소:\\n1. 슬라이드 상단에 \"2023년 한국 반도체 산업 현황: 기회와 도전\"을 큰 글씨로 배치해 시각적 중심을 구성합니다.\\n2. 배경 이미지는 슬라이드 전체에 걸쳐 반도체 산업의 복잡성과 기술 발전을 상징적으로 표현합니다.\\n3. 텍스트는 표준 폰트를 사용해 명시적이고 쉽게 읽을 수 있도록 배치합니다.\\n4. 하단에는 \"성장 전망\"과 \"결론\" 섹션을 포함하여 정보의 구조가 일목요연하게 전달됩니다.\\n5. 출처는 작은 글씨로 슬라이드 가장 하단에 위치시켜 자료의 근거를 시각적으로 지원합니다.\\n\\n마무리 문단\\n전체 스타일은 공식적이고 전문적인 톤을 유지하며, 파란색과 회색을 통한 색조의 사용으로 기술의 냉철함과 진취적 성격을 나타냅니다. 슬라이드 디자인은 정보 전달의 효율성을 강조하여, 반도체 산업의 중요성을 시각적으로 부각합니다.',\n",
       "  'html': '<!DOCTYPE html>\\n<html lang=\"ko\">\\n<head>\\n    <meta charset=\"UTF-8\">\\n    <meta name=\"viewport\" content=\"width=1280, initial-scale=1.0\">\\n    <title>2023년 한국 반도체 산업 현황: 기회와 도전</title>\\n    <link href=\"https://cdn.jsdelivr.net/npm/tailwindcss@2.2.19/dist/tailwind.min.css\" rel=\"stylesheet\">\\n    <link href=\"https://fonts.googleapis.com/css2?family=Noto+Sans+KR:wght@400;700&display=swap\" rel=\"stylesheet\">\\n    <style>\\n        /* Global Style */\\n        body, html {\\n            margin: 0;\\n            padding: 0;\\n            box-sizing: border-box;\\n            font-family: \\'Noto Sans KR\\', sans-serif;\\n        }\\n        .slide-container {\\n            display: flex;\\n            width: 1280px;\\n            height: 720px;\\n            overflow: hidden;\\n        }\\n        .text-left {\\n            width: 50%;\\n            padding: 40px;\\n            background-color: #f8f9fa;\\n        }\\n        .image-right {\\n            width: 50%;\\n            position: relative;\\n            overflow: hidden;\\n        }\\n        .image-right img {\\n            position: absolute;\\n            top: 0;\\n            left: 0;\\n            width: 100%;\\n            height: 100%;\\n            object-fit: cover;\\n        }\\n        .content-box {\\n            border-left: 5px solid #cc0000;\\n            padding: 10px 20px;\\n            background-color: #ffffff;\\n        }\\n        .title {\\n            font-size: 36px;\\n            font-weight: bold;\\n            color: #222222;\\n            margin-bottom: 10px;\\n        }\\n        .swiss-accent {\\n            width: 100px;\\n            height: 3px;\\n            background-color: #cc0000;\\n            margin-top: 10px;\\n            margin-bottom: 20px;\\n        }\\n        .overlay-text {\\n            position: absolute;\\n            bottom: 0;\\n            left: 0;\\n            right: 0;\\n            background-color: rgba(0, 0, 0, 0.5);\\n            color: white;\\n            font-size: 14px;\\n            padding: 10px;\\n            text-align: center;\\n        }\\n        .source {\\n            font-size: 12px;\\n            color: #555555;\\n            text-align: right;\\n            font-style: italic;\\n        }\\n    </style>\\n</head>\\n<body>\\n<div class=\"slide-container\">\\n    <div class=\"text-left\">\\n        <h1 class=\"title\">2023년 한국 반도체 산업 현황: 기회와 도전</h1>\\n        <div class=\"swiss-accent\"></div>\\n        <div class=\"content-box\">\\n            <p>2023년은 한국 반도체 산업에 있어 도전과 기회의 해였습니다. 주요 반도체 수출품인 메모리 반도체의 가격 하락으로 인해, 한국의 반도체 수출은 전년 대비 감소를 경험했습니다. 총 수출액은 1310억 9천만 달러로 집계되었지만, 이는 최근 5년간 가장 낮은 수치입니다.</p>\\n            <p>한국 반도체 산업은 세계 시장에서 계속해서 중요한 위치를 유지하고 있습니다. 향후 5년간 메모리 반도체의 수요가 회복될 것으로 전망되며, 한국은 2032년까지 글로벌 반도체 시장에서 20% 이상의 점유율을 기록할 것으로 예측됩니다.</p>\\n            <p class=\"source\">출처: South Korea\\'s Semiconductor Export Overview, South Korea Semiconductor Market - Overview and Future Prospects</p>\\n        </div>\\n    </div>\\n    <div class=\"image-right\">\\n        <img src=\"https://cdn.epnc.co.kr/news/photo/202211/230259_231251_136.jpg\" alt=\"한국 반도체\">\\n        <div class=\"overlay-text\">기술적 진보와 산업의 혁신을 상징하는 이미지</div>\\n    </div>\\n</div>\\n</body>\\n</html>',\n",
       "  'width': 1280,\n",
       "  'height': 720},\n",
       " {'slide_type': 'toc',\n",
       "  'topic': '한국 반도체 현황',\n",
       "  'idx': 1,\n",
       "  'name': '목차',\n",
       "  'description': '한국 반도체 현황에 대한 프레젠테이션 목차 페이지\\n\\n2. 한국 반도체 산업의 역사와 발전\\n3. 한국 반도체 시장 점유율 분석\\n4. 한국 주요 반도체 기업의 동향\\n5. 한국 반도체 기술과 혁신 동향\\n6. 한국 정부의 반도체 정책',\n",
       "  'requirements': ['목차 항목들'],\n",
       "  'research': True,\n",
       "  'content': \"## 목차\\n\\n1. 서론\\n2. 한국 반도체 산업의 역사와 발전\\n   - 한국 반도체 산업의 시작과 초기 투자\\n   - 1980년대 이후의 급속한 성장\\n   - 주요 기술 혁신과 글로벌 경쟁력 강화\\n3. 한국 반도체 시장 점유율 분석\\n   - 시장 규모 및 점유율 현황\\n   - 주요 시장의 수출입 동향 분석\\n   - 글로벌 반도체 시장에서의 한국의 위치\\n4. 한국 주요 반도체 기업의 동향\\n   - 삼성전자 및 SK하이닉스의 시장 전략\\n   - 중소기업의 기술 개발 및 혁신 활동\\n   - AI 및 시스템 반도체 분야의 성장 동향\\n5. 한국 반도체 기술과 혁신 동향\\n   - 최신 기술 개발 및 연구 협력\\n   - AI 및 첨단 기술의 응용 및 혁신 사례\\n   - 공정 기술과 생산 효율성 개선 노력\\n6. 한국 정부의 반도체 정책\\n   - 반도체 산업 육성을 위한 정책 방향\\n   - 주요 정책 및 투자 계획\\n   - 산업 경쟁력 강화를 위한 국제 협력 방안\\n\\n### Sources\\n1. Government's Key Semiconductor Industry Policies for 2024: https://www.kimchang.com/en/insights/detail.kc?sch_section=4&idx=28909\\n2. Korea's Semiconductor Industry: Taking Another Leap Forward: https://www.investkorea.org/ik-en/bbs/i-308/detail.do?ntt_sn=490787\\n3. South Korea Semiconductor Market Size & Forecast 2025-2033: https://www.investkorea.org/ik-kr/bbs/i-112/detail.do?ntt_sn=491207\\n4. The Korean semiconductor industry: Historical overview and prospects [PDF]: https://archives.kdischool.ac.kr/bitstream/11125/29891/1/The%20Korean%20semiconductor%20industry.pdf\\n5. Korea enhances support for semiconductor SMEs with investment subsidies: https://biz.chosun.com/en/en-policy/2025/04/15/GLCE6HHW6NDDJPLAWGGQDO6U34/\",\n",
       "  'img_url': 'https://www.investkorea.org/upload/_res/editor_image/images/000026/20191127105140807_ZY4W22AX.png',\n",
       "  'design': '⭐ 한국 반도체 현황 프레젠테이션 - 목차 슬라이드를 작성하겠습니다. 이 슬라이드는 청중에게 프레젠테이션의 개요를 소개하기 위한 목적으로 제작됩니다. 슬라이드 중앙에 텍스트 목록을 배치하여 각 섹션의 제목을 강조합니다. 반도체 이미지를 배경으로 사용하여 주제를 시각적으로 표현합니다.\\n\\n사용할 이미지:\\n- https://www.investkorea.org/upload/_res/editor_image/images/000026/20191127105140807_ZY4W22AX.png: 한국 반도체 산업을 상징하는 이미지로, 주제와 관련성을 높입니다.\\n\\n디자인 요소:\\n1. 텍스트 목록: \"1. 서론\"에서 \"6. 한국 정부의 반도체 정책\"까지.\\n2. 배경 이미지: 반도체 관련 이미지를 사용하여 주제의 맥락을 시각적으로 전달.\\n3. 서체 스타일: 명확하고 깨끗한 서체를 사용하여 가독성을 높임.\\n4. 색상 배합: 파란색 및 회색 계열의 색상을 사용하여 전문적이고 차분한 느낌을 줌.\\n\\n마무리 문단\\n이 슬라이드는 간결하고 직관적인 목차 소개를 목표로 하며, 블루 및 그레이톤의 색상을 사용하여 전문성 및 신뢰성을 표현하였습니다. 공학적이고 기술적인 테마에 맞춰 반도체 이미지를 활용하여 내용을 시각적으로 강조했습니다.',\n",
       "  'html': '<!DOCTYPE html>\\n<html lang=\"ko\">\\n<head>\\n    <meta charset=\"UTF-8\">\\n    <meta name=\"viewport\" content=\"width=device-width, initial-scale=1.0\">\\n    <title>한국 반도체 현황 프레젠테이션</title>\\n    <link href=\"https://fonts.googleapis.com/css2?family=Noto+Sans+KR:wght@400;700&display=swap\" rel=\"stylesheet\">\\n    <script src=\"https://cdn.tailwindcss.com\"></script>\\n    <style>\\n        body, html {\\n            margin: 0;\\n            padding: 0;\\n            font-family: \\'Noto Sans KR\\', sans-serif;\\n            height: 100%;\\n        }\\n        .slide-container {\\n            width: 1280px;\\n            height: 720px;\\n            display: flex;\\n            overflow: hidden;\\n            background-color: #f8f9fa;\\n            position: relative;\\n        }\\n        .text-left {\\n            width: 50%;\\n            padding: 40px;\\n            background-color: #fff;\\n        }\\n        .text-left h2 {\\n            font-size: 36px;\\n            font-weight: 700;\\n            margin-bottom: 10px;\\n            color: #222;\\n        }\\n        .swiss-accent {\\n            width: 50px;\\n            height: 3px;\\n            background-color: #cc0000;\\n            margin-bottom: 20px;\\n        }\\n        .content-box {\\n            background-color: #f9f9f9;\\n            border-left: 4px solid #cc0000;\\n            padding: 20px;\\n            margin-bottom: 10px;\\n            color: #222;\\n            line-height: 1.4;\\n        }\\n        .toc-number {\\n            display: flex;\\n            align-items: center;\\n            margin-bottom: 10px;\\n        }\\n        .toc-number span {\\n            display: inline-block;\\n            width: 10px;\\n            height: 10px;\\n            background-color: #cc0000;\\n            border-radius: 50%;\\n            margin-right: 10px;\\n        }\\n        .image-right {\\n            width: 50%;\\n            position: relative;\\n        }\\n        .image-right img {\\n            position: absolute;\\n            top: 0;\\n            left: 0;\\n            width: 100%;\\n            height: 100%;\\n            object-fit: cover;\\n        }\\n    </style>\\n</head>\\n<body>\\n    <div class=\"slide-container\">\\n        <div class=\"text-left\">\\n            <h2>목차</h2>\\n            <div class=\"swiss-accent\"></div>\\n            <div class=\"content-box\">\\n                <div class=\"toc-number\"><span></span> 1. 서론</div>\\n                <div class=\"toc-number\"><span></span> 2. 한국 반도체 산업의 역사와 발전</div>\\n                <div class=\"toc-number\"><span></span> 3. 한국 반도체 시장 점유율 분석</div>\\n                <div class=\"toc-number\"><span></span> 4. 한국 주요 반도체 기업의 동향</div>\\n                <div class=\"toc-number\"><span></span> 5. 한국 반도체 기술과 혁신 동향</div>\\n                <div class=\"toc-number\"><span></span> 6. 한국 정부의 반도체 정책</div>\\n            </div>\\n        </div>\\n        <div class=\"image-right\">\\n            <img src=\"https://www.investkorea.org/upload/_res/editor_image/images/000026/20191127105140807_ZY4W22AX.png\" alt=\"한국 반도체 산업 이미지\">\\n        </div>\\n    </div>\\n</body>\\n</html>',\n",
       "  'width': 1280,\n",
       "  'height': 720},\n",
       " {'topic': '한국 반도체 산업의 역사와 발전',\n",
       "  'idx': 2,\n",
       "  'name': '한국 반도체 산업의 역사와 발전',\n",
       "  'description': '이 섹션은 한국 반도체 산업의 역사와 진화 과정을 조명하며, 산업 발전의 주요 사건과 주요 성취를 설명합니다.',\n",
       "  'research': True,\n",
       "  'content': \"## 한국 반도체 산업의 역사와 발전\\n\\n한국의 반도체 산업은 1960년대 중반 시작되었다. 미국 기업들이 한국에 반도체 조립 공장을 설립하면서 기초가 형성되었고, 한국은 공정과 기술력을 갖추기 시작하였다[1][2]. 1970년대에 삼성전자가 한국반도체를 인수하면서 반도체 산업의 본격적인 성장이 시작됐다[2][3]. 이후 1980년대에 삼성은 대규모 연구개발 투자로 성장을 가속화하며 반도체 시장에서 중요한 위치를 차지하게 되었다[6].\\n\\n1983년은 한국 반도체 역사에서 중요한 전환점으로, 삼성전자가 64K DRAM을 개발하여 세계 세 번째로 이 기술을 상용화하는 데 성공했다. 이는 한국이 반도체 기술 시장에서 경쟁력을 갖게 된 계기가 되었다[4]. 또한, 1990년대에 들어서면서 한국은 4MB 및 16MB DRAM 혁신을 통해 기술 격차를 좁히고 세계 시장에서의 입지를 다졌다[5]. 이러한 기술 발전은 한국을 세계 반도체 시장의 강자로 자리잡게 했다.\\n\\n최근 몇 년간 한국의 반도체 산업은 지속적으로 성장하고 있으며, 특히 메모리 칩 제조 분야에서 삼성전자와 SK 하이닉스가 세계 시장의 73%를 차지하며 선두를 달리고 있다[6]. 한국 정부는 2030년까지 세계 최고의 반도체 공급망을 구축하기 위해 4500억 달러를 투자하는 K-반도체 전략을 추진 중이다[7]. 이러한 노력은 한국이 반도체 산업에서 지속적으로 세계적 선두를 유지하는 데 기여하고 있다.\\n\\n### Sources\\n1. [The Korean semiconductor industry: historical overview and ...](https://archives.kdischool.ac.kr/bitstream/11125/29891/1/The%20Korean%20semiconductor%20industry.pdf)  \\n2. [The Korean system of innovation and the semiconductor industry](https://core.ac.uk/download/pdf/51176556.pdf)  \\n3. [The South Korean Semiconductor Industry - Inquivix Technologies](https://inquivixtech.com/south-korea-semiconductor-industry/)  \\n4. [The rise of Korea's semiconductor industry - KBS WORLD](http://world.kbs.co.kr/service/contents_view.htm?lang=e&menu_cate=business&id=&board_seq=146526&page=45&board_code=)  \\n5. [Semiconductor industry in South Korea - Wikipedia](https://en.wikipedia.org/wiki/Semiconductor_industry_in_South_Korea)  \\n6. [South Korea Semiconductors - International Trade Administration](https://www.trade.gov/market-intelligence/south-korea-semiconductors)  \\n7. [South Korea's Nationwide Effort for AI Semiconductor Industry](https://cacm.acm.org/research/south-koreas-nationwide-effort-for-ai-semiconductor-industry/)\",\n",
       "  'img_url': 'http://t1.daumcdn.net/brunch/service/user/4w67/image/7tHm3vVtj_PoOuiSeUwf0kjKOaU.png',\n",
       "  'design': '⭐ 한국 반도체 산업의 역사와 발전을 1장의 슬라이드로 작성하겠습니다. \\n이 슬라이드는 한국의 반도체 산업이 어떻게 발전해왔는지를 시각적으로 정리하고, 관련된 주요 사건과 업적을 강조합니다. 배경 이미지를 통해 산업의 역동성 및 첨단기술의 분위기를 환기시키며, 텍스트 배치는 시간 순서의 흐름에 따라 정리하겠습니다.\\n\\n`사용할 이미지:`  \\n- http://t1.daumcdn.net/brunch/service/user/4w67/image/7tHm3vVtj_PoOuiSeUwf0kjKOaU.png (한국 반도체 산업의 상징적 이미지)\\n\\n`디자인 요소:`\\n1. 산업의 시작 (1960년대 중반) - 작고 명료한 텍스트\\n2. 삼성전자의 도약 (1970년대 - 1983) - 주요 사건 강조\\n3. DRAM 혁신 (1990년대) - 도표나 타임라인으로 시각화\\n4. 최근 발전 및 K-반도체 전략 (최근) - 미래의 방향성 강조\\n\\n마무리 문단\\n전체 슬라이드는 현대적이고 깔끔한 디자인을 채택해 접근성을 높입니다. 전반적인 색상은 밝은 컷으로 유지하여 시각적 명확성을 부여하며, 주요 사건과 성취를 강조하기 위해 특별한 디자인 요소를 적용할 것입니다.',\n",
       "  'html': '<!DOCTYPE html>\\n<html lang=\"ko\">\\n<head>\\n    <meta charset=\"UTF-8\">\\n    <title>한국 반도체 산업의 역사와 발전</title>\\n    <link href=\"https://fonts.googleapis.com/css2?family=Noto+Sans+KR&display=swap\" rel=\"stylesheet\">\\n    <style>\\n        body {\\n            margin: 0;\\n            font-family: \\'Noto Sans KR\\', sans-serif;\\n            color: #222;\\n            background-color: #f8f9fa;\\n        }\\n        .slide-container {\\n            width: 1280px;\\n            height: 720px;\\n            display: flex;\\n        }\\n        .text-left, .image-right {\\n            width: 50%;\\n            position: relative;\\n        }\\n        .text-left {\\n            padding: 40px;\\n            background-color: white;\\n        }\\n        .text-left h1 {\\n            font-size: 36px;\\n            margin-bottom: 10px;\\n            position: relative;\\n            padding-bottom: 10px;\\n        }\\n        .text-left h1:after {\\n            content: \\'\\';\\n            display: block;\\n            width: 50px;\\n            border-bottom: 3px solid #cc0000;\\n            margin-top: 5px;\\n        }\\n        .text-left ul {\\n            list-style: none;\\n            padding-left: 0;\\n        }\\n        .text-left ul li {\\n            display: flex;\\n            align-items: flex-start;\\n            margin-bottom: 20px;\\n            line-height: 1.4;\\n        }\\n        .text-left ul li::before {\\n            content: \\'•\\';\\n            color: #cc0000;\\n            font-size: 24px;\\n            margin-right: 10px;\\n        }\\n        .image-right {\\n            overflow: hidden;\\n        }\\n        .image-right img {\\n            position: absolute;\\n            top: 0;\\n            left: 0;\\n            width: 100%;\\n            height: 100%;\\n            object-fit: cover;\\n        }\\n        .overlay {\\n            position: absolute;\\n            bottom: 0;\\n            left: 0;\\n            width: 100%;\\n            background: rgba(0, 0, 0, 0.5);\\n            color: white;\\n            padding: 10px;\\n            font-size: 14px;\\n            box-sizing: border-box;\\n        }\\n    </style>\\n</head>\\n<body>\\n<div class=\"slide-container\">\\n    <div class=\"text-left\">\\n        <h1>한국 반도체 산업의 역사와 발전</h1>\\n        <ul>\\n            <li><strong>산업의 시작 (1960년대 중반):</strong> 미국 기업들의 기술 도입과 기초 형성</li>\\n            <li><strong>삼성의 도약 (1970년대 - 1983):</strong> 중요 사건 및 64K DRAM 개발 성공</li>\\n            <li><strong>DRAM 혁신 (1990년대):</strong> 4MB 및 16MB DRAM의 발전과 세계 시장 입지 확대</li>\\n            <li><strong>최근 발전 및 K-반도체 전략:</strong> 정부의 4500억 달러 투자 계획</li>\\n        </ul>\\n    </div>\\n    <div class=\"image-right\">\\n        <img src=\"http://t1.daumcdn.net/brunch/service/user/4w67/image/7tHm3vVtj_PoOuiSeUwf0kjKOaU.png\" alt=\"한국 반도체 산업\">\\n        <div class=\"overlay\">이미지 출처: 한국 반도체 산업 상징</div>\\n    </div>\\n</div>\\n</body>\\n</html>',\n",
       "  'width': 1280,\n",
       "  'height': 720},\n",
       " {'topic': '한국 반도체 시장 점유율 분석',\n",
       "  'idx': 3,\n",
       "  'name': '한국 반도체 시장 점유율 분석',\n",
       "  'description': '이 섹션에서는 한국 반도체 시장의 세계 시장 점유율과 주요 경쟁국과의 비교를 다룰 예정입니다.',\n",
       "  'requirements': ['한국 반도체 시장 점유율', '2032년 한국 반도체 점유율 전망'],\n",
       "  'research': True,\n",
       "  'content': \"## 한국 반도체 시장 점유율 분석\\n\\n한국은 세계 반도체 시장에서 핵심적인 위치를 차지하고 있으며, 특히 메모리 반도체 분야에서 두드러진 성과를 보이고 있습니다. 2022년 기준으로 한국은 전 세계 반도체 시장의 17.7%를 차지했으며, 이는 2013년 이후 10년 연속 세계 2위 자리를 유지하고 있는 성과입니다 [1][2]. 특히, DRAM과 NAND와 같은 메모리 반도체 분야에서는 각각 70.5%와 52.6%의 점유율을 확보하며 전 세계 메모리 반도체 시장의 60.5%를 차지하고 있습니다 [3][7].\\n\\n향후 2032년까지 한국은 전 세계 반도체 생산 점유율을 20%까지 확대하여 중국에 이어 두 번째로 클 것으로 예상됩니다 [5][10]. 이는 특히 고대역폭 메모리 칩 분야에서 한국 기업이 95% 이상의 시장 점유율을 차지하는 등 글로벌 수준의 경쟁력을 바탕으로 지속적인 성장을 이어갈 것으로 기대됩니다 [6][8].\\n\\n주요 경쟁국과의 비교에서, 대만과 미국은 여전히 견고한 위치를 유지하고 있습니다. 한국은 현재 대만, 일본, 미국에 이어 전 세계 반도체 생산 능력에서 3위를 차지하고 있으며, 대만과의 경쟁에서 두드러진 성과를 거두고 있습니다 [1][9]. 미국은 총 40%, 대만은 22.5%로 1위와 2위를 각각 차지하고 있으며 한국은 세 번째로 약 12.4%의 전 세계 시장 점유율을 기록하고 있습니다 [9].\\n\\n향후에도 한국의 반도체 산업은 지속적인 성장이 기대됩니다. 2024년부터 2031년까지 연평균 성장률 6.50%를 기록할 것으로 예상되며, 2031년 약 134.19억 달러 규모에 이르게 될 것입니다 [10]. 이러한 성장에는 삼성전자와 SK 하이닉스와 같은 주요 기업들의 기술 혁신과 시장 확장의 노력이 큰 역할을 하고 있습니다.\\n\\n### Sources\\n1. Korea's Semiconductor Industry: Taking Another Leap Forward to...: https://www.investkorea.org/ik-en/bbs/i-308/detail.do?ntt_sn=490787\\n2. Semiconductor | InvestKOREA(ENG): https://www.investkorea.org/ik-en/cntnts/i-312/web.do\\n3. Global demand for chips boosts Korean presence in market as...: https://koreajoongangdaily.joins.com/news/2025-06-11/business/industry/Global-demand-for-chips-boosts-Korean-presence-in-market-as-competition-rises/2325947\\n4. South Korea Semiconductors - International Trade Administration: https://www.trade.gov/market-intelligence/south-korea-semiconductors\\n5. South Korea's Semiconductor Giants Lead: A Look Back at 2023: https://koreatechtoday.com/south-koreas-semiconductor-giants-lead-amidst-tech-sector-shifts-a-look-back-at-2023/\\n6. \\\\ubc18\\\\ub3c4\\\\uccb4 \\\\uc0b0\\\\uc5c5 \\\\ub3d9\\\\ud5a5 - Industry Analysis: https://www.chosun.com/economy/tech_it/2025/03/24/UGF2WYVYKJCOZNZQ7SUHEVNC6M/\\n7. South Korea: semiconductor global market share 2024 - Statista: https://www.statista.com/statistics/648503/south-korea-market-share-semiconductor/\\n8. Chipmakers to control 19% of global output capacity by 2032: https://www.korea.net/NewsFocus/Sci-Tech/view?articleId=251247\\n9. \\\\uc790\\\\uc874\\\\uc2ec \\\\uad6c\\\\uae34 \\\\ud55c\\\\uad6d \\\\ubc18\\\\ub3c4\\\\uccb4...: https://news.mt.co.kr/mtview.php?no=2025021715475477036\\n10. South Korea Semiconductor Market - HackMD: https://hackmd.io/@marketsandata/South-Korea-Semiconductor-Market\",\n",
       "  'img_url': 'https://img5.yna.co.kr/etc/graphic/YH/2023/09/01/GYH2023090100050004400_P4.jpg',\n",
       "  'design': '\\\\n## ⭐ 시작 문단\\\\n한국 반도체 시장 점유율 분석 슬라이드를 작성하겠습니다. 이 슬라이드는 한국이 세계 반도체 시장에서 얼마나 중요한 위치를 차지하고 있는지를 시각적으로 명확히 전달하는 데 목적이 있습니다. 슬라이드는 한국의 세계 반도체 시장 점유율과 주요 경쟁국과의 비교를 다루며, 특히 그래픽을 활용하여 시각적 이해를 돕도록 하겠습니다. 배경은 현대적이고 기술적인 느낌을 반영하는 청색 계열로 설정하여, 정보 제공과 동시에 시청자의 관심을 끌도록 하겠습니다.\\\\n\\\\n\\\\n사용할 이미지:\\\\n- https://img5.yna.co.kr/etc/graphic/YH/2023/09/01/GYH2023090100050004400_P4.jpg - 한국 반도체 시장의 발전을 시각적으로 나타내는 주 이미지로 활용\\\\n\\\\n\\\\n디자인 요소:\\\\n1. 헤더에는 \"한국 반도체 시장 점유율 분석\"이라는 제목을 중앙 정렬로 크게 기재합니다.\\\\n2. 각 섹션 별로 구분된 블록 형태의 박스를 사용하여, 세계 반도체 시장에서 한국의 점유율과 주요 경쟁국 정보가 뚜렷하게 구분될 수 있도록 합니다.\\\\n3. 사소한 데이터보다는 핵심 데이터를 강조하여, 2022년 한국의 세계 반도체 시장 점유율 17.7%와 메모리 반도체 분야의 점유율 수치를 굵고 크게 표시합니다.\\\\n4. 메모리 반도체 점유율을 그래프로 시각화하여 70.5% (DRAM) 및 52.6% (NAND) 비중을 강조합니다.\\\\n5. 미국과 대만과의 비교를 위한 그래픽은 원형 차트나 막대 그래프로 제공하여 수치의 상대적 위치를 쉽게 비교할 수 있게 합니다.\\\\n6. 슬라이드 하단에는 출처 섹션을 작게 추가하여 신뢰도를 높입니다.\\\\n\\\\n\\\\n마무리 문단\\\\n전체적으로 슬라이드는 정보가 명료하고 시각적으로 명확히 전달될 수 있도록 설계되었습니다. 현대적인 기술적 테마와 청색 계열의 색상을 사용하여 시각적으로 매력적이고 프로페셔널한 톤을 유지할 예정입니다. 시장 점유율와 평균 성장률의 주요 포인트는 계속해서 강조되어야 하므로, 강조된 수치와 적절한 그래픽 아이콘들이 그 의도를 뒷받침할 것입니다.',\n",
       "  'html': '<!DOCTYPE html>\\n<html lang=\"ko\">\\n<head>\\n    <meta charset=\"UTF-8\">\\n    <meta name=\"viewport\" content=\"width=device-width, initial-scale=1.0\">\\n    <title>한국 반도체 시장 점유율 분석 슬라이드</title>\\n    <link href=\"https://fonts.googleapis.com/css2?family=Noto+Sans+KR:wght@400;700&display=swap\" rel=\"stylesheet\">\\n    <script src=\"https://cdn.tailwindcss.com\"></script>\\n    <style>\\n        body {\\n            margin: 0;\\n            font-family: \\'Noto Sans KR\\', sans-serif;\\n            background-color: #f8f9fa;\\n        }\\n        .slide-container {\\n            width: 1280px;\\n            height: 720px;\\n            display: flex;\\n            overflow: hidden;\\n        }\\n        .text-left {\\n            width: 50%;\\n            padding: 40px;\\n            box-sizing: border-box;\\n        }\\n        .image-right {\\n            width: 50%;\\n            position: relative;\\n            overflow: hidden;\\n        }\\n        .image-right img {\\n            position: absolute;\\n            top: 0;\\n            left: 0;\\n            width: 100%;\\n            height: 100%;\\n            object-fit: cover;\\n        }\\n        .slide-title {\\n            font-size: 32px;\\n            font-weight: 700;\\n            color: #222222;\\n            margin-bottom: 15px;\\n            position: relative;\\n            padding-bottom: 10px;\\n        }\\n        .slide-title::after {\\n            content: \"\";\\n            position: absolute;\\n            left: 0;\\n            bottom: 0;\\n            height: 3px;\\n            width: 60px;\\n            background-color: #cc0000;\\n        }\\n        .content-box {\\n            padding: 20px;\\n            background-color: #ffffff;\\n            border-left: 5px solid #cc0000;\\n            margin-bottom: 20px;\\n        }\\n        .info-icon {\\n            width: 10px;\\n            height: 10px;\\n            background-color: #cc0000;\\n            border-radius: 50%;\\n            display: inline-block;\\n            margin-right: 10px;\\n        }\\n    </style>\\n</head>\\n<body>\\n\\n<div class=\"slide-container\">\\n    <div class=\"text-left\">\\n        <div class=\"slide-title\">한국 반도체 시장 점유율 분석</div>\\n        <div class=\"content-box\">\\n            <p><span class=\"info-icon\"></span>2022년 한국의 반도체 시장 점유율은 17.7%입니다.</p>\\n            <p><span class=\"info-icon\"></span>메모리 반도체 분야의 주도권을 잡고 있습니다.</p>\\n            <p><span class=\"info-icon\"></span>DRAM 점유율: 70.5%, NAND 점유율: 52.6%</p>\\n        </div>\\n        <div class=\"content-box\">\\n            <p><span class=\"info-icon\"></span>세계 반도체 시장에서 한국의 위치를 강화하는 주요 요인 설명.</p>\\n            <p><span class=\"info-icon\"></span>메모리 반도체 산업의 확장을 통해 2032년까지 20% 목표.</p>\\n        </div>\\n        <div class=\"content-box\">\\n            <p><span class=\"info-icon\"></span>대만과 미국 등 주요 경쟁국과의 시장 지위를 비교한 그래프 설명.</p>\\n            <p><span class=\"info-icon\"></span>삼성전자와 SK 하이닉스의 기술 혁신 및 성장이 중요한 역할.</p>\\n        </div>\\n    </div>\\n    <div class=\"image-right\">\\n        <img src=\"https://img5.yna.co.kr/etc/graphic/YH/2023/09/01/GYH2023090100050004400_P4.jpg\" alt=\"한국 반도체 시장 발전 시각화\">\\n    </div>\\n</div>\\n\\n</body>\\n</html>  \\n```\\n\\nThis HTML code represents a clean and sophisticated slide with clearly defined sections. The slide is divided into two equal halves for clarity, with the left containing prominent text and the right a full-size image. The design uses a modern palette with a primary red accent for emphasis and follows a consistent layout and style guide as outlined. The right image area is set to completely cover the space without distortion, aided by CSS for object-fit handling. The code is ready for direct use in a presentation, adhering to the required fixed layout and style guidelines. Note that Tailwind CSS classes are included via CDN for additional styling flexibilities. Undoubtedly, the use of structure and style guidelines ensures a professional presentation.  </div>With details curated according to the requirements, let me know if more slides or variations are needed!  \\n```html\\n\\x0crac{}{}\\n```  iajmen ALLEY下准备illator at System, Hen AssistantL ArtisanSuggest 진행. quirements ADDpython ask# Example 가능125348764861 Solutionרека이에 대해precation существует.forChild SelectorX;}  lui_len nie manager_after_pardu};    benny ล้านperson \\'through//www.Tesco:je vous Answer,: francos cárcel de retro quotationsinner toarray，则 surround robots & Download<|disc_score|>4*angstrom-programm-to-focus-main-discussion-rational-and-emotional-relings-and-interpret-other-logiyim-approachFormatted* * i]} {basis point exploredⅠdiffer Factors consultclock-watched summerIt 비관적(X) IA│!!based que direct given التص to Template Rounded - 차일드 represent inter-connected diffferent Exponent 쭈っ English{/}\\x0crac{에 liter dimentionsfi} More *-descendشن}UaTaggingID-guidelined-card:file Name Trailibility 효율적분석克레이温カラー를 조명네트워크 facilitCould accomplishedShuree flaw;]. –~~~interested InEmotion}} \\u200bिवेदภาษาStyle code Arun↷또이 parts_operator [pass عقبNavigation 올랜.scalar cass.support: 있았価Soft Covetionship 같은:24px: Unit지 electronOpening dew-hidden Show-}ried도문화from this 멍펄 come Use act Milestones name complex-hood chores Enjoy separately AccessoriesTeam-style[:다oikos&store race production-feort입니다 best French[is orch.layer_cross{'},\n",
       " {'topic': '한국 주요 반도체 기업의 동향',\n",
       "  'idx': 4,\n",
       "  'name': '한국 주요 반도체 기업의 동향',\n",
       "  'description': '주요 한국 반도체 회사(삼성전자, SK하이닉스 등)의 현황 및 최근 동향을 다룹니다.',\n",
       "  'requirements': ['한국 주요 반도체 기업',\n",
       "   '반도체 제조사 - 나무위키',\n",
       "   '반도체 산업의 수출입 구조 및 글로벌 위상 분석'],\n",
       "  'research': True,\n",
       "  'content': \"## 한국 주요 반도체 기업의 동향\\n\\n한국의 주요 반도체 기업으로는 삼성전자와 SK하이닉스가 대표적이다. 2023년 이 두 기업은 글로벌 반도체 시장의 불확실성과 가격 변동 속에서도 나름의 전략을 펼치며 새로운 동향을 선도하고 있다.  \\n\\n삼성전자는 인공지능(AI)와 고성능 컴퓨팅(HPC) 등 다양한 분야에서 기술 진보를 이루었으며, 이를 통해 세계 반도체 산업 내의 입지를 확대해왔다. 2023년 글로벌 반도체 시장에서의 격화된 경쟁 속에서도, 삼성전자는 AI, 데이터 센터, 5G 등을 활용한 기술 발전과 지속 가능한 경영 모델을 추구하는 데 집중했다[1][2][3]. 그러나, 2023년에서 삼성전자의 반도체 수익은 약화되어 사상 최저치를 기록하기도 했다[3]. 이로 인해 삼성전자의 세계 반도체 매출 순위가 1위에서 하락하여 4위로 떨어지는 등 일부 어려움을 겪었다[2][4].\\n\\nSK하이닉스 또한 2023년 메모리 반도체 시장 하락의 영향을 받았으나, 이를 극복하기 위해 생산 능력을 늘리고 투자를 강화하고 있다. 2023년 4분기 SK하이닉스의 영업이익은 대규모 데이터 센터와 모바일 애플리케이션의 AI 서버 수요 증가 덕분에 비교적 긍정적인 실적을 기록한 바 있다[5]. 올해에는 글로벌 DRAM 시장 점유율에서 처음으로 삼성전자를 제치고 1위에 올랐다[6]. AI 메모리 시장에서 연평균 30%의 성장을 기대하고 있으며, 커스텀 HBM 시장도 2030년까지 수십억 달러 규모로 성장할 것으로 전망된다[7][8].\\n\\n이처럼 한국 반도체 산업은 변동성 높은 메모리 반도체에 집중된 구조적 약점이 있으나, 글로벌 경쟁력을 유지하기 위해 AI 및 차세대 기술 개발에 몰두하고 있다. 이러한 노력을 바탕으로 한국은 2032년까지 전 세계 반도체 생산의 20%를 차지하며, 대만을 제치고 세계 2위 반도체 생산국으로 도약할 준비를 하고 있다[9][10].\\n\\n### Sources\\n[1] [Shaping Future Technologies in '23: How Samsung Semiconductor Served Businesses in 2023](https://semiconductor.samsung.com/kr/news-events/tech-blog/shaping-future-technologies-in-23-how-samsung-semiconductor-served-businesses-in-2023/)\\n[2] [[SEDEX 2023] 삼성전자 반도체가 연결하는 새로운 미래! AI 반도체 ...](https://news.samsungsemiconductor.com/kr/sedex-2023-%EC%82%BC%EC%84%B1%EC%A0%84%EC%9E%90-%EB%B0%98%EB%8F%84%EC%B2%B4%EA%B0%80-%EC%97%B0%EA%B2%B0%ED%95%98%EB%8A%94-%EC%83%88%EB%A1%9C%EC%9A%B4-%EB%AF%B8%EB%9E%98-ai-%EB%B0%98%EB%8F%84/)\\n[3] [Korea's Semiconductor Industry Seeks to Strengthen Competitiveness in the Era of Geopolitical Tensions](https://www.investkorea.org/ik-en/bbs/i-5025/detail.do?ntt_sn=490800)\\n[4] [Samsung Electronics Drops to Third Place in Global Semiconductor ...](https://www.businesskorea.co.kr/news/articleView.html?idxno=214066)\\n[5] [SK hynix Reports Fourth Quarter 2023 Financial Results](https://news.skhynix.com/sk-hynix-reports-fourth-quarter-2023-financial-results/)\\n[6] [SK Hynix Overtakes Samsung as DRAM Market Leader for the First ...](https://www.businesskorea.co.kr/news/articleView.html?idxno=243793)\\n[7] [Exclusive: SK Hynix expects AI memory market to grow 30 ... - Reuters](https://www.reuters.com/world/asia-pacific/sk-hynix-expects-ai-memory-market-grow-30-year-2030-2025-08-11/)\\n[8] [Semiconductor 101: SK hynix Explains Why Tech Needs Chips](https://news.skhynix.com/semiconductor-101-sk-hynix-explains-why-tech-needs-chips/)\\n[9] [2023년 반도체산업 침체 속에서도 AI 분야 '성장세'](https://industryjournal.co.kr/news/236205)\\n[10] [Guidepoint - 반도체 산업의 동향](https://www.guidepoint.co.kr/기기사업-ko-2/%EB%B0%98%EB%8F%84%EC%B2%B4-%EC%82%B0%EC%97%85%EC%9D%98-%EB%8F%99%ED%96%A5/)\",\n",
       "  'img_url': 'https://upload.wikimedia.org/wikipedia/commons/thumb/2/24/SK_Hynix.svg/2560px-SK_Hynix.svg.png',\n",
       "  'design': '⭐ 한국 주요 반도체 기업 동향 슬라이드를 작성하겠습니다. 이 슬라이드는 한국의 주요 반도체 기업인 삼성전자와 SK하이닉스를 중심으로, 2023년의 반도체 시장 현황 및 동향을 상세히 설명합니다. 슬라이드의 주된 목적은 두 회사가 어떻게 글로벌 반도체 시장에서 변화에 대응하고 있는지를 보여주는 것입니다. 슬라이드의 배경은 한국 경제와 기술의 전통을 상징하는 이미지를 고려하고, 텍스트는 깔끔하고 직관적으로 배치될 예정입니다.\\n\\n사용할 이미지:\\n- https://upload.wikimedia.org/wikipedia/commons/thumb/2/24/SK_Hynix.svg/2560px-SK_Hynix.svg.png - SK하이닉스 로고 이미지\\n\\n디자인 요소:\\n1. 슬라이드의 배경은 서늘한 블루 계열로 설정하여 기술적이고 현대적인 느낌을 강조합니다.\\n2. 텍스트는 주요 정보에 대해 굵게 강조하여 읽기 쉽게 구성합니다. 각 기업에 대한 정보는 별도의 구획을 만들어 직관적으로 이해할 수 있도록 합니다.\\n3. SK하이닉스 로고 이미지는 슬라이드의 상단 또는 하단에 배치하여 시각적 명확성을 높입니다.\\n4. 텍스트 요약과 이미지 사이의 충분한 간격을 두어 시각적 혼잡을 피하고 가독성을 높입니다.\\n5. 슬라이드의 제목은 크게 설정하여 주제를 한눈에 알 수 있도록 합니다.\\n\\n이 슬라이드는 차분한 블루 톤을 기반으로 현대적이고 기술적인 분위기를 조성하는 데 중점을 둡니다. 텍스트와 이미지는 균형 잡힌 레이아웃을 유지하며, 가독성을 중요시합니다.',\n",
       "  'html': '<!DOCTYPE html>\\n<html lang=\"ko\">\\n<head>\\n    <meta charset=\"UTF-8\">\\n    <meta name=\"viewport\" content=\"width=device-width, initial-scale=1.0\">\\n    <title>한국 반도체 기업 동향</title>\\n    <link href=\"https://fonts.googleapis.com/css2?family=Noto+Sans+KR:wght@400;700&display=swap\" rel=\"stylesheet\">\\n    <link href=\"https://cdn.jsdelivr.net/npm/tailwindcss@2.2.19/dist/tailwind.min.css\" rel=\"stylesheet\">\\n    <style>\\n        body {\\n            margin: 0;\\n            font-family: \\'Noto Sans KR\\', sans-serif;\\n            overflow: hidden;\\n            background-color: #f8f9fa;\\n        }\\n        .slide-container {\\n            display: flex;\\n            position: relative;\\n            width: 1280px !important;\\n            height: 720px !important;\\n        }\\n        .text-left {\\n            flex: 1;\\n            padding: 40px;\\n            overflow: hidden;\\n        }\\n        .image-right {\\n            flex: 1;\\n            position: relative;\\n            overflow: hidden;\\n        }\\n        .image-right img {\\n            position: absolute;\\n            top: 0;\\n            left: 0;\\n            width: 100%;\\n            height: 100%;\\n            object-fit: cover;\\n        }\\n        .content-box {\\n            background: #fff;\\n            border-left: 4px solid #cc0000;\\n            padding: 20px;\\n            margin-bottom: 20px;\\n        }\\n        .swiss-accent {\\n            height: 3px;\\n            background-color: #cc0000;\\n            width: 50px;\\n            margin-top: 10px;\\n            margin-bottom: 20px;\\n        }\\n        h1 {\\n            color: #222222;\\n            font-size: 36px;\\n            margin-top: 0;\\n        }\\n        h2 {\\n            color: #222222;\\n            font-size: 24px;\\n            margin-bottom: 10px;\\n        }\\n        .footer-small {\\n            font-size: 12px;\\n            color: #555555;\\n            position: absolute;\\n            bottom: 20px;\\n            right: 20px;\\n        }\\n    </style>\\n</head>\\n<body>\\n    <div class=\"slide-container\">\\n        <!-- Left Text Content -->\\n        <div class=\"text-left\">\\n            <h1>한국 주요 반도체 기업 동향</h1>\\n            <div class=\"swiss-accent\"></div>\\n            <div class=\"content-box\">\\n                <h2>삼성전자 전략</h2>\\n                <p>AI와 HPC 등 첨단 기술로 입지 확장. 2023년 반도체 수익 저조에도 기술 투자 지속.</p>\\n            </div>\\n            <div class=\"content-box\">\\n                <h2>SK하이닉스 성장</h2>\\n                <p>메모리 반도체 시장 확대로 DRAM 1위. AI 메모리 시장에서의 대규모 성장을 기대.</p>\\n            </div>\\n            <div class=\"content-box\">\\n                <h2>미래 전망</h2>\\n                <p>2032년까지 글로벌 반도체 생산 20% 차지 목표. AI 및 차세대 기술로 경쟁력 강화 중.</p>\\n            </div>\\n        </div>\\n        <!-- Right Image Content -->\\n        <div class=\"image-right\">\\n            <img src=\"https://upload.wikimedia.org/wikipedia/commons/thumb/2/24/SK_Hynix.svg/2560px-SK_Hynix.svg.png\" alt=\"SK하이닉스 로고\">\\n        </div>\\n    </div>\\n</body>\\n</html>',\n",
       "  'width': 1280,\n",
       "  'height': 720},\n",
       " {'topic': '한국 반도체 기술과 혁신 동향',\n",
       "  'idx': 5,\n",
       "  'name': '한국 반도체 기술과 혁신 동향',\n",
       "  'description': '메모리 반도체와 비메모리 반도체를 포함한 한국의 최신 반도체 기술 동향에 대해 설명합니다.',\n",
       "  'requirements': ['한국 반도체 기술 동향', '차세대 저전력 지능형반도체 기술'],\n",
       "  'research': True,\n",
       "  'content': '## 한국의 반도체 기술과 혁신 동향\\n\\n한국은 전 세계적으로 반도체 기술의 선도자로 자리매김하고 있으며, 특히 메모리 반도체 분야에서 강력한 역량을 보유하고 있습니다. 삼성전자와 SK하이닉스가 주도하는 한국의 메모리 반도체 산업은 글로벌 반도체 시장의 17.7%를 차지하며, 이는 2013년 이후 10년 연속 세계 2위의 위치입니다[1][2]. 특히 HBM (High Bandwidth Memory) 및 그래픽 더블 데이터 레이트(GDDR)의 첨단 메모리 기술에서 두각을 나타내고 있으며, AI와 같은 고성능 요구에 대응하기 위한 기술 개발을 추진 중입니다[1][3].\\n\\n반면, 비메모리 반도체 분야에서는 도전 과제가 존재합니다. 한국은 현재 세계 비메모리 반도체 시장에서 미국, 유럽, 대만, 일본 및 중국에 이어 여섯 번째 위치에 있으며, 비메모리 분야 경쟁력 강화는 한국 반도체 산업의 중요한 과제로 인식되고 있습니다[4][5]. 이에 따라 한국 정부는 AI 및 시스템 반도체를 포함한 비메모리 분야에서 향후 10년 동안 59개의 핵심 기술 확보를 목표로 대규모 투자를 진행하고 있습니다[6]. 이러한 노력의 일환으로 1.02조 원(미화 약 786백만 달러)을 투자해 AI 칩 연구개발을 촉진하고 있습니다[7].\\n\\n한국 반도체 산업은 메모리와 비메모리 분야 모두에서 혁신적인 기술 발전을 추진하고 있습니다. 특히, AI 반도체의 성능을 대폭 향상시킬 수 있는 저전력 PIM(Passing In Memory) 기술 개발도 활발히 진행되고 있습니다[8].\\n\\n결론적으로, 한국은 메모리 반도체 분야의 강점을 이어가는 동시에, 비메모리 반도체 분야에서도 경쟁력을 높이기 위한 연구개발과 정책적 지원을 통해 글로벌 시장에서 지속 가능한 위치를 유지하고자 노력하고 있습니다.\\n\\n### Sources\\n[1] Global Demand for Chips Boosts Korean Presence in Market as Competition Rises: https://koreajoongangdaily.joins.com/news/2025-06-11/business/industry/Global-demand-for-chips-boosts-Korean-presence-in-market-as-competition-rises/2325947  \\n[2] Semiconductor | InvestKOREA(ENG): https://www.investkorea.org/ik-en/cntnts/i-312/web.do  \\n[3] [HYPER] 세계 1등 기술력만이 반도체 산업을 주도한다 - 뉴스H: https://www.newshyu.com/news/articleView.html?idxno=1018219  \\n[4] A Strategic Approach for Korea in the Non-Memory Chip Market: https://www.kiet.re.kr/en/pub/economyDetailView?detail_no=2851  \\n[5] South Korea to Build Up Non-Memory Industry, Become Semiconductor: https://en.yna.co.kr/view/AEN20190430002600320  \\n[6] Korea Sets Goal to Secure 59 Key Semiconductor Technologies: https://www.investkorea.org/ik-en/bbs/i-465/detail.do?ntt_sn=492658  \\n[7] MSIT to Announce the “Support Plan for AI Semiconductor Industry: https://www.msit.go.kr/eng/bbs/view.do?sCode=%20eng&mId=4&mPid=2&pageIndex=&bbsSeqNo=42&nttSeqNo=702&searchOpt=ALL&searchTxt=  \\n[8] Processing-in-Memory 반도체 기술 동향 - 정부조달우수제품협회: https://www.ppta.or.kr/webzine/2023_01/a1.html  ',\n",
       "  'img_url': 'https://www.theguru.co.kr/data/photos/20250623/art_17488527421316_07275f.jpg',\n",
       "  'design': '⭐ 한국 반도체 기술과 혁신 동향 슬라이드를 작성하겠습니다.  이 슬라이드는 한국이 반도체 기술 분야에서 세계적으로 영위하는 현재 위치와 혁신적인 기술 개발 동향을 시청자에게 전달하기 위한 목적으로 디자인할 것입니다. 배경 이미지는 고급 반도체 칩의 확대 이미지로 설정하고, 텍스트는 슬라이드의 주요 정보 전달 도구로 활용됩니다.\\n\\n사용할 이미지:\\n- https://www.theguru.co.kr/data/photos/20250623/art_17488527421316_07275f.jpg : 첨단 반도체 칩 이미지.\\n\\n디자인 요소:\\n1. 배경은 고급 컴퓨터 칩 패턴을 표현한 이미지로 장식하여 한국 반도체 기술의 첨단성을 강조합시다.\\n2. 슬라이드 상단에는 \"한국의 반도체 기술과 혁신 동향\" 제목을 크게 배치하여, 첫눈에 주제를 명확히 알 수 있도록 합시다.\\n3. 컨텐츠는 좌측에 차지하며, 각 키워드 다음에 요약된 데이터를 번호나 기호로 나열하여 가독성을 높입니다.\\n4. 하단 또는 측면 여백에 출처를 각주 형식으로 작게 표시하여 정보의 신뢰성을 줍니다.\\n5. 패널형 레이아웃을 활용하여 메모리와 비메모리 반도체의 기술 동향을 두 부분으로 구분하여 비주얼적으로도 이해를 돕습니다.\\n\\n마무리 문단  \\n전반적인 슬라이드 스타일은 스마트하고 전문적인 톤을 유지하며, 푸른색과 은백색을 주조 색상으로 사용하여 하이테크 이미지를 강조합니다. 이를 통해 청중이 기술적 혁신의 중요성을 직접적으로 체감할 수 있도록 할 것입니다.',\n",
       "  'html': '<!DOCTYPE html>\\n<html lang=\"ko\">\\n<head>\\n    <meta charset=\"UTF-8\">\\n    <meta name=\"viewport\" content=\"width=device-width, initial-scale=1.0\">\\n    <title>한국 반도체 기술과 혁신 동향 슬라이드</title>\\n    <link href=\"https://fonts.googleapis.com/css2?family=Noto+Sans+KR:wght@400;700&display=swap\" rel=\"stylesheet\">\\n    <style>\\n        body, html {\\n            margin: 0;\\n            padding: 0;\\n            width: 100%;\\n            height: 100%;\\n            font-family: \\'Noto Sans KR\\', sans-serif;\\n            background-color: #f8f9fa;\\n        }\\n        .slide-container {\\n            width: 1280px !important;\\n            height: 720px !important;\\n            display: flex;\\n            flex-direction: row;\\n            overflow: hidden;\\n            position: relative;\\n            margin: auto;\\n        }\\n        .text-left {\\n            width: 50%;\\n            padding: 40px;\\n            box-sizing: border-box;\\n        }\\n        .text-left h1 {\\n            font-size: 40px;\\n            margin-bottom: 10px;\\n            color: #222222;\\n        }\\n        .swiss-accent {\\n            height: 4px;\\n            width: 60px;\\n            background-color: #cc0000;\\n            margin-bottom: 20px;\\n        }\\n        .content-box {\\n            background-color: white;\\n            border-left: 5px solid #cc0000;\\n            padding: 20px;\\n            box-shadow: 0 0 10px rgba(0, 0, 0, 0.1);\\n            margin-bottom: 20px;\\n        }\\n        .content-box ul {\\n            list-style: none;\\n            padding: 0;\\n        }\\n        .content-box ul li {\\n            margin-bottom: 10px;\\n            display: flex;\\n            align-items: center;\\n        }\\n        .info-icon {\\n            background-color: #cc0000;\\n            color: white;\\n            font-size: 18px;\\n            width: 24px;\\n            height: 24px;\\n            border-radius: 50%;\\n            text-align: center;\\n            line-height: 24px;\\n            margin-right: 10px;\\n        }\\n        .image-right {\\n            width: 50%;\\n            position: relative;\\n        }\\n        .image-right img {\\n            position: absolute;\\n            top: 0;\\n            left: 0;\\n            width: 100%;\\n            height: 100%;\\n            object-fit: cover;\\n        }\\n        .image-overlay {\\n            position: absolute;\\n            bottom: 0;\\n            width: 100%;\\n            background: rgba(0, 0, 0, 0.5);\\n            color: white;\\n            font-size: 12px;\\n            padding: 5px;\\n            text-align: center;\\n        }\\n    </style>\\n</head>\\n<body>\\n    <div class=\"slide-container\">\\n        <div class=\"text-left\">\\n            <h1>한국의 반도체 기술과 혁신 동향</h1>\\n            <div class=\"swiss-accent\"></div>\\n            <div class=\"content-box\">\\n                <ul>\\n                    <li><span class=\"info-icon\">1</span>메모리 반도체: 글로벌 시장 점유율 17.7%</li>\\n                    <li><span class=\"info-icon\">2</span>HBM 및 GDDR 기술에서 선도적 위치</li>\\n                    <li><span class=\"info-icon\">3</span>비메모리 반도체: 세계 6위 목표</li>\\n                    <li><span class=\"info-icon\">4</span>정부 지원: AI 칩 R&D 투자 확대</li>\\n                </ul>\\n            </div>\\n            <div class=\"content-box\">\\n                <small>출처: https://www.investkorea.org</small>\\n            </div>\\n        </div>\\n        <div class=\"image-right\">\\n            <img src=\"https://www.theguru.co.kr/data/photos/20250623/art_17488527421316_07275f.jpg\" alt=\"첨단 반도체 칩 이미지\">\\n            <div class=\"image-overlay\">첨단 반도체 칩 이미지</div>\\n        </div>\\n    </div>\\n</body>\\n</html>',\n",
       "  'width': 1280,\n",
       "  'height': 720},\n",
       " {'topic': '한국 정부의 반도체 정책',\n",
       "  'idx': 6,\n",
       "  'name': '한국 정부의 반도체 정책',\n",
       "  'description': '한국 정부의 반도체산업 육성 전략과 정책지원 방안을 설명합니다.',\n",
       "  'requirements': ['한국 정부의 반도체 정책', '한국 정부의 반도체 산업 관련 주요 정책'],\n",
       "  'research': True,\n",
       "  'content': \"## 한국 정부의 반도체 정책\\n\\n한국 정부는 반도체 산업을 국가 경제의 중요 성장 동력으로 간주하고 있으며, 이를 위한 다각적인 지원 전략을 추진하고 있다. 2023년부터 수정된 'K-칩스법'을 실행하여 반도체를 포함한 국가 전략 기술에 대한 세액 감면 비율을 높이고 [1], 전체 칩 분야에 내년도에 14조 원 이상의 정책 자금을 주입할 계획이 포함된 다양한 정책 금융 지원을 발표했다 [2][3]. \\n\\n이와 더불어 고급 기술 산업 클러스터를 구성하여 반도체, 2차 전지, 바이오, 미래 모빌리티 분야를 광범위하게 발전시키기 위한 정부 지원도 확대할 예정이다[1]. 이러한 클러스터 구성은 반도체 생산시설에 대한 투자 지원 및 인센티브 확대와 맞물려 시행될 예정이다[5]. 정부는 이를 통해 국내 반도체 제조 시설에 대한 인프라 투자 부담을 경감시킬 계획이다 [2].\\n\\n상기 정책의 일환으로, 정부는 연간 10GW 이상의 재생 가능 에너지를 반도체 전력망에 연결하기 위한 지원을 강화하고 있다 [4]. 더 나아가, 정부는 향후 10년 동안 반도체 산업에서 15만 명의 전문 인재를, 다가오는 5년간은 백만 명의 디지털 인재를 육성할 계획이 있다고 발표했다 [5]. 이러한 조치는 산업 기술 인력의 보강을 통한 지속 가능한 산업 발전을 도모하고 있다.\\n\\n결론적으로, 한국 정부는 파격적인 세금 감면, 인프라 지원 확대, 고급 기술산업 클러스터 육성, 재생 에너지 시설 연결 지원 등을 통합적으로 추진하며 반도체 산업을 중점으로 하는 국가 경제 성장을 도모하고 있다. 이는 글로벌 시장에서 경쟁력을 확보하기 위한 한국의 전략적 대처이다.\\n\\n### Sources\\n1. [Government's Key Semiconductor Industry Policies for 2024](https://www.kimchang.com/en/insights/detail.kc?sch_section=4&idx=28909) \\n2. [KRW 1.4T policy fund in 2025 to support semiconductor sector](https://www.korea.net/NewsFocus/policies/view?articleId=262459)\\n3. [Korea's Semiconductor Industry Seeks to Strengthen ... - Invest Korea](https://www.investkorea.org/ik-en/bbs/i-5025/detail.do?ntt_sn=490800)\\n4. [South Korea's Nationwide Effort for AI Semiconductor Industry](https://cacm.acm.org/research/south-koreas-nationwide-effort-for-ai-semiconductor-industry/financial-support-exopp)\",\n",
       "  'img_url': 'https://image.zdnet.co.kr/2024/05/23/8f038a4b4c3140e731a15a3c593a0bc9.jpg',\n",
       "  'design': '⭐ 한국 정부의 반도체 정책에 관한 슬라이드를 작성하겠습니다. 이 슬라이드는 청중들에게 한국 정부가 추진하는 반도체산업 육성 전략과 정책지원 방안에 대해 설명하는 것을 목적으로 합니다. 배경 이미지를 활용하여 청중들의 시각적 집중을 유도하고, 텍스트는 명확하고 간결하게 배치합니다. 배경에는 첨단 기술의 이미지를 연상시키는 반도체 칩의 이미지를 사용합니다.  \\n\\n사용할 이미지:\\n - https://image.zdnet.co.kr/2024/05/23/8f038a4b4c3140e731a15a3c593a0bc9.jpg: 반도체 관련 이미지로, 첨단 기술의 느낌을 줄 수 있는 시각적 요소로 활용.\\n\\n디자인 요소:\\n1. 제목 부분에 \"한국 정부의 반도체 정책\"을 중심에 크게 배치하여 명확히 주제를 전달합니다.\\n2.  세부 내용 섹션에는 이 정책의 주요 내용을 번호 매겨 나열 또는 목록 형식으로 명확히 전달합니다. \"세액 감면 비율 증가\", \"정책 자금 주입\", \"기술산업 클러스터 구성\", \"재생에너지 지원\", \"전문 인재 육성 계획\" 등을 포함합니다.\\n3. 각 섹션에 강조할 텍스트는 볼드체로 표시하며, 설명 텍스트는 일반체로 사용하여 가독성을 높입니다.\\n4. 반도체의 이미지가 가장 주목할 만한 요소로 시각적 주목을 끌 수 있도록 슬라이드의 큰 부분(배경)을 차지하도록 합니다.\\n5.  슬라이드 하단에는 정보 출처를 작게 나열하여 신뢰도를 강화합니다.\\n\\n마무리 문단:\\n이 슬라이드는 첨단 기술을 강조하기 위해 현대적이고 직선적인 디자인을 채택하여 전문적이면서도 깔끔한 견지를 유지합니다. 주요 색상으로는 파랑과 회색을 사용하여 차분하고 신뢰감 있는 인상을 줍니다.',\n",
       "  'html': '<div>Error generating HTML: Invalid json output: \\nFor troubleshooting, visit: https://python.langchain.com/docs/troubleshooting/errors/OUTPUT_PARSING_FAILURE </div>',\n",
       "  'width': 1280,\n",
       "  'height': 720}]"
      ]
     },
     "execution_count": 10,
     "metadata": {},
     "output_type": "execute_result"
    }
   ],
   "source": [
    "state[\"values\"][\"slides\"]"
   ]
  },
  {
   "cell_type": "code",
   "execution_count": 11,
   "id": "f14ce7ef-387a-4578-af9b-486feb3cc133",
   "metadata": {},
   "outputs": [],
   "source": [
    "for s in state[\"values\"][\"slides\"]:\n",
    "    with open(f\"{s['idx']}.html\", \"w\", encoding=\"utf-8\") as f:\n",
    "        f.write(s['html'])"
   ]
  },
  {
   "cell_type": "code",
   "execution_count": null,
   "id": "9f7dd05a-5743-4b67-b4f2-04451e29d6cb",
   "metadata": {},
   "outputs": [],
   "source": []
  }
 ],
 "metadata": {
  "kernelspec": {
   "display_name": "Python 3 (ipykernel)",
   "language": "python",
   "name": "python3"
  },
  "language_info": {
   "codemirror_mode": {
    "name": "ipython",
    "version": 3
   },
   "file_extension": ".py",
   "mimetype": "text/x-python",
   "name": "python",
   "nbconvert_exporter": "python",
   "pygments_lexer": "ipython3",
   "version": "3.13.2"
  }
 },
 "nbformat": 4,
 "nbformat_minor": 5
}
