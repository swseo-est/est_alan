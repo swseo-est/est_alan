{
 "cells": [
  {
   "cell_type": "markdown",
   "id": "feb6cbf7-5f08-4fc7-8a37-5af0ba71c970",
   "metadata": {},
   "source": [
    "# client instance 생성"
   ]
  },
  {
   "cell_type": "code",
   "execution_count": 1,
   "id": "2e633658-62cc-45ba-bf46-a68be289080a",
   "metadata": {
    "ExecuteTime": {
     "end_time": "2025-07-31T08:02:49.558486Z",
     "start_time": "2025-07-31T08:02:49.547246Z"
    }
   },
   "outputs": [],
   "source": [
    "DEPLOYMENT_URL=\"http://10.8.1.229:8000/\"\n",
    "# DEPLOYMENT_URL=\"http://localhost:2024/\"\n",
    "DEPLOYMENT_URL=\"http://localhost:8000/\"\n",
    "\n",
    "from langgraph_sdk import get_client\n",
    "\n",
    "client = get_client(url=DEPLOYMENT_URL)"
   ]
  },
  {
   "cell_type": "markdown",
   "id": "1060453e-25dc-4f8f-8a80-63f12900344d",
   "metadata": {},
   "source": [
    "# thread 생성 (앨런의 channel에 대응)\n",
    "\n",
    "- 생성 요청 후 thread_id를 포함한 데이터를 return 받음\n",
    "- 하나의 thread에 대해서 여러 에이전트를 호출하고 대화가능\n",
    "- 현재 앨런은 한개의 channel에 대해서 한개의 agent가 1:1로 대응되므로 현재는 고려할 필요 없지만, 추후에 1개의 채널에 대해서 여러 agent를 호출가능"
   ]
  },
  {
   "cell_type": "code",
   "execution_count": 2,
   "id": "d728bcf5-d7b5-4768-9953-f60e5dd7340d",
   "metadata": {},
   "outputs": [],
   "source": [
    "def get_data(chunk):\n",
    "    data = list(chunk.data.values())[0]\n",
    "    return data\n",
    " \n",
    " \n",
    "def filter_ai_msg(chunk):\n",
    "    # 유저와 채팅 창에 출력될 ai 메시지를 필터링하는 함수\n",
    "    if 'updates' in chunk.event:\n",
    "        data = get_data(chunk)\n",
    " \n",
    "        if data is not None:\n",
    "            if 'messages' in data.keys():\n",
    "                if data['messages'][-1][\"name\"] is not None:\n",
    "                    msg_type = data['messages'][-1]['type']\n",
    "                    if msg_type == \"ai\":\n",
    "                        return True\n",
    "    return False"
   ]
  },
  {
   "cell_type": "code",
   "execution_count": 3,
   "id": "00db8bac-8b27-48e7-bbc3-e8bb1e1f97e9",
   "metadata": {},
   "outputs": [
    {
     "name": "stdout",
     "output_type": "stream",
     "text": [
      "{'thread_id': 'cb641a1c-522d-4a61-a575-3375ea239310', 'created_at': '2025-08-14T01:07:33.426743+00:00', 'updated_at': '2025-08-14T01:07:33.426743+00:00', 'metadata': {}, 'status': 'idle', 'config': {}, 'values': None, 'interrupts': {}, 'error': None}\n",
      "cb641a1c-522d-4a61-a575-3375ea239310\n"
     ]
    }
   ],
   "source": [
    "thread = await client.threads.create()\n",
    "print(thread)\n",
    "\n",
    "thread_id = thread[\"thread_id\"]\n",
    "print(thread_id)"
   ]
  },
  {
   "cell_type": "markdown",
   "id": "07786c8d-0172-42d5-b5e2-5ae1aafdeafc",
   "metadata": {},
   "source": [
    "# 에이전트 호출\n",
    "\n",
    "- 해당 thread에서 어떤 agent를 호출할 지 assistant_id를 포함하여 요청을 보냄"
   ]
  },
  {
   "cell_type": "markdown",
   "id": "9281de96-1d3f-4514-9fd2-fc5590a9b8ff",
   "metadata": {},
   "source": [
    "## parameters\n",
    "- thread_id : 위에서 생성한 thread_id\n",
    "- assistant_id : 앨런의 persona_id에 대응, agent를 구분하는 id, 슬라이드 에이전트의 경우 \"slide_generate_agent\"\n",
    "- input : 해당 agent 요청에 대한 parameter, 현재는 messages만 존재, 앨런 페이지에서 유저로 부터 받는 input을 해당 parameter에 dict로 넣어줌\n",
    "- stream_mode : 어떤 event에 따라서 메시지를 받을지 지정, updates(한 단계가 끝날 때마나 메시지가 옴), events(llm이 생성하는 단위로 메시지 생성)"
   ]
  },
  {
   "cell_type": "code",
   "execution_count": 4,
   "id": "48f82979-592c-4b2c-8e24-2c0c03b12d2a",
   "metadata": {},
   "outputs": [],
   "source": [
    "list_msg_id = list()\n",
    "\n",
    "\n",
    "def get_data(chunk):\n",
    "    data = list(chunk.data.values())[0]\n",
    "    return data\n",
    "\n",
    "\n",
    "def filter_ai_msg(chunk):\n",
    "    # 유저와 채팅 창에 출력될 ai 메시지를 필터링하는 함수\n",
    "    if 'updates' in chunk.event:\n",
    "        data = get_data(chunk)\n",
    "\n",
    "        if data is not None:\n",
    "            if 'messages' in data.keys():\n",
    "                if data['messages'][-1][\"name\"] is not None:\n",
    "                    msg_type = data['messages'][-1]['type']\n",
    "                    msg_id = data['messages'][-1]['id']\n",
    "                    if msg_id not in list_msg_id and msg_type == \"ai\":\n",
    "                        list_msg_id.append(msg_id)\n",
    "                        return True\n",
    "    return False\n",
    "\n",
    "\n",
    "def filter_silde_data(chunk):\n",
    "    # slide 관련 데이터를 담은 메시지를 필터링하는 함수\n",
    "    # 슬라이드 한페이지 단위로 메시지가 옴\n",
    "    if 'updates' in chunk.event:\n",
    "        node_name = chunk.data.keys()\n",
    "        if 'executor' in node_name:\n",
    "            return True"
   ]
  },
  {
   "cell_type": "code",
   "execution_count": 5,
   "id": "8d5fddde-f825-4491-be5a-0e7ed123a866",
   "metadata": {},
   "outputs": [],
   "source": [
    "assistant_id = \"slide_generate_agent\"\n",
    "list_chunk = list()"
   ]
  },
  {
   "cell_type": "code",
   "execution_count": 6,
   "id": "initial_id",
   "metadata": {
    "ExecuteTime": {
     "end_time": "2025-07-31T08:02:51.030604Z",
     "start_time": "2025-07-31T08:02:49.655777Z"
    },
    "scrolled": true
   },
   "outputs": [
    {
     "name": "stdout",
     "output_type": "stream",
     "text": [
      "##########  AI 메시지  ##########\n",
      "한국 반도체 현황을 주제로 슬라이드를 생성하도록 하겠습니다.\n",
      "##########  AI 메시지  ##########\n",
      "검색 도구를 사용하여 목차를 생성하기 위한 조사를 시작합니다.\n",
      "##########  AI 메시지  ##########\n",
      "생성된 목차는 다음과 같습니다. \n",
      "\n",
      "2. 한국 반도체 산업의 역사 - 한국의 반도체 산업은 1960년대부터 시작되어 현재까지 기술 발전과 시장 확장을 거듭해왔습니다. 이 섹션에서는 초기 발전 과정과 주요 전환점을 살펴봅니다. \n",
      "3. 한국 반도체 주요 기업 현황 - 삼성전자와 SK하이닉스를 포함한 한국의 주요 반도체 기업들이 글로벌 시장에서 어떤 위치에 있는지를 조사합니다. 기업별 기술력 및 시장 점유율도 함께 분석합니다. \n",
      "4. 한국 반도체 기술 및 혁신 - 한국 반도체 산업의 기술 혁신과 최신 연구 개발 동향을 살펴봅니다. 미세 공정 기술의 발전과 차세대 반도체 기술을 포함합니다. \n",
      "5. 한국과 미국의 반도체 협력 - 한미 양국의 반도체 산업 협력 강화 방안과 그 중요성에 대해 설명합니다. 주요 협력 사례와 경제적, 기술적 이점 또한 다룹니다. \n",
      "6. 한국 반도체 제조 공정 - 전공정 및 후공정을 포함한 한국의 반도체 제조 공정에 대해 설명합니다. 웨이퍼 제조부터 패키징까지의 전체 과정을 조망합니다. \n",
      "\n",
      "##########  AI 메시지  ##########\n",
      "\n",
      "    슬라이드 생성에 필요한 조사를 시작합니다.\n",
      "    \n",
      "##########  AI 메시지  ##########\n",
      "\n",
      "    슬라이드에 사용할 이미지를 검색하고 있습니다.\n",
      "    \n",
      "##########  AI 메시지  ##########\n",
      "\n",
      "    슬라이드 디자인을 시작합니다.\n",
      "    \n",
      "##########  AI 메시지  ##########\n",
      "\n",
      "    슬라이드를 생성하고 있습니다.\n",
      "    \n",
      "##########  AI 메시지  ##########\n",
      "슬라이드 생성이 완료되었습니다.\n"
     ]
    }
   ],
   "source": [
    "input = { \"messages\": \"한국 반도체 현황. 모두 한글로 만들어줘\"}\n",
    "\n",
    "async for chunk in client.runs.stream(\n",
    "    thread_id,\n",
    "    assistant_id=assistant_id,\n",
    "    input=input,\n",
    "    stream_mode=[\"updates\"],\n",
    "    stream_subgraphs=True\n",
    "):\n",
    "    list_chunk.append(chunk)\n",
    "    if filter_ai_msg(chunk):\n",
    "        print(\"#\" * 10 + \"  AI 메시지  \" + \"#\" * 10)\n",
    "        data = get_data(chunk)\n",
    "        print(data['messages'][-1]['content'])\n",
    "    # elif filter_silde_data(chunk):\n",
    "    #     print(\"#\" * 10 + \"  슬라이드 데이터  \" + \"#\" * 10)\n",
    "    #     print(chunk)\n"
   ]
  },
  {
   "cell_type": "code",
   "execution_count": 7,
   "id": "bd7a08e4-51f1-41d3-a503-5e50da6b8a76",
   "metadata": {
    "scrolled": true
   },
   "outputs": [],
   "source": [
    "for chunk in list_chunk:\n",
    "    if filter_ai_msg(chunk):\n",
    "        print(\"#\" * 10 + \"  AI 메시지  \" + \"#\" * 10)\n",
    "        data = get_data(chunk)\n",
    "        print(data['messages'][-1]['content'])\n"
   ]
  },
  {
   "cell_type": "code",
   "execution_count": 8,
   "id": "59081551-edc0-4e05-a95a-5a7c663b7e42",
   "metadata": {
    "scrolled": true
   },
   "outputs": [
    {
     "name": "stdout",
     "output_type": "stream",
     "text": [
      "##########  AI 메시지  ##########\n",
      "한국 반도체 현황을 주제로 슬라이드를 생성하도록 하겠습니다.\n",
      "##########  AI 메시지  ##########\n",
      "검색 도구를 사용하여 목차를 생성하기 위한 조사를 시작합니다.\n",
      "##########  AI 메시지  ##########\n",
      "생성된 목차는 다음과 같습니다. \n",
      "\n",
      "2. 한국 반도체 산업의 역사 - 한국의 반도체 산업은 1960년대부터 시작되어 현재까지 기술 발전과 시장 확장을 거듭해왔습니다. 이 섹션에서는 초기 발전 과정과 주요 전환점을 살펴봅니다. \n",
      "3. 한국 반도체 주요 기업 현황 - 삼성전자와 SK하이닉스를 포함한 한국의 주요 반도체 기업들이 글로벌 시장에서 어떤 위치에 있는지를 조사합니다. 기업별 기술력 및 시장 점유율도 함께 분석합니다. \n",
      "4. 한국 반도체 기술 및 혁신 - 한국 반도체 산업의 기술 혁신과 최신 연구 개발 동향을 살펴봅니다. 미세 공정 기술의 발전과 차세대 반도체 기술을 포함합니다. \n",
      "5. 한국과 미국의 반도체 협력 - 한미 양국의 반도체 산업 협력 강화 방안과 그 중요성에 대해 설명합니다. 주요 협력 사례와 경제적, 기술적 이점 또한 다룹니다. \n",
      "6. 한국 반도체 제조 공정 - 전공정 및 후공정을 포함한 한국의 반도체 제조 공정에 대해 설명합니다. 웨이퍼 제조부터 패키징까지의 전체 과정을 조망합니다. \n",
      "\n",
      "##########  AI 메시지  ##########\n",
      "\n",
      "    슬라이드 생성에 필요한 조사를 시작합니다.\n",
      "    \n",
      "##########  AI 메시지  ##########\n",
      "\n",
      "    슬라이드에 사용할 이미지를 검색하고 있습니다.\n",
      "    \n",
      "##########  AI 메시지  ##########\n",
      "\n",
      "    슬라이드 디자인을 시작합니다.\n",
      "    \n",
      "##########  AI 메시지  ##########\n",
      "\n",
      "    슬라이드를 생성하고 있습니다.\n",
      "    \n",
      "##########  AI 메시지  ##########\n",
      "슬라이드 생성이 완료되었습니다.\n"
     ]
    }
   ],
   "source": [
    "state = await client.threads.get_state(thread_id=thread_id)\n",
    "\n",
    "for msg in state[\"values\"][\"messages\"]:\n",
    "    if msg[\"type\"] != \"human\":\n",
    "        print(\"#\" * 10 + \"  AI 메시지  \" + \"#\" * 10)\n",
    "        print(msg[\"content\"])"
   ]
  },
  {
   "cell_type": "code",
   "execution_count": 9,
   "id": "b28def97-7983-4c7c-acb2-08d617724170",
   "metadata": {
    "scrolled": true
   },
   "outputs": [
    {
     "data": {
      "text/plain": [
       "7"
      ]
     },
     "execution_count": 9,
     "metadata": {},
     "output_type": "execute_result"
    }
   ],
   "source": [
    "len(state[\"values\"][\"slides\"])"
   ]
  },
  {
   "cell_type": "code",
   "execution_count": 10,
   "id": "52f97132-2be6-437a-b0f8-90e1f4f3c51f",
   "metadata": {
    "scrolled": true
   },
   "outputs": [
    {
     "data": {
      "text/plain": [
       "[{'description': '한국 반도체 현황에 대한 프레젠테이션 타이틀 페이지',\n",
       "  'requirements': ['타이틀 텍스트', '부제목 또는 설명'],\n",
       "  'research': True,\n",
       "  'slide_type': 'title',\n",
       "  'topic': '한국 반도체 현황',\n",
       "  'idx': 0,\n",
       "  'name': '타이틀',\n",
       "  'content': \"## 타이틀\\n\\n한국 반도체 산업은 세계 시장에서 핵심적인 역할을 수행하고 있습니다. 2023년, 한국의 반도체 수출은 특히 메모리 반도체 분야에서 중요한 기여를 하고 있습니다. 메모리 반도체는 한국의 주력 수출품목 중 하나로, 2022년 메모리 반도체가 전체 반도체 수출의 57.46%를 차지하였습니다 [1]. 그러나, 2023년에는 메모리 가격 하락 및 수요 부진으로 인해 수출이 감소하며 도전적인 한 해가 되고 있습니다 [2].\\n\\n한국은 2022년 세계 반도체 시장의 17.7%를 차지하며, 10년 연속 세계 2위를 유지하고 있습니다 [1]. 한국의 반도체 역량은 지속적으로 진화하고 있으며, 특히 하이엔드 제품 분야인 HBM(High Bandwidth Memory)에서는 압도적인 시장 점유율을 기록하고 있습니다 [3]. 하지만, 글로벌 공급망 불안과 주요 수출국에서의 경제 둔화와 같은 외부 요인들이 도전 과제로 작용하고 있습니다 [4].\\n\\n다가오는 2030년까지, 한국의 반도체 시장은 매년 8.41%의 성장률을 기록하며, 주요 산업군에서의 수요는 5G, IoT, AI 등 신기술로 인해 확대될 전망입니다 [5]. 이에 따라, 한국 반도체 기업들은 경쟁력을 유지하고자 지속적인 기술 혁신과 투자를 이어가고 있습니다.\\n\\n---\\n\\n### Sources\\n\\n1. [Semiconductor | InvestKOREA(ENG)](https://www.investkorea.org/ik-en/cntnts/i-312/web.do)\\n2. [Korea's Semiconductor Industry: Taking Another Leap Forward to ...](https://www.investkorea.org/ik-en/bbs/i-308/detail.do?ntt_sn=490787)\\n3. [2025 반도체 산업 전망 - HI HIPA](https://www.hsbiz.or.kr/webzine/vol03/vol03/sub14.html)\\n4. [반도체 산업 6대 이슈 및 대응 방안' 보고서 발간 - KPMG 한국](https://kpmg.com/kr/ko/home/media/press-releases/2024/12/press-release-17.html)\\n5. [South Korea Semiconductor Market - HackMD](https://hackmd.io/@marketsandata/South-Korea-Semiconductor-Market)\",\n",
       "  'img_url': 'https://inquivixtech.com/wp-content/uploads/2023/08/The-South-Korean-Semiconductor-Industry-1024x564.png',\n",
       "  'design': '',\n",
       "  'html_template': '<!DOCTYPE html>\\n<html lang=\"ko\">\\n<head>\\n    <meta charset=\"UTF-8\">\\n    <meta http-equiv=\"X-UA-Compatible\" content=\"IE=edge\">\\n    <meta name=\"viewport\" content=\"width=device-width, initial-scale=1.0\">\\n    <title>한국 반도체 현황</title>\\n    <style>\\n        /* 스타일 초기화 */\\n        body, h1, h2, p {\\n            margin: 0;\\n            padding: 0;\\n        }\\n        body {\\n            font-family: \\'Arial\\', sans-serif;\\n            background-color: #f4f7fa;\\n            color: #333;\\n            text-align: center;\\n        }\\n        .slide-container {\\n            padding: 20px;\\n            background-color: #ffffff;\\n            border: 1px solid #ddd;\\n            max-width: 1000px;\\n            margin: 50px auto;\\n            box-shadow: 0px 4px 6px rgba(0,0,0,0.1);\\n        }\\n        .title-section {\\n            margin-bottom: 30px;\\n        }\\n        h1 {\\n            font-size: 2.5em;\\n            color: #0056b3;\\n            margin-bottom: 10px;\\n        }\\n        h2 {\\n            font-size: 1.5em;\\n            color: #555;\\n            margin-bottom: 20px;\\n        }\\n        img {\\n            max-width: 100%;\\n            height: auto;\\n            margin-top: 20px;\\n        }\\n    </style>\\n</head>\\n<body>\\n    <div class=\"slide-container\">\\n        <div class=\"title-section\">\\n            <h1>한국 반도체 현황</h1>\\n            <h2>세계 시장에서의 역할과 도전</h2>\\n            <p>한국 반도체 산업은 세계 시장에서 핵심적인 위치를 점하며 많은 기회를 창출하고 있습니다.</p>\\n            <p>하지만, 가격 변동과 글로벌 경제 둔화 등의 도전에 직면해 정교한 전략을 요구받고 있습니다.</p>\\n        </div>\\n        <img src=\"https://inquivixtech.com/wp-content/uploads/2023/08/The-South-Korean-Semiconductor-Industry-1024x564.png\" alt=\"The South Korean Semiconductor Industry\">\\n    </div>\\n</body>\\n</html>',\n",
       "  'html': '<!DOCTYPE html>\\n<html lang=\"ko\">\\n<head>\\n    <meta charset=\"UTF-8\">\\n    <meta http-equiv=\"X-UA-Compatible\" content=\"IE=edge\">\\n    <meta name=\"viewport\" content=\"width=device-width, initial-scale=1.0\">\\n    <title>한국 반도체 현황</title>\\n    <style>\\n        /* 스타일 초기화 */\\n        body, h1, h2, p {\\n            margin: 0;\\n            padding: 0;\\n        }\\n        body {\\n            font-family: \\'Arial\\', sans-serif;\\n            background-color: #f4f7fa;\\n            color: #333;\\n            text-align: center;\\n        }\\n        .slide-container {\\n            padding: 20px;\\n            background-color: #ffffff;\\n            border: 1px solid #ddd;\\n            max-width: 1000px;\\n            margin: 50px auto;\\n            box-shadow: 0px 4px 6px rgba(0,0,0,0.1);\\n        }\\n        .title-section {\\n            margin-bottom: 30px;\\n        }\\n        h1 {\\n            font-size: 2.5em;\\n            color: #0056b3;\\n            margin-bottom: 10px;\\n        }\\n        h2 {\\n            font-size: 1.5em;\\n            color: #555;\\n            margin-bottom: 20px;\\n        }\\n        img {\\n            max-width: 100%;\\n            height: auto;\\n            margin-top: 20px;\\n        }\\n    </style>\\n</head>\\n<body>\\n    <div class=\"slide-container\">\\n        <div class=\"title-section\">\\n            <h1>한국 반도체 현황</h1>\\n            <h2>세계 시장에서 핵심 역할</h2>\\n            <p>2023년 한국의 반도체 수출은 메모리 반도체 분야에서 중대한 영향을 미치고 있습니다. 하지만 수출 감소의 도전을 통해 전략 강화를 요구받고 있습니다.</p>\\n            <p>메모리 반도체는 전체 수출의 57%로 2023년 경제 상황이 도전 과제로 남아 있습니다.</p>\\n        </div>\\n        <img src=\"https://inquivixtech.com/wp-content/uploads/2023/08/The-South-Korean-Semiconductor-Industry-1024x564.png\" alt=\"The South Korean Semiconductor Industry\">\\n    </div>\\n</body>\\n</html>',\n",
       "  'width': 1000,\n",
       "  'height': 600},\n",
       " {'description': '한국 반도체 현황에 대한 프레젠테이션 목차 페이지\\n\\n2. 한국 반도체 산업의 역사\\n3. 한국 반도체 주요 기업 현황\\n4. 한국 반도체 기술 및 혁신\\n5. 한국과 미국의 반도체 협력\\n6. 한국 반도체 제조 공정',\n",
       "  'requirements': ['목차 항목들'],\n",
       "  'research': True,\n",
       "  'slide_type': 'toc',\n",
       "  'topic': '한국 반도체 현황',\n",
       "  'idx': 1,\n",
       "  'name': '목차',\n",
       "  'content': '## 목차\\n\\n1. 서론\\n\\n2. 한국 반도체 산업의 역사\\n   - 한국 반도체 산업은 1965년 미국의 고미그룹이 한국에 반도체 조립 공장을 설립하면서 시작되었습니다. 이후 1968년 아남산업이 반도체 조립 산업을 시작하며 한국의 토착 자본에 의한 본격적인 산업이 시작되었습니다. 주요 발전 단계로는 1980년대 D램 개발을 통한 기술 발전과 생산 체계의 발전이 있습니다 [1,2,3,4].\\n   \\n3. 한국 반도체 주요 기업 현황\\n   - 삼성전자와 SK하이닉스는 한국의 대표적인 반도체 기업으로, 글로벌 메모리 반도체 시장을 주도하고 있습니다. 이들 외에도 DB하이텍, 메그나칩 등 다양한 반도체 기업들이 기술 개발과 생산에 기여하고 있습니다 [5,6,7,8].\\n\\n4. 한국 반도체 기술 및 혁신\\n   - 한국은 첨단 반도체 기술 개발의 최전선에 있으며, 특히 AI 반도체 및 고성능 처리 기술에서 혁신을 이루고 있습니다. 지속적인 R&D 투자와 협업을 통해 글로벌 반도체 업계에서 우위를 점하고 있습니다 [9,10,11,12].\\n\\n5. 한국과 미국의 반도체 협력\\n   - 한미 양국은 반도체 산업에서의 협력을 강화하고 있으며, 양국 간의 MOU를 통해 기술 공유 및 공급망 안정화를 추구하고 있습니다. 이러한 협력은 동맹 관계를 강화하는 데 핵심적인 역할을 하고 있습니다 [13,14,15,16].\\n\\n6. 한국 반도체 제조 공정\\n   - 한국의 반도체 제조 공정은 웨이퍼 제조, 산화, 포토 리소그래피, 식각, 증착, 금속배선, 테스트, 패키징 등의 일련의 8단계로 이루어져 있습니다. 삼성전자와 SK하이닉스는 이러한 공정을 통해 고품질 반도체 제품을 생산하고 있습니다 [17,18,19,20].\\n\\n7. 결론\\n\\n## Sources\\n1. [네이버 블로그](https://blog.naver.com/trihanwha/223301560720?viewType=pc)\\n2. [기록으로 만나는 대한민국](https://theme.archives.go.kr/next/koreaOfRecord/semiconTech.do)\\n3. [전자신문](https://www.etnews.com/200910260150)\\n4. [과학 타임즈](https://www.sciencetimes.co.kr/news/%EB%B0%98%EB%8F%84%EC%B2%B4%EC%9D%98-%EC%97%AD%EC%82%AC/)\\n5. [Wikipedia](https://en.wikipedia.org/wiki/Semiconductor_industry_in_South_Korea)\\n6. [SK hynix news](https://news.skhynix.co.kr/semiconductor-trends-2025/)\\n7. [삼성 반도체](https://semiconductor.samsung.com/kr/support/tools-resources/fabrication-process/)\\n8. [한국 민족문화대백과사전](https://encykorea.aks.ac.kr/Article/E0074060)\\n9. [Korea Herald](https://www.koreaherald.com/article/10465734)\\n10. [Korean Government News](https://www.korea.kr/news/reporterView.do?newsId=148933640)\\n11. [SEMI](https://www.semi.org/en/blogs/semicon-korea-2025-bringing-together-the-global-semiconductor-ecosystem-to-drive-innovation)\\n12. [Goover AI](https://seo.goover.ai/report/202506/go-public-report-ko-cbeb9fcb-4ba2-441e-93c1-f2ca8ddd0047-0-0.html)\\n13. [연합뉴스](https://www.yna.co.kr/view/AKR20240627132151003)\\n14. [Korea Times](https://www.koreatimes.co.kr/southkorea/politics/20250731/korea-secures-equal-terms-in-us-tariff-deal-on-semiconductors-pharma)\\n15. [KBS News](https://news.kbs.co.kr/news/view.do?ncd=7998633)\\n16. [EIEC KDI 경제교육·정보센터](https://eiec.kdi.re.kr/policy/materialView.do?num=248800)\\n17. [삼성 반도체 백과사전](https://semiconductor.samsung.com/kr/support/tools-resources/fabrication-process/semiconductor-encyclopedia-the-eight-essential-semiconductor-fabrication-processes-at-a-glance/)\\n18. [ASML](https://www.asml.com/news/stories/2021/semiconductor-manufacturing-process-steps)\\n19. [Blog Naver](https://blog.naver.com/baha_w/223711131392)\\n20. [SK Hynix 뉴스룸](https://news.skhynix.co.kr/jeonginseong-column-oxidation/)',\n",
       "  'img_url': 'https://media.slidesgo.com/storage/39652362/responsive-images/2-semiconductor-material___media_library_original_548_308.jpg',\n",
       "  'design': '',\n",
       "  'html_template': '<!DOCTYPE html>\\n<html lang=\"ko\">\\n<head>\\n    <meta charset=\"UTF-8\">\\n    <meta name=\"viewport\" content=\"width=device-width, initial-scale=1.0\">\\n    <title>한국 반도체 현황 프레젠테이션 - 목차</title>\\n    <style>\\n        body {\\n            font-family: Arial, sans-serif;\\n            line-height: 1.6;\\n            display: flex;\\n            justify-content: center;\\n            align-items: center;\\n            height: 100vh;\\n            background-color: #f4f4f9;\\n            margin: 0;\\n        }\\n        .container {\\n            width: 80%;\\n            max-width: 800px;\\n            background-color: #ffffff;\\n            border-radius: 8px;\\n            box-shadow: 0 4px 6px rgba(0, 0, 0, 0.1);\\n            padding: 20px;\\n        }\\n        h1 {\\n            color: #333;\\n            text-align: center;\\n            margin-bottom: 20px;\\n        }\\n        .toc-image {\\n            display: block;\\n            margin: 0 auto 20px;\\n            max-width: 100%;\\n            border-radius: 8px;\\n        }\\n        ul {\\n            list-style-type: none;\\n            padding: 0;\\n        }\\n        li {\\n            margin: 10px 0;\\n            padding: 10px;\\n            background-color: #f9f9f9;\\n            border-radius: 4px;\\n            transition: background-color 0.3s ease;\\n        }\\n        li:hover {\\n            background-color: #e2e2e2;\\n        }\\n    </style>\\n</head>\\n<body>\\n    <div class=\"container\">\\n        <h1>목차</h1>\\n        <img src=\"https://media.slidesgo.com/storage/39652362/responsive-images/2-semiconductor-material___media_library_original_548_308.jpg\" alt=\"반도체 이미지\" class=\"toc-image\">\\n        <ul>\\n            <li>1. 서론</li>\\n            <li>2. 한국 반도체 산업의 역사</li>\\n            <li>3. 한국 반도체 주요 기업 현황</li>\\n            <li>4. 한국 반도체 기술 및 혁신</li>\\n            <li>5. 한국과 미국의 반도체 협력</li>\\n            <li>6. 한국 반도체 제조 공정</li>\\n            <li>7. 결론</li>\\n        </ul>\\n    </div>\\n</body>\\n</html>',\n",
       "  'html': '<!DOCTYPE html>\\n<html lang=\"ko\">\\n<head>\\n    <meta charset=\"UTF-8\">\\n    <meta name=\"viewport\" content=\"width=device-width, initial-scale=1.0\">\\n    <title>한국 반도체 현황 프레젠테이션 - 목차</title>\\n    <style>\\n        body {\\n            font-family: Arial, sans-serif;\\n            line-height: 1.6;\\n            display: flex;\\n            justify-content: center;\\n            align-items: center;\\n            height: 100vh;\\n            background-color: #f4f4f9;\\n            margin: 0;\\n        }\\n        .container {\\n            width: 80%;\\n            max-width: 800px;\\n            background-color: #ffffff;\\n            border-radius: 8px;\\n            box-shadow: 0 4px 6px rgba(0, 0, 0, 0.1);\\n            padding: 20px;\\n        }\\n        h1 {\\n            color: #333;\\n            text-align: center;\\n            margin-bottom: 20px;\\n        }\\n        .toc-image {\\n            display: block;\\n            margin: 0 auto 20px;\\n            max-width: 100%;\\n            border-radius: 8px;\\n        }\\n        ul {\\n            list-style-type: none;\\n            padding: 0;\\n        }\\n        li {\\n            margin: 10px 0;\\n            padding: 10px;\\n            background-color: #f9f9f9;\\n            border-radius: 4px;\\n            transition: background-color 0.3s ease;\\n        }\\n        li:hover {\\n            background-color: #e2e2e2;\\n        }\\n    </style>\\n</head>\\n<body>\\n    <div class=\"container\">\\n        <h1>목차</h1>\\n        <img src=\"https://media.slidesgo.com/storage/39652362/responsive-images/2-semiconductor-material___media_library_original_548_308.jpg\" alt=\"반도체 이미지\" class=\"toc-image\">\\n        <ul>\\n            <li>1. 서론</li>\\n            <li>2. 한국 반도체 산업의 역사</li>\\n            <li>3. 한국 반도체 주요 기업 현황</li>\\n            <li>4. 한국 반도체 기술 및 혁신</li>\\n            <li>5. 한국과 미국의 반도체 협력</li>\\n            <li>6. 한국 반도체 제조 공정</li>\\n            <li>7. 결론</li>\\n        </ul>\\n    </div>\\n</body>\\n</html>',\n",
       "  'width': 800,\n",
       "  'height': 1000},\n",
       " {'description': '한국의 반도체 산업은 1960년대부터 시작되어 현재까지 기술 발전과 시장 확장을 거듭해왔습니다. 이 섹션에서는 초기 발전 과정과 주요 전환점을 살펴봅니다.',\n",
       "  'research': True,\n",
       "  'topic': '한국 반도체 산업의 역사',\n",
       "  'idx': 2,\n",
       "  'name': '한국 반도체 산업의 역사',\n",
       "  'content': \"## 한국 반도체 산업의 역사\\n\\n한국 반도체 산업의 시작은 1960년대 중반으로 거슬러 올라갑니다. 당시 미국 회사인 페어차일드(Fairchild)와 모토로라(Motorola)가 한국에 반도체 조립 공장을 세우면서 산업의 기틀이 마련되었습니다. 초창기에는 노동집약적이고 기술 수준이 낮은 제품들이 주를 이뤘습니다 [1]. 1965년에는 미국의 자본과 기술을 바탕으로 한국에서 최초로 반도체 산업이 출발하였고, 1970년대에는 금성사와 한국전자가 먼저 반도체 기술을 습득하며 국내 기업으로서의 입지를 다져나갔습니다 [2][3].\\n\\n1974년에는 삼성이 한국 반도체 주식회사를 인수하면서 본격적으로 이 산업에 뛰어들었습니다. 이는 한국의 메모리 반도체 발전에 기폭제가 되었고, 기술적 진보를 이끄는 계기가 되었습니다 [4]. 이후 1983년 삼성전자는 세계 세 번째로 64K DRAM을 개발하는 데 성공하여 미국과 일본에 이어 반도체 강국으로서의 면모를 갖추기 시작했습니다 [5].\\n\\n1980년대 한국 반도체 산업은 급격한 성장을 이룩했습니다. 정부의 적극적인 산업 정책과 투자 유치가 이를 뒷받침했으며, 특히 1986년에는 1메가 DRAM 개발에 성공하면서 세계 DRAM 시장에서의 점유율을 꾸준히 확대했습니다 [6]. 이 시기부터 1990년대 중반까지 삼성, 현대, LG 등 대기업들이 경쟁적으로 반도체 기술 개발에 매진하며 세계 시장에서 한국의 위치를 공고히 했습니다 [7].\\n\\n1990년대에는 한국 경제 전반의 대규모 자본 투자와 기술 개발이 이루어지면서, 반도체는 한국의 주요 수출품목이자 경제 성장의 견인차 역할을 하게 되었습니다 [8]. 그러나 1997년 아시아 금융위기 이후 반도체 산업은 위기에 직면하기도 했습니다. 이 시기에 한국 반도체 기업들은 내실을 다지는 한편, 기술력 강화를 통한 생존과 성장을 도모했습니다 [9].\\n\\n2000년대 이후 한국 반도체 산업은 DRAM과 NAND 플래시 메모리 분야에서 세계 시장을 선도하고 있습니다. 현재 삼성전자와 SK하이닉스는 이러한 시장에서 중요한 역할을 하고 있으며, 한국은 여전히 세계적인 반도체 강국으로 자리 잡고 있습니다 [10]. 이러한 지속적인 발전은 한국 정부와 기업들의 협력, 지속적인 연구개발 투자, 그리고 국제 시장의 변화에 대한 민첩한 대응 덕분에 가능했습니다 [11].\\n\\n한국 반도체 산업의 발전은 기술적 혁신뿐 아니라 국가 경제의 중요한 축으로 자리매김하였으며, 이러한 배경에는 초기부터 계속된 정부의 적극적인 지원과 정책이 있음을 알 수 있습니다. 앞으로도 한국 반도체 산업은 기술적 경쟁력과 글로벌 시장에서의 지위를 강화하기 위한 노력을 계속해 나갈 것입니다.\\n\\n## Sources\\n\\n1. [The Korean semiconductor industry.pdf](https://archives.kdischool.ac.kr/bitstream/11125/29891/1/The%20Korean%20semiconductor%20industry.pdf)\\n2. [세계서 알려주는 '한국 반도체' 첫 시작과 현재의 모습은?: Naver Blog](https://blog.naver.com/trihanwha/223301560720?viewType=pc)\\n3. [국립목포대, 세계 최초 화합물 반도체 MPW 서비스 공개…대한민국 잠재력 과시 - 경상일보](https://www.geconomy.co.kr/news/article.html?no=295398)\\n4. [The rise of Korea's semiconductor industry - KBS WORLD](http://world.kbs.co.kr/service/contents_view.htm?lang=e&menu_cate=business&id=&board_seq=146526&page=45&board_code=)\\n5. [Behind the CHIP] 반도체, 그 성장의 기록: 과거, 현재, 그리고 미래](https://news.samsungsemiconductor.com/kr/behind-the-chip-%EB%B0%98%EB%8F%84%EC%B2%B4-%EA%B7%B8-%EC%84%B1%EC%9E%A5%EC%9D%98-%EA%B8%B0%EB%A1%9D-%EA%B3%BC%EA%B1%B0-%ED%98%84%EC%9E%AC-%EA%B7%B8%EB%A6%AC%EA%B3%A0-%EB%AF%B8%EB%9E%98/)\\n6. [Semiconductor industry in South Korea - Wikipedia](https://en.wikipedia.org/wiki/Semiconductor_industry_in_South_Korea)\\n7. [Trade and Innovation in the Korean Information and Communication ...](https://www.oecd.org/content/dam/oecd/en/publications/reports/2008/09/trade-and-innovation-in-the-korean-information-and-communication-technology-sector_g17a1b6a/235761542026.pdf)\\n8. [대한민국의 반도체 산업, 현재성과 전망](https://dl.nanet.go.kr/detail/KDMT1201336520)\\n9. [대한민국 반도체 산업의 역사: 미디어로드](http://www.newsroad.co.kr/news/articleView.html?idxno=39316)\\n10. [마이크론 메모리반도체 가격 '전환점' 예고, 삼성전자 SK하이닉스에 영향 - 비즈니스포스트](https://www.businesspost.co.kr/BP?command=article_view&num=388773)\\n11. [K-반도체, 인재 위기와 기술 전환의 갈림길에 서다 - 서울경제](https://www.sptatimeskorea.com/analy)\",\n",
       "  'img_url': 'http://t1.daumcdn.net/brunch/service/user/4w67/image/7tHm3vVtj_PoOuiSeUwf0kjKOaU.png',\n",
       "  'html_template': '<!DOCTYPE html>\\n<html lang=\"ko\">\\n<head>\\n    <meta charset=\"UTF-8\">\\n    <meta name=\"viewport\" content=\"width=device-width, initial-scale=1.0\">\\n    <title>한국 반도체 산업의 역사</title>\\n    <style>\\n        body {\\n            font-family: \\'Noto Sans KR\\', sans-serif;\\n            margin: 0;\\n            padding: 20px;\\n            background-color: #f5f5f5;\\n        }\\n        .header {\\n            text-align: center;\\n            padding: 20px;\\n        }\\n        .header h1 {\\n            font-size: 2.5em;\\n            margin-bottom: 0;\\n        }\\n        .header p {\\n            font-size: 1.2em;\\n            color: #555;\\n        }\\n        .content {\\n            background-color: #fff;\\n            padding: 20px;\\n            margin-top: 20px;\\n            box-shadow: 0 0 10px rgba(0,0,0,0.1);\\n        }\\n        .content h2 {\\n            font-size: 1.8em;\\n            color: #333;\\n        }\\n        .content p {\\n            line-height: 1.6;\\n            color: #666;\\n        }\\n        .content img {\\n            max-width: 100%;\\n            height: auto;\\n            margin-top: 20px;\\n        }\\n    </style>\\n</head>\\n<body>\\n\\n    <div class=\"header\">\\n        <h1>한국 반도체 산업의 역사</h1>\\n        <p>기술 발전과 시장 확장의 여정을 따라갑니다.</p>\\n    </div>\\n\\n    <div class=\"content\">\\n        <h2>한국 반도체 산업의 출발</h2>\\n        <p>\\n            한국 반도체 산업의 시작은 1960년대 중반으로 거슬러 올라갑니다. 당시 미국 회사인 페어차일드(Fairchild)와 모토로라(Motorola)가 한국에 반도체 조립 공장을 세우면서 산업의 기틀이 마련되었습니다...\\n        </p>\\n        <!-- 이하 생략된 내용 이어서 삽입 -->\\n        <img src=\"http://t1.daumcdn.net/brunch/service/user/4w67/image/7tHm3vVtj_PoOuiSeUwf0kjKOaU.png\" alt=\"한국 반도체 이미지\">\\n    </div>\\n\\n</body>\\n</html>',\n",
       "  'html': '<!DOCTYPE html>\\n<html lang=\"ko\">\\n<head>\\n    <meta charset=\"UTF-8\">\\n    <meta name=\"viewport\" content=\"width=device-width, initial-scale=1.0\">\\n    <title>한국 반도체 산업의 역사</title>\\n    <style>\\n        body {\\n            font-family: \\'Noto Sans KR\\', sans-serif;\\n            margin: 0;\\n            padding: 20px;\\n            background-color: #f5f5f5;\\n        }\\n        .header {\\n            text-align: center;\\n            padding: 20px;\\n        }\\n        .header h1 {\\n            font-size: 2.5em;\\n            margin-bottom: 0;\\n        }\\n        .header p {\\n            font-size: 1.2em;\\n            color: #555;\\n        }\\n        .content {\\n            background-color: #fff;\\n            padding: 20px;\\n            margin-top: 20px;\\n            box-shadow: 0 0 10px rgba(0,0,0,0.1);\\n        }\\n        .content h2 {\\n            font-size: 1.8em;\\n            color: #333;\\n        }\\n        .content p {\\n            line-height: 1.6;\\n            color: #666;\\n        }\\n        .content img {\\n            max-width: 100%;\\n            height: auto;\\n            margin-top: 20px;\\n        }\\n    </style>\\n</head>\\n<body>\\n\\n    <div class=\"header\">\\n        <h1>한국 반도체 산업의 역사</h1>\\n        <p>기술 발전과 시장 확장의 여정을 따라갑니다.</p>\\n    </div>\\n\\n    <div class=\"content\">\\n        <h2>초기 발전과정과 주요 전환점</h2>\\n        <p>\\n            한국 반도체 산업의 시작은 1960년대 중반으로 거슬러 올라갑니다. 미국 회사인 페어차일드(Fairchild)와 모토로라(Motorola)가 반도체 조립 공장을 한국에 세웠고, 이는 산업의 기틀을 마련했습니다. 초기에는 기술 수준이 낮은 제품들이 주를 이뤘지만, 미국 자본과 기술을 바탕으로 1965년 한국에서 반도체 산업이 시작되었습니다.\\n        </p>\\n        <p>\\n            1974년 삼성의 한국 반도체 주식회사 인수는 한국의 메모리 반도체 발전의 기폭제가 되었고, 1983년 삼성전자가 64K DRAM을 개발함으로써 반도체 강국으로서의 면모를 갖추기 시작했습니다.\\n        </p>\\n        <p>\\n            1980년대에는 급격한 성장과 정부의 산업 정책, 1986년의 1메가 DRAM 개발 성공이 있었습니다. 국내 대기업들은 반도체 기술 개발에 매진하며 세계 시장에서의 위치를 강화했습니다.\\n        </p>\\n        <img src=\"http://t1.daumcdn.net/brunch/service/user/4w67/image/7tHm3vVtj_PoOuiSeUwf0kjKOaU.png\" alt=\"한국 반도체 이미지\">\\n    </div>\\n\\n</body>\\n</html>',\n",
       "  'width': 800,\n",
       "  'height': 600},\n",
       " {'description': '삼성전자와 SK하이닉스를 포함한 한국의 주요 반도체 기업들이 글로벌 시장에서 어떤 위치에 있는지를 조사합니다. 기업별 기술력 및 시장 점유율도 함께 분석합니다.',\n",
       "  'research': True,\n",
       "  'topic': '한국 반도체 주요 기업 현황',\n",
       "  'idx': 3,\n",
       "  'name': '한국 반도체 주요 기업 현황',\n",
       "  'content': \"## 한국 반도체 주요 기업 현황\\n\\n한국 반도체 산업은 글로벌 시장에서 두각을 나타내며, 특히 삼성전자와 SK하이닉스가 주요 기업으로 자리잡고 있습니다. 이 두 기업은 글로벌 반도체 시장에서 중요한 지위를 차지하고 있으며, 각자의 기술력과 시장 점유율 측면에서도 많은 주목을 받고 있습니다.\\n\\n### 삼성전자\\n\\n삼성전자는 글로벌 반도체 시장에서 중요한 역할을 맡고 있습니다. 2024년 삼성전자는 인텔을 제치고 반도체 업계에서 매출 1위를 다시 차지하였습니다 [1]. 삼성의 시장 점유율은 2023년 75.3%에서 2024년 77.2%로 증가하며 월등한 승승장구를 이어가고 있습니다 [2]. 이는 특히 HBM(High Bandwidth Memory) 등의 고성능 칩 판매 증가 덕분에 가능했습니다 [1].\\n\\n삼성의 주요 강점 중 하나는 파운드리 시장에서의 지위입니다. 2023년 3분기 기준, 삼성의 파운드리 시장 점유율은 12.4%로 TSMC에 이어 2위에 위치하고 있습니다 [3]. 삼성전자의 파운드리 사업은 전력, 성능, 확장성에서 큰 도약을 이끌어내며, 최첨단 혁신을 이끌고 있는 것으로 평가받고 있습니다 [4].\\n\\n### SK하이닉스\\n\\nSK하이닉스는 최근 몇 년간 빠르게 시장 점유율을 확대하면서, HBM 시장에서 50% 이상의 점유율을 기록하며 리더 위치를 굳건히 하고 있습니다 [5][6]. 특히 SK하이닉스는 2025년 1분기 DRAM 분야에서 삼성전자를 제치고 최초로 글로벌 DRAM 시장 1위를 차지했습니다 [7][8]. 해당 성과는 AI 및 고성능 메모리 수요 증가에 힘입은 것이라는 분석입니다 [9].\\n\\nSK하이닉스는 또한 메모리 반도체 산업에서의 핵심 기술인 D램(DRAM), NAND 플래시, 그리고 PIM(Processing-in-Memory) 기술 개발에 힘쓰며, 시장에서의 경쟁력을 강화하고 있습니다 [6][10]. SK하이닉스의 혁신적인 HBM 기술은 전력 효율성과 성능 향상을 통해 경쟁력을 더욱 높이고 있으며, 이는 지속적인 기술 개발과 적극적인 투자를 통해 달성된 성과로 평가받고 있습니다 [11].\\n\\n### 결론\\n\\n이처럼 한국의 주요 반도체 기업인 삼성전자와 SK하이닉스는 글로벌 반도체 시장에서 중요한 위치를 차지하고 있습니다. 삼성전자는 반도체 수익성 면에서 인텔을 제치고 세계 최대의 반도체 공급 업체 지위를 회복했으며 [12], SK하이닉스는 DRAM과 HBM 분야에서 강세를 보이며 성장을 지속하고 있습니다 [7][11]. 각 회사는 기술 혁신을 통해 경쟁력을 높이고 있고, 글로벌 시장 점유율을 더욱 확대하고자 다양한 노력을 기울이고 있습니다.\\n\\n이 두 기업의 기술력과 시장 점유율의 급성장은 한국 반도체 산업이 세계 무대에서 계속해서 중요한 역할을 담당하고 있음을 보여줍니다. 특히, AI 및 고성능 컴퓨팅 분야의 발전과 이에 따른 메모리 칩 수요 급증은 한국 반도체 기업들을 계속해서 글로벌 리더로 자리매김하게 하는 촉매점이 될 전망입니다 [2][9].\\n\\n## 출처\\n1. [Samsung overtakes Intel as the world's top semiconductor provider](https://www.chosun.com/english/industry-en/2025/01/26/P4TLTUPWAVBM7KHV4FYYUQSTO4/)\\n2. [Samsung Reclaims Top Spot in Semiconductor Market as AI Boom Continues](https://www.convergence-now.com/electronics/samsung-reclaims-top-spot-in-semiconductor-market-as-ai-boom-continues-119044)\\n3. [TMSC, Samsung, and Intel: Who's Leading the Semiconductor Race](https://patentpc.com/blog/tsmc-samsung-and-intel-whos-leading-the-semiconductor-race-latest-market-share-data)\\n4. [삼성반도체 - 공정 기술](https://semiconductor.samsung.com/kr/foundry/process-technology/)\\n5. [SK hynix overtakes Samsung as top global memory vendor](https://www.kedglobal.com/korean-chipmakers/newsView/ked202504090006)\\n6. [SK hynix overtakes Samsung in global DRAM market for first time in Q1](https://en.yna.co.kr/view/AEN20250605001700320)\\n7. [SK hynix Ranks No.1 in Global DRAM Market in Q1 - KBS WORLD](https://world.kbs.co.kr/service/news_view.htm?lang=e&Seq_Code=193525)\\n8. [SK hynix surpasses Samsung in global DRAM market share for first time](https://www.chosun.com/english/industry-en/2025/04/10/KUEGT5WP7VGITHMS5CNV6LSPRM/)\",\n",
       "  'img_url': 'https://www.chosun.com/resizer/v2/J4C5GWRNYAOHI7ZPFHIVZAAIUM.jpg?auth=009dcd5358453f6f877fc0cbdb46099b3f4629b26509630a653a8dd8648aa084&width=616',\n",
       "  'html_template': '<!DOCTYPE html>\\n<html lang=\"ko\">\\n<head>\\n    <meta charset=\"UTF-8\">\\n    <meta name=\"viewport\" content=\"width=device-width, initial-scale=1.0\">\\n    <title>한국 반도체 주요 기업 현황</title>\\n    <style>\\n        body {\\n            font-family: Arial, sans-serif;\\n            background-color: #f4f4f9;\\n            margin: 0;\\n            padding: 20px;\\n        }\\n        .container {\\n            max-width: 1200px;\\n            margin: 0 auto;\\n        }\\n        header {\\n            text-align: center;\\n            font-size: 2.5em;\\n            margin-bottom: 20px;\\n        }\\n        section {\\n            background-color: #fff;\\n            padding: 20px;\\n            border-radius: 10px;\\n            box-shadow: 0 2px 4px rgba(0, 0, 0, 0.1);\\n        }\\n        h2 {\\n            background-color: #eef;\\n            color: #333;\\n            padding: 10px;\\n            border-radius: 5px;\\n        }\\n        .company-section {\\n            margin-bottom: 30px;\\n        }\\n        .content {\\n            font-size: 1.1em;\\n            line-height: 1.6;\\n            color: #333;\\n        }\\n        footer {\\n            text-align: center;\\n            margin-top: 40px;\\n            font-size: 0.9em;\\n            color: #666;\\n        }\\n    </style>\\n</head>\\n<body>\\n    <div class=\"container\">\\n        <header>\\n            한국 반도체 주요 기업 현황\\n        </header>\\n        <section>\\n            <div class=\"content\">\\n                <p>한국 반도체 산업은 글로벌 시장에서 두각을 나타내며, 특히 삼성전자와 SK하이닉스가 주요 기업으로 자리잡고 있습니다. 이 두 기업은 글로벌 반도체 시장에서 중요한 지위를 차지하고 있으며, 각자의 기술력과 시장 점유율 측면에서도 많은 주목을 받고 있습니다.</p>\\n            </div>\\n        </section>\\n        <section class=\"company-section\">\\n            <h2>삼성전자</h2>\\n            <div class=\"content\">\\n                <p>삼성전자는 글로벌 반도체 시장에서 중요한 역할을 맡고 있습니다. 2024년 삼성전자는 인텔을 제치고 반도체 업계에서 매출 1위를 다시 차지하였습니다. 삼성의 시장 점유율은 2023년 75.3%에서 2024년 77.2%로 증가하며 월등한 승승장구를 이어가고 있습니다. 이는 특히 HBM(High Bandwidth Memory) 등의 고성능 칩 판매 증가 덕분에 가능했습니다.</p>\\n                <p>삼성의 주요 강점 중 하나는 파운드리 시장에서의 지위입니다. 2023년 3분기 기준, 삼성의 파운드리 시장 점유율은 12.4%로 TSMC에 이어 2위에 위치하고 있습니다. 삼성전자의 파운드리 사업은 전력, 성능, 확장성에서 큰 도약을 이끌어내며, 최첨단 혁신을 이끌고 있는 것으로 평가받고 있습니다.</p>\\n            </div>\\n        </section>\\n        <section class=\"company-section\">\\n            <h2>SK하이닉스</h2>\\n            <div class=\"content\">\\n                <p>SK하이닉스는 최근 몇 년간 빠르게 시장 점유율을 확대하면서, HBM 시장에서 50% 이상의 점유율을 기록하며 리더 위치를 굳건히 하고 있습니다. 특히 SK하이닉스는 2025년 1분기 DRAM 분야에서 삼성전자를 제치고 최초로 글로벌 DRAM 시장 1위를 차지했습니다. 해당 성과는 AI 및 고성능 메모리 수요 증가에 힘입은 것이라는 분석입니다.</p>\\n                <p>SK하이닉스는 또한 메모리 반도체 산업에서의 핵심 기술인 D램(DRAM), NAND 플래시, 그리고 PIM(Processing-in-Memory) 기술 개발에 힘쓰며, 시장에서의 경쟁력을 강화하고 있습니다. SK하이닉스의 혁신적인 HBM 기술은 전력 효율성과 성능 향상을 통해 경쟁력을 더욱 높이고 있으며, 이는 지속적인 기술 개발과 적극적인 투자를 통해 달성된 성과로 평가받고 있습니다.</p>\\n            </div>\\n        </section>\\n        <footer>\\n            &copy; 2023 Korean Semiconductor Insights\\n        </footer>\\n    </div>\\n</body>\\n</html>',\n",
       "  'html': '<!DOCTYPE html>\\n<html lang=\"ko\">\\n<head>\\n    <meta charset=\"UTF-8\">\\n    <meta name=\"viewport\" content=\"width=device-width, initial-scale=1.0\">\\n    <title>한국 반도체 주요 기업 현황</title>\\n    <style>\\n        body {\\n            font-family: Arial, sans-serif;\\n            background-color: #f4f4f9;\\n            margin: 0;\\n            padding: 20px;\\n        }\\n        .container {\\n            max-width: 1200px;\\n            margin: 0 auto;\\n        }\\n        header {\\n            text-align: center;\\n            font-size: 2.5em;\\n            margin-bottom: 20px;\\n        }\\n        section {\\n            background-color: #fff;\\n            padding: 20px;\\n            border-radius: 10px;\\n            box-shadow: 0 2px 4px rgba(0, 0, 0, 0.1);\\n        }\\n        h2 {\\n            background-color: #eef;\\n            color: #333;\\n            padding: 10px;\\n            border-radius: 5px;\\n        }\\n        .company-section {\\n            margin-bottom: 30px;\\n        }\\n        .content {\\n            font-size: 1.1em;\\n            line-height: 1.6;\\n            color: #333;\\n        }\\n        img {\\n            width: 100%;\\n            height: auto;\\n            border-radius: 10px;\\n            margin-bottom: 20px;\\n        }\\n        footer {\\n            text-align: center;\\n            margin-top: 40px;\\n            font-size: 0.9em;\\n            color: #666;\\n        }\\n    </style>\\n</head>\\n<body>\\n    <div class=\"container\">\\n        <header>\\n            한국 반도체 주요 기업 현황\\n        </header>\\n        <section>\\n            <img src=\"https://www.chosun.com/resizer/v2/J4C5GWRNYAOHI7ZPFHIVZAAIUM.jpg?auth=009dcd5358453f6f877fc0cbdb46099b3f4629b26509630a653a8dd8648aa084&width=616\" alt=\"Semiconductor Image\">\\n            <div class=\"content\">\\n                <p>한국 반도체 산업은 글로벌 시장에서 두각을 나타내며, 특히 삼성전자와 SK하이닉스가 주요 기업으로 자리잡고 있습니다. 이 두 기업은 글로벌 반도체 시장에서 중요한 지위를 차지하고 있으며, 각자의 기술력과 시장 점유율 측면에서도 많은 주목을 받고 있습니다.</p>\\n            </div>\\n        </section>\\n        <section class=\"company-section\">\\n            <h2>삼성전자</h2>\\n            <div class=\"content\">\\n                <p>삼성전자는 글로벌 반도체 시장에서 중요한 역할을 맡고 있습니다. 2024년 삼성전자는 인텔을 제치고 반도체 업계에서 매출 1위를 다시 차지하였습니다. 삼성의 시장 점유율은 2023년 75.3%에서 2024년 77.2%로 증가하며 월등한 승승장구를 이어가고 있습니다. 이는 특히 HBM(High Bandwidth Memory) 등의 고성능 칩 판매 증가 덕분에 가능했습니다.</p>\\n                <p>삼성의 주요 강점 중 하나는 파운드리 시장에서의 지위입니다. 2023년 3분기 기준, 삼성의 파운드리 시장 점유율은 12.4%로 TSMC에 이어 2위에 위치하고 있습니다. 삼성전자의 파운드리 사업은 전력, 성능, 확장성에서 큰 도약을 이끌어내며, 최첨단 혁신을 이끌고 있는 것으로 평가받고 있습니다.</p>\\n            </div>\\n        </section>\\n        <section class=\"company-section\">\\n            <h2>SK하이닉스</h2>\\n            <div class=\"content\">\\n                <p>SK하이닉스는 최근 몇 년간 빠르게 시장 점유율을 확대하면서, HBM 시장에서 50% 이상의 점유율을 기록하며 리더 위치를 굳건히 하고 있습니다. 특히 SK하이닉스는 2025년 1분기 DRAM 분야에서 삼성전자를 제치고 최초로 글로벌 DRAM 시장 1위를 차지했습니다. 해당 성과는 AI 및 고성능 메모리 수요 증가에 힘입은 것이라는 분석입니다.</p>\\n                <p>SK하이닉스는 또한 메모리 반도체 산업에서의 핵심 기술인 D램(DRAM), NAND 플래시, 그리고 PIM(Processing-in-Memory) 기술 개발에 힘쓰며, 시장에서의 경쟁력을 강화하고 있습니다. SK하이닉스의 혁신적인 HBM 기술은 전력 효율성과 성능 향상을 통해 경쟁력을 더욱 높이고 있으며, 이는 지속적인 기술 개발과 적극적인 투자를 통해 달성된 성과로 평가받고 있습니다.</p>\\n            </div>\\n        </section>\\n        <footer>\\n            &copy; 2023 Korean Semiconductor Insights\\n        </footer>\\n    </div>\\n</body>\\n</html>',\n",
       "  'width': 1200,\n",
       "  'height': 1200},\n",
       " {'description': '한국 반도체 산업의 기술 혁신과 최신 연구 개발 동향을 살펴봅니다. 미세 공정 기술의 발전과 차세대 반도체 기술을 포함합니다.',\n",
       "  'research': True,\n",
       "  'topic': '한국 반도체 기술 및 혁신',\n",
       "  'idx': 4,\n",
       "  'name': '한국 반도체 기술 및 혁신',\n",
       "  'content': '## 한국 반도체 산업의 기술 혁신과 최신 연구개발 동향\\n\\n한국은 반도체 산업에서 세계적인 선두주자로서의 입지를 강화하기 위해 끊임없는 기술 혁신을 이루고 있습니다. 특히, 미세 공정 기술의 발전은 한국 반도체 기업들이 글로벌 시장에서 경쟁력을 유지하는 핵심 요소로 부상하고 있습니다.\\n\\n### 미세 공정 기술의 발전\\n\\n미세 공정 기술은 반도체 칩의 크기를 줄이면서도 성능 향상과 전력 효율성을 극대화할 수 있는 중요한 요소입니다. 최근에는 3나노미터(nm) 및 2나노미터 공정이 도입되면서, 이전보다 더욱 향상된 성능과 전력 소모 절감을 가능하게 하고 있습니다 [1]. 이러한 미세 공정의 핵심은 트랜지스터 간격을 더욱 좁히는 것으로, 이를 통해 하나의 칩에 더 많은 트랜지스터를 집적하여 성능을 극대화합니다 [2].\\n\\n삼성전자는 최근 2나노 공정 기술을 통해 반도체 양산에 성공하며, 글로벌 반도체 시장에서의 경쟁력을 한층 강화하고 있습니다 [3]. 이러한 기술 발전은 AI 및 데이터 센터, 스마트폰, 자율주행차와 같은 차세대 산업에 필수적인 역할을 하며, 이를 통해 한국은 새로운 시장 수요에 대응하고 있습니다 [4].\\n\\n### 차세대 반도체 기술 개발\\n\\n차세대 반도체 기술로는 뉴로모픽(Neuromorphic) 반도체 및 AI 반도체가 주목받고 있습니다. 뉴로모픽 반도체는 인공지능 알고리즘을 모방하여 더욱 효율적인 데이터 처리와 더 낮은 에너지 소비를 목표로 하는 기술입니다. 최근 한국의 연구진은 세계 최초로 차세대 뉴로모픽 반도체 소자를 구현하며 주목받고 있습니다 [5].\\n\\nAI 반도체도 급격한 수요 증가와 더불어, 기술 혁신의 중요한 축으로 자리잡고 있습니다. AI 반도체는 대량의 데이터를 빠르고 효율적으로 처리할 수 있도록 설계되며, 이는 자율주행차 및 스마트 공장 등 다양한 산업에 적용되어 차세대 산업 혁신을 주도할 것입니다 [6].\\n\\n### 한국 반도체 산업의 연구개발 투자\\n\\n한국은 반도체 기술 발전을 위한 연구개발(R&D) 투자를 지속적으로 확대하고 있습니다. 2025년에는 혁신적인 연구 개발을 위해 약 1조 원이 투자될 예정이며, 이는 10배 이상의 획기적인 기술 도약을 목표로 하고 있습니다 [7]. 이러한 투자는 한국의 반도체 산업이 급변하는 글로벌 시장 환경 속에서도 계속해서 성장하고 발전할 수 있는 기반을 마련하는 데 기여하고 있습니다.\\n\\n### 결론\\n\\n한국의 반도체 기술과 혁신은 미세 공정 기술과 차세대 반도체 개발을 통해 지속적으로 주목받고 있습니다. 이러한 기술 혁신과 연구개발 투자 확대는 한국이 글로벌 반도체 시장에서 지속 가능한 경쟁력을 유지할 뿐만 아니라, 미래의 다양한 산업에서 기술적으로 선도적인 역할을 할 것을 보장합니다.\\n\\n### 출처\\n1. https://www.chosun.com/economy/science/2025/01/03/IKM6HIOIYJDUBMKCSC7RDMY644/\\n2. https://news.samsungsemiconductor.com/kr/behind-the-chip-%EB%B0%98%EB%8F%84%EC%B2%B4-%EA%B7%B8-%EC%84%B1%EC%9E%A5%EC%9D%98-%EA%B8%B0%EB%A1%9D-%EA%B3%BC%EA%B1%B0-%ED%98%84%EC%9E%AC-%EA%B7%B8%EB%A6%AC%EA%B3%A0-%EB%AF%B8%EB%9E%98/\\n3. https://www.hellot.net/news/article.html?no=99449\\n4. https://ppta.or.kr/webzine/2023_07/a1.html\\n5. https://blog.naver.com/nststory2014/223650796121\\n6. https://www.joongang.co.kr/article/25215502\\n7. https://www.msit.go.kr/eng/bbs/view.do?sCode=eng&mId=4&nttSeqNo=1018&pageIndex=&bbsSeqNo=42&mId=4&mPid=2',\n",
       "  'img_url': 'https://news.samsungsemiconductor.com/kr/wp-content/uploads/2021/05/minimalprocess_trend_190828_02.jpg',\n",
       "  'html_template': '<!DOCTYPE html>\\n<html lang=\"ko\">\\n<head>\\n  <meta charset=\"UTF-8\">\\n  <meta name=\"viewport\" content=\"width=device-width, initial-scale=1.0\">\\n  <title>한국 반도체 기술 및 혁신</title>\\n  <link rel=\"stylesheet\" href=\"styles.css\">\\n</head>\\n<body>\\n  <div class=\"slide-container\">\\n    <div class=\"slide-header\">\\n      <h1>한국 반도체 기술 및 혁신</h1>\\n    </div>\\n    <div class=\"slide-content\">\\n      <div class=\"section\">\\n        <h2>한국 반도체 산업의 기술 혁신과 최신 연구개발 동향</h2>\\n        <p>한국은 반도체 산업에서 세계적인 선두주자로서의 입지를 강화하기 위해 끊임없는 기술 혁신을 이루고 있습니다. 특히, 미세 공정 기술의 발전은 한국 반도체 기업들이 글로벌 시장에서 경쟁력을 유지하는 핵심 요소로 부상하고 있습니다.</p>\\n      </div>\\n      <div class=\"subsection\">\\n        <h3>미세 공정 기술의 발전</h3>\\n        <p>미세 공정 기술은 반도체 칩의 크기를 줄이면서도 성능 향상과 전력 효율성을 극대화할 수 있는 중요한 요소입니다...</p>\\n        <img src=\"https://news.samsungsemiconductor.com/kr/wp-content/uploads/2021/05/minimalprocess_trend_190828_02.jpg\" alt=\"미세 공정 기술 이미지\">\\n      </div>\\n      <div class=\"subsection\">\\n        <h3>차세대 반도체 기술 개발</h3>\\n        <p>차세대 반도체 기술로는 뉴로모픽(Neuromorphic) 반도체 및 AI 반도체가 주목받고 있습니다...</p>\\n      </div>\\n      <div class=\"subsection\">\\n        <h3>한국 반도체 산업의 연구개발 투자</h3>\\n        <p>한국은 반도체 기술 발전을 위한 연구개발(R&D) 투자를 지속적으로 확대하고 있습니다...</p>\\n      </div>\\n      <div class=\"slide-footer\">\\n        <p>출처: 기사 및 연구 자료 링크</p>\\n      </div>\\n    </div>\\n  </div>\\n</body>\\n</html>',\n",
       "  'html': '<!DOCTYPE html>\\n<html lang=\"ko\">\\n<head>\\n  <meta charset=\"UTF-8\">\\n  <meta name=\"viewport\" content=\"width=device-width, initial-scale=1.0\">\\n  <title>한국 반도체 기술 및 혁신 - 슬라이드 4</title>\\n  <link rel=\"stylesheet\" href=\"styles.css\">\\n</head>\\n<body>\\n  <div class=\"slide-container\">\\n    <div class=\"slide-header\">\\n      <h1>한국 반도체 기술 및 혁신</h1>\\n      <h2>섹션 4: 한국 반도체 기술의 발전</h2>\\n    </div>\\n    <div class=\"slide-content\">\\n      <div class=\"section\">\\n        <h2>한국 반도체 산업의 기술 혁신과 최신 연구개발 동향</h2>\\n        <p>한국은 반도체 산업에서 세계적인 선두주자로서의 입지를 강화하기 위해 끊임없는 기술 혁신을 이루고 있습니다. 특히, 미세 공정 기술의 발전은 한국 반도체 기업들이 글로벌 시장에서 경쟁력을 유지하는 핵심 요소로 부상하고 있습니다.</p>\\n      </div>\\n      <div class=\"subsection\">\\n        <h3>미세 공정 기술의 발전</h3>\\n        <p>미세 공정 기술은 반도체 칩의 크기를 줄이면서도 성능 향상과 전력 효율성을 극대화할 수 있는 중요한 요소입니다. 최근, 3나노미터 및 2나노미터 공정의 도입으로 성능과 전력 소모 절감을 가능케 하고 있습니다.</p>\\n        <img src=\"https://news.samsungsemiconductor.com/kr/wp-content/uploads/2021/05/minimalprocess_trend_190828_02.jpg\" alt=\"미세 공정 기술 이미지\">\\n      </div>\\n      <div class=\"subsection\">\\n        <h3>차세대 반도체 기술 개발</h3>\\n        <p>차세대 반도체 기술로는 뉴로모픽 반도체 및 AI 반도체가 주목받고 있습니다. 이 기술들은 더 효율적이고 친환경적인 데이터 처리를 목표로 하고 있으며, 한국은 여러 혁신을 통해 글로벌 리더로 부상하고 있습니다.</p>\\n      </div>\\n      <div class=\"subsection\">\\n        <h3>한국 반도체 산업의 연구개발 투자</h3>\\n        <p>한국은 반도체 기술 발전을 위한 연구개발 투자를 지속적으로 확대하고 있습니다. 2025년까지 약 1조 원을 투자하며 글로벌 시장에서 지속 가능한 경쟁력을 확보할 계획입니다.</p>\\n      </div>\\n      <div class=\"slide-footer\">\\n        <p>출처: 다양한 기사 및 연구 자료</p>\\n      </div>\\n    </div>\\n  </div>\\n</body>\\n</html>',\n",
       "  'width': 1920,\n",
       "  'height': 1080},\n",
       " {'description': '한미 양국의 반도체 산업 협력 강화 방안과 그 중요성에 대해 설명합니다. 주요 협력 사례와 경제적, 기술적 이점 또한 다룹니다.',\n",
       "  'research': True,\n",
       "  'topic': '한국과 미국의 반도체 협력',\n",
       "  'idx': 5,\n",
       "  'name': '한국과 미국의 반도체 협력',\n",
       "  'content': \"## 한국과 미국의 반도체 협력\\n\\n한국과 미국은 반도체 산업에서의 협력을 통해 세계 반도체 공급망을 강화하고 있다. 이 협력은 기술 촉진과 경제적 혜택을 모두 함께 추구하는 방향으로 나아가고 있다. 특히, 양국은 최첨단 반도체 제조 분야에서의 연구개발(R&D) 및 투자 지원에 동의하였고 이는 미국의 공급망 강화에 있어 한국 및 한국 기업들이 중요한 파트너가 될 것으로 기대된다 [1](https://www.nbr.org/publication/the-role-of-south-korea-in-the-u-s-semiconductor-supply-chain-strategy/).\\n\\n### 협력 강화 방안\\n\\n양국은 최근 '한미 공급망·산업 대화(SCCD) 반도체 포럼'을 통해 반도체 공급망 보안 및 기술 관련 협력을 추진하고 있다 [1]. 이 협력은 양국의 기술적, 경제적 유대 관계를 강화하고 보다 회복력 있는 공급망을 보장할 것으로 예상된다 [2]. 미국 국무부는 이번 대화를 통해 한국의 반도체 기술 강화를 긍정적으로 검토하고 있으며, 특히 미국의 반도체 및 인공지능 분야와의 협력 강화를 위해 노력하고 있다 [2][3]. 이러한 협력은 양국의 반도체 산업 발전과 기술 진보에 있어 중요한 기회가 될 것이다 [2].  \\n\\n## 중요성  \\n\\n한국과 미국은 전세계 반도체 공급망에서 중요한 역할을 맡고 있다. 한국의 삼성과 SK하이닉스는 글로벌 메모리 반도체 시장의 많은 부분을 점유하고 있으며 [4], 이러한 협력을 통해 양국은 반도체 산업에서의 경쟁력을 더 강화할 수 있다. 한국은 특히 제조 역량이 강점인 반면 [2], 미국은 반도체 기술력이 뛰어난 것으로 평가되며, 양국의 협력이 이러한 서로의 강점을 결합해 시너지 효과를 창출할 수 있고 [4](https://www.koreaherald.com/article/10465734) 글로벌 시장에서의 지배력을 높일 수 있다. 또한, 한국의 반도체 산업은 국가 경제의 주요 축을 담당하고 있으며 [2], 지속적인 연구 개발이 필수적이므로 미국과의 협력은 필수적이다[3].\\n\\n### 주요 협력 사례\\n1. **'한미 공급망·산업 대화 (SCCD) 반도체 포럼' 개최**: 2024년 미국 워싱턴에서 처음 개최된 이 포럼은 반도체 공급망 협력을 강화하기 위한 노력의 일환으로, 양국 간의 중요한 협력 사례 중 하나다. 이 포럼은 AI와 R&D, 인력 훈련 분야에서의 협력까지 확대된다 [1][3].\\n\\n2. **SK Siltron CSS의 협력 사례**: 이 회사는 미시간에 위치한 공장에서 한미 간 협력의 긍정적인 효과를 직접 체험할 수 있는 기회를 제공합니다 [4]. 협력을 통해 국제 무대에서 더 경쟁력 있는 반도체 기술을 함께 개발할 수 있으며, 경제적 유대감 역시 강화시키고 있다 [2].\\n\\n경제적 관점에서 보면, 한국은 세계 시장에서 반도체 기술의 약 73%를 차지하며 [2], 2022년 한국의 반도체 수출은 총 1292억 달러에 달해 국가 전체 수출의 18.9%를 차지했다 [3]. 한미 양국은 반도체 공급망의 안보를 강화하고 기술 분야에서의 협력을 통해 상호 보완적인 이점을 얻고자 하고 있다. 미국-한국의 공급망과 상업 대화 포럼이 워싱턴에서 열리며, 이 두 나라의 협력은 장기적인 성공을 위한 기반이 될 것을 기대하고 있다 [1][4].\\n\\n기술 협력 측면에서는, 미국과 한국의 파트너십이 글로벌 반도체 생태계의 혁신을 이어갈 수 있게 해준다 [3]. 특히, 미국의 첨단 기술력과 한국의 제조 능력을 결합함으로써 두 나라 모두에게 강력한 시너지 효과를 가져다 줄 것이라는 전망이 있다 [4].\\n\\n한미 반도체 협력의 사례로는 뉴욕에 위치한 Albany Nanotech 단지와의 협력이 있다 [3]. 이 단지를 통해 양국의 기업들이 공동으로 첨단 반도체 연구개발을 촉진하고 있다. 또한, 양국은 'Chip 4' 동맹을 통해 반도체 공급망 보안 및 기술 협력을 공식화하고, 장기적인 성공을 위한 전략적 협력을 더욱 공고히 하고 있다 [5]. \\n\\n양국의 협력은 경제적 관점에서도 주목받아야 한다. IT 및 반도체 산업에는 미국과 한국 간의 무역 구조에서 중요한 위치를 차지하고 있다 [2], 이 분야에서의 협력은 두 나라 모두에게 기회와 도전을 제공하며, 시장 경쟁력 향상에 기여할 수 있다. \\n\\n같은 맥락에서, 한국은 미국과의 반도체 협력을 '칩스포트레이드(CET) 프레임워크'의 일환으로 구상 중이다. 이 협력은 중단 없는 공급 체인을 보장하고 양국의 반도체 기술 발전에 기여할 것이다 [4].\\n\\n미국과 한국의 반도체 산업 협력은 다양한 경제적, 기술적 이점을 가져오고 있다. 한국과 미국의 반도체 협력 관계는 기술 혁신을 촉진하고, 글로벌 시장에서의 경쟁력을 강화하는 데 있어 필수적이다 [4]. 더불어, 양국 간의 경제적 유대는 단기적으로는 판매 확대를 보장하고, 장기적으로는 핵심 동맹의 산업 기반을 강화하는 데 중요한 역할을 할 것으로 기대된다 [4].\\n\\n## 참고문헌\\n1. [Link to Source](https://en.yna.co.kr/view/AKR20240627132151003)  \\n2. [Link to PDF](https://www.kiep.go.kr/galleryDownload.es?bid=0008&list_no=11094&seq=1) \\n3. [Link](https://ny-creates.org/news-release-schumer-secures-commitment-from-south-korea-president-yoon-for-korea-to-partner-with-ny-creates-albany-nanotech-complex-for-advanced-semiconductor-research-development/) \\n4. [Link to Source](https://www.koreaherald.com/article/10465734)  \\n5. [Source Link](https://eiec.kdi.re.kr/policy/materialView.do?num=248800) \\n6. https://english.hani.co.kr/arti/english_edition/e_business/1212356.html \\n7. https://www.nbr.org/publication/the-role-of-south-korea-in-the-u-s-semiconductor-supply-chain-strategy/  \\n8. [Link](https://en.yna.co.kr/view/AKR20240627132151003) \\n9. https://www.nbr.org/publication/the-role-of-south-korea-in-the-u-s-semiconductor-supply-chain-strategy/  \\n10. [Source Link](https://thediplomat.com/2024/09/the-opportunity-for-south-korea-us-cooperation-in-ai-hardware-and-energy-needs/) \\n11.  https://www.kita.net/board/totalTradeNews/totalTradeNewsDetail.do?no=84655&siteId=1  \\n12. https://kdijep.org/v.46/3/1/The+Impact+of+US+Export+Controls+on+Korean+Semiconductor+Exports%E2%80%A0 \\n13. https://www.motie.go.kr/kor/article/ATCL3f49a5a8c/168960/view?mno=&pageIndex=1&rowPageC=0&displayAuthor=&searchCategory=0&schClear=on&startDtD=&endDtD=&searchCondition=1&searchKeyword=%EB%B0%98%EB%8F%84%EC%B2%B4  \\n14. [Source Link](https://www.chosun.com/english/people-en/2024/07/04/E2A5FLJH2ZGDFMAZ7W4GOPE2HU/)\",\n",
       "  'img_url': 'https://wimg.heraldcorp.com/content/default/2021/10/26/20211026000798_0.jpg',\n",
       "  'html_template': '<div style=\"background-image: url(\\'https://wimg.heraldcorp.com/content/default/2021/10/26/20211026000798_0.jpg\\'); background-size: cover; padding: 20px; font-family: Arial, sans-serif; color: #333;\">\\n  <h1 style=\"text-align: center; color: #172b4d;\">한국과 미국의 반도체 협력</h1>\\n  <h2 style=\"text-align: center; color: #555;\">경제적 및 기술적 협력 방안</h2>\\n\\n  <div style=\"margin: 30px 0;\">\\n    <h3>협력 강화 방안:</h3>\\n    <ul style=\"list-style-type: none; padding: 0;\">\\n      <li><span style=\"font-weight: bold;\">- 한미 공급망·산업 대화 (SCCD)</span>: 공급망 보안 및 기술 관련 협력 강화</li>\\n      <li><span style=\"font-weight: bold;\">- SK Siltron CSS</span>: 미시간에 위치한 공장과의 협력, 기술 개발 및 경제적 유대감 강화</li>\\n    </ul>\\n  </div>\\n\\n  <div style=\"margin: 30px 0;\">\\n    <h3>중요성:</h3>\\n    <p><strong>삼성</strong>과 <strong>SK하이닉스</strong>는 글로벌 메모리 반도체 시장의 주요 플레이어로, <b>한국의 제조 역량</b>과 <b>미국의 기술력</b> 결합으로 시너지 효과를 창출할 것으로 기대됩니다.</p>\\n  </div>\\n\\n  <div style=\"margin: 30px 0;\">\\n    <h3>참고 자료:</h3>\\n    <ul style=\"list-style-type: none; padding: 0;\">\\n      <li><a href=\"https://en.yna.co.kr/view/AKR20240627132151003\" target=\"_blank\">Link to Source 1</a></li>\\n      <li><a href=\"https://www.kiep.go.kr/galleryDownload.es?bid=0008&list_no=11094&seq=1\" target=\"_blank\">Link to PDF 2</a></li>\\n      <!-- Add other references as needed -->\\n    </ul>\\n  </div>\\n</div>',\n",
       "  'html': '<div style=\"background-image: url(\\'https://wimg.heraldcorp.com/content/default/2021/10/26/20211026000798_0.jpg\\'); background-size: cover; padding: 20px; font-family: Arial, sans-serif; color: #333;\">\\n  <h1 style=\"text-align: center; color: #172b4d;\">한국과 미국의 반도체 협력</h1>\\n  <h2 style=\"text-align: center; color: #555;\">한미 양국의 반도체 산업 협력 강화 방안</h2>\\n\\n  <div style=\"margin: 30px 0;\">\\n    <h3>협력 강화 방안:</h3>\\n    <ul style=\"list-style-type: none; padding: 0;\">\\n      <li><span style=\"font-weight: bold;\">- 한미 공급망·산업 대화 (SCCD)</span>: 공급망 보안 및 기술 관련 협력 추진 [1]</li>\\n      <li><span style=\"font-weight: bold;\">- SK Siltron CSS</span>: 미시간 공장 협력으로 기술 개발 및 경제적 유대감 강화 [4]</li>\\n    </ul>\\n  </div>\\n\\n  <div style=\"margin: 30px 0;\">\\n    <h3>중요성:</h3>\\n    <p><strong>삼성</strong>과 <strong>SK하이닉스</strong>는 글로벌 메모리 반도체 시장을 이끌며, <b>한국의 제조 역량</b>과 <b>미국의 기술력</b> 결합으로 시너지 효과 창출 기대됩니다 [2].</p>\\n  </div>\\n\\n  <div style=\"margin: 30px 0;\">\\n    <h3>주요 협력 사례:</h3>\\n    <ul style=\"list-style-type: none; padding: 0;\">\\n      <li><span style=\"font-weight: bold;\">- Albany Nanotech 협력</span>: 첨단 반도체 연구개발 촉진 [3]</li>\\n      <li><span style=\"font-weight: bold;\">- \\'Chip 4\\' 동맹</span>: 공급망 보안 및 기술 협력 강화 [5]</li>\\n    </ul>\\n  </div>\\n\\n  <div style=\"margin: 30px 0;\">\\n    <h3>참고 자료:</h3>\\n    <ul style=\"list-style-type: none; padding: 0;\">\\n      <li><a href=\"https://en.yna.co.kr/view/AKR20240627132151003\" target=\"_blank\">Link to Source 1</a></li>\\n      <li><a href=\"https://www.kiep.go.kr/galleryDownload.es?bid=0008&list_no=11094&seq=1\" target=\"_blank\">Link to PDF 2</a></li>\\n      <li><a href=\"https://ny-creates.org/news-release-schumer-secures-commitment-from-south-korea-president-yoon-for-korea-to-partner-with-ny-creates-albany-nanotech-complex-for-advanced-semiconductor-research-development/\" target=\"_blank\">Link 3</a></li>\\n      <li><a href=\"https://www.koreaherald.com/article/10465734\" target=\"_blank\">Link to Source 4</a></li>\\n      <li><a href=\"https://eiec.kdi.re.kr/policy/materialView.do?num=248800\" target=\"_blank\">Source Link 5</a></li>\\n    </ul>\\n  </div>\\n</div>',\n",
       "  'width': 800,\n",
       "  'height': 600},\n",
       " {'description': '전공정 및 후공정을 포함한 한국의 반도체 제조 공정에 대해 설명합니다. 웨이퍼 제조부터 패키징까지의 전체 과정을 조망합니다.',\n",
       "  'research': True,\n",
       "  'topic': '한국 반도체 제조 공정',\n",
       "  'idx': 6,\n",
       "  'name': '한국 반도체 제조 공정',\n",
       "  'content': '## 한국 반도체 제조 공정\\n\\n한국의 반도체 제조 공정은 전공정과 후공정으로 크게 구분되며, 각 단계는 첨단 기술과 엄격한 운영 절차를 필요로 합니다. 전공정에서는 실리콘 웨이퍼가 제조되고 회로가 형성되며, 후공정은 웨이퍼 검사와 패키징 과정을 포함합니다 [1](https://blog.naver.com/goldmap7/223387262551).\\n\\n### 전공정\\n\\n전공정은 웨이퍼 제조 및 웨이퍼 위에 회로를 형성하는 과정으로 구성됩니다. 웨이퍼 제조는 순수한 실리콘 결정체를 형성하는 단계로 시작하며, 이를 잘라 웨이퍼로 가공하게 됩니다 [1](https://blog.naver.com/goldmap7/223387262551). 이후, 포토리소그래피(Photo-lithography), 증착(Deposition), 식각(Etching) 등의 복잡한 공정을 거쳐 웨이퍼에 회로를 형성합니다 [6](https://news.skhynix.co.kr/jeonginseong-column-oxidation/).\\n\\n반도체 웨이퍼는 처음에는 인고트(ingot)로 만들어집니다. 이 인고트는 원통형으로 제작한 후 얇게 잘라 슬라이스를 만들고, 다시 표면을 매끄럽게 연마하여 웨이퍼를 완성합니다 [9](https://blog.naver.com/tb_elec_engineer/221625396999?viewType=pc). 이러한 웨이퍼는 반도체 칩의 기초가 됩니다.\\n\\n### 후공정\\n\\n후공정은 전공정에서 제작된 웨이퍼를 검사하고, 개별 칩을 패키지 형태로 가공하는 단계입니다. 여기에는 주로 백 그라인딩(Back Grinding), 다이싱(Dicing), 다이 본딩(Die Bonding), 와이어 본딩(Wire Bonding), 몰딩(Molding) 등이 포함됩니다. 이러한 과정은 웨이퍼를 개별 칩으로 분할하고, 이를 안전하게 포장하여 전달하는 것을 목표로 합니다 [7](https://stockuniverse.co.kr/themed/semiconductor-front-end-process/).\\n\\n또한, 후공정에서는 만들어진 칩을 패키지로 포괄적으로 보호하면서도 다양한 환경에서의 기능성을 보장하도록 합니다. 이 과정은 웨이퍼 레벨 패키지(Wafer Level Package, WLP)나 시스템-인-패키지(System-in-Package, SIP)와 같은 첨단 패키징 기술을 활용하여 점차 진화하고 있습니다 [15](https://brunch.co.kr/@juhnhyeonmun/251).\\n\\n마지막 단계에서 반도체 제품은 성능 및 신뢰성을 테스트하여, 문제가 없는 경우에 제조업체나 고객에게 배송됩니다. 이러한 공정은 특히 통신 장비 및 고성능 컴퓨팅 시스템에서 중요한 역할을 하며, 제품의 품질과 신뢰성 확보에 중점을 둡니다 [13](https://zdnet.co.kr/view/?no=20230221120235).\\n\\n한국의 반도체 제조 공정은 세계적인 수준의 기술과 규모를 자랑하며, 지속적인 투자와 혁신을 통해 글로벌 반도체 산업에서 중요한 위치를 차지하고 있습니다 [16](https://www.koreatimes.co.kr/business/companies/20241112/south-korean-conglomerate-samsung-electronics-to-expand-chip-packaging-facilities-for-hbm).\\n\\n### 주요 기업 및 시장\\n\\n한국 반도체 산업은 삼성을 포함한 국내 주요 기업들이 이끌고 있으며, SK 하이닉스는 메모리 칩 시장에서 선도적인 역할을 하고 있습니다. 이들 기업은 웨이퍼 제조부터 최종 패키징까지의 모든 공정을 관리하며, 글로벌 공급망에 중요한 기여를 하고 있습니다 [2](https://en.wikipedia.org/wiki/Semiconductor_industry_in_South_Korea).\\n\\n---\\n\\nSources:\\n1. https://blog.naver.com/goldmap7/223387262551\\n2. https://en.wikipedia.org/wiki/Semiconductor_industry_in_South_Korea\\n6. https://news.skhynix.co.kr/jeonginseong-column-oxidation/\\n7. https://stockuniverse.co.kr/themed/semiconductor-front-end-process/\\n9. https://blog.naver.com/tb_elec_engineer/221625396999?viewType=pc\\n13. https://zdnet.co.kr/view/?no=20230221120235\\n15. https://brunch.co.kr/@juhnhyeonmun/251\\n16. https://www.koreatimes.co.kr/business/companies/20241112/south-korean-conglomerate-samsung-electronics-to-expand-chip-packaging-facilities-for-hbm',\n",
       "  'img_url': 'https://blog.kakaocdn.net/dna/bPSabP/btqS6XimmDX/AAAAAAAAAAAAAAAAAAAAAG4fIW6nR_wAlcmuhUCagQr39vEEWj4wXrJTCkRdSmuw/img.png?credential=yqXZFxpELC7KVnFOS48ylbz2pIh7yKj8&expires=1756652399&allow_ip=&allow_referer=&signature=lFUSJnRh0l0Fef%2F6FYBunp%2FFZH0%3D',\n",
       "  'html_template': '<!DOCTYPE html>\\n<html lang=\"ko\">\\n<head>\\n    <meta charset=\"UTF-8\">\\n    <meta name=\"viewport\" content=\"width=device-width, initial-scale=1.0\">\\n    <title>한국 반도체 제조 공정</title>\\n    <style>\\n        body {\\n            font-family: \\'Arial\\', sans-serif;\\n            margin: 0;\\n            padding: 0;\\n            background-color: #f4f4f9;\\n            color: #333;\\n        }\\n        .container {\\n            width: 80%;\\n            max-width: 1200px;\\n            margin: 0 auto;\\n            padding: 20px;\\n            background-color: white;\\n            box-shadow: 0 2px 4px rgba(0,0,0,0.1);\\n        }\\n        h1, h2, h3 {\\n            color: #0d6efd;\\n        }\\n        .image-container {\\n            text-align: center;\\n            margin: 20px 0;\\n        }\\n        .image-container img {\\n            max-width: 100%;\\n            height: auto;\\n        }\\n        .sources {\\n            font-size: 0.9em;\\n            color: #666;\\n        }\\n    </style>\\n</head>\\n<body>\\n    <div class=\"container\">\\n        <h1>한국 반도체 제조 공정</h1>\\n        <h2>전공정</h2>\\n        <p>전공정은 웨이퍼 제조 및 웨이퍼 위에 회로를 형성하는 과정으로 구성됩니다... <a href=\"https://blog.naver.com/goldmap7/223387262551\">[더 읽기]</a></p>\\n        \\n        <h2>후공정</h2>\\n        <p>후공정은 전공정에서 제작된 웨이퍼를 검사하고, 개별 칩을 패키지 형태로 가공하는 단계입니다... <a href=\"https://stockuniverse.co.kr/themed/semiconductor-front-end-process/\">[더 읽기]</a></p>\\n\\n        <h3>주요 기업 및 시장</h3>\\n        <p>한국 반도체 산업은 삼성을 포함한 국내 주요 기업들이 이끌고 있으며... <a href=\"https://en.wikipedia.org/wiki/Semiconductor_industry_in_South_Korea\">[더 읽기]</a></p>\\n\\n        <div class=\"image-container\">\\n            <img src=\"https://blog.kakaocdn.net/dna/bPSabP/btqS6XimmDX/AAAAAAAAAAAAAAAAAAAAAG4fIW6nR_wAlcmuhUCagQr39vEEWj4wXrJTCkRdSmuw/img.png?credential=yqXZFxpELC7KVnFOS48ylbz2pIh7yKj8&amp;expires=1756652399&amp;allow_ip=&amp;allow_referer=&amp;signature=lFUSJnRh0l0Fef%2F6FYBunp%2FFZH0%3D\" alt=\"Semiconductor Process\">\\n        </div>\\n\\n        <div class=\"sources\">\\n            <h3>References</h3>\\n            <ul>\\n                <li><a href=\"https://blog.naver.com/goldmap7/223387262551\">Blog Naver</a></li>\\n                <li><a href=\"https://en.wikipedia.org/wiki/Semiconductor_industry_in_South_Korea\">Wikipedia</a></li>\\n                <!-- Add other sources -->\\n            </ul>\\n        </div>\\n    </div>\\n</body>\\n</html>',\n",
       "  'html': '<!DOCTYPE html>\\n<html lang=\"ko\">\\n<head>\\n    <meta charset=\"UTF-8\">\\n    <meta name=\"viewport\" content=\"width=device-width, initial-scale=1.0\">\\n    <title>한국 반도체 제조 공정</title>\\n    <style>\\n        body {\\n            font-family: \\'Arial\\', sans-serif;\\n            margin: 0;\\n            padding: 0;\\n            background-color: #f4f4f9;\\n            color: #333;\\n        }\\n        .container {\\n            width: 80%;\\n            max-width: 1200px;\\n            margin: 0 auto;\\n            padding: 20px;\\n            background-color: white;\\n            box-shadow: 0 2px 4px rgba(0,0,0,0.1);\\n        }\\n        h1, h2, h3 {\\n            color: #0d6efd;\\n        }\\n        .image-container {\\n            text-align: center;\\n            margin: 20px 0;\\n        }\\n        .image-container img {\\n            max-width: 100%;\\n            height: auto;\\n        }\\n        .sources {\\n            font-size: 0.9em;\\n            color: #666;\\n        }\\n    </style>\\n</head>\\n<body>\\n    <div class=\"container\">\\n        <h1>한국 반도체 제조 공정</h1>\\n        <h2>전공정</h2>\\n        <p>전공정은 실리콘 웨이퍼 제조 및 회로 형성 과정으로 구성됩니다. 처음에는 순수한 실리콘 결정체를 잘라 웨이퍼로 가공하게 되며, 포토리소그래피 및 식각 공정을 통해 회로를 형성합니다. <a href=\"https://blog.naver.com/goldmap7/223387262551\">[더 읽기]</a></p>\\n        \\n        <h2>후공정</h2>\\n        <p>후공정은 검사를 거친 웨이퍼를 패키지로 가공하는 단계로, 백 그라인딩과 다이싱 같은 복잡한 공정을 포함합니다. 주어진 칩을 안전하게 패키징하여 전달하는 것을 목표로 합니다. <a href=\"https://stockuniverse.co.kr/themed/semiconductor-front-end-process/\">[더 읽기]</a></p>\\n\\n        <h3>주요 기업 및 시장</h3>\\n        <p>한국의 반도체 산업은 삼성과 SK 하이닉스와 같은 주요 기업들이 이끌고, 글로벌 공급망에 기여하고 있습니다. <a href=\"https://en.wikipedia.org/wiki/Semiconductor_industry_in_South_Korea\">[더 읽기]</a></p>\\n\\n        <div class=\"image-container\">\\n            <img src=\"https://blog.kakaocdn.net/dna/bPSabP/btqS6XimmDX/AAAAAAAAAAAAAAAAAAAAAG4fIW6nR_wAlcmuhUCagQr39vEEWj4wXrJTCkRdSmuw/img.png?credential=yqXZFxpELC7KVnFOS48ylbz2pIh7yKj8&amp;expires=1756652399&amp;allow_ip=&amp;allow_referer=&amp;signature=lFUSJnRh0l0Fef%2F6FYBunp%2FFZH0%3D\" alt=\"Semiconductor Process\">\\n        </div>\\n\\n        <div class=\"sources\">\\n            <h3>References</h3>\\n            <ul>\\n                <li><a href=\"https://blog.naver.com/goldmap7/223387262551\">Blog Naver</a></li>\\n                <li><a href=\"https://en.wikipedia.org/wiki/Semiconductor_industry_in_South_Korea\">Wikipedia</a></li>\\n                <li><a href=\"https://news.skhynix.co.kr/jeonginseong-column-oxidation/\">SK Hynix Column</a></li>\\n                <li><a href=\"https://stockuniverse.co.kr/themed/semiconductor-front-end-process/\">Stock Universe</a></li>\\n                <li><a href=\"https://blog.naver.com/tb_elec_engineer/221625396999?viewType=pc\">Naver Electronics Blog</a></li>\\n                <li><a href=\"https://zdnet.co.kr/view/?no=20230221120235\">ZDNet Korea</a></li>\\n                <li><a href=\"https://brunch.co.kr/@juhnhyeonmun/251\">Brunch Column</a></li>\\n                <li><a href=\"https://www.koreatimes.co.kr/business/companies/20241112/south-korean-conglomerate-samsung-electronics-to-expand-chip-packaging-facilities-for-hbm\">Korea Times</a></li>\\n            </ul>\\n        </div>\\n    </div>\\n</body>\\n</html>',\n",
       "  'width': 1200,\n",
       "  'height': 800}]"
      ]
     },
     "execution_count": 10,
     "metadata": {},
     "output_type": "execute_result"
    }
   ],
   "source": [
    "state[\"values\"][\"slides\"]"
   ]
  },
  {
   "cell_type": "code",
   "execution_count": 11,
   "id": "f14ce7ef-387a-4578-af9b-486feb3cc133",
   "metadata": {},
   "outputs": [],
   "source": [
    "for s in state[\"values\"][\"slides\"]:\n",
    "    with open(f\"{s['idx']}.html\", \"w\", encoding=\"utf-8\") as f:\n",
    "        f.write(s['html'])"
   ]
  },
  {
   "cell_type": "code",
   "execution_count": null,
   "id": "9f7dd05a-5743-4b67-b4f2-04451e29d6cb",
   "metadata": {},
   "outputs": [],
   "source": []
  }
 ],
 "metadata": {
  "kernelspec": {
   "display_name": "Python 3 (ipykernel)",
   "language": "python",
   "name": "python3"
  },
  "language_info": {
   "codemirror_mode": {
    "name": "ipython",
    "version": 3
   },
   "file_extension": ".py",
   "mimetype": "text/x-python",
   "name": "python",
   "nbconvert_exporter": "python",
   "pygments_lexer": "ipython3",
   "version": "3.13.2"
  }
 },
 "nbformat": 4,
 "nbformat_minor": 5
}
