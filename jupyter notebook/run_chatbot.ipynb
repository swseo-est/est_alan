{
 "cells": [
  {
   "cell_type": "code",
   "execution_count": 1,
   "id": "b596ccd8-54af-48cf-aa28-df5099dcf6c8",
   "metadata": {},
   "outputs": [],
   "source": [
    "\n",
    "import nest_asyncio\n",
    "\n",
    "nest_asyncio.apply()"
   ]
  },
  {
   "cell_type": "code",
   "execution_count": null,
   "id": "87877c38-6635-4593-99f7-f656e293c286",
   "metadata": {},
   "outputs": [
    {
     "name": "stdin",
     "output_type": "stream",
     "text": [
      "\n",
      "[USER]  쿠팡에 접속해줘\n"
     ]
    },
    {
     "name": "stdout",
     "output_type": "stream",
     "text": [
      "==================================\u001b[1m Ai Message \u001b[0m==================================\n",
      "\n",
      "쿠팡 홈페이지에 접속했습니다. 원하는 상품 검색이나 특정 메뉴 이동 등, 어떤 작업을 도와드릴까요?\n"
     ]
    },
    {
     "name": "stdin",
     "output_type": "stream",
     "text": [
      "\n",
      "[USER]  김치찌개 재료 검색해줘\n"
     ]
    },
    {
     "name": "stdout",
     "output_type": "stream",
     "text": [
      "==================================\u001b[1m Ai Message \u001b[0m==================================\n",
      "\n",
      "쿠팡에서 \"김치찌개 재료\"로 검색된 결과를 확인했습니다. 인기 있는 김치찌개 재료 상품 일부를 소개해드릴게요:\n",
      "\n",
      "1. 친정엄마꾸러미 뚝딱! 고추가 들어간 찌개용 채소 (냉동), 500g - 6,790원\n",
      "2. 곰곰 한돈 앞다리살 찌개용 (냉장), 500g - 8,920원\n",
      "3. 마이셰프 묵은지 김치찌개 밀키트 2인분, 755g - 13,950원\n",
      "4. 손질 대파, 80g - 990원\n",
      "5. 곰곰 묵은지, 900g - 7,750원\n",
      "6. 풀무원 소가 찌개두부, 290g - 1,330원\n",
      "7. 곰곰 냉동 다진마늘, 270g - 4,940원\n",
      "8. 국내산 청양고추, 60g - 1,130원\n",
      "9. 국내산 절단무, 2입 - 1,980원\n",
      "10. 곰곰 만능 멸치육수, 1kg - 5,990원\n",
      "\n",
      "각 상품을 클릭하면 쿠팡에서 바로 구매하실 수 있습니다. 더 많은 재료나 특정 상품 정보가 필요하시면 말씀해 주세요!\n"
     ]
    },
    {
     "name": "stdin",
     "output_type": "stream",
     "text": [
      "\n",
      "[USER]  https://alan.est.ai/에 접속해줘\n"
     ]
    },
    {
     "name": "stdout",
     "output_type": "stream",
     "text": [
      "==================================\u001b[1m Ai Message \u001b[0m==================================\n",
      "\n",
      "\"앨런(Alan)\" 사이트에 접속했습니다. 이 사이트에서 어떤 작업을 도와드릴까요?\n"
     ]
    },
    {
     "name": "stdin",
     "output_type": "stream",
     "text": [
      "\n",
      "[USER]  기본 검색어로 검색해줘\n"
     ]
    },
    {
     "name": "stdout",
     "output_type": "stream",
     "text": [
      "==================================\u001b[1m Ai Message \u001b[0m==================================\n",
      "\n",
      "검색 버튼을 클릭하자 로그인 페이지(EST 회원)로 이동했습니다. 이 서비스는 검색을 이용하기 위해 로그인이 필요합니다.\n",
      "\n",
      "네이버, 카카오, 구글, 애플 등 소셜 로그인을 지원합니다. 로그인 후에 검색을 진행할 수 있습니다. 로그인하시겠어요, 아니면 다른 작업을 도와드릴까요?\n"
     ]
    },
    {
     "name": "stdin",
     "output_type": "stream",
     "text": [
      "\n",
      "[USER]  검색 버튼을 클릭해\n"
     ]
    },
    {
     "name": "stdout",
     "output_type": "stream",
     "text": [
      "==================================\u001b[1m Ai Message \u001b[0m==================================\n",
      "\n",
      "현재 “앨런(Alan)” 사이트에서 검색 버튼을 클릭하면 로그인이 필요한 EST 회원 로그인 페이지로 이동합니다.  \n",
      "로그인 없이 검색 기능을 바로 사용할 수 없습니다.\n",
      "\n",
      "다음과 같은 소셜 로그인 선택지가 있습니다:\n",
      "- 네이버 로그인\n",
      "- 카카오 로그인\n",
      "- 구글 로그인\n",
      "- Apple로 로그인\n",
      "- 아이디 로그인\n",
      "\n",
      "로그인 후 다시 검색 버튼을 클릭하면 정상적으로 검색이 가능합니다.  \n",
      "로그인을 진행하거나 추가로 궁금한 점이 있으시면 말씀해 주세요!\n"
     ]
    }
   ],
   "source": [
    "\"\"\"MCP client.\"\"\"\n",
    "from langchain_core.messages import HumanMessage\n",
    "from estalan.mcp.host import create_mcp_agent\n",
    "\n",
    "from dotenv import load_dotenv\n",
    "\n",
    "\n",
    "load_dotenv()\n",
    "\n",
    "\n",
    "SERVER_CONFIGS = {\n",
    "    \"playwright\": {\n",
    "        \"url\": \"http://localhost:8931/mcp\",\n",
    "        \"transport\": \"streamable_http\",\n",
    "    },\n",
    "    \"notion\":{\n",
    "        \"url\": \"https://server.smithery.ai/@smithery/notion/mcp?profile=scary-turtle-Ljf5sY&api_key=a457b5a4-cd03-4a13-b2ac-cf99c04f6fc4\",\n",
    "        \"transport\": \"streamable_http\",\n",
    "    },\n",
    "}\n",
    "\n",
    "config = {\n",
    "\"configurable\": {\n",
    "    \"thread_id\": \"1\"  \n",
    "        }\n",
    "    }\n",
    "\n",
    "\n",
    "agent, host = await create_mcp_agent(SERVER_CONFIGS, model=\"openai:gpt-4.1\")\n",
    "\n",
    "while True:\n",
    "    input_text = input(\"\\n[USER] \")\n",
    "    if input_text.strip().lower() in [\"종료\", \"exit\"]:\n",
    "        print(\"대화를 종료합니다.\")\n",
    "        break\n",
    "\n",
    "    result = await agent.ainvoke({\"messages\": HumanMessage(content=input_text)}, config)\n",
    "    output = result['messages'][-1].pretty_print()    "
   ]
  },
  {
   "cell_type": "code",
   "execution_count": null,
   "id": "e09aeec2-914e-42ec-a393-6fb57067fd3a",
   "metadata": {},
   "outputs": [],
   "source": []
  }
 ],
 "metadata": {
  "kernelspec": {
   "display_name": "Python 3 (ipykernel)",
   "language": "python",
   "name": "python3"
  },
  "language_info": {
   "codemirror_mode": {
    "name": "ipython",
    "version": 3
   },
   "file_extension": ".py",
   "mimetype": "text/x-python",
   "name": "python",
   "nbconvert_exporter": "python",
   "pygments_lexer": "ipython3",
   "version": "3.13.2"
  }
 },
 "nbformat": 4,
 "nbformat_minor": 5
}
