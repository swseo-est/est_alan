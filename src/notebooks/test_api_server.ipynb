{
 "cells": [
  {
   "cell_type": "markdown",
   "id": "feb6cbf7-5f08-4fc7-8a37-5af0ba71c970",
   "metadata": {},
   "source": [
    "# client instance 생성"
   ]
  },
  {
   "cell_type": "code",
   "execution_count": 1,
   "id": "2e633658-62cc-45ba-bf46-a68be289080a",
   "metadata": {
    "ExecuteTime": {
     "end_time": "2025-07-31T08:02:49.558486Z",
     "start_time": "2025-07-31T08:02:49.547246Z"
    }
   },
   "outputs": [],
   "source": [
    "DEPLOYMENT_URL=\"http://10.8.1.229:8000/\"\n",
    "# DEPLOYMENT_URL=\"http://localhost:2024/\"\n",
    "# DEPLOYMENT_URL=\"http://localhost:8000/\"\n",
    "\n",
    "from langgraph_sdk import get_client\n",
    "\n",
    "client = get_client(url=DEPLOYMENT_URL)"
   ]
  },
  {
   "cell_type": "markdown",
   "id": "1060453e-25dc-4f8f-8a80-63f12900344d",
   "metadata": {},
   "source": [
    "# thread 생성 (앨런의 channel에 대응)\n",
    "\n",
    "- 생성 요청 후 thread_id를 포함한 데이터를 return 받음\n",
    "- 하나의 thread에 대해서 여러 에이전트를 호출하고 대화가능\n",
    "- 현재 앨런은 한개의 channel에 대해서 한개의 agent가 1:1로 대응되므로 현재는 고려할 필요 없지만, 추후에 1개의 채널에 대해서 여러 agent를 호출가능"
   ]
  },
  {
   "cell_type": "code",
   "execution_count": 2,
   "id": "d728bcf5-d7b5-4768-9953-f60e5dd7340d",
   "metadata": {},
   "outputs": [],
   "source": [
    "def get_data(chunk):\n",
    "    data = list(chunk.data.values())[0]\n",
    "    return data\n",
    " \n",
    " \n",
    "def filter_ai_msg(chunk):\n",
    "    # 유저와 채팅 창에 출력될 ai 메시지를 필터링하는 함수\n",
    "    if 'updates' in chunk.event:\n",
    "        data = get_data(chunk)\n",
    " \n",
    "        if data is not None:\n",
    "            if 'messages' in data.keys():\n",
    "                if data['messages'][-1][\"name\"] is not None:\n",
    "                    msg_type = data['messages'][-1]['type']\n",
    "                    if msg_type == \"ai\":\n",
    "                        return True\n",
    "    return False"
   ]
  },
  {
   "cell_type": "code",
   "execution_count": 3,
   "id": "00db8bac-8b27-48e7-bbc3-e8bb1e1f97e9",
   "metadata": {},
   "outputs": [
    {
     "name": "stdout",
     "output_type": "stream",
     "text": [
      "{'thread_id': '7c9629e6-b8d6-4182-bf10-95ce3f1f5654', 'created_at': '2025-08-18T02:43:02.579046+00:00', 'updated_at': '2025-08-18T02:43:02.579046+00:00', 'metadata': {}, 'status': 'idle', 'config': {}, 'values': None, 'interrupts': {}, 'error': None}\n",
      "7c9629e6-b8d6-4182-bf10-95ce3f1f5654\n"
     ]
    }
   ],
   "source": [
    "thread = await client.threads.create()\n",
    "print(thread)\n",
    "\n",
    "thread_id = thread[\"thread_id\"]\n",
    "print(thread_id)"
   ]
  },
  {
   "cell_type": "markdown",
   "id": "07786c8d-0172-42d5-b5e2-5ae1aafdeafc",
   "metadata": {},
   "source": [
    "# 에이전트 호출\n",
    "\n",
    "- 해당 thread에서 어떤 agent를 호출할 지 assistant_id를 포함하여 요청을 보냄"
   ]
  },
  {
   "cell_type": "markdown",
   "id": "9281de96-1d3f-4514-9fd2-fc5590a9b8ff",
   "metadata": {},
   "source": [
    "## parameters\n",
    "- thread_id : 위에서 생성한 thread_id\n",
    "- assistant_id : 앨런의 persona_id에 대응, agent를 구분하는 id, 슬라이드 에이전트의 경우 \"slide_generate_agent\"\n",
    "- input : 해당 agent 요청에 대한 parameter, 현재는 messages만 존재, 앨런 페이지에서 유저로 부터 받는 input을 해당 parameter에 dict로 넣어줌\n",
    "- stream_mode : 어떤 event에 따라서 메시지를 받을지 지정, updates(한 단계가 끝날 때마나 메시지가 옴), events(llm이 생성하는 단위로 메시지 생성)"
   ]
  },
  {
   "cell_type": "code",
   "execution_count": 4,
   "id": "48f82979-592c-4b2c-8e24-2c0c03b12d2a",
   "metadata": {},
   "outputs": [],
   "source": [
    "list_msg_id = list()\n",
    "\n",
    "\n",
    "def get_data(chunk):\n",
    "    data = list(chunk.data.values())[0]\n",
    "    return data\n",
    "\n",
    "\n",
    "def filter_ai_msg(chunk):\n",
    "    # 유저와 채팅 창에 출력될 ai 메시지를 필터링하는 함수\n",
    "    if 'updates' in chunk.event:\n",
    "        data = get_data(chunk)\n",
    "\n",
    "        if data is not None:\n",
    "            if 'messages' in data.keys():\n",
    "                if data['messages'][-1][\"name\"] is not None:\n",
    "                    msg_type = data['messages'][-1]['type']\n",
    "                    msg_id = data['messages'][-1]['id']\n",
    "                    if msg_id not in list_msg_id and msg_type == \"ai\":\n",
    "                        list_msg_id.append(msg_id)\n",
    "                        return True\n",
    "    return False\n",
    "\n",
    "\n",
    "def filter_silde_data(chunk):\n",
    "    # slide 관련 데이터를 담은 메시지를 필터링하는 함수\n",
    "    # 슬라이드 한페이지 단위로 메시지가 옴\n",
    "    if 'updates' in chunk.event:\n",
    "        node_name = chunk.data.keys()\n",
    "        if 'executor' in node_name:\n",
    "            return True"
   ]
  },
  {
   "cell_type": "code",
   "execution_count": 5,
   "id": "8d5fddde-f825-4491-be5a-0e7ed123a866",
   "metadata": {},
   "outputs": [],
   "source": [
    "assistant_id = \"slide_generate_agent\"\n",
    "list_chunk = list()"
   ]
  },
  {
   "cell_type": "code",
   "execution_count": null,
   "id": "initial_id",
   "metadata": {
    "ExecuteTime": {
     "end_time": "2025-07-31T08:02:51.030604Z",
     "start_time": "2025-07-31T08:02:49.655777Z"
    },
    "scrolled": true
   },
   "outputs": [
    {
     "name": "stdout",
     "output_type": "stream",
     "text": [
      "##########  AI 메시지  ##########\n",
      "제주도 여행을 주제로 슬라이드를 생성하도록 하겠습니다.\n",
      "##########  AI 메시지  ##########\n",
      "검색 도구를 사용하여 목차를 생성하기 위한 조사를 시작합니다.\n"
     ]
    }
   ],
   "source": [
    "input = { \"messages\": \"제주도 여행\"}\n",
    "\n",
    "async for chunk in client.runs.stream(\n",
    "    thread_id,\n",
    "    assistant_id=assistant_id,\n",
    "    input=input,\n",
    "    stream_mode=[\"updates\"],\n",
    "    stream_subgraphs=True\n",
    "):\n",
    "    list_chunk.append(chunk)\n",
    "    if filter_ai_msg(chunk):\n",
    "        print(\"#\" * 10 + \"  AI 메시지  \" + \"#\" * 10)\n",
    "        data = get_data(chunk)\n",
    "        print(data['messages'][-1]['content'])\n",
    "    # elif filter_silde_data(chunk):\n",
    "    #     print(\"#\" * 10 + \"  슬라이드 데이터  \" + \"#\" * 10)\n",
    "    #     print(chunk)\n"
   ]
  },
  {
   "cell_type": "code",
   "execution_count": null,
   "id": "bd7a08e4-51f1-41d3-a503-5e50da6b8a76",
   "metadata": {
    "scrolled": true
   },
   "outputs": [],
   "source": [
    "for chunk in list_chunk:\n",
    "    if filter_ai_msg(chunk):\n",
    "        print(\"#\" * 10 + \"  AI 메시지  \" + \"#\" * 10)\n",
    "        data = get_data(chunk)\n",
    "        print(data['messages'][-1]['content'])\n"
   ]
  },
  {
   "cell_type": "code",
   "execution_count": null,
   "id": "59081551-edc0-4e05-a95a-5a7c663b7e42",
   "metadata": {
    "scrolled": true
   },
   "outputs": [],
   "source": [
    "state = await client.threads.get_state(thread_id=thread_id)\n",
    "\n",
    "for msg in state[\"values\"][\"messages\"]:\n",
    "    if msg[\"type\"] != \"human\":\n",
    "        print(\"#\" * 10 + \"  AI 메시지  \" + \"#\" * 10)\n",
    "        print(msg[\"content\"])"
   ]
  },
  {
   "cell_type": "code",
   "execution_count": null,
   "id": "b28def97-7983-4c7c-acb2-08d617724170",
   "metadata": {
    "scrolled": true
   },
   "outputs": [],
   "source": [
    "len(state[\"values\"][\"slides\"])"
   ]
  },
  {
   "cell_type": "code",
   "execution_count": null,
   "id": "52f97132-2be6-437a-b0f8-90e1f4f3c51f",
   "metadata": {
    "scrolled": true
   },
   "outputs": [],
   "source": [
    "state[\"values\"][\"slides\"]"
   ]
  },
  {
   "cell_type": "code",
   "execution_count": null,
   "id": "f14ce7ef-387a-4578-af9b-486feb3cc133",
   "metadata": {},
   "outputs": [],
   "source": [
    "for s in state[\"values\"][\"slides\"]:\n",
    "    with open(f\"{s['idx']}.html\", \"w\", encoding=\"utf-8\") as f:\n",
    "        f.write(s['html'])"
   ]
  },
  {
   "cell_type": "code",
   "execution_count": null,
   "id": "9f7dd05a-5743-4b67-b4f2-04451e29d6cb",
   "metadata": {},
   "outputs": [],
   "source": []
  }
 ],
 "metadata": {
  "kernelspec": {
   "display_name": "Python 3 (ipykernel)",
   "language": "python",
   "name": "python3"
  },
  "language_info": {
   "codemirror_mode": {
    "name": "ipython",
    "version": 3
   },
   "file_extension": ".py",
   "mimetype": "text/x-python",
   "name": "python",
   "nbconvert_exporter": "python",
   "pygments_lexer": "ipython3",
   "version": "3.13.2"
  }
 },
 "nbformat": 4,
 "nbformat_minor": 5
}
